{
 "cells": [
  {
   "cell_type": "markdown",
   "metadata": {},
   "source": [
    "## YOLOv8n"
   ]
  },
  {
   "cell_type": "markdown",
   "metadata": {},
   "source": [
    "#### Fine-Tune the model"
   ]
  },
  {
   "cell_type": "code",
   "execution_count": 1,
   "metadata": {},
   "outputs": [
    {
     "name": "stdout",
     "output_type": "stream",
     "text": [
      "New https://pypi.org/project/ultralytics/8.3.36 available  Update with 'pip install -U ultralytics'\n",
      "Ultralytics 8.3.25  Python-3.12.5 torch-2.5.1+cu121 CUDA:0 (NVIDIA GeForce RTX 4060 Laptop GPU, 8188MiB)\n",
      "\u001b[34m\u001b[1mengine\\trainer: \u001b[0mtask=detect, mode=train, model=yolov8n.pt, data=./C2A_Dataset/new_dataset3/data.yaml, epochs=50, time=None, patience=100, batch=16, imgsz=640, save=True, save_period=-1, cache=False, device=None, workers=8, project=None, name=yolov8n-custom2, exist_ok=False, pretrained=True, optimizer=auto, verbose=True, seed=0, deterministic=True, single_cls=False, rect=False, cos_lr=False, close_mosaic=10, resume=False, amp=True, fraction=1.0, profile=False, freeze=None, multi_scale=False, overlap_mask=True, mask_ratio=4, dropout=0.0, val=True, split=val, save_json=False, save_hybrid=False, conf=None, iou=0.7, max_det=300, half=False, dnn=False, plots=True, source=None, vid_stride=1, stream_buffer=False, visualize=False, augment=False, agnostic_nms=False, classes=None, retina_masks=False, embed=None, show=False, save_frames=False, save_txt=False, save_conf=False, save_crop=False, show_labels=True, show_conf=True, show_boxes=True, line_width=None, format=torchscript, keras=False, optimize=False, int8=False, dynamic=False, simplify=True, opset=None, workspace=4, nms=False, lr0=0.01, lrf=0.01, momentum=0.937, weight_decay=0.0005, warmup_epochs=3.0, warmup_momentum=0.8, warmup_bias_lr=0.1, box=7.5, cls=0.5, dfl=1.5, pose=12.0, kobj=1.0, label_smoothing=0.0, nbs=64, hsv_h=0.015, hsv_s=0.7, hsv_v=0.4, degrees=0.0, translate=0.1, scale=0.5, shear=0.0, perspective=0.0, flipud=0.0, fliplr=0.5, bgr=0.0, mosaic=1.0, mixup=0.0, copy_paste=0.0, copy_paste_mode=flip, auto_augment=randaugment, erasing=0.4, crop_fraction=1.0, cfg=None, tracker=botsort.yaml, save_dir=runs\\detect\\yolov8n-custom2\n",
      "Downloading https://ultralytics.com/assets/Arial.ttf to 'C:\\Users\\Karee\\AppData\\Roaming\\Ultralytics\\Arial.ttf'...\n"
     ]
    },
    {
     "name": "stderr",
     "output_type": "stream",
     "text": [
      "100%|██████████| 755k/755k [00:00<00:00, 9.06MB/s]\n",
      "c:\\Users\\Karee\\AppData\\Local\\Programs\\Python\\Python312\\Lib\\site-packages\\tqdm\\auto.py:21: TqdmWarning: IProgress not found. Please update jupyter and ipywidgets. See https://ipywidgets.readthedocs.io/en/stable/user_install.html\n",
      "  from .autonotebook import tqdm as notebook_tqdm\n",
      "2024-11-23 16:52:40,767\tINFO util.py:154 -- Missing packages: ['ipywidgets']. Run `pip install -U ipywidgets`, then restart the notebook server for rich notebook output.\n",
      "2024-11-23 16:52:44,844\tINFO util.py:154 -- Missing packages: ['ipywidgets']. Run `pip install -U ipywidgets`, then restart the notebook server for rich notebook output.\n"
     ]
    },
    {
     "name": "stdout",
     "output_type": "stream",
     "text": [
      "Overriding model.yaml nc=80 with nc=1\n",
      "\n",
      "                   from  n    params  module                                       arguments                     \n",
      "  0                  -1  1       464  ultralytics.nn.modules.conv.Conv             [3, 16, 3, 2]                 \n",
      "  1                  -1  1      4672  ultralytics.nn.modules.conv.Conv             [16, 32, 3, 2]                \n",
      "  2                  -1  1      7360  ultralytics.nn.modules.block.C2f             [32, 32, 1, True]             \n",
      "  3                  -1  1     18560  ultralytics.nn.modules.conv.Conv             [32, 64, 3, 2]                \n",
      "  4                  -1  2     49664  ultralytics.nn.modules.block.C2f             [64, 64, 2, True]             \n",
      "  5                  -1  1     73984  ultralytics.nn.modules.conv.Conv             [64, 128, 3, 2]               \n",
      "  6                  -1  2    197632  ultralytics.nn.modules.block.C2f             [128, 128, 2, True]           \n",
      "  7                  -1  1    295424  ultralytics.nn.modules.conv.Conv             [128, 256, 3, 2]              \n",
      "  8                  -1  1    460288  ultralytics.nn.modules.block.C2f             [256, 256, 1, True]           \n",
      "  9                  -1  1    164608  ultralytics.nn.modules.block.SPPF            [256, 256, 5]                 \n",
      " 10                  -1  1         0  torch.nn.modules.upsampling.Upsample         [None, 2, 'nearest']          \n",
      " 11             [-1, 6]  1         0  ultralytics.nn.modules.conv.Concat           [1]                           \n",
      " 12                  -1  1    148224  ultralytics.nn.modules.block.C2f             [384, 128, 1]                 \n",
      " 13                  -1  1         0  torch.nn.modules.upsampling.Upsample         [None, 2, 'nearest']          \n",
      " 14             [-1, 4]  1         0  ultralytics.nn.modules.conv.Concat           [1]                           \n",
      " 15                  -1  1     37248  ultralytics.nn.modules.block.C2f             [192, 64, 1]                  \n",
      " 16                  -1  1     36992  ultralytics.nn.modules.conv.Conv             [64, 64, 3, 2]                \n",
      " 17            [-1, 12]  1         0  ultralytics.nn.modules.conv.Concat           [1]                           \n",
      " 18                  -1  1    123648  ultralytics.nn.modules.block.C2f             [192, 128, 1]                 \n",
      " 19                  -1  1    147712  ultralytics.nn.modules.conv.Conv             [128, 128, 3, 2]              \n",
      " 20             [-1, 9]  1         0  ultralytics.nn.modules.conv.Concat           [1]                           \n",
      " 21                  -1  1    493056  ultralytics.nn.modules.block.C2f             [384, 256, 1]                 \n",
      " 22        [15, 18, 21]  1    751507  ultralytics.nn.modules.head.Detect           [1, [64, 128, 256]]           \n",
      "Model summary: 225 layers, 3,011,043 parameters, 3,011,027 gradients, 8.2 GFLOPs\n",
      "\n",
      "Transferred 319/355 items from pretrained weights\n",
      "\u001b[34m\u001b[1mTensorBoard: \u001b[0mStart with 'tensorboard --logdir runs\\detect\\yolov8n-custom2', view at http://localhost:6006/\n",
      "Freezing layer 'model.22.dfl.conv.weight'\n",
      "\u001b[34m\u001b[1mAMP: \u001b[0mrunning Automatic Mixed Precision (AMP) checks...\n",
      "Downloading https://github.com/ultralytics/assets/releases/download/v8.3.0/yolo11n.pt to 'yolo11n.pt'...\n"
     ]
    },
    {
     "name": "stderr",
     "output_type": "stream",
     "text": [
      "100%|██████████| 5.35M/5.35M [00:00<00:00, 8.91MB/s]\n"
     ]
    },
    {
     "name": "stdout",
     "output_type": "stream",
     "text": [
      "\u001b[34m\u001b[1mAMP: \u001b[0mchecks passed \n"
     ]
    },
    {
     "name": "stderr",
     "output_type": "stream",
     "text": [
      "\u001b[34m\u001b[1mtrain: \u001b[0mScanning C:\\Users\\Karee\\OneDrive\\Desktop\\Fall 2024 AUS\\COE49413\\Project\\Code\\C2A_Dataset\\new_dataset3\\train\\labels... 6129 images, 0 backgrounds, 0 corrupt: 100%|██████████| 6129/6129 [00:22<00:00, 272.78it/s]"
     ]
    },
    {
     "name": "stdout",
     "output_type": "stream",
     "text": [
      "\u001b[34m\u001b[1mtrain: \u001b[0mWARNING  C:\\Users\\Karee\\OneDrive\\Desktop\\Fall 2024 AUS\\COE49413\\Project\\Code\\C2A_Dataset\\new_dataset3\\train\\images\\flood_image0407_3.png: 1 duplicate labels removed\n"
     ]
    },
    {
     "name": "stderr",
     "output_type": "stream",
     "text": [
      "\n"
     ]
    },
    {
     "name": "stdout",
     "output_type": "stream",
     "text": [
      "\u001b[34m\u001b[1mtrain: \u001b[0mNew cache created: C:\\Users\\Karee\\OneDrive\\Desktop\\Fall 2024 AUS\\COE49413\\Project\\Code\\C2A_Dataset\\new_dataset3\\train\\labels.cache\n"
     ]
    },
    {
     "name": "stderr",
     "output_type": "stream",
     "text": [
      "\u001b[34m\u001b[1mval: \u001b[0mScanning C:\\Users\\Karee\\OneDrive\\Desktop\\Fall 2024 AUS\\COE49413\\Project\\Code\\C2A_Dataset\\new_dataset3\\val\\labels... 2043 images, 0 backgrounds, 0 corrupt: 100%|██████████| 2043/2043 [00:09<00:00, 225.86it/s]\n"
     ]
    },
    {
     "name": "stdout",
     "output_type": "stream",
     "text": [
      "\u001b[34m\u001b[1mval: \u001b[0mNew cache created: C:\\Users\\Karee\\OneDrive\\Desktop\\Fall 2024 AUS\\COE49413\\Project\\Code\\C2A_Dataset\\new_dataset3\\val\\labels.cache\n",
      "Plotting labels to runs\\detect\\yolov8n-custom2\\labels.jpg... \n",
      "\u001b[34m\u001b[1moptimizer:\u001b[0m 'optimizer=auto' found, ignoring 'lr0=0.01' and 'momentum=0.937' and determining best 'optimizer', 'lr0' and 'momentum' automatically... \n",
      "\u001b[34m\u001b[1moptimizer:\u001b[0m AdamW(lr=0.002, momentum=0.9) with parameter groups 57 weight(decay=0.0), 64 weight(decay=0.0005), 63 bias(decay=0.0)\n",
      "\u001b[34m\u001b[1mTensorBoard: \u001b[0mmodel graph visualization added \n",
      "Image sizes 640 train, 640 val\n",
      "Using 8 dataloader workers\n",
      "Logging results to \u001b[1mruns\\detect\\yolov8n-custom2\u001b[0m\n",
      "Starting training for 50 epochs...\n",
      "\n",
      "      Epoch    GPU_mem   box_loss   cls_loss   dfl_loss  Instances       Size\n"
     ]
    },
    {
     "name": "stderr",
     "output_type": "stream",
     "text": [
      "       1/50       6.8G      1.661      1.387      1.066         73        640: 100%|██████████| 384/384 [01:30<00:00,  4.22it/s]\n",
      "                 Class     Images  Instances      Box(P          R      mAP50  mAP50-95): 100%|██████████| 64/64 [00:22<00:00,  2.81it/s]\n"
     ]
    },
    {
     "name": "stdout",
     "output_type": "stream",
     "text": [
      "                   all       2043      72123      0.704      0.551      0.591      0.312\n",
      "\n",
      "      Epoch    GPU_mem   box_loss   cls_loss   dfl_loss  Instances       Size\n"
     ]
    },
    {
     "name": "stderr",
     "output_type": "stream",
     "text": [
      "       2/50      5.79G      1.528      1.032      1.029         59        640: 100%|██████████| 384/384 [01:20<00:00,  4.76it/s]\n",
      "                 Class     Images  Instances      Box(P          R      mAP50  mAP50-95): 100%|██████████| 64/64 [00:20<00:00,  3.05it/s]\n"
     ]
    },
    {
     "name": "stdout",
     "output_type": "stream",
     "text": [
      "                   all       2043      72123      0.723      0.573      0.617      0.332\n",
      "\n",
      "      Epoch    GPU_mem   box_loss   cls_loss   dfl_loss  Instances       Size\n"
     ]
    },
    {
     "name": "stderr",
     "output_type": "stream",
     "text": [
      "       3/50      4.51G      1.483     0.9774      1.022        129        640: 100%|██████████| 384/384 [01:03<00:00,  6.01it/s]\n",
      "                 Class     Images  Instances      Box(P          R      mAP50  mAP50-95): 100%|██████████| 64/64 [00:17<00:00,  3.60it/s]\n"
     ]
    },
    {
     "name": "stdout",
     "output_type": "stream",
     "text": [
      "                   all       2043      72123      0.736      0.588      0.633      0.353\n",
      "\n",
      "      Epoch    GPU_mem   box_loss   cls_loss   dfl_loss  Instances       Size\n"
     ]
    },
    {
     "name": "stderr",
     "output_type": "stream",
     "text": [
      "       4/50      4.09G      1.447     0.9434      1.013         29        640: 100%|██████████| 384/384 [01:06<00:00,  5.80it/s]\n",
      "                 Class     Images  Instances      Box(P          R      mAP50  mAP50-95): 100%|██████████| 64/64 [00:17<00:00,  3.61it/s]\n"
     ]
    },
    {
     "name": "stdout",
     "output_type": "stream",
     "text": [
      "                   all       2043      72123      0.774      0.601      0.659      0.367\n",
      "\n",
      "      Epoch    GPU_mem   box_loss   cls_loss   dfl_loss  Instances       Size\n"
     ]
    },
    {
     "name": "stderr",
     "output_type": "stream",
     "text": [
      "       5/50      5.72G       1.41     0.9072      1.005         62        640: 100%|██████████| 384/384 [01:03<00:00,  6.02it/s]\n",
      "                 Class     Images  Instances      Box(P          R      mAP50  mAP50-95): 100%|██████████| 64/64 [00:18<00:00,  3.51it/s]\n"
     ]
    },
    {
     "name": "stdout",
     "output_type": "stream",
     "text": [
      "                   all       2043      72123      0.739      0.615      0.659      0.372\n",
      "\n",
      "      Epoch    GPU_mem   box_loss   cls_loss   dfl_loss  Instances       Size\n"
     ]
    },
    {
     "name": "stderr",
     "output_type": "stream",
     "text": [
      "       6/50      4.67G      1.394     0.8924          1         49        640: 100%|██████████| 384/384 [01:03<00:00,  6.08it/s]\n",
      "                 Class     Images  Instances      Box(P          R      mAP50  mAP50-95): 100%|██████████| 64/64 [00:17<00:00,  3.56it/s]\n"
     ]
    },
    {
     "name": "stdout",
     "output_type": "stream",
     "text": [
      "                   all       2043      72123      0.772      0.621      0.674      0.385\n",
      "\n",
      "      Epoch    GPU_mem   box_loss   cls_loss   dfl_loss  Instances       Size\n"
     ]
    },
    {
     "name": "stderr",
     "output_type": "stream",
     "text": [
      "       7/50      6.95G      1.375     0.8815     0.9961         61        640: 100%|██████████| 384/384 [01:03<00:00,  6.09it/s]\n",
      "                 Class     Images  Instances      Box(P          R      mAP50  mAP50-95): 100%|██████████| 64/64 [00:19<00:00,  3.20it/s]\n"
     ]
    },
    {
     "name": "stdout",
     "output_type": "stream",
     "text": [
      "                   all       2043      72123      0.771       0.63      0.681      0.384\n",
      "\n",
      "      Epoch    GPU_mem   box_loss   cls_loss   dfl_loss  Instances       Size\n"
     ]
    },
    {
     "name": "stderr",
     "output_type": "stream",
     "text": [
      "       8/50      5.47G      1.367     0.8721     0.9925        128        640: 100%|██████████| 384/384 [01:04<00:00,  5.95it/s]\n",
      "                 Class     Images  Instances      Box(P          R      mAP50  mAP50-95): 100%|██████████| 64/64 [00:18<00:00,  3.48it/s]\n"
     ]
    },
    {
     "name": "stdout",
     "output_type": "stream",
     "text": [
      "                   all       2043      72123      0.784      0.629      0.684      0.394\n",
      "\n",
      "      Epoch    GPU_mem   box_loss   cls_loss   dfl_loss  Instances       Size\n"
     ]
    },
    {
     "name": "stderr",
     "output_type": "stream",
     "text": [
      "       9/50      6.16G      1.348     0.8555     0.9868         40        640: 100%|██████████| 384/384 [01:03<00:00,  6.08it/s]\n",
      "                 Class     Images  Instances      Box(P          R      mAP50  mAP50-95): 100%|██████████| 64/64 [00:17<00:00,  3.60it/s]\n"
     ]
    },
    {
     "name": "stdout",
     "output_type": "stream",
     "text": [
      "                   all       2043      72123      0.792       0.64      0.696        0.4\n",
      "\n",
      "      Epoch    GPU_mem   box_loss   cls_loss   dfl_loss  Instances       Size\n"
     ]
    },
    {
     "name": "stderr",
     "output_type": "stream",
     "text": [
      "      10/50       4.6G       1.33     0.8421     0.9861         59        640: 100%|██████████| 384/384 [01:03<00:00,  6.08it/s]\n",
      "                 Class     Images  Instances      Box(P          R      mAP50  mAP50-95): 100%|██████████| 64/64 [00:17<00:00,  3.62it/s]\n"
     ]
    },
    {
     "name": "stdout",
     "output_type": "stream",
     "text": [
      "                   all       2043      72123      0.796      0.636      0.696      0.405\n",
      "\n",
      "      Epoch    GPU_mem   box_loss   cls_loss   dfl_loss  Instances       Size\n"
     ]
    },
    {
     "name": "stderr",
     "output_type": "stream",
     "text": [
      "      11/50       4.1G       1.32     0.8368     0.9823         76        640: 100%|██████████| 384/384 [01:04<00:00,  5.98it/s]\n",
      "                 Class     Images  Instances      Box(P          R      mAP50  mAP50-95): 100%|██████████| 64/64 [00:18<00:00,  3.54it/s]\n"
     ]
    },
    {
     "name": "stdout",
     "output_type": "stream",
     "text": [
      "                   all       2043      72123      0.785      0.646      0.703      0.412\n",
      "\n",
      "      Epoch    GPU_mem   box_loss   cls_loss   dfl_loss  Instances       Size\n"
     ]
    },
    {
     "name": "stderr",
     "output_type": "stream",
     "text": [
      "      12/50      5.48G      1.313     0.8286     0.9822         26        640: 100%|██████████| 384/384 [01:03<00:00,  6.07it/s]\n",
      "                 Class     Images  Instances      Box(P          R      mAP50  mAP50-95): 100%|██████████| 64/64 [00:17<00:00,  3.59it/s]\n"
     ]
    },
    {
     "name": "stdout",
     "output_type": "stream",
     "text": [
      "                   all       2043      72123      0.786      0.649      0.705      0.412\n",
      "\n",
      "      Epoch    GPU_mem   box_loss   cls_loss   dfl_loss  Instances       Size\n"
     ]
    },
    {
     "name": "stderr",
     "output_type": "stream",
     "text": [
      "      13/50         5G      1.299     0.8181     0.9767         46        640: 100%|██████████| 384/384 [01:03<00:00,  6.02it/s]\n",
      "                 Class     Images  Instances      Box(P          R      mAP50  mAP50-95): 100%|██████████| 64/64 [00:18<00:00,  3.51it/s]\n"
     ]
    },
    {
     "name": "stdout",
     "output_type": "stream",
     "text": [
      "                   all       2043      72123      0.801      0.643       0.71      0.426\n",
      "\n",
      "      Epoch    GPU_mem   box_loss   cls_loss   dfl_loss  Instances       Size\n"
     ]
    },
    {
     "name": "stderr",
     "output_type": "stream",
     "text": [
      "      14/50      5.72G      1.295     0.8143     0.9744         48        640: 100%|██████████| 384/384 [00:57<00:00,  6.72it/s]\n",
      "                 Class     Images  Instances      Box(P          R      mAP50  mAP50-95): 100%|██████████| 64/64 [00:10<00:00,  5.87it/s]\n"
     ]
    },
    {
     "name": "stdout",
     "output_type": "stream",
     "text": [
      "                   all       2043      72123      0.788       0.65      0.712      0.421\n",
      "\n",
      "      Epoch    GPU_mem   box_loss   cls_loss   dfl_loss  Instances       Size\n"
     ]
    },
    {
     "name": "stderr",
     "output_type": "stream",
     "text": [
      "      15/50      5.44G      1.283     0.8046     0.9747         61        640: 100%|██████████| 384/384 [00:49<00:00,  7.69it/s]\n",
      "                 Class     Images  Instances      Box(P          R      mAP50  mAP50-95): 100%|██████████| 64/64 [00:17<00:00,  3.64it/s]\n"
     ]
    },
    {
     "name": "stdout",
     "output_type": "stream",
     "text": [
      "                   all       2043      72123      0.803      0.658      0.718      0.431\n",
      "\n",
      "      Epoch    GPU_mem   box_loss   cls_loss   dfl_loss  Instances       Size\n"
     ]
    },
    {
     "name": "stderr",
     "output_type": "stream",
     "text": [
      "      16/50       4.7G      1.273     0.8004      0.972         88        640: 100%|██████████| 384/384 [01:11<00:00,  5.39it/s]\n",
      "                 Class     Images  Instances      Box(P          R      mAP50  mAP50-95): 100%|██████████| 64/64 [00:10<00:00,  5.92it/s]\n"
     ]
    },
    {
     "name": "stdout",
     "output_type": "stream",
     "text": [
      "                   all       2043      72123      0.798      0.661      0.723      0.431\n",
      "\n",
      "      Epoch    GPU_mem   box_loss   cls_loss   dfl_loss  Instances       Size\n"
     ]
    },
    {
     "name": "stderr",
     "output_type": "stream",
     "text": [
      "      17/50      4.83G      1.275     0.7968     0.9684         34        640: 100%|██████████| 384/384 [00:50<00:00,  7.57it/s]\n",
      "                 Class     Images  Instances      Box(P          R      mAP50  mAP50-95): 100%|██████████| 64/64 [00:11<00:00,  5.45it/s]\n"
     ]
    },
    {
     "name": "stdout",
     "output_type": "stream",
     "text": [
      "                   all       2043      72123      0.803      0.656      0.719      0.433\n",
      "\n",
      "      Epoch    GPU_mem   box_loss   cls_loss   dfl_loss  Instances       Size\n"
     ]
    },
    {
     "name": "stderr",
     "output_type": "stream",
     "text": [
      "      18/50      4.63G      1.262     0.7881     0.9677         21        640: 100%|██████████| 384/384 [00:53<00:00,  7.23it/s]\n",
      "                 Class     Images  Instances      Box(P          R      mAP50  mAP50-95): 100%|██████████| 64/64 [00:28<00:00,  2.28it/s]\n"
     ]
    },
    {
     "name": "stdout",
     "output_type": "stream",
     "text": [
      "                   all       2043      72123      0.808      0.665      0.727      0.438\n",
      "\n",
      "      Epoch    GPU_mem   box_loss   cls_loss   dfl_loss  Instances       Size\n"
     ]
    },
    {
     "name": "stderr",
     "output_type": "stream",
     "text": [
      "      19/50      5.51G      1.259     0.7845     0.9672         21        640: 100%|██████████| 384/384 [01:50<00:00,  3.48it/s]\n",
      "                 Class     Images  Instances      Box(P          R      mAP50  mAP50-95): 100%|██████████| 64/64 [00:28<00:00,  2.26it/s]\n"
     ]
    },
    {
     "name": "stdout",
     "output_type": "stream",
     "text": [
      "                   all       2043      72123      0.812      0.658      0.724      0.435\n",
      "\n",
      "      Epoch    GPU_mem   box_loss   cls_loss   dfl_loss  Instances       Size\n"
     ]
    },
    {
     "name": "stderr",
     "output_type": "stream",
     "text": [
      "      20/50      5.11G      1.252     0.7861     0.9665         30        640: 100%|██████████| 384/384 [00:55<00:00,  6.95it/s]\n",
      "                 Class     Images  Instances      Box(P          R      mAP50  mAP50-95): 100%|██████████| 64/64 [00:11<00:00,  5.81it/s]\n"
     ]
    },
    {
     "name": "stdout",
     "output_type": "stream",
     "text": [
      "                   all       2043      72123      0.801      0.663      0.721       0.43\n",
      "\n",
      "      Epoch    GPU_mem   box_loss   cls_loss   dfl_loss  Instances       Size\n"
     ]
    },
    {
     "name": "stderr",
     "output_type": "stream",
     "text": [
      "      21/50      4.89G      1.247     0.7776     0.9633         66        640: 100%|██████████| 384/384 [00:50<00:00,  7.67it/s]\n",
      "                 Class     Images  Instances      Box(P          R      mAP50  mAP50-95): 100%|██████████| 64/64 [00:11<00:00,  5.44it/s]\n"
     ]
    },
    {
     "name": "stdout",
     "output_type": "stream",
     "text": [
      "                   all       2043      72123       0.81      0.666      0.727       0.44\n",
      "\n",
      "      Epoch    GPU_mem   box_loss   cls_loss   dfl_loss  Instances       Size\n"
     ]
    },
    {
     "name": "stderr",
     "output_type": "stream",
     "text": [
      "      22/50      6.61G      1.241     0.7732     0.9622         23        640: 100%|██████████| 384/384 [00:51<00:00,  7.51it/s]\n",
      "                 Class     Images  Instances      Box(P          R      mAP50  mAP50-95): 100%|██████████| 64/64 [00:12<00:00,  5.23it/s]\n"
     ]
    },
    {
     "name": "stdout",
     "output_type": "stream",
     "text": [
      "                   all       2043      72123      0.813      0.668       0.73      0.442\n",
      "\n",
      "      Epoch    GPU_mem   box_loss   cls_loss   dfl_loss  Instances       Size\n"
     ]
    },
    {
     "name": "stderr",
     "output_type": "stream",
     "text": [
      "      23/50      5.04G      1.236     0.7691     0.9613         51        640: 100%|██████████| 384/384 [00:51<00:00,  7.47it/s]\n",
      "                 Class     Images  Instances      Box(P          R      mAP50  mAP50-95): 100%|██████████| 64/64 [00:11<00:00,  5.49it/s]\n"
     ]
    },
    {
     "name": "stdout",
     "output_type": "stream",
     "text": [
      "                   all       2043      72123      0.812      0.669       0.73      0.442\n",
      "\n",
      "      Epoch    GPU_mem   box_loss   cls_loss   dfl_loss  Instances       Size\n"
     ]
    },
    {
     "name": "stderr",
     "output_type": "stream",
     "text": [
      "      24/50      5.62G      1.233     0.7677     0.9614         55        640: 100%|██████████| 384/384 [00:50<00:00,  7.57it/s]\n",
      "                 Class     Images  Instances      Box(P          R      mAP50  mAP50-95): 100%|██████████| 64/64 [00:11<00:00,  5.50it/s]\n"
     ]
    },
    {
     "name": "stdout",
     "output_type": "stream",
     "text": [
      "                   all       2043      72123      0.811      0.673      0.732      0.441\n",
      "\n",
      "      Epoch    GPU_mem   box_loss   cls_loss   dfl_loss  Instances       Size\n"
     ]
    },
    {
     "name": "stderr",
     "output_type": "stream",
     "text": [
      "      25/50      4.61G      1.228     0.7675     0.9596         46        640: 100%|██████████| 384/384 [00:51<00:00,  7.47it/s]\n",
      "                 Class     Images  Instances      Box(P          R      mAP50  mAP50-95): 100%|██████████| 64/64 [00:11<00:00,  5.38it/s]\n"
     ]
    },
    {
     "name": "stdout",
     "output_type": "stream",
     "text": [
      "                   all       2043      72123      0.816      0.669      0.734      0.448\n",
      "\n",
      "      Epoch    GPU_mem   box_loss   cls_loss   dfl_loss  Instances       Size\n"
     ]
    },
    {
     "name": "stderr",
     "output_type": "stream",
     "text": [
      "      26/50      3.95G      1.221     0.7617     0.9589         31        640: 100%|██████████| 384/384 [00:51<00:00,  7.45it/s]\n",
      "                 Class     Images  Instances      Box(P          R      mAP50  mAP50-95): 100%|██████████| 64/64 [00:12<00:00,  5.16it/s]\n"
     ]
    },
    {
     "name": "stdout",
     "output_type": "stream",
     "text": [
      "                   all       2043      72123      0.822      0.676      0.737      0.449\n",
      "\n",
      "      Epoch    GPU_mem   box_loss   cls_loss   dfl_loss  Instances       Size\n"
     ]
    },
    {
     "name": "stderr",
     "output_type": "stream",
     "text": [
      "      27/50      5.32G      1.217      0.757     0.9579         43        640: 100%|██████████| 384/384 [00:51<00:00,  7.46it/s]\n",
      "                 Class     Images  Instances      Box(P          R      mAP50  mAP50-95): 100%|██████████| 64/64 [00:11<00:00,  5.51it/s]\n"
     ]
    },
    {
     "name": "stdout",
     "output_type": "stream",
     "text": [
      "                   all       2043      72123      0.802      0.673      0.731       0.44\n",
      "\n",
      "      Epoch    GPU_mem   box_loss   cls_loss   dfl_loss  Instances       Size\n"
     ]
    },
    {
     "name": "stderr",
     "output_type": "stream",
     "text": [
      "      28/50       4.2G      1.219     0.7578     0.9578         47        640: 100%|██████████| 384/384 [00:51<00:00,  7.53it/s]\n",
      "                 Class     Images  Instances      Box(P          R      mAP50  mAP50-95): 100%|██████████| 64/64 [00:11<00:00,  5.37it/s]\n"
     ]
    },
    {
     "name": "stdout",
     "output_type": "stream",
     "text": [
      "                   all       2043      72123      0.816      0.678      0.737      0.453\n",
      "\n",
      "      Epoch    GPU_mem   box_loss   cls_loss   dfl_loss  Instances       Size\n"
     ]
    },
    {
     "name": "stderr",
     "output_type": "stream",
     "text": [
      "      29/50      4.99G      1.213     0.7539     0.9556         33        640: 100%|██████████| 384/384 [00:51<00:00,  7.48it/s]\n",
      "                 Class     Images  Instances      Box(P          R      mAP50  mAP50-95): 100%|██████████| 64/64 [00:11<00:00,  5.46it/s]\n"
     ]
    },
    {
     "name": "stdout",
     "output_type": "stream",
     "text": [
      "                   all       2043      72123      0.813      0.677      0.739      0.451\n",
      "\n",
      "      Epoch    GPU_mem   box_loss   cls_loss   dfl_loss  Instances       Size\n"
     ]
    },
    {
     "name": "stderr",
     "output_type": "stream",
     "text": [
      "      30/50      4.41G      1.207     0.7523     0.9561         49        640: 100%|██████████| 384/384 [00:50<00:00,  7.56it/s]\n",
      "                 Class     Images  Instances      Box(P          R      mAP50  mAP50-95): 100%|██████████| 64/64 [00:11<00:00,  5.55it/s]\n"
     ]
    },
    {
     "name": "stdout",
     "output_type": "stream",
     "text": [
      "                   all       2043      72123      0.814      0.682       0.74       0.45\n",
      "\n",
      "      Epoch    GPU_mem   box_loss   cls_loss   dfl_loss  Instances       Size\n"
     ]
    },
    {
     "name": "stderr",
     "output_type": "stream",
     "text": [
      "      31/50      4.07G      1.201     0.7496     0.9545         16        640: 100%|██████████| 384/384 [00:50<00:00,  7.59it/s]\n",
      "                 Class     Images  Instances      Box(P          R      mAP50  mAP50-95): 100%|██████████| 64/64 [00:11<00:00,  5.49it/s]\n"
     ]
    },
    {
     "name": "stdout",
     "output_type": "stream",
     "text": [
      "                   all       2043      72123      0.816      0.679       0.74      0.452\n",
      "\n",
      "      Epoch    GPU_mem   box_loss   cls_loss   dfl_loss  Instances       Size\n"
     ]
    },
    {
     "name": "stderr",
     "output_type": "stream",
     "text": [
      "      32/50      4.85G      1.205     0.7476     0.9549         35        640: 100%|██████████| 384/384 [00:51<00:00,  7.49it/s]\n",
      "                 Class     Images  Instances      Box(P          R      mAP50  mAP50-95): 100%|██████████| 64/64 [00:11<00:00,  5.49it/s]\n"
     ]
    },
    {
     "name": "stdout",
     "output_type": "stream",
     "text": [
      "                   all       2043      72123      0.817      0.678      0.742      0.452\n",
      "\n",
      "      Epoch    GPU_mem   box_loss   cls_loss   dfl_loss  Instances       Size\n"
     ]
    },
    {
     "name": "stderr",
     "output_type": "stream",
     "text": [
      "      33/50      5.64G      1.187     0.7366     0.9516         24        640: 100%|██████████| 384/384 [00:51<00:00,  7.50it/s]\n",
      "                 Class     Images  Instances      Box(P          R      mAP50  mAP50-95): 100%|██████████| 64/64 [00:11<00:00,  5.50it/s]\n"
     ]
    },
    {
     "name": "stdout",
     "output_type": "stream",
     "text": [
      "                   all       2043      72123      0.823      0.679      0.743      0.457\n",
      "\n",
      "      Epoch    GPU_mem   box_loss   cls_loss   dfl_loss  Instances       Size\n"
     ]
    },
    {
     "name": "stderr",
     "output_type": "stream",
     "text": [
      "      34/50       6.3G      1.189     0.7387     0.9496         14        640: 100%|██████████| 384/384 [00:51<00:00,  7.45it/s]\n",
      "                 Class     Images  Instances      Box(P          R      mAP50  mAP50-95): 100%|██████████| 64/64 [00:11<00:00,  5.50it/s]\n"
     ]
    },
    {
     "name": "stdout",
     "output_type": "stream",
     "text": [
      "                   all       2043      72123      0.822       0.68      0.744      0.462\n",
      "\n",
      "      Epoch    GPU_mem   box_loss   cls_loss   dfl_loss  Instances       Size\n"
     ]
    },
    {
     "name": "stderr",
     "output_type": "stream",
     "text": [
      "      35/50       6.3G      1.193     0.7379       0.95         14        640: 100%|██████████| 384/384 [00:51<00:00,  7.45it/s]\n",
      "                 Class     Images  Instances      Box(P          R      mAP50  mAP50-95): 100%|██████████| 64/64 [00:11<00:00,  5.54it/s]\n"
     ]
    },
    {
     "name": "stdout",
     "output_type": "stream",
     "text": [
      "                   all       2043      72123      0.818      0.684      0.745      0.459\n",
      "\n",
      "      Epoch    GPU_mem   box_loss   cls_loss   dfl_loss  Instances       Size\n"
     ]
    },
    {
     "name": "stderr",
     "output_type": "stream",
     "text": [
      "      36/50      3.96G      1.185     0.7325     0.9505         23        640: 100%|██████████| 384/384 [00:51<00:00,  7.51it/s]\n",
      "                 Class     Images  Instances      Box(P          R      mAP50  mAP50-95): 100%|██████████| 64/64 [00:11<00:00,  5.45it/s]\n"
     ]
    },
    {
     "name": "stdout",
     "output_type": "stream",
     "text": [
      "                   all       2043      72123      0.818      0.683      0.746      0.459\n",
      "\n",
      "      Epoch    GPU_mem   box_loss   cls_loss   dfl_loss  Instances       Size\n"
     ]
    },
    {
     "name": "stderr",
     "output_type": "stream",
     "text": [
      "      37/50      5.08G      1.186     0.7312     0.9491         15        640: 100%|██████████| 384/384 [00:52<00:00,  7.37it/s]\n",
      "                 Class     Images  Instances      Box(P          R      mAP50  mAP50-95): 100%|██████████| 64/64 [00:11<00:00,  5.47it/s]\n"
     ]
    },
    {
     "name": "stdout",
     "output_type": "stream",
     "text": [
      "                   all       2043      72123      0.823      0.685      0.749      0.464\n",
      "\n",
      "      Epoch    GPU_mem   box_loss   cls_loss   dfl_loss  Instances       Size\n"
     ]
    },
    {
     "name": "stderr",
     "output_type": "stream",
     "text": [
      "      38/50      4.12G      1.182     0.7286     0.9497         38        640: 100%|██████████| 384/384 [00:50<00:00,  7.54it/s]\n",
      "                 Class     Images  Instances      Box(P          R      mAP50  mAP50-95): 100%|██████████| 64/64 [00:11<00:00,  5.51it/s]\n"
     ]
    },
    {
     "name": "stdout",
     "output_type": "stream",
     "text": [
      "                   all       2043      72123      0.825      0.686      0.749      0.464\n",
      "\n",
      "      Epoch    GPU_mem   box_loss   cls_loss   dfl_loss  Instances       Size\n"
     ]
    },
    {
     "name": "stderr",
     "output_type": "stream",
     "text": [
      "      39/50      5.73G      1.172     0.7234     0.9473         20        640: 100%|██████████| 384/384 [00:51<00:00,  7.51it/s]\n",
      "                 Class     Images  Instances      Box(P          R      mAP50  mAP50-95): 100%|██████████| 64/64 [00:11<00:00,  5.53it/s]\n"
     ]
    },
    {
     "name": "stdout",
     "output_type": "stream",
     "text": [
      "                   all       2043      72123       0.82      0.684      0.748      0.461\n",
      "\n",
      "      Epoch    GPU_mem   box_loss   cls_loss   dfl_loss  Instances       Size\n"
     ]
    },
    {
     "name": "stderr",
     "output_type": "stream",
     "text": [
      "      40/50      4.89G      1.173     0.7244     0.9453         21        640: 100%|██████████| 384/384 [00:50<00:00,  7.58it/s]\n",
      "                 Class     Images  Instances      Box(P          R      mAP50  mAP50-95): 100%|██████████| 64/64 [00:11<00:00,  5.52it/s]\n"
     ]
    },
    {
     "name": "stdout",
     "output_type": "stream",
     "text": [
      "                   all       2043      72123      0.827      0.685       0.75      0.468\n",
      "Closing dataloader mosaic\n",
      "\n",
      "      Epoch    GPU_mem   box_loss   cls_loss   dfl_loss  Instances       Size\n"
     ]
    },
    {
     "name": "stderr",
     "output_type": "stream",
     "text": [
      "      41/50      6.29G      1.149     0.7139     0.9518         29        640: 100%|██████████| 384/384 [00:47<00:00,  8.14it/s]\n",
      "                 Class     Images  Instances      Box(P          R      mAP50  mAP50-95): 100%|██████████| 64/64 [00:11<00:00,  5.47it/s]\n"
     ]
    },
    {
     "name": "stdout",
     "output_type": "stream",
     "text": [
      "                   all       2043      72123      0.824      0.687      0.751      0.469\n",
      "\n",
      "      Epoch    GPU_mem   box_loss   cls_loss   dfl_loss  Instances       Size\n"
     ]
    },
    {
     "name": "stderr",
     "output_type": "stream",
     "text": [
      "      42/50      3.94G      1.138     0.7091     0.9491         30        640: 100%|██████████| 384/384 [00:46<00:00,  8.23it/s]\n",
      "                 Class     Images  Instances      Box(P          R      mAP50  mAP50-95): 100%|██████████| 64/64 [00:11<00:00,  5.53it/s]\n"
     ]
    },
    {
     "name": "stdout",
     "output_type": "stream",
     "text": [
      "                   all       2043      72123      0.826      0.686      0.752      0.471\n",
      "\n",
      "      Epoch    GPU_mem   box_loss   cls_loss   dfl_loss  Instances       Size\n"
     ]
    },
    {
     "name": "stderr",
     "output_type": "stream",
     "text": [
      "      43/50      4.45G      1.132     0.7025      0.949         40        640: 100%|██████████| 384/384 [00:46<00:00,  8.22it/s]\n",
      "                 Class     Images  Instances      Box(P          R      mAP50  mAP50-95): 100%|██████████| 64/64 [00:11<00:00,  5.48it/s]\n"
     ]
    },
    {
     "name": "stdout",
     "output_type": "stream",
     "text": [
      "                   all       2043      72123      0.826      0.684       0.75      0.468\n",
      "\n",
      "      Epoch    GPU_mem   box_loss   cls_loss   dfl_loss  Instances       Size\n"
     ]
    },
    {
     "name": "stderr",
     "output_type": "stream",
     "text": [
      "      44/50      3.94G      1.131     0.7028     0.9491         25        640: 100%|██████████| 384/384 [00:46<00:00,  8.25it/s]\n",
      "                 Class     Images  Instances      Box(P          R      mAP50  mAP50-95): 100%|██████████| 64/64 [00:11<00:00,  5.54it/s]\n"
     ]
    },
    {
     "name": "stdout",
     "output_type": "stream",
     "text": [
      "                   all       2043      72123      0.829      0.688      0.753      0.474\n",
      "\n",
      "      Epoch    GPU_mem   box_loss   cls_loss   dfl_loss  Instances       Size\n"
     ]
    },
    {
     "name": "stderr",
     "output_type": "stream",
     "text": [
      "      45/50      4.21G      1.131     0.6981      0.946         27        640: 100%|██████████| 384/384 [00:46<00:00,  8.25it/s]\n",
      "                 Class     Images  Instances      Box(P          R      mAP50  mAP50-95): 100%|██████████| 64/64 [00:11<00:00,  5.41it/s]\n"
     ]
    },
    {
     "name": "stdout",
     "output_type": "stream",
     "text": [
      "                   all       2043      72123      0.829      0.688      0.753      0.474\n",
      "\n",
      "      Epoch    GPU_mem   box_loss   cls_loss   dfl_loss  Instances       Size\n"
     ]
    },
    {
     "name": "stderr",
     "output_type": "stream",
     "text": [
      "      46/50      4.51G       1.13     0.6937      0.946         15        640: 100%|██████████| 384/384 [00:46<00:00,  8.24it/s]\n",
      "                 Class     Images  Instances      Box(P          R      mAP50  mAP50-95): 100%|██████████| 64/64 [00:11<00:00,  5.53it/s]\n"
     ]
    },
    {
     "name": "stdout",
     "output_type": "stream",
     "text": [
      "                   all       2043      72123      0.827      0.689      0.754      0.475\n",
      "\n",
      "      Epoch    GPU_mem   box_loss   cls_loss   dfl_loss  Instances       Size\n"
     ]
    },
    {
     "name": "stderr",
     "output_type": "stream",
     "text": [
      "      47/50      4.64G       1.12     0.6891     0.9455         25        640: 100%|██████████| 384/384 [00:46<00:00,  8.28it/s]\n",
      "                 Class     Images  Instances      Box(P          R      mAP50  mAP50-95): 100%|██████████| 64/64 [00:11<00:00,  5.57it/s]\n"
     ]
    },
    {
     "name": "stdout",
     "output_type": "stream",
     "text": [
      "                   all       2043      72123      0.831      0.688      0.754      0.474\n",
      "\n",
      "      Epoch    GPU_mem   box_loss   cls_loss   dfl_loss  Instances       Size\n"
     ]
    },
    {
     "name": "stderr",
     "output_type": "stream",
     "text": [
      "      48/50       3.4G      1.117     0.6904     0.9438         34        640: 100%|██████████| 384/384 [00:46<00:00,  8.22it/s]\n",
      "                 Class     Images  Instances      Box(P          R      mAP50  mAP50-95): 100%|██████████| 64/64 [00:11<00:00,  5.53it/s]\n"
     ]
    },
    {
     "name": "stdout",
     "output_type": "stream",
     "text": [
      "                   all       2043      72123      0.828      0.691      0.756      0.476\n",
      "\n",
      "      Epoch    GPU_mem   box_loss   cls_loss   dfl_loss  Instances       Size\n"
     ]
    },
    {
     "name": "stderr",
     "output_type": "stream",
     "text": [
      "      49/50       4.8G      1.115     0.6872     0.9445         17        640: 100%|██████████| 384/384 [00:46<00:00,  8.27it/s]\n",
      "                 Class     Images  Instances      Box(P          R      mAP50  mAP50-95): 100%|██████████| 64/64 [00:11<00:00,  5.52it/s]\n"
     ]
    },
    {
     "name": "stdout",
     "output_type": "stream",
     "text": [
      "                   all       2043      72123      0.829      0.689      0.755      0.477\n",
      "\n",
      "      Epoch    GPU_mem   box_loss   cls_loss   dfl_loss  Instances       Size\n"
     ]
    },
    {
     "name": "stderr",
     "output_type": "stream",
     "text": [
      "      50/50      4.32G      1.113     0.6852     0.9425         21        640: 100%|██████████| 384/384 [00:46<00:00,  8.21it/s]\n",
      "                 Class     Images  Instances      Box(P          R      mAP50  mAP50-95): 100%|██████████| 64/64 [00:11<00:00,  5.53it/s]\n"
     ]
    },
    {
     "name": "stdout",
     "output_type": "stream",
     "text": [
      "                   all       2043      72123      0.828       0.69      0.756      0.477\n",
      "\n",
      "50 epochs completed in 1.006 hours.\n",
      "Optimizer stripped from runs\\detect\\yolov8n-custom2\\weights\\last.pt, 6.2MB\n",
      "Optimizer stripped from runs\\detect\\yolov8n-custom2\\weights\\best.pt, 6.2MB\n",
      "\n",
      "Validating runs\\detect\\yolov8n-custom2\\weights\\best.pt...\n",
      "Ultralytics 8.3.25  Python-3.12.5 torch-2.5.1+cu121 CUDA:0 (NVIDIA GeForce RTX 4060 Laptop GPU, 8188MiB)\n",
      "Model summary (fused): 168 layers, 3,005,843 parameters, 0 gradients, 8.1 GFLOPs\n"
     ]
    },
    {
     "name": "stderr",
     "output_type": "stream",
     "text": [
      "                 Class     Images  Instances      Box(P          R      mAP50  mAP50-95): 100%|██████████| 64/64 [00:18<00:00,  3.56it/s]\n"
     ]
    },
    {
     "name": "stdout",
     "output_type": "stream",
     "text": [
      "                   all       2043      72123      0.827      0.691      0.756      0.477\n",
      "Speed: 0.3ms preprocess, 1.5ms inference, 0.0ms loss, 0.7ms postprocess per image\n",
      "Results saved to \u001b[1mruns\\detect\\yolov8n-custom2\u001b[0m\n"
     ]
    },
    {
     "data": {
      "text/plain": [
       "ultralytics.utils.metrics.DetMetrics object with attributes:\n",
       "\n",
       "ap_class_index: array([0])\n",
       "box: ultralytics.utils.metrics.Metric object\n",
       "confusion_matrix: <ultralytics.utils.metrics.ConfusionMatrix object at 0x000001BA1619B4A0>\n",
       "curves: ['Precision-Recall(B)', 'F1-Confidence(B)', 'Precision-Confidence(B)', 'Recall-Confidence(B)']\n",
       "curves_results: [[array([          0,    0.001001,    0.002002,    0.003003,    0.004004,    0.005005,    0.006006,    0.007007,    0.008008,    0.009009,     0.01001,    0.011011,    0.012012,    0.013013,    0.014014,    0.015015,    0.016016,    0.017017,    0.018018,    0.019019,     0.02002,    0.021021,    0.022022,    0.023023,\n",
       "          0.024024,    0.025025,    0.026026,    0.027027,    0.028028,    0.029029,     0.03003,    0.031031,    0.032032,    0.033033,    0.034034,    0.035035,    0.036036,    0.037037,    0.038038,    0.039039,     0.04004,    0.041041,    0.042042,    0.043043,    0.044044,    0.045045,    0.046046,    0.047047,\n",
       "          0.048048,    0.049049,     0.05005,    0.051051,    0.052052,    0.053053,    0.054054,    0.055055,    0.056056,    0.057057,    0.058058,    0.059059,     0.06006,    0.061061,    0.062062,    0.063063,    0.064064,    0.065065,    0.066066,    0.067067,    0.068068,    0.069069,     0.07007,    0.071071,\n",
       "          0.072072,    0.073073,    0.074074,    0.075075,    0.076076,    0.077077,    0.078078,    0.079079,     0.08008,    0.081081,    0.082082,    0.083083,    0.084084,    0.085085,    0.086086,    0.087087,    0.088088,    0.089089,     0.09009,    0.091091,    0.092092,    0.093093,    0.094094,    0.095095,\n",
       "          0.096096,    0.097097,    0.098098,    0.099099,      0.1001,      0.1011,      0.1021,      0.1031,      0.1041,     0.10511,     0.10611,     0.10711,     0.10811,     0.10911,     0.11011,     0.11111,     0.11211,     0.11311,     0.11411,     0.11512,     0.11612,     0.11712,     0.11812,     0.11912,\n",
       "           0.12012,     0.12112,     0.12212,     0.12312,     0.12412,     0.12513,     0.12613,     0.12713,     0.12813,     0.12913,     0.13013,     0.13113,     0.13213,     0.13313,     0.13413,     0.13514,     0.13614,     0.13714,     0.13814,     0.13914,     0.14014,     0.14114,     0.14214,     0.14314,\n",
       "           0.14414,     0.14515,     0.14615,     0.14715,     0.14815,     0.14915,     0.15015,     0.15115,     0.15215,     0.15315,     0.15415,     0.15516,     0.15616,     0.15716,     0.15816,     0.15916,     0.16016,     0.16116,     0.16216,     0.16316,     0.16416,     0.16517,     0.16617,     0.16717,\n",
       "           0.16817,     0.16917,     0.17017,     0.17117,     0.17217,     0.17317,     0.17417,     0.17518,     0.17618,     0.17718,     0.17818,     0.17918,     0.18018,     0.18118,     0.18218,     0.18318,     0.18418,     0.18519,     0.18619,     0.18719,     0.18819,     0.18919,     0.19019,     0.19119,\n",
       "           0.19219,     0.19319,     0.19419,      0.1952,      0.1962,      0.1972,      0.1982,      0.1992,      0.2002,      0.2012,      0.2022,      0.2032,      0.2042,     0.20521,     0.20621,     0.20721,     0.20821,     0.20921,     0.21021,     0.21121,     0.21221,     0.21321,     0.21421,     0.21522,\n",
       "           0.21622,     0.21722,     0.21822,     0.21922,     0.22022,     0.22122,     0.22222,     0.22322,     0.22422,     0.22523,     0.22623,     0.22723,     0.22823,     0.22923,     0.23023,     0.23123,     0.23223,     0.23323,     0.23423,     0.23524,     0.23624,     0.23724,     0.23824,     0.23924,\n",
       "           0.24024,     0.24124,     0.24224,     0.24324,     0.24424,     0.24525,     0.24625,     0.24725,     0.24825,     0.24925,     0.25025,     0.25125,     0.25225,     0.25325,     0.25425,     0.25526,     0.25626,     0.25726,     0.25826,     0.25926,     0.26026,     0.26126,     0.26226,     0.26326,\n",
       "           0.26426,     0.26527,     0.26627,     0.26727,     0.26827,     0.26927,     0.27027,     0.27127,     0.27227,     0.27327,     0.27427,     0.27528,     0.27628,     0.27728,     0.27828,     0.27928,     0.28028,     0.28128,     0.28228,     0.28328,     0.28428,     0.28529,     0.28629,     0.28729,\n",
       "           0.28829,     0.28929,     0.29029,     0.29129,     0.29229,     0.29329,     0.29429,      0.2953,      0.2963,      0.2973,      0.2983,      0.2993,      0.3003,      0.3013,      0.3023,      0.3033,      0.3043,     0.30531,     0.30631,     0.30731,     0.30831,     0.30931,     0.31031,     0.31131,\n",
       "           0.31231,     0.31331,     0.31431,     0.31532,     0.31632,     0.31732,     0.31832,     0.31932,     0.32032,     0.32132,     0.32232,     0.32332,     0.32432,     0.32533,     0.32633,     0.32733,     0.32833,     0.32933,     0.33033,     0.33133,     0.33233,     0.33333,     0.33433,     0.33534,\n",
       "           0.33634,     0.33734,     0.33834,     0.33934,     0.34034,     0.34134,     0.34234,     0.34334,     0.34434,     0.34535,     0.34635,     0.34735,     0.34835,     0.34935,     0.35035,     0.35135,     0.35235,     0.35335,     0.35435,     0.35536,     0.35636,     0.35736,     0.35836,     0.35936,\n",
       "           0.36036,     0.36136,     0.36236,     0.36336,     0.36436,     0.36537,     0.36637,     0.36737,     0.36837,     0.36937,     0.37037,     0.37137,     0.37237,     0.37337,     0.37437,     0.37538,     0.37638,     0.37738,     0.37838,     0.37938,     0.38038,     0.38138,     0.38238,     0.38338,\n",
       "           0.38438,     0.38539,     0.38639,     0.38739,     0.38839,     0.38939,     0.39039,     0.39139,     0.39239,     0.39339,     0.39439,      0.3954,      0.3964,      0.3974,      0.3984,      0.3994,      0.4004,      0.4014,      0.4024,      0.4034,      0.4044,     0.40541,     0.40641,     0.40741,\n",
       "           0.40841,     0.40941,     0.41041,     0.41141,     0.41241,     0.41341,     0.41441,     0.41542,     0.41642,     0.41742,     0.41842,     0.41942,     0.42042,     0.42142,     0.42242,     0.42342,     0.42442,     0.42543,     0.42643,     0.42743,     0.42843,     0.42943,     0.43043,     0.43143,\n",
       "           0.43243,     0.43343,     0.43443,     0.43544,     0.43644,     0.43744,     0.43844,     0.43944,     0.44044,     0.44144,     0.44244,     0.44344,     0.44444,     0.44545,     0.44645,     0.44745,     0.44845,     0.44945,     0.45045,     0.45145,     0.45245,     0.45345,     0.45445,     0.45546,\n",
       "           0.45646,     0.45746,     0.45846,     0.45946,     0.46046,     0.46146,     0.46246,     0.46346,     0.46446,     0.46547,     0.46647,     0.46747,     0.46847,     0.46947,     0.47047,     0.47147,     0.47247,     0.47347,     0.47447,     0.47548,     0.47648,     0.47748,     0.47848,     0.47948,\n",
       "           0.48048,     0.48148,     0.48248,     0.48348,     0.48448,     0.48549,     0.48649,     0.48749,     0.48849,     0.48949,     0.49049,     0.49149,     0.49249,     0.49349,     0.49449,      0.4955,      0.4965,      0.4975,      0.4985,      0.4995,      0.5005,      0.5015,      0.5025,      0.5035,\n",
       "            0.5045,     0.50551,     0.50651,     0.50751,     0.50851,     0.50951,     0.51051,     0.51151,     0.51251,     0.51351,     0.51451,     0.51552,     0.51652,     0.51752,     0.51852,     0.51952,     0.52052,     0.52152,     0.52252,     0.52352,     0.52452,     0.52553,     0.52653,     0.52753,\n",
       "           0.52853,     0.52953,     0.53053,     0.53153,     0.53253,     0.53353,     0.53453,     0.53554,     0.53654,     0.53754,     0.53854,     0.53954,     0.54054,     0.54154,     0.54254,     0.54354,     0.54454,     0.54555,     0.54655,     0.54755,     0.54855,     0.54955,     0.55055,     0.55155,\n",
       "           0.55255,     0.55355,     0.55455,     0.55556,     0.55656,     0.55756,     0.55856,     0.55956,     0.56056,     0.56156,     0.56256,     0.56356,     0.56456,     0.56557,     0.56657,     0.56757,     0.56857,     0.56957,     0.57057,     0.57157,     0.57257,     0.57357,     0.57457,     0.57558,\n",
       "           0.57658,     0.57758,     0.57858,     0.57958,     0.58058,     0.58158,     0.58258,     0.58358,     0.58458,     0.58559,     0.58659,     0.58759,     0.58859,     0.58959,     0.59059,     0.59159,     0.59259,     0.59359,     0.59459,      0.5956,      0.5966,      0.5976,      0.5986,      0.5996,\n",
       "            0.6006,      0.6016,      0.6026,      0.6036,      0.6046,     0.60561,     0.60661,     0.60761,     0.60861,     0.60961,     0.61061,     0.61161,     0.61261,     0.61361,     0.61461,     0.61562,     0.61662,     0.61762,     0.61862,     0.61962,     0.62062,     0.62162,     0.62262,     0.62362,\n",
       "           0.62462,     0.62563,     0.62663,     0.62763,     0.62863,     0.62963,     0.63063,     0.63163,     0.63263,     0.63363,     0.63463,     0.63564,     0.63664,     0.63764,     0.63864,     0.63964,     0.64064,     0.64164,     0.64264,     0.64364,     0.64464,     0.64565,     0.64665,     0.64765,\n",
       "           0.64865,     0.64965,     0.65065,     0.65165,     0.65265,     0.65365,     0.65465,     0.65566,     0.65666,     0.65766,     0.65866,     0.65966,     0.66066,     0.66166,     0.66266,     0.66366,     0.66466,     0.66567,     0.66667,     0.66767,     0.66867,     0.66967,     0.67067,     0.67167,\n",
       "           0.67267,     0.67367,     0.67467,     0.67568,     0.67668,     0.67768,     0.67868,     0.67968,     0.68068,     0.68168,     0.68268,     0.68368,     0.68468,     0.68569,     0.68669,     0.68769,     0.68869,     0.68969,     0.69069,     0.69169,     0.69269,     0.69369,     0.69469,      0.6957,\n",
       "            0.6967,      0.6977,      0.6987,      0.6997,      0.7007,      0.7017,      0.7027,      0.7037,      0.7047,     0.70571,     0.70671,     0.70771,     0.70871,     0.70971,     0.71071,     0.71171,     0.71271,     0.71371,     0.71471,     0.71572,     0.71672,     0.71772,     0.71872,     0.71972,\n",
       "           0.72072,     0.72172,     0.72272,     0.72372,     0.72472,     0.72573,     0.72673,     0.72773,     0.72873,     0.72973,     0.73073,     0.73173,     0.73273,     0.73373,     0.73473,     0.73574,     0.73674,     0.73774,     0.73874,     0.73974,     0.74074,     0.74174,     0.74274,     0.74374,\n",
       "           0.74474,     0.74575,     0.74675,     0.74775,     0.74875,     0.74975,     0.75075,     0.75175,     0.75275,     0.75375,     0.75475,     0.75576,     0.75676,     0.75776,     0.75876,     0.75976,     0.76076,     0.76176,     0.76276,     0.76376,     0.76476,     0.76577,     0.76677,     0.76777,\n",
       "           0.76877,     0.76977,     0.77077,     0.77177,     0.77277,     0.77377,     0.77477,     0.77578,     0.77678,     0.77778,     0.77878,     0.77978,     0.78078,     0.78178,     0.78278,     0.78378,     0.78478,     0.78579,     0.78679,     0.78779,     0.78879,     0.78979,     0.79079,     0.79179,\n",
       "           0.79279,     0.79379,     0.79479,      0.7958,      0.7968,      0.7978,      0.7988,      0.7998,      0.8008,      0.8018,      0.8028,      0.8038,      0.8048,     0.80581,     0.80681,     0.80781,     0.80881,     0.80981,     0.81081,     0.81181,     0.81281,     0.81381,     0.81481,     0.81582,\n",
       "           0.81682,     0.81782,     0.81882,     0.81982,     0.82082,     0.82182,     0.82282,     0.82382,     0.82482,     0.82583,     0.82683,     0.82783,     0.82883,     0.82983,     0.83083,     0.83183,     0.83283,     0.83383,     0.83483,     0.83584,     0.83684,     0.83784,     0.83884,     0.83984,\n",
       "           0.84084,     0.84184,     0.84284,     0.84384,     0.84484,     0.84585,     0.84685,     0.84785,     0.84885,     0.84985,     0.85085,     0.85185,     0.85285,     0.85385,     0.85485,     0.85586,     0.85686,     0.85786,     0.85886,     0.85986,     0.86086,     0.86186,     0.86286,     0.86386,\n",
       "           0.86486,     0.86587,     0.86687,     0.86787,     0.86887,     0.86987,     0.87087,     0.87187,     0.87287,     0.87387,     0.87487,     0.87588,     0.87688,     0.87788,     0.87888,     0.87988,     0.88088,     0.88188,     0.88288,     0.88388,     0.88488,     0.88589,     0.88689,     0.88789,\n",
       "           0.88889,     0.88989,     0.89089,     0.89189,     0.89289,     0.89389,     0.89489,      0.8959,      0.8969,      0.8979,      0.8989,      0.8999,      0.9009,      0.9019,      0.9029,      0.9039,      0.9049,     0.90591,     0.90691,     0.90791,     0.90891,     0.90991,     0.91091,     0.91191,\n",
       "           0.91291,     0.91391,     0.91491,     0.91592,     0.91692,     0.91792,     0.91892,     0.91992,     0.92092,     0.92192,     0.92292,     0.92392,     0.92492,     0.92593,     0.92693,     0.92793,     0.92893,     0.92993,     0.93093,     0.93193,     0.93293,     0.93393,     0.93493,     0.93594,\n",
       "           0.93694,     0.93794,     0.93894,     0.93994,     0.94094,     0.94194,     0.94294,     0.94394,     0.94494,     0.94595,     0.94695,     0.94795,     0.94895,     0.94995,     0.95095,     0.95195,     0.95295,     0.95395,     0.95495,     0.95596,     0.95696,     0.95796,     0.95896,     0.95996,\n",
       "           0.96096,     0.96196,     0.96296,     0.96396,     0.96496,     0.96597,     0.96697,     0.96797,     0.96897,     0.96997,     0.97097,     0.97197,     0.97297,     0.97397,     0.97497,     0.97598,     0.97698,     0.97798,     0.97898,     0.97998,     0.98098,     0.98198,     0.98298,     0.98398,\n",
       "           0.98498,     0.98599,     0.98699,     0.98799,     0.98899,     0.98999,     0.99099,     0.99199,     0.99299,     0.99399,     0.99499,       0.996,       0.997,       0.998,       0.999,           1]), array([[          1,           1,           1,           1,           1,           1,           1,           1,           1,           1,           1,           1,     0.99944,     0.99944,     0.99944,     0.99944,     0.99944,     0.99944,     0.99944,     0.99944,     0.99944,     0.99944,     0.99944,\n",
       "            0.99944,     0.99944,     0.99889,     0.99861,     0.99861,     0.99861,     0.99861,     0.99835,     0.99835,     0.99835,     0.99835,     0.99835,     0.99835,     0.99835,     0.99835,     0.99835,     0.99835,     0.99835,     0.99835,     0.99835,     0.99835,     0.99835,     0.99835,\n",
       "            0.99835,     0.99835,     0.99835,     0.99835,     0.99835,     0.99831,     0.99831,     0.99831,     0.99831,     0.99831,     0.99831,     0.99831,     0.99831,     0.99831,     0.99831,     0.99831,     0.99831,     0.99831,     0.99831,     0.99831,     0.99831,     0.99831,     0.99831,\n",
       "            0.99831,     0.99831,     0.99831,     0.99831,     0.99831,     0.99797,     0.99781,     0.99755,     0.99755,     0.99755,     0.99749,     0.99749,     0.99749,     0.99749,     0.99749,     0.99749,     0.99749,     0.99749,     0.99749,     0.99749,     0.99749,     0.99749,     0.99749,\n",
       "            0.99749,     0.99749,     0.99749,     0.99749,     0.99749,     0.99749,     0.99749,     0.99749,     0.99749,     0.99749,     0.99749,     0.99749,     0.99749,     0.99749,     0.99749,     0.99749,     0.99749,     0.99749,     0.99749,     0.99749,     0.99749,     0.99749,     0.99749,\n",
       "            0.99749,     0.99743,     0.99743,     0.99743,     0.99728,     0.99728,     0.99728,     0.99728,     0.99666,     0.99664,     0.99664,     0.99664,     0.99664,     0.99664,     0.99664,     0.99664,     0.99664,     0.99647,     0.99647,     0.99645,     0.99645,     0.99645,     0.99627,\n",
       "            0.99621,     0.99615,     0.99615,     0.99615,     0.99615,     0.99615,     0.99599,     0.99586,     0.99586,     0.99579,     0.99563,     0.99529,     0.99514,     0.99506,     0.99506,     0.99506,     0.99491,     0.99486,     0.99479,     0.99466,     0.99435,     0.99431,     0.99425,\n",
       "            0.99415,     0.99415,     0.99401,      0.9939,     0.99388,     0.99388,     0.99374,     0.99338,     0.99311,      0.9931,      0.9931,     0.99297,     0.99295,     0.99289,     0.99271,     0.99262,     0.99262,     0.99244,     0.99226,     0.99217,     0.99217,     0.99217,     0.99214,\n",
       "            0.99211,     0.99191,     0.99181,     0.99157,     0.99146,     0.99114,      0.9909,     0.99083,     0.99064,     0.99048,     0.99046,     0.99038,     0.99014,     0.98999,     0.98983,     0.98983,     0.98966,     0.98936,     0.98916,     0.98894,     0.98879,     0.98853,     0.98853,\n",
       "            0.98839,     0.98822,     0.98822,     0.98813,     0.98807,     0.98793,     0.98763,     0.98748,     0.98741,     0.98738,     0.98735,     0.98724,     0.98708,     0.98695,     0.98677,     0.98677,     0.98653,      0.9863,     0.98616,     0.98616,       0.986,     0.98576,     0.98565,\n",
       "            0.98558,     0.98554,      0.9853,     0.98522,     0.98508,     0.98468,     0.98453,     0.98447,     0.98444,     0.98443,     0.98433,     0.98416,     0.98401,      0.9837,     0.98348,     0.98306,     0.98274,     0.98239,     0.98229,     0.98198,     0.98185,     0.98154,     0.98129,\n",
       "             0.9811,     0.98075,     0.98051,     0.98022,     0.98006,     0.97994,     0.97978,     0.97944,     0.97919,     0.97909,     0.97873,     0.97865,     0.97834,     0.97808,     0.97807,     0.97782,     0.97765,     0.97741,     0.97734,     0.97716,     0.97686,     0.97659,     0.97644,\n",
       "            0.97611,     0.97604,     0.97585,     0.97573,     0.97554,     0.97533,      0.9753,     0.97514,     0.97495,     0.97462,     0.97432,     0.97431,     0.97415,     0.97396,     0.97382,     0.97359,     0.97355,     0.97333,     0.97323,     0.97323,     0.97302,     0.97279,     0.97257,\n",
       "            0.97234,     0.97222,     0.97221,     0.97209,     0.97185,     0.97164,      0.9715,     0.97117,       0.971,     0.97079,     0.97042,     0.96989,     0.96969,     0.96958,     0.96926,     0.96924,     0.96913,     0.96905,     0.96879,     0.96853,     0.96826,     0.96805,     0.96789,\n",
       "            0.96747,     0.96733,     0.96718,     0.96704,     0.96682,     0.96664,     0.96653,     0.96646,     0.96641,     0.96636,     0.96595,     0.96568,     0.96565,     0.96546,     0.96544,     0.96537,     0.96525,     0.96493,     0.96445,     0.96438,     0.96427,     0.96393,      0.9638,\n",
       "            0.96375,     0.96362,     0.96336,     0.96317,     0.96289,     0.96289,     0.96267,     0.96231,     0.96203,     0.96171,     0.96137,      0.9612,     0.96112,     0.96103,     0.96073,     0.96064,      0.9604,     0.96026,     0.96021,     0.95997,     0.95972,     0.95955,     0.95951,\n",
       "            0.95942,     0.95919,     0.95887,     0.95868,      0.9585,     0.95833,      0.9581,     0.95804,     0.95791,     0.95765,     0.95725,     0.95699,     0.95679,      0.9566,     0.95647,     0.95643,      0.9564,     0.95622,     0.95593,     0.95583,     0.95569,     0.95545,      0.9552,\n",
       "            0.95514,     0.95492,      0.9546,     0.95437,     0.95423,     0.95408,     0.95385,     0.95378,      0.9536,     0.95346,     0.95313,     0.95307,     0.95263,     0.95234,     0.95223,     0.95212,     0.95192,     0.95183,     0.95149,     0.95143,     0.95091,     0.95068,     0.95054,\n",
       "            0.95044,     0.95021,     0.95009,     0.94968,     0.94944,     0.94914,     0.94896,     0.94884,     0.94865,     0.94853,     0.94836,     0.94818,     0.94791,     0.94781,     0.94777,     0.94763,     0.94751,     0.94733,     0.94717,     0.94691,     0.94688,     0.94666,     0.94652,\n",
       "            0.94635,     0.94626,      0.9459,     0.94573,     0.94569,      0.9454,     0.94517,       0.945,     0.94486,     0.94463,     0.94435,     0.94405,     0.94376,     0.94363,     0.94339,     0.94312,     0.94295,     0.94282,     0.94248,     0.94238,      0.9421,     0.94194,      0.9418,\n",
       "            0.94143,     0.94123,     0.94091,      0.9403,     0.94018,     0.94015,     0.93993,     0.93975,     0.93967,      0.9392,     0.93885,     0.93846,     0.93825,     0.93814,     0.93788,     0.93764,     0.93743,     0.93709,     0.93678,     0.93659,     0.93657,      0.9365,     0.93645,\n",
       "            0.93614,     0.93594,     0.93578,     0.93559,     0.93532,     0.93526,     0.93506,     0.93474,     0.93459,     0.93448,     0.93403,     0.93374,     0.93345,      0.9332,     0.93309,     0.93293,      0.9326,     0.93226,     0.93203,     0.93177,     0.93154,     0.93131,      0.9312,\n",
       "            0.93079,     0.93059,     0.93021,     0.93007,     0.92974,     0.92955,     0.92947,     0.92916,     0.92891,     0.92857,      0.9284,     0.92817,     0.92788,     0.92766,     0.92738,     0.92709,     0.92664,     0.92646,     0.92609,     0.92567,     0.92537,     0.92509,     0.92474,\n",
       "            0.92431,     0.92409,     0.92396,     0.92371,     0.92328,     0.92308,     0.92292,     0.92253,      0.9224,     0.92205,     0.92185,     0.92139,     0.92115,     0.92086,     0.92026,     0.91996,     0.91978,     0.91969,      0.9196,     0.91944,     0.91936,      0.9191,     0.91884,\n",
       "            0.91869,     0.91837,     0.91809,     0.91772,     0.91756,     0.91721,     0.91701,     0.91675,      0.9164,     0.91624,     0.91596,     0.91574,     0.91532,     0.91501,     0.91489,     0.91441,     0.91393,      0.9135,     0.91324,     0.91275,     0.91232,     0.91199,     0.91143,\n",
       "            0.91106,     0.91069,     0.91024,     0.90991,     0.90929,     0.90892,     0.90856,     0.90827,     0.90776,     0.90759,     0.90713,     0.90673,     0.90624,     0.90583,     0.90546,     0.90497,     0.90455,     0.90417,     0.90386,      0.9032,     0.90279,     0.90234,     0.90206,\n",
       "            0.90143,     0.90096,     0.90065,     0.90019,     0.89972,     0.89932,     0.89893,     0.89852,     0.89799,     0.89755,     0.89732,     0.89697,     0.89651,     0.89593,      0.8953,      0.8946,     0.89403,     0.89353,     0.89291,     0.89251,     0.89208,     0.89159,     0.89113,\n",
       "             0.8908,     0.89015,     0.88941,     0.88888,     0.88835,     0.88763,     0.88712,     0.88664,     0.88603,     0.88537,      0.8846,     0.88406,     0.88331,     0.88271,     0.88204,     0.88121,     0.88057,     0.87985,     0.87918,     0.87835,     0.87762,     0.87693,       0.876,\n",
       "            0.87523,     0.87436,     0.87365,     0.87291,       0.872,     0.87111,     0.87063,     0.86961,     0.86889,     0.86806,     0.86718,     0.86618,      0.8652,     0.86435,     0.86354,     0.86261,     0.86183,      0.8608,     0.85981,     0.85861,     0.85784,     0.85705,     0.85616,\n",
       "            0.85534,     0.85409,     0.85276,     0.85178,     0.85065,     0.84971,     0.84859,     0.84747,      0.8465,     0.84588,     0.84447,     0.84327,     0.84198,     0.84088,     0.83942,     0.83805,     0.83667,     0.83541,     0.83386,     0.83257,     0.83133,     0.83031,     0.82891,\n",
       "            0.82737,     0.82598,      0.8244,     0.82325,     0.82113,     0.81963,     0.81815,     0.81691,     0.81546,     0.81394,     0.81243,     0.81076,       0.809,     0.80758,     0.80596,     0.80413,     0.80259,     0.80017,     0.79824,     0.79624,     0.79458,     0.79281,     0.79079,\n",
       "            0.78919,     0.78722,      0.7851,     0.78301,     0.78055,     0.77847,     0.77614,     0.77375,     0.77149,     0.76919,      0.7675,     0.76489,     0.76294,     0.76016,     0.75749,      0.7556,     0.75301,     0.75065,     0.74866,     0.74653,     0.74417,     0.74174,      0.7386,\n",
       "            0.73597,     0.73362,     0.73068,     0.72745,     0.72413,     0.72101,     0.71767,     0.71481,     0.71133,     0.70814,     0.70484,     0.70184,     0.69866,     0.69669,     0.69384,     0.69024,     0.68689,     0.68294,     0.67853,     0.67511,     0.67063,     0.66608,     0.66309,\n",
       "            0.65897,      0.6538,     0.64947,     0.64459,     0.63978,     0.63534,     0.63016,     0.62454,      0.6201,     0.61555,      0.6106,     0.60485,      0.5984,     0.59231,     0.58732,      0.5824,     0.57712,     0.57249,     0.56633,     0.56072,     0.55493,     0.54964,     0.54522,\n",
       "            0.53927,      0.5331,     0.52677,     0.52117,     0.51554,     0.51041,     0.50451,     0.49915,     0.49367,     0.48829,     0.47928,     0.47194,     0.46555,     0.45959,     0.45404,     0.44816,     0.44279,     0.43657,     0.43097,      0.4255,     0.41941,     0.41367,     0.40821,\n",
       "            0.40202,      0.3962,     0.39043,     0.38476,      0.3801,     0.37377,     0.36712,     0.36132,       0.355,     0.34785,      0.3418,     0.33599,     0.32938,     0.32332,     0.31863,     0.31206,     0.30655,     0.30103,     0.29448,     0.28941,     0.28327,     0.27729,     0.27038,\n",
       "            0.26344,      0.2584,     0.25278,     0.24549,     0.24016,     0.23392,     0.22852,      0.2228,     0.21622,     0.21093,     0.20525,      0.1993,     0.19324,     0.18582,     0.17988,     0.17167,     0.16476,     0.15602,     0.14986,     0.14237,     0.13484,     0.12467,     0.11631,\n",
       "             0.1072,     0.10561,      0.1049,     0.10418,     0.10346,     0.10274,     0.10202,      0.1013,     0.10059,    0.099867,    0.099149,     0.09843,    0.097712,    0.096993,    0.096275,    0.095556,    0.094838,    0.094119,    0.093401,    0.092682,    0.091964,    0.091246,    0.090527,\n",
       "           0.089809,     0.08909,    0.088372,    0.087653,    0.086935,    0.086216,    0.085498,    0.084779,    0.084061,    0.083342,    0.082624,    0.081905,    0.081187,    0.080469,     0.07975,    0.079032,    0.078313,    0.077595,    0.076876,    0.076158,    0.075439,    0.074721,    0.074002,\n",
       "           0.073284,    0.072565,    0.071847,    0.071128,     0.07041,    0.069691,    0.068973,    0.068255,    0.067536,    0.066818,    0.066099,    0.065381,    0.064662,    0.063944,    0.063225,    0.062507,    0.061788,     0.06107,    0.060351,    0.059633,    0.058914,    0.058196,    0.057478,\n",
       "           0.056759,    0.056041,    0.055322,    0.054604,    0.053885,    0.053167,    0.052448,     0.05173,    0.051011,    0.050293,    0.049574,    0.048856,    0.048137,    0.047419,      0.0467,    0.045982,    0.045264,    0.044545,    0.043827,    0.043108,     0.04239,    0.041671,    0.040953,\n",
       "           0.040234,    0.039516,    0.038797,    0.038079,     0.03736,    0.036642,    0.035923,    0.035205,    0.034487,    0.033768,     0.03305,    0.032331,    0.031613,    0.030894,    0.030176,    0.029457,    0.028739,     0.02802,    0.027302,    0.026583,    0.025865,    0.025146,    0.024428,\n",
       "           0.023709,    0.022991,    0.022273,    0.021554,    0.020836,    0.020117,    0.019399,     0.01868,    0.017962,    0.017243,    0.016525,    0.015806,    0.015088,    0.014369,    0.013651,    0.012932,    0.012214,    0.011496,    0.010777,    0.010059,   0.0093401,   0.0086216,   0.0079032,\n",
       "          0.0071847,   0.0064662,   0.0057478,   0.0050293,   0.0043108,   0.0035923,   0.0028739,   0.0021554,   0.0014369,  0.00071847,           0]]), 'Recall', 'Precision'], [array([          0,    0.001001,    0.002002,    0.003003,    0.004004,    0.005005,    0.006006,    0.007007,    0.008008,    0.009009,     0.01001,    0.011011,    0.012012,    0.013013,    0.014014,    0.015015,    0.016016,    0.017017,    0.018018,    0.019019,     0.02002,    0.021021,    0.022022,    0.023023,\n",
       "          0.024024,    0.025025,    0.026026,    0.027027,    0.028028,    0.029029,     0.03003,    0.031031,    0.032032,    0.033033,    0.034034,    0.035035,    0.036036,    0.037037,    0.038038,    0.039039,     0.04004,    0.041041,    0.042042,    0.043043,    0.044044,    0.045045,    0.046046,    0.047047,\n",
       "          0.048048,    0.049049,     0.05005,    0.051051,    0.052052,    0.053053,    0.054054,    0.055055,    0.056056,    0.057057,    0.058058,    0.059059,     0.06006,    0.061061,    0.062062,    0.063063,    0.064064,    0.065065,    0.066066,    0.067067,    0.068068,    0.069069,     0.07007,    0.071071,\n",
       "          0.072072,    0.073073,    0.074074,    0.075075,    0.076076,    0.077077,    0.078078,    0.079079,     0.08008,    0.081081,    0.082082,    0.083083,    0.084084,    0.085085,    0.086086,    0.087087,    0.088088,    0.089089,     0.09009,    0.091091,    0.092092,    0.093093,    0.094094,    0.095095,\n",
       "          0.096096,    0.097097,    0.098098,    0.099099,      0.1001,      0.1011,      0.1021,      0.1031,      0.1041,     0.10511,     0.10611,     0.10711,     0.10811,     0.10911,     0.11011,     0.11111,     0.11211,     0.11311,     0.11411,     0.11512,     0.11612,     0.11712,     0.11812,     0.11912,\n",
       "           0.12012,     0.12112,     0.12212,     0.12312,     0.12412,     0.12513,     0.12613,     0.12713,     0.12813,     0.12913,     0.13013,     0.13113,     0.13213,     0.13313,     0.13413,     0.13514,     0.13614,     0.13714,     0.13814,     0.13914,     0.14014,     0.14114,     0.14214,     0.14314,\n",
       "           0.14414,     0.14515,     0.14615,     0.14715,     0.14815,     0.14915,     0.15015,     0.15115,     0.15215,     0.15315,     0.15415,     0.15516,     0.15616,     0.15716,     0.15816,     0.15916,     0.16016,     0.16116,     0.16216,     0.16316,     0.16416,     0.16517,     0.16617,     0.16717,\n",
       "           0.16817,     0.16917,     0.17017,     0.17117,     0.17217,     0.17317,     0.17417,     0.17518,     0.17618,     0.17718,     0.17818,     0.17918,     0.18018,     0.18118,     0.18218,     0.18318,     0.18418,     0.18519,     0.18619,     0.18719,     0.18819,     0.18919,     0.19019,     0.19119,\n",
       "           0.19219,     0.19319,     0.19419,      0.1952,      0.1962,      0.1972,      0.1982,      0.1992,      0.2002,      0.2012,      0.2022,      0.2032,      0.2042,     0.20521,     0.20621,     0.20721,     0.20821,     0.20921,     0.21021,     0.21121,     0.21221,     0.21321,     0.21421,     0.21522,\n",
       "           0.21622,     0.21722,     0.21822,     0.21922,     0.22022,     0.22122,     0.22222,     0.22322,     0.22422,     0.22523,     0.22623,     0.22723,     0.22823,     0.22923,     0.23023,     0.23123,     0.23223,     0.23323,     0.23423,     0.23524,     0.23624,     0.23724,     0.23824,     0.23924,\n",
       "           0.24024,     0.24124,     0.24224,     0.24324,     0.24424,     0.24525,     0.24625,     0.24725,     0.24825,     0.24925,     0.25025,     0.25125,     0.25225,     0.25325,     0.25425,     0.25526,     0.25626,     0.25726,     0.25826,     0.25926,     0.26026,     0.26126,     0.26226,     0.26326,\n",
       "           0.26426,     0.26527,     0.26627,     0.26727,     0.26827,     0.26927,     0.27027,     0.27127,     0.27227,     0.27327,     0.27427,     0.27528,     0.27628,     0.27728,     0.27828,     0.27928,     0.28028,     0.28128,     0.28228,     0.28328,     0.28428,     0.28529,     0.28629,     0.28729,\n",
       "           0.28829,     0.28929,     0.29029,     0.29129,     0.29229,     0.29329,     0.29429,      0.2953,      0.2963,      0.2973,      0.2983,      0.2993,      0.3003,      0.3013,      0.3023,      0.3033,      0.3043,     0.30531,     0.30631,     0.30731,     0.30831,     0.30931,     0.31031,     0.31131,\n",
       "           0.31231,     0.31331,     0.31431,     0.31532,     0.31632,     0.31732,     0.31832,     0.31932,     0.32032,     0.32132,     0.32232,     0.32332,     0.32432,     0.32533,     0.32633,     0.32733,     0.32833,     0.32933,     0.33033,     0.33133,     0.33233,     0.33333,     0.33433,     0.33534,\n",
       "           0.33634,     0.33734,     0.33834,     0.33934,     0.34034,     0.34134,     0.34234,     0.34334,     0.34434,     0.34535,     0.34635,     0.34735,     0.34835,     0.34935,     0.35035,     0.35135,     0.35235,     0.35335,     0.35435,     0.35536,     0.35636,     0.35736,     0.35836,     0.35936,\n",
       "           0.36036,     0.36136,     0.36236,     0.36336,     0.36436,     0.36537,     0.36637,     0.36737,     0.36837,     0.36937,     0.37037,     0.37137,     0.37237,     0.37337,     0.37437,     0.37538,     0.37638,     0.37738,     0.37838,     0.37938,     0.38038,     0.38138,     0.38238,     0.38338,\n",
       "           0.38438,     0.38539,     0.38639,     0.38739,     0.38839,     0.38939,     0.39039,     0.39139,     0.39239,     0.39339,     0.39439,      0.3954,      0.3964,      0.3974,      0.3984,      0.3994,      0.4004,      0.4014,      0.4024,      0.4034,      0.4044,     0.40541,     0.40641,     0.40741,\n",
       "           0.40841,     0.40941,     0.41041,     0.41141,     0.41241,     0.41341,     0.41441,     0.41542,     0.41642,     0.41742,     0.41842,     0.41942,     0.42042,     0.42142,     0.42242,     0.42342,     0.42442,     0.42543,     0.42643,     0.42743,     0.42843,     0.42943,     0.43043,     0.43143,\n",
       "           0.43243,     0.43343,     0.43443,     0.43544,     0.43644,     0.43744,     0.43844,     0.43944,     0.44044,     0.44144,     0.44244,     0.44344,     0.44444,     0.44545,     0.44645,     0.44745,     0.44845,     0.44945,     0.45045,     0.45145,     0.45245,     0.45345,     0.45445,     0.45546,\n",
       "           0.45646,     0.45746,     0.45846,     0.45946,     0.46046,     0.46146,     0.46246,     0.46346,     0.46446,     0.46547,     0.46647,     0.46747,     0.46847,     0.46947,     0.47047,     0.47147,     0.47247,     0.47347,     0.47447,     0.47548,     0.47648,     0.47748,     0.47848,     0.47948,\n",
       "           0.48048,     0.48148,     0.48248,     0.48348,     0.48448,     0.48549,     0.48649,     0.48749,     0.48849,     0.48949,     0.49049,     0.49149,     0.49249,     0.49349,     0.49449,      0.4955,      0.4965,      0.4975,      0.4985,      0.4995,      0.5005,      0.5015,      0.5025,      0.5035,\n",
       "            0.5045,     0.50551,     0.50651,     0.50751,     0.50851,     0.50951,     0.51051,     0.51151,     0.51251,     0.51351,     0.51451,     0.51552,     0.51652,     0.51752,     0.51852,     0.51952,     0.52052,     0.52152,     0.52252,     0.52352,     0.52452,     0.52553,     0.52653,     0.52753,\n",
       "           0.52853,     0.52953,     0.53053,     0.53153,     0.53253,     0.53353,     0.53453,     0.53554,     0.53654,     0.53754,     0.53854,     0.53954,     0.54054,     0.54154,     0.54254,     0.54354,     0.54454,     0.54555,     0.54655,     0.54755,     0.54855,     0.54955,     0.55055,     0.55155,\n",
       "           0.55255,     0.55355,     0.55455,     0.55556,     0.55656,     0.55756,     0.55856,     0.55956,     0.56056,     0.56156,     0.56256,     0.56356,     0.56456,     0.56557,     0.56657,     0.56757,     0.56857,     0.56957,     0.57057,     0.57157,     0.57257,     0.57357,     0.57457,     0.57558,\n",
       "           0.57658,     0.57758,     0.57858,     0.57958,     0.58058,     0.58158,     0.58258,     0.58358,     0.58458,     0.58559,     0.58659,     0.58759,     0.58859,     0.58959,     0.59059,     0.59159,     0.59259,     0.59359,     0.59459,      0.5956,      0.5966,      0.5976,      0.5986,      0.5996,\n",
       "            0.6006,      0.6016,      0.6026,      0.6036,      0.6046,     0.60561,     0.60661,     0.60761,     0.60861,     0.60961,     0.61061,     0.61161,     0.61261,     0.61361,     0.61461,     0.61562,     0.61662,     0.61762,     0.61862,     0.61962,     0.62062,     0.62162,     0.62262,     0.62362,\n",
       "           0.62462,     0.62563,     0.62663,     0.62763,     0.62863,     0.62963,     0.63063,     0.63163,     0.63263,     0.63363,     0.63463,     0.63564,     0.63664,     0.63764,     0.63864,     0.63964,     0.64064,     0.64164,     0.64264,     0.64364,     0.64464,     0.64565,     0.64665,     0.64765,\n",
       "           0.64865,     0.64965,     0.65065,     0.65165,     0.65265,     0.65365,     0.65465,     0.65566,     0.65666,     0.65766,     0.65866,     0.65966,     0.66066,     0.66166,     0.66266,     0.66366,     0.66466,     0.66567,     0.66667,     0.66767,     0.66867,     0.66967,     0.67067,     0.67167,\n",
       "           0.67267,     0.67367,     0.67467,     0.67568,     0.67668,     0.67768,     0.67868,     0.67968,     0.68068,     0.68168,     0.68268,     0.68368,     0.68468,     0.68569,     0.68669,     0.68769,     0.68869,     0.68969,     0.69069,     0.69169,     0.69269,     0.69369,     0.69469,      0.6957,\n",
       "            0.6967,      0.6977,      0.6987,      0.6997,      0.7007,      0.7017,      0.7027,      0.7037,      0.7047,     0.70571,     0.70671,     0.70771,     0.70871,     0.70971,     0.71071,     0.71171,     0.71271,     0.71371,     0.71471,     0.71572,     0.71672,     0.71772,     0.71872,     0.71972,\n",
       "           0.72072,     0.72172,     0.72272,     0.72372,     0.72472,     0.72573,     0.72673,     0.72773,     0.72873,     0.72973,     0.73073,     0.73173,     0.73273,     0.73373,     0.73473,     0.73574,     0.73674,     0.73774,     0.73874,     0.73974,     0.74074,     0.74174,     0.74274,     0.74374,\n",
       "           0.74474,     0.74575,     0.74675,     0.74775,     0.74875,     0.74975,     0.75075,     0.75175,     0.75275,     0.75375,     0.75475,     0.75576,     0.75676,     0.75776,     0.75876,     0.75976,     0.76076,     0.76176,     0.76276,     0.76376,     0.76476,     0.76577,     0.76677,     0.76777,\n",
       "           0.76877,     0.76977,     0.77077,     0.77177,     0.77277,     0.77377,     0.77477,     0.77578,     0.77678,     0.77778,     0.77878,     0.77978,     0.78078,     0.78178,     0.78278,     0.78378,     0.78478,     0.78579,     0.78679,     0.78779,     0.78879,     0.78979,     0.79079,     0.79179,\n",
       "           0.79279,     0.79379,     0.79479,      0.7958,      0.7968,      0.7978,      0.7988,      0.7998,      0.8008,      0.8018,      0.8028,      0.8038,      0.8048,     0.80581,     0.80681,     0.80781,     0.80881,     0.80981,     0.81081,     0.81181,     0.81281,     0.81381,     0.81481,     0.81582,\n",
       "           0.81682,     0.81782,     0.81882,     0.81982,     0.82082,     0.82182,     0.82282,     0.82382,     0.82482,     0.82583,     0.82683,     0.82783,     0.82883,     0.82983,     0.83083,     0.83183,     0.83283,     0.83383,     0.83483,     0.83584,     0.83684,     0.83784,     0.83884,     0.83984,\n",
       "           0.84084,     0.84184,     0.84284,     0.84384,     0.84484,     0.84585,     0.84685,     0.84785,     0.84885,     0.84985,     0.85085,     0.85185,     0.85285,     0.85385,     0.85485,     0.85586,     0.85686,     0.85786,     0.85886,     0.85986,     0.86086,     0.86186,     0.86286,     0.86386,\n",
       "           0.86486,     0.86587,     0.86687,     0.86787,     0.86887,     0.86987,     0.87087,     0.87187,     0.87287,     0.87387,     0.87487,     0.87588,     0.87688,     0.87788,     0.87888,     0.87988,     0.88088,     0.88188,     0.88288,     0.88388,     0.88488,     0.88589,     0.88689,     0.88789,\n",
       "           0.88889,     0.88989,     0.89089,     0.89189,     0.89289,     0.89389,     0.89489,      0.8959,      0.8969,      0.8979,      0.8989,      0.8999,      0.9009,      0.9019,      0.9029,      0.9039,      0.9049,     0.90591,     0.90691,     0.90791,     0.90891,     0.90991,     0.91091,     0.91191,\n",
       "           0.91291,     0.91391,     0.91491,     0.91592,     0.91692,     0.91792,     0.91892,     0.91992,     0.92092,     0.92192,     0.92292,     0.92392,     0.92492,     0.92593,     0.92693,     0.92793,     0.92893,     0.92993,     0.93093,     0.93193,     0.93293,     0.93393,     0.93493,     0.93594,\n",
       "           0.93694,     0.93794,     0.93894,     0.93994,     0.94094,     0.94194,     0.94294,     0.94394,     0.94494,     0.94595,     0.94695,     0.94795,     0.94895,     0.94995,     0.95095,     0.95195,     0.95295,     0.95395,     0.95495,     0.95596,     0.95696,     0.95796,     0.95896,     0.95996,\n",
       "           0.96096,     0.96196,     0.96296,     0.96396,     0.96496,     0.96597,     0.96697,     0.96797,     0.96897,     0.96997,     0.97097,     0.97197,     0.97297,     0.97397,     0.97497,     0.97598,     0.97698,     0.97798,     0.97898,     0.97998,     0.98098,     0.98198,     0.98298,     0.98398,\n",
       "           0.98498,     0.98599,     0.98699,     0.98799,     0.98899,     0.98999,     0.99099,     0.99199,     0.99299,     0.99399,     0.99499,       0.996,       0.997,       0.998,       0.999,           1]), array([[    0.18902,     0.18902,     0.21513,     0.24122,     0.26447,     0.28519,     0.30402,     0.32055,     0.33646,     0.35051,     0.36438,     0.37693,     0.38904,     0.40015,     0.41173,     0.42238,     0.43212,     0.44222,     0.45187,     0.46155,     0.47071,     0.47927,     0.48757,\n",
       "            0.49588,     0.50405,     0.51164,     0.51936,     0.52649,     0.53344,     0.53989,      0.5464,     0.55303,     0.55875,     0.56476,     0.57041,     0.57549,     0.58048,     0.58548,     0.59063,     0.59518,     0.60016,     0.60473,     0.60881,     0.61322,     0.61704,     0.62074,\n",
       "            0.62432,     0.62754,     0.63113,     0.63467,     0.63764,     0.64064,     0.64389,     0.64655,     0.64931,     0.65192,     0.65462,     0.65682,     0.65946,     0.66173,     0.66373,     0.66588,     0.66775,      0.6698,     0.67177,     0.67366,     0.67552,     0.67721,     0.67943,\n",
       "            0.68108,     0.68273,     0.68428,     0.68546,     0.68698,     0.68857,     0.69008,     0.69128,     0.69282,     0.69429,     0.69526,     0.69648,     0.69769,     0.69874,     0.70007,     0.70115,      0.7025,      0.7034,     0.70447,     0.70551,     0.70625,     0.70753,     0.70818,\n",
       "            0.70895,     0.70976,     0.71069,     0.71145,     0.71236,      0.7132,     0.71387,     0.71446,     0.71537,     0.71616,     0.71694,     0.71772,     0.71822,     0.71879,     0.71947,     0.72017,     0.72074,     0.72138,     0.72191,     0.72231,     0.72268,     0.72307,     0.72365,\n",
       "             0.7242,     0.72468,     0.72503,     0.72565,     0.72617,     0.72678,     0.72721,     0.72759,      0.7282,     0.72864,     0.72914,     0.72959,     0.72984,     0.73046,     0.73072,     0.73123,     0.73158,     0.73214,     0.73243,      0.7328,      0.7333,     0.73385,     0.73427,\n",
       "            0.73456,     0.73486,     0.73519,     0.73558,     0.73581,     0.73611,     0.73637,     0.73676,     0.73707,     0.73746,     0.73783,     0.73805,     0.73829,     0.73857,     0.73889,     0.73906,      0.7393,     0.73958,     0.73979,     0.74003,     0.74015,     0.74031,     0.74056,\n",
       "            0.74076,      0.7409,     0.74127,     0.74147,     0.74173,     0.74197,     0.74201,     0.74221,     0.74237,     0.74262,      0.7429,     0.74308,     0.74318,     0.74344,     0.74372,     0.74402,     0.74409,     0.74427,     0.74451,      0.7447,     0.74485,     0.74497,     0.74506,\n",
       "            0.74515,     0.74535,     0.74564,     0.74582,       0.746,     0.74621,      0.7463,     0.74642,     0.74664,     0.74691,     0.74701,     0.74725,     0.74746,     0.74758,     0.74773,     0.74778,     0.74794,     0.74822,     0.74828,     0.74855,     0.74859,      0.7488,     0.74885,\n",
       "            0.74894,     0.74924,     0.74928,     0.74939,     0.74945,     0.74958,     0.74968,     0.74972,     0.74969,     0.74993,     0.75006,     0.75024,     0.75025,     0.75032,     0.75037,     0.75051,      0.7505,     0.75078,     0.75075,     0.75087,     0.75093,     0.75108,      0.7512,\n",
       "            0.75136,     0.75148,     0.75152,     0.75174,     0.75174,     0.75175,     0.75184,     0.75191,     0.75194,     0.75195,     0.75206,     0.75207,     0.75211,     0.75209,     0.75214,      0.7521,     0.75225,      0.7523,     0.75235,     0.75242,     0.75247,     0.75244,     0.75252,\n",
       "            0.75254,     0.75259,     0.75259,     0.75256,      0.7526,     0.75258,     0.75263,     0.75258,     0.75259,     0.75256,     0.75252,     0.75259,     0.75266,     0.75266,     0.75266,     0.75284,     0.75293,     0.75292,     0.75288,      0.7528,     0.75281,     0.75282,     0.75288,\n",
       "            0.75293,     0.75288,     0.75292,     0.75284,     0.75285,     0.75291,     0.75286,     0.75287,     0.75291,     0.75293,     0.75279,     0.75276,     0.75274,     0.75272,     0.75263,     0.75263,     0.75259,     0.75257,     0.75255,     0.75254,     0.75253,     0.75256,     0.75256,\n",
       "            0.75254,     0.75248,     0.75252,     0.75249,     0.75253,     0.75243,     0.75237,     0.75238,      0.7524,     0.75232,     0.75233,     0.75237,     0.75224,     0.75214,     0.75217,     0.75221,     0.75211,     0.75198,     0.75189,     0.75196,     0.75189,     0.75184,     0.75187,\n",
       "            0.75178,     0.75167,     0.75145,      0.7514,     0.75134,     0.75126,     0.75119,     0.75114,     0.75102,       0.751,     0.75102,      0.7509,     0.75072,     0.75066,     0.75055,     0.75048,     0.75045,     0.75041,     0.75029,     0.75015,     0.75013,     0.75008,      0.7499,\n",
       "            0.74989,     0.74992,     0.74987,     0.74985,     0.74962,     0.74938,     0.74936,     0.74924,     0.74914,     0.74904,     0.74889,     0.74877,     0.74861,     0.74858,     0.74851,     0.74841,      0.7483,     0.74826,     0.74815,     0.74806,       0.748,      0.7479,     0.74786,\n",
       "            0.74764,      0.7475,     0.74729,     0.74716,     0.74701,     0.74689,     0.74677,     0.74664,     0.74653,     0.74645,     0.74638,     0.74625,     0.74612,     0.74605,       0.746,     0.74583,     0.74569,      0.7456,     0.74544,     0.74537,     0.74521,     0.74508,     0.74502,\n",
       "            0.74489,     0.74474,     0.74459,     0.74434,     0.74422,     0.74407,     0.74392,     0.74382,     0.74366,     0.74359,     0.74346,     0.74326,     0.74319,     0.74308,     0.74294,     0.74278,     0.74255,      0.7424,     0.74226,     0.74213,     0.74198,     0.74184,      0.7417,\n",
       "            0.74146,     0.74138,     0.74122,     0.74097,     0.74078,     0.74074,     0.74051,     0.74034,     0.74019,     0.73993,     0.73974,     0.73954,     0.73937,     0.73914,     0.73905,     0.73888,     0.73861,     0.73844,     0.73825,      0.7381,     0.73785,     0.73766,     0.73752,\n",
       "             0.7373,     0.73711,     0.73689,     0.73671,     0.73661,     0.73645,     0.73627,     0.73605,     0.73584,      0.7356,     0.73537,     0.73515,     0.73492,     0.73442,     0.73429,     0.73407,     0.73377,     0.73358,     0.73326,      0.7331,      0.7328,     0.73272,     0.73263,\n",
       "            0.73235,     0.73204,     0.73172,     0.73143,     0.73123,     0.73104,     0.73067,     0.73044,     0.73016,     0.72979,     0.72953,     0.72929,     0.72915,     0.72885,     0.72853,     0.72838,     0.72805,     0.72782,     0.72762,     0.72741,     0.72693,     0.72679,     0.72644,\n",
       "            0.72615,      0.7258,     0.72554,     0.72517,     0.72477,     0.72439,     0.72418,     0.72382,     0.72357,      0.7232,     0.72295,     0.72263,     0.72233,      0.7219,      0.7215,     0.72121,     0.72101,     0.72054,     0.72011,     0.71961,     0.71935,     0.71908,     0.71867,\n",
       "            0.71824,     0.71797,     0.71759,      0.7173,     0.71693,      0.7166,     0.71626,     0.71582,      0.7155,     0.71509,     0.71477,     0.71449,     0.71418,     0.71377,     0.71307,     0.71279,     0.71244,     0.71208,      0.7118,     0.71139,      0.7109,     0.71034,     0.70991,\n",
       "            0.70952,     0.70909,     0.70875,     0.70843,     0.70809,     0.70768,     0.70739,     0.70705,     0.70664,     0.70628,     0.70585,     0.70555,     0.70515,     0.70474,     0.70444,     0.70407,     0.70353,      0.7031,     0.70273,     0.70242,     0.70198,     0.70148,     0.70107,\n",
       "            0.70063,     0.70024,     0.69975,     0.69922,     0.69863,     0.69764,     0.69707,     0.69657,     0.69611,     0.69553,     0.69516,     0.69447,     0.69385,     0.69325,     0.69265,     0.69212,     0.69165,     0.69118,     0.69061,     0.69016,     0.68961,     0.68908,     0.68858,\n",
       "            0.68795,     0.68722,     0.68673,     0.68605,     0.68525,     0.68389,     0.68332,      0.6828,     0.68227,     0.68165,      0.6812,     0.68053,     0.67993,     0.67946,     0.67865,     0.67814,     0.67742,     0.67679,     0.67622,     0.67579,     0.67514,     0.67377,     0.67317,\n",
       "            0.67253,     0.67187,     0.67114,     0.67049,     0.66985,     0.66921,     0.66843,      0.6677,     0.66713,      0.6655,     0.66488,     0.66407,     0.66318,      0.6625,     0.66198,     0.66127,     0.66051,     0.65972,     0.65887,     0.65811,     0.65717,     0.65645,     0.65497,\n",
       "            0.65397,     0.65325,      0.6525,     0.65155,     0.65082,     0.65008,     0.64932,     0.64841,     0.64759,     0.64676,     0.64589,     0.64439,     0.64363,     0.64287,     0.64179,     0.64089,     0.64002,     0.63882,       0.638,     0.63621,     0.63506,     0.63401,     0.63298,\n",
       "            0.63204,     0.63118,     0.63036,     0.62934,     0.62826,     0.62642,     0.62564,      0.6246,      0.6232,     0.62214,     0.62101,     0.62026,      0.6192,     0.61827,     0.61626,     0.61526,     0.61413,     0.61294,     0.61079,     0.60965,     0.60837,     0.60749,     0.60634,\n",
       "            0.60532,     0.60428,      0.6031,     0.60053,     0.59961,     0.59849,     0.59751,      0.5962,     0.59498,     0.59398,     0.59145,     0.59028,       0.589,     0.58649,     0.58519,     0.58408,     0.58281,      0.5817,     0.58066,     0.57954,     0.57744,     0.57585,     0.57478,\n",
       "            0.57363,     0.57238,     0.57124,     0.56817,     0.56694,     0.56612,     0.56488,     0.56355,       0.561,     0.55946,     0.55681,     0.55538,     0.55395,      0.5524,     0.55092,      0.5483,     0.54673,     0.54519,     0.54362,     0.54344,     0.54076,     0.53811,     0.53781,\n",
       "            0.53504,     0.53488,     0.53229,     0.52978,     0.52953,     0.52649,     0.52327,     0.52305,     0.52018,     0.51742,     0.51729,      0.5147,     0.51181,     0.51152,     0.50886,     0.50563,     0.50543,     0.50263,     0.50233,     0.49924,     0.49589,     0.49555,     0.49284,\n",
       "            0.48968,     0.48932,     0.48635,     0.48302,     0.47969,     0.47951,     0.47646,     0.47614,     0.47298,     0.46999,     0.46971,      0.4663,     0.46356,      0.4632,     0.46009,     0.45699,     0.45662,     0.45348,     0.45073,     0.45043,     0.44723,     0.44424,     0.44142,\n",
       "            0.44123,     0.43824,     0.43528,     0.43186,     0.43164,     0.42798,      0.4252,     0.42502,     0.42158,     0.41821,     0.41522,     0.41504,      0.4122,     0.40887,     0.40849,     0.40518,     0.40275,     0.40251,     0.39938,     0.39648,     0.39353,     0.39068,     0.39032,\n",
       "            0.38737,     0.38419,     0.38076,     0.38053,      0.3777,      0.3749,     0.37131,     0.37113,     0.36796,     0.36484,     0.36188,     0.36175,     0.35881,     0.35603,     0.35316,      0.3501,     0.34992,     0.34687,     0.34375,     0.34121,     0.33824,     0.33526,     0.33499,\n",
       "            0.33221,     0.32899,     0.32645,     0.32386,      0.3237,     0.32065,     0.31751,     0.31478,     0.31137,     0.30879,      0.3086,     0.30613,     0.30344,     0.30119,     0.29861,      0.2955,     0.29295,     0.29024,     0.28736,     0.28703,     0.28463,     0.28188,     0.27932,\n",
       "            0.27661,     0.27432,     0.27178,     0.26924,     0.26904,      0.2666,     0.26371,     0.26137,     0.25866,     0.25644,     0.25401,     0.25121,     0.24883,     0.24626,     0.24419,     0.24175,     0.23944,     0.23729,     0.23513,     0.23242,     0.22968,     0.22729,     0.22457,\n",
       "            0.22115,     0.21896,     0.21684,     0.21432,     0.21178,     0.20927,     0.20678,     0.20435,     0.20184,     0.19687,       0.195,      0.1926,     0.18999,     0.18756,     0.18498,      0.1826,     0.18027,     0.17767,     0.17509,     0.17215,     0.16962,     0.16474,     0.16216,\n",
       "            0.15921,     0.15648,     0.15343,     0.15085,     0.14831,     0.14357,     0.14099,     0.13622,     0.13349,     0.13131,     0.12865,     0.12607,     0.12143,     0.11918,     0.11576,     0.11342,     0.10929,     0.10656,     0.10417,     0.10057,    0.098095,     0.09571,    0.092006,\n",
       "           0.089199,    0.086943,    0.083078,    0.079377,    0.076559,    0.073012,    0.070278,    0.067096,    0.064191,    0.062499,    0.058926,    0.056075,    0.052215,    0.049316,    0.046357,    0.043574,    0.041368,    0.038543,    0.036673,    0.033728,    0.031687,    0.029616,    0.026838,\n",
       "           0.023999,     0.02221,    0.020009,    0.018566,    0.016767,    0.015265,    0.013651,    0.012308,    0.010991,   0.0099746,   0.0091768,   0.0080482,    0.007414,   0.0065589,   0.0055653,   0.0048743,   0.0039066,   0.0032973,   0.0029089,   0.0022991,   0.0015504,   0.0013275,  0.00099372,\n",
       "         0.00077069,  0.00051989,  0.00046719,  0.00043396,  0.00027176,  0.00024706,  0.00023569,  0.00022433,  0.00018581,  0.00013715,  0.00013241,  0.00012767,  0.00012294,   0.0001182,  0.00011346,  8.0267e-05,  7.3951e-05,  6.7635e-05,  6.1319e-05,  5.4432e-05,  4.0221e-05,           0,           0,\n",
       "                  0,           0,           0,           0,           0,           0,           0,           0,           0,           0,           0,           0,           0,           0,           0,           0,           0,           0,           0,           0,           0,           0,           0,\n",
       "                  0,           0,           0,           0,           0,           0,           0,           0,           0,           0,           0]]), 'Confidence', 'F1'], [array([          0,    0.001001,    0.002002,    0.003003,    0.004004,    0.005005,    0.006006,    0.007007,    0.008008,    0.009009,     0.01001,    0.011011,    0.012012,    0.013013,    0.014014,    0.015015,    0.016016,    0.017017,    0.018018,    0.019019,     0.02002,    0.021021,    0.022022,    0.023023,\n",
       "          0.024024,    0.025025,    0.026026,    0.027027,    0.028028,    0.029029,     0.03003,    0.031031,    0.032032,    0.033033,    0.034034,    0.035035,    0.036036,    0.037037,    0.038038,    0.039039,     0.04004,    0.041041,    0.042042,    0.043043,    0.044044,    0.045045,    0.046046,    0.047047,\n",
       "          0.048048,    0.049049,     0.05005,    0.051051,    0.052052,    0.053053,    0.054054,    0.055055,    0.056056,    0.057057,    0.058058,    0.059059,     0.06006,    0.061061,    0.062062,    0.063063,    0.064064,    0.065065,    0.066066,    0.067067,    0.068068,    0.069069,     0.07007,    0.071071,\n",
       "          0.072072,    0.073073,    0.074074,    0.075075,    0.076076,    0.077077,    0.078078,    0.079079,     0.08008,    0.081081,    0.082082,    0.083083,    0.084084,    0.085085,    0.086086,    0.087087,    0.088088,    0.089089,     0.09009,    0.091091,    0.092092,    0.093093,    0.094094,    0.095095,\n",
       "          0.096096,    0.097097,    0.098098,    0.099099,      0.1001,      0.1011,      0.1021,      0.1031,      0.1041,     0.10511,     0.10611,     0.10711,     0.10811,     0.10911,     0.11011,     0.11111,     0.11211,     0.11311,     0.11411,     0.11512,     0.11612,     0.11712,     0.11812,     0.11912,\n",
       "           0.12012,     0.12112,     0.12212,     0.12312,     0.12412,     0.12513,     0.12613,     0.12713,     0.12813,     0.12913,     0.13013,     0.13113,     0.13213,     0.13313,     0.13413,     0.13514,     0.13614,     0.13714,     0.13814,     0.13914,     0.14014,     0.14114,     0.14214,     0.14314,\n",
       "           0.14414,     0.14515,     0.14615,     0.14715,     0.14815,     0.14915,     0.15015,     0.15115,     0.15215,     0.15315,     0.15415,     0.15516,     0.15616,     0.15716,     0.15816,     0.15916,     0.16016,     0.16116,     0.16216,     0.16316,     0.16416,     0.16517,     0.16617,     0.16717,\n",
       "           0.16817,     0.16917,     0.17017,     0.17117,     0.17217,     0.17317,     0.17417,     0.17518,     0.17618,     0.17718,     0.17818,     0.17918,     0.18018,     0.18118,     0.18218,     0.18318,     0.18418,     0.18519,     0.18619,     0.18719,     0.18819,     0.18919,     0.19019,     0.19119,\n",
       "           0.19219,     0.19319,     0.19419,      0.1952,      0.1962,      0.1972,      0.1982,      0.1992,      0.2002,      0.2012,      0.2022,      0.2032,      0.2042,     0.20521,     0.20621,     0.20721,     0.20821,     0.20921,     0.21021,     0.21121,     0.21221,     0.21321,     0.21421,     0.21522,\n",
       "           0.21622,     0.21722,     0.21822,     0.21922,     0.22022,     0.22122,     0.22222,     0.22322,     0.22422,     0.22523,     0.22623,     0.22723,     0.22823,     0.22923,     0.23023,     0.23123,     0.23223,     0.23323,     0.23423,     0.23524,     0.23624,     0.23724,     0.23824,     0.23924,\n",
       "           0.24024,     0.24124,     0.24224,     0.24324,     0.24424,     0.24525,     0.24625,     0.24725,     0.24825,     0.24925,     0.25025,     0.25125,     0.25225,     0.25325,     0.25425,     0.25526,     0.25626,     0.25726,     0.25826,     0.25926,     0.26026,     0.26126,     0.26226,     0.26326,\n",
       "           0.26426,     0.26527,     0.26627,     0.26727,     0.26827,     0.26927,     0.27027,     0.27127,     0.27227,     0.27327,     0.27427,     0.27528,     0.27628,     0.27728,     0.27828,     0.27928,     0.28028,     0.28128,     0.28228,     0.28328,     0.28428,     0.28529,     0.28629,     0.28729,\n",
       "           0.28829,     0.28929,     0.29029,     0.29129,     0.29229,     0.29329,     0.29429,      0.2953,      0.2963,      0.2973,      0.2983,      0.2993,      0.3003,      0.3013,      0.3023,      0.3033,      0.3043,     0.30531,     0.30631,     0.30731,     0.30831,     0.30931,     0.31031,     0.31131,\n",
       "           0.31231,     0.31331,     0.31431,     0.31532,     0.31632,     0.31732,     0.31832,     0.31932,     0.32032,     0.32132,     0.32232,     0.32332,     0.32432,     0.32533,     0.32633,     0.32733,     0.32833,     0.32933,     0.33033,     0.33133,     0.33233,     0.33333,     0.33433,     0.33534,\n",
       "           0.33634,     0.33734,     0.33834,     0.33934,     0.34034,     0.34134,     0.34234,     0.34334,     0.34434,     0.34535,     0.34635,     0.34735,     0.34835,     0.34935,     0.35035,     0.35135,     0.35235,     0.35335,     0.35435,     0.35536,     0.35636,     0.35736,     0.35836,     0.35936,\n",
       "           0.36036,     0.36136,     0.36236,     0.36336,     0.36436,     0.36537,     0.36637,     0.36737,     0.36837,     0.36937,     0.37037,     0.37137,     0.37237,     0.37337,     0.37437,     0.37538,     0.37638,     0.37738,     0.37838,     0.37938,     0.38038,     0.38138,     0.38238,     0.38338,\n",
       "           0.38438,     0.38539,     0.38639,     0.38739,     0.38839,     0.38939,     0.39039,     0.39139,     0.39239,     0.39339,     0.39439,      0.3954,      0.3964,      0.3974,      0.3984,      0.3994,      0.4004,      0.4014,      0.4024,      0.4034,      0.4044,     0.40541,     0.40641,     0.40741,\n",
       "           0.40841,     0.40941,     0.41041,     0.41141,     0.41241,     0.41341,     0.41441,     0.41542,     0.41642,     0.41742,     0.41842,     0.41942,     0.42042,     0.42142,     0.42242,     0.42342,     0.42442,     0.42543,     0.42643,     0.42743,     0.42843,     0.42943,     0.43043,     0.43143,\n",
       "           0.43243,     0.43343,     0.43443,     0.43544,     0.43644,     0.43744,     0.43844,     0.43944,     0.44044,     0.44144,     0.44244,     0.44344,     0.44444,     0.44545,     0.44645,     0.44745,     0.44845,     0.44945,     0.45045,     0.45145,     0.45245,     0.45345,     0.45445,     0.45546,\n",
       "           0.45646,     0.45746,     0.45846,     0.45946,     0.46046,     0.46146,     0.46246,     0.46346,     0.46446,     0.46547,     0.46647,     0.46747,     0.46847,     0.46947,     0.47047,     0.47147,     0.47247,     0.47347,     0.47447,     0.47548,     0.47648,     0.47748,     0.47848,     0.47948,\n",
       "           0.48048,     0.48148,     0.48248,     0.48348,     0.48448,     0.48549,     0.48649,     0.48749,     0.48849,     0.48949,     0.49049,     0.49149,     0.49249,     0.49349,     0.49449,      0.4955,      0.4965,      0.4975,      0.4985,      0.4995,      0.5005,      0.5015,      0.5025,      0.5035,\n",
       "            0.5045,     0.50551,     0.50651,     0.50751,     0.50851,     0.50951,     0.51051,     0.51151,     0.51251,     0.51351,     0.51451,     0.51552,     0.51652,     0.51752,     0.51852,     0.51952,     0.52052,     0.52152,     0.52252,     0.52352,     0.52452,     0.52553,     0.52653,     0.52753,\n",
       "           0.52853,     0.52953,     0.53053,     0.53153,     0.53253,     0.53353,     0.53453,     0.53554,     0.53654,     0.53754,     0.53854,     0.53954,     0.54054,     0.54154,     0.54254,     0.54354,     0.54454,     0.54555,     0.54655,     0.54755,     0.54855,     0.54955,     0.55055,     0.55155,\n",
       "           0.55255,     0.55355,     0.55455,     0.55556,     0.55656,     0.55756,     0.55856,     0.55956,     0.56056,     0.56156,     0.56256,     0.56356,     0.56456,     0.56557,     0.56657,     0.56757,     0.56857,     0.56957,     0.57057,     0.57157,     0.57257,     0.57357,     0.57457,     0.57558,\n",
       "           0.57658,     0.57758,     0.57858,     0.57958,     0.58058,     0.58158,     0.58258,     0.58358,     0.58458,     0.58559,     0.58659,     0.58759,     0.58859,     0.58959,     0.59059,     0.59159,     0.59259,     0.59359,     0.59459,      0.5956,      0.5966,      0.5976,      0.5986,      0.5996,\n",
       "            0.6006,      0.6016,      0.6026,      0.6036,      0.6046,     0.60561,     0.60661,     0.60761,     0.60861,     0.60961,     0.61061,     0.61161,     0.61261,     0.61361,     0.61461,     0.61562,     0.61662,     0.61762,     0.61862,     0.61962,     0.62062,     0.62162,     0.62262,     0.62362,\n",
       "           0.62462,     0.62563,     0.62663,     0.62763,     0.62863,     0.62963,     0.63063,     0.63163,     0.63263,     0.63363,     0.63463,     0.63564,     0.63664,     0.63764,     0.63864,     0.63964,     0.64064,     0.64164,     0.64264,     0.64364,     0.64464,     0.64565,     0.64665,     0.64765,\n",
       "           0.64865,     0.64965,     0.65065,     0.65165,     0.65265,     0.65365,     0.65465,     0.65566,     0.65666,     0.65766,     0.65866,     0.65966,     0.66066,     0.66166,     0.66266,     0.66366,     0.66466,     0.66567,     0.66667,     0.66767,     0.66867,     0.66967,     0.67067,     0.67167,\n",
       "           0.67267,     0.67367,     0.67467,     0.67568,     0.67668,     0.67768,     0.67868,     0.67968,     0.68068,     0.68168,     0.68268,     0.68368,     0.68468,     0.68569,     0.68669,     0.68769,     0.68869,     0.68969,     0.69069,     0.69169,     0.69269,     0.69369,     0.69469,      0.6957,\n",
       "            0.6967,      0.6977,      0.6987,      0.6997,      0.7007,      0.7017,      0.7027,      0.7037,      0.7047,     0.70571,     0.70671,     0.70771,     0.70871,     0.70971,     0.71071,     0.71171,     0.71271,     0.71371,     0.71471,     0.71572,     0.71672,     0.71772,     0.71872,     0.71972,\n",
       "           0.72072,     0.72172,     0.72272,     0.72372,     0.72472,     0.72573,     0.72673,     0.72773,     0.72873,     0.72973,     0.73073,     0.73173,     0.73273,     0.73373,     0.73473,     0.73574,     0.73674,     0.73774,     0.73874,     0.73974,     0.74074,     0.74174,     0.74274,     0.74374,\n",
       "           0.74474,     0.74575,     0.74675,     0.74775,     0.74875,     0.74975,     0.75075,     0.75175,     0.75275,     0.75375,     0.75475,     0.75576,     0.75676,     0.75776,     0.75876,     0.75976,     0.76076,     0.76176,     0.76276,     0.76376,     0.76476,     0.76577,     0.76677,     0.76777,\n",
       "           0.76877,     0.76977,     0.77077,     0.77177,     0.77277,     0.77377,     0.77477,     0.77578,     0.77678,     0.77778,     0.77878,     0.77978,     0.78078,     0.78178,     0.78278,     0.78378,     0.78478,     0.78579,     0.78679,     0.78779,     0.78879,     0.78979,     0.79079,     0.79179,\n",
       "           0.79279,     0.79379,     0.79479,      0.7958,      0.7968,      0.7978,      0.7988,      0.7998,      0.8008,      0.8018,      0.8028,      0.8038,      0.8048,     0.80581,     0.80681,     0.80781,     0.80881,     0.80981,     0.81081,     0.81181,     0.81281,     0.81381,     0.81481,     0.81582,\n",
       "           0.81682,     0.81782,     0.81882,     0.81982,     0.82082,     0.82182,     0.82282,     0.82382,     0.82482,     0.82583,     0.82683,     0.82783,     0.82883,     0.82983,     0.83083,     0.83183,     0.83283,     0.83383,     0.83483,     0.83584,     0.83684,     0.83784,     0.83884,     0.83984,\n",
       "           0.84084,     0.84184,     0.84284,     0.84384,     0.84484,     0.84585,     0.84685,     0.84785,     0.84885,     0.84985,     0.85085,     0.85185,     0.85285,     0.85385,     0.85485,     0.85586,     0.85686,     0.85786,     0.85886,     0.85986,     0.86086,     0.86186,     0.86286,     0.86386,\n",
       "           0.86486,     0.86587,     0.86687,     0.86787,     0.86887,     0.86987,     0.87087,     0.87187,     0.87287,     0.87387,     0.87487,     0.87588,     0.87688,     0.87788,     0.87888,     0.87988,     0.88088,     0.88188,     0.88288,     0.88388,     0.88488,     0.88589,     0.88689,     0.88789,\n",
       "           0.88889,     0.88989,     0.89089,     0.89189,     0.89289,     0.89389,     0.89489,      0.8959,      0.8969,      0.8979,      0.8989,      0.8999,      0.9009,      0.9019,      0.9029,      0.9039,      0.9049,     0.90591,     0.90691,     0.90791,     0.90891,     0.90991,     0.91091,     0.91191,\n",
       "           0.91291,     0.91391,     0.91491,     0.91592,     0.91692,     0.91792,     0.91892,     0.91992,     0.92092,     0.92192,     0.92292,     0.92392,     0.92492,     0.92593,     0.92693,     0.92793,     0.92893,     0.92993,     0.93093,     0.93193,     0.93293,     0.93393,     0.93493,     0.93594,\n",
       "           0.93694,     0.93794,     0.93894,     0.93994,     0.94094,     0.94194,     0.94294,     0.94394,     0.94494,     0.94595,     0.94695,     0.94795,     0.94895,     0.94995,     0.95095,     0.95195,     0.95295,     0.95395,     0.95495,     0.95596,     0.95696,     0.95796,     0.95896,     0.95996,\n",
       "           0.96096,     0.96196,     0.96296,     0.96396,     0.96496,     0.96597,     0.96697,     0.96797,     0.96897,     0.96997,     0.97097,     0.97197,     0.97297,     0.97397,     0.97497,     0.97598,     0.97698,     0.97798,     0.97898,     0.97998,     0.98098,     0.98198,     0.98298,     0.98398,\n",
       "           0.98498,     0.98599,     0.98699,     0.98799,     0.98899,     0.98999,     0.99099,     0.99199,     0.99299,     0.99399,     0.99499,       0.996,       0.997,       0.998,       0.999,           1]), array([[     0.1063,      0.1063,     0.12315,     0.14061,     0.15674,     0.17159,      0.1855,     0.19807,     0.21049,     0.22175,     0.23312,     0.24364,       0.254,     0.26375,     0.27406,     0.28376,     0.29282,     0.30239,     0.31174,     0.32127,     0.33049,     0.33921,     0.34786,\n",
       "            0.35662,     0.36543,     0.37374,     0.38237,     0.39051,     0.39852,      0.4061,     0.41388,      0.4219,     0.42897,     0.43649,     0.44365,     0.45018,     0.45674,     0.46328,     0.47016,     0.47625,     0.48298,     0.48921,     0.49505,     0.50133,     0.50683,      0.5123,\n",
       "            0.51765,     0.52245,     0.52784,     0.53323,     0.53782,     0.54247,     0.54763,     0.55193,      0.5564,     0.56058,     0.56497,     0.56863,     0.57293,     0.57688,      0.5803,       0.584,     0.58727,     0.59088,     0.59428,      0.5976,     0.60075,     0.60376,     0.60769,\n",
       "            0.61074,     0.61383,      0.6167,     0.61892,     0.62193,     0.62489,     0.62766,     0.62997,     0.63296,     0.63574,     0.63767,     0.64019,     0.64256,     0.64465,     0.64732,     0.64946,     0.65216,     0.65415,     0.65627,     0.65837,     0.66007,     0.66266,     0.66425,\n",
       "            0.66601,     0.66782,     0.66973,     0.67144,     0.67335,     0.67519,     0.67683,     0.67815,     0.68009,     0.68187,     0.68375,     0.68554,      0.6867,     0.68814,     0.68972,     0.69143,     0.69273,     0.69433,     0.69584,     0.69683,     0.69815,     0.69926,     0.70078,\n",
       "            0.70214,     0.70347,     0.70447,     0.70608,     0.70729,     0.70887,     0.70999,     0.71103,      0.7126,     0.71385,     0.71525,     0.71637,     0.71722,     0.71887,     0.71973,     0.72101,     0.72201,     0.72355,     0.72448,     0.72555,     0.72676,     0.72832,     0.72945,\n",
       "            0.73033,     0.73126,     0.73219,     0.73336,     0.73421,      0.7352,     0.73601,     0.73734,     0.73831,     0.73939,     0.74039,     0.74119,     0.74199,     0.74295,     0.74399,     0.74487,     0.74575,     0.74663,     0.74748,      0.7484,      0.7489,     0.74971,     0.75063,\n",
       "            0.75144,     0.75229,     0.75323,     0.75403,     0.75484,     0.75575,     0.75612,      0.7569,     0.75767,     0.75856,     0.75948,     0.76026,     0.76069,     0.76156,     0.76251,     0.76355,     0.76393,     0.76471,     0.76566,      0.7665,     0.76699,     0.76778,      0.7685,\n",
       "            0.76901,     0.76975,     0.77077,     0.77165,     0.77216,     0.77309,     0.77386,     0.77442,     0.77532,     0.77625,     0.77672,      0.7777,     0.77871,      0.7792,     0.78008,     0.78042,     0.78121,     0.78223,     0.78269,     0.78371,     0.78417,     0.78497,      0.7854,\n",
       "            0.78616,      0.7872,     0.78752,     0.78833,     0.78873,     0.78955,     0.78999,     0.79077,     0.79113,     0.79216,     0.79275,     0.79357,     0.79393,     0.79477,     0.79524,     0.79611,      0.7964,     0.79741,      0.7977,     0.79865,     0.79912,     0.80002,     0.80052,\n",
       "             0.8014,      0.8019,     0.80225,     0.80329,     0.80357,     0.80431,     0.80481,     0.80555,     0.80594,     0.80628,     0.80722,     0.80759,     0.80836,     0.80878,     0.80922,     0.80984,     0.81038,     0.81081,     0.81157,      0.8121,     0.81289,      0.8132,      0.8137,\n",
       "            0.81464,     0.81503,     0.81537,     0.81592,     0.81636,     0.81668,     0.81737,     0.81774,     0.81846,     0.81877,     0.81915,     0.81963,      0.8205,     0.82095,     0.82126,     0.82222,     0.82271,     0.82313,     0.82377,     0.82404,     0.82441,     0.82486,     0.82555,\n",
       "            0.82597,     0.82621,     0.82661,     0.82739,      0.8278,      0.8283,     0.82904,     0.82936,     0.82983,     0.83016,     0.83078,     0.83105,     0.83127,     0.83156,     0.83222,     0.83257,     0.83288,     0.83325,     0.83399,     0.83431,     0.83467,     0.83503,     0.83543,\n",
       "            0.83628,     0.83648,     0.83689,     0.83727,     0.83785,     0.83809,     0.83848,     0.83891,     0.83934,     0.84002,     0.84041,     0.84083,     0.84104,     0.84183,     0.84221,     0.84277,     0.84317,      0.8436,      0.8439,     0.84438,     0.84501,     0.84547,     0.84591,\n",
       "            0.84608,     0.84629,     0.84677,     0.84711,     0.84744,     0.84763,     0.84797,     0.84823,     0.84875,     0.84915,     0.84958,     0.84995,     0.85021,     0.85054,     0.85081,     0.85145,     0.85184,     0.85223,     0.85252,     0.85284,     0.85319,     0.85408,     0.85434,\n",
       "            0.85466,     0.85521,     0.85558,       0.856,      0.8561,     0.85665,     0.85696,     0.85726,     0.85755,     0.85778,     0.85813,     0.85838,     0.85866,     0.85908,     0.85935,     0.86008,     0.86038,     0.86073,     0.86108,     0.86141,     0.86176,     0.86209,     0.86237,\n",
       "            0.86258,     0.86286,      0.8636,     0.86397,     0.86427,      0.8645,     0.86493,     0.86517,     0.86548,     0.86581,     0.86604,     0.86635,     0.86696,     0.86724,     0.86759,     0.86779,     0.86813,     0.86842,     0.86869,     0.86902,     0.86923,     0.86949,      0.8702,\n",
       "            0.87046,     0.87063,     0.87079,     0.87102,     0.87127,     0.87152,      0.8719,     0.87217,     0.87241,     0.87276,     0.87302,      0.8732,     0.87351,     0.87385,     0.87407,     0.87428,     0.87497,     0.87525,     0.87564,      0.8759,     0.87617,     0.87646,       0.877,\n",
       "            0.87714,     0.87753,     0.87785,     0.87817,      0.8784,     0.87887,     0.87922,     0.87949,     0.87973,     0.88029,     0.88048,     0.88079,     0.88105,     0.88136,     0.88175,     0.88194,     0.88225,     0.88258,     0.88277,     0.88308,     0.88339,     0.88367,     0.88398,\n",
       "            0.88422,     0.88452,     0.88473,      0.8849,     0.88533,     0.88568,     0.88593,     0.88611,     0.88637,     0.88665,     0.88694,     0.88717,     0.88729,     0.88788,     0.88815,     0.88844,     0.88868,     0.88912,     0.88924,     0.88954,     0.88977,     0.89014,     0.89049,\n",
       "            0.89069,     0.89087,     0.89108,     0.89131,     0.89152,     0.89188,     0.89201,     0.89227,     0.89246,      0.8926,     0.89288,      0.8931,     0.89335,     0.89354,     0.89368,     0.89405,     0.89437,     0.89465,     0.89505,     0.89532,     0.89606,      0.8964,      0.8965,\n",
       "            0.89672,     0.89694,     0.89718,      0.8974,     0.89754,     0.89766,     0.89794,     0.89807,     0.89851,     0.89863,     0.89886,     0.89916,     0.89938,     0.89969,     0.89993,     0.90019,     0.90059,     0.90072,     0.90084,     0.90105,     0.90152,     0.90185,     0.90222,\n",
       "            0.90233,     0.90267,     0.90285,     0.90306,     0.90331,     0.90371,     0.90406,     0.90419,      0.9045,     0.90471,     0.90495,     0.90517,     0.90543,     0.90562,     0.90617,     0.90633,     0.90665,      0.9069,     0.90712,     0.90734,     0.90767,     0.90783,     0.90816,\n",
       "            0.90842,     0.90853,     0.90875,     0.90899,     0.90926,     0.90941,     0.90985,     0.91008,     0.91026,     0.91052,     0.91076,     0.91105,     0.91124,      0.9115,     0.91182,     0.91206,     0.91236,     0.91259,     0.91297,      0.9132,     0.91339,     0.91364,     0.91388,\n",
       "            0.91417,     0.91453,     0.91485,     0.91492,     0.91517,     0.91581,     0.91593,     0.91611,     0.91624,     0.91645,     0.91674,      0.9169,     0.91715,     0.91741,     0.91758,     0.91774,     0.91803,     0.91825,     0.91848,     0.91865,     0.91882,     0.91897,     0.91911,\n",
       "            0.91934,      0.9194,     0.91959,     0.91962,     0.91973,     0.92019,     0.92045,     0.92085,     0.92106,     0.92125,      0.9216,     0.92184,     0.92208,     0.92232,     0.92249,     0.92278,     0.92299,     0.92303,     0.92328,     0.92358,     0.92379,     0.92425,      0.9244,\n",
       "            0.92475,      0.9251,     0.92537,     0.92567,     0.92605,     0.92632,     0.92664,     0.92701,     0.92721,      0.9278,     0.92804,     0.92838,      0.9284,     0.92879,     0.92905,      0.9293,     0.92951,     0.92959,      0.9298,     0.93015,     0.93037,      0.9307,     0.93124,\n",
       "            0.93142,     0.93168,     0.93192,     0.93217,      0.9323,     0.93285,     0.93307,     0.93314,     0.93335,     0.93364,     0.93396,     0.93454,      0.9347,       0.935,     0.93518,     0.93538,     0.93564,     0.93583,     0.93599,     0.93647,     0.93654,     0.93671,     0.93694,\n",
       "             0.9373,     0.93758,     0.93785,     0.93813,     0.93829,     0.93905,     0.93953,     0.93975,     0.93997,     0.94016,     0.94029,     0.94084,     0.94125,     0.94149,     0.94204,     0.94236,     0.94245,     0.94288,     0.94335,     0.94363,      0.9439,     0.94422,     0.94461,\n",
       "            0.94484,     0.94498,      0.9453,     0.94575,     0.94608,      0.9463,     0.94643,     0.94669,     0.94688,     0.94715,     0.94751,     0.94773,     0.94783,     0.94834,     0.94856,     0.94877,     0.94885,     0.94915,     0.94951,     0.94979,     0.95043,      0.9506,     0.95079,\n",
       "             0.9513,     0.95146,     0.95184,     0.95229,     0.95255,     0.95295,     0.95312,     0.95353,     0.95391,     0.95412,      0.9547,     0.95512,     0.95522,     0.95563,     0.95587,     0.95642,     0.95638,     0.95658,     0.95691,     0.95698,      0.9578,     0.95813,      0.9582,\n",
       "             0.9587,     0.95878,     0.95944,     0.95967,     0.95971,     0.96024,     0.96069,     0.96073,     0.96113,     0.96176,     0.96185,     0.96272,     0.96314,     0.96315,     0.96363,     0.96393,     0.96409,     0.96473,     0.96478,     0.96541,     0.96567,     0.96565,     0.96634,\n",
       "            0.96653,     0.96654,      0.9671,     0.96769,     0.96837,     0.96848,     0.96912,     0.96909,     0.96945,     0.96995,     0.97005,     0.97104,     0.97163,      0.9716,     0.97218,     0.97255,     0.97252,     0.97316,     0.97336,     0.97333,     0.97381,     0.97427,     0.97461,\n",
       "            0.97465,     0.97517,     0.97552,     0.97599,     0.97597,     0.97653,     0.97721,     0.97723,      0.9778,     0.97817,     0.97869,     0.97872,      0.9792,     0.97991,     0.97994,     0.98046,     0.98105,     0.98114,      0.9817,     0.98229,     0.98277,     0.98361,     0.98367,\n",
       "            0.98416,     0.98439,      0.9845,     0.98455,     0.98521,     0.98548,     0.98566,     0.98571,     0.98616,     0.98625,     0.98672,     0.98672,     0.98708,     0.98733,     0.98739,     0.98771,     0.98776,     0.98808,     0.98821,      0.9885,     0.98884,     0.98913,     0.98925,\n",
       "            0.98982,     0.98998,     0.99037,     0.99042,     0.99042,     0.99081,     0.99113,     0.99155,      0.9921,      0.9921,     0.99217,     0.99217,     0.99224,     0.99248,     0.99264,     0.99294,     0.99303,     0.99303,     0.99344,     0.99359,     0.99386,     0.99387,     0.99415,\n",
       "            0.99425,     0.99428,     0.99465,     0.99486,     0.99486,     0.99498,     0.99501,     0.99505,     0.99554,     0.99578,     0.99583,     0.99606,     0.99611,     0.99607,     0.99613,     0.99618,     0.99645,     0.99641,     0.99637,     0.99664,     0.99659,     0.99655,     0.99661,\n",
       "            0.99656,     0.99663,     0.99727,     0.99724,      0.9972,      0.9974,     0.99748,     0.99745,     0.99741,     0.99734,     0.99731,     0.99728,     0.99723,      0.9972,     0.99715,     0.99711,     0.99735,     0.99731,     0.99726,     0.99736,     0.99731,     0.99738,     0.99734,\n",
       "            0.99728,     0.99739,     0.99734,     0.99729,     0.99741,      0.9975,     0.99763,      0.9983,     0.99826,     0.99823,     0.99819,     0.99815,     0.99807,     0.99803,     0.99797,     0.99816,     0.99808,     0.99803,     0.99799,     0.99791,     0.99812,     0.99835,     0.99828,\n",
       "            0.99822,     0.99817,     0.99808,     0.99801,     0.99826,     0.99817,      0.9981,     0.99801,     0.99833,     0.99828,     0.99818,     0.99856,     0.99845,     0.99836,     0.99942,     0.99938,     0.99934,     0.99929,     0.99926,     0.99919,     0.99914,     0.99908,     0.99898,\n",
       "            0.99886,           1,           1,           1,           1,           1,           1,           1,           1,           1,           1,           1,           1,           1,           1,           1,           1,           1,           1,           1,           1,           1,           1,\n",
       "                  1,           1,           1,           1,           1,           1,           1,           1,           1,           1,           1,           1,           1,           1,           1,           1,           1,           1,           1,           1,           1,           1,           1,\n",
       "                  1,           1,           1,           1,           1,           1,           1,           1,           1,           1,           1,           1,           1,           1,           1,           1,           1,           1,           1,           1,           1,           1,           1,\n",
       "                  1,           1,           1,           1,           1,           1,           1,           1,           1,           1,           1]]), 'Confidence', 'Precision'], [array([          0,    0.001001,    0.002002,    0.003003,    0.004004,    0.005005,    0.006006,    0.007007,    0.008008,    0.009009,     0.01001,    0.011011,    0.012012,    0.013013,    0.014014,    0.015015,    0.016016,    0.017017,    0.018018,    0.019019,     0.02002,    0.021021,    0.022022,    0.023023,\n",
       "          0.024024,    0.025025,    0.026026,    0.027027,    0.028028,    0.029029,     0.03003,    0.031031,    0.032032,    0.033033,    0.034034,    0.035035,    0.036036,    0.037037,    0.038038,    0.039039,     0.04004,    0.041041,    0.042042,    0.043043,    0.044044,    0.045045,    0.046046,    0.047047,\n",
       "          0.048048,    0.049049,     0.05005,    0.051051,    0.052052,    0.053053,    0.054054,    0.055055,    0.056056,    0.057057,    0.058058,    0.059059,     0.06006,    0.061061,    0.062062,    0.063063,    0.064064,    0.065065,    0.066066,    0.067067,    0.068068,    0.069069,     0.07007,    0.071071,\n",
       "          0.072072,    0.073073,    0.074074,    0.075075,    0.076076,    0.077077,    0.078078,    0.079079,     0.08008,    0.081081,    0.082082,    0.083083,    0.084084,    0.085085,    0.086086,    0.087087,    0.088088,    0.089089,     0.09009,    0.091091,    0.092092,    0.093093,    0.094094,    0.095095,\n",
       "          0.096096,    0.097097,    0.098098,    0.099099,      0.1001,      0.1011,      0.1021,      0.1031,      0.1041,     0.10511,     0.10611,     0.10711,     0.10811,     0.10911,     0.11011,     0.11111,     0.11211,     0.11311,     0.11411,     0.11512,     0.11612,     0.11712,     0.11812,     0.11912,\n",
       "           0.12012,     0.12112,     0.12212,     0.12312,     0.12412,     0.12513,     0.12613,     0.12713,     0.12813,     0.12913,     0.13013,     0.13113,     0.13213,     0.13313,     0.13413,     0.13514,     0.13614,     0.13714,     0.13814,     0.13914,     0.14014,     0.14114,     0.14214,     0.14314,\n",
       "           0.14414,     0.14515,     0.14615,     0.14715,     0.14815,     0.14915,     0.15015,     0.15115,     0.15215,     0.15315,     0.15415,     0.15516,     0.15616,     0.15716,     0.15816,     0.15916,     0.16016,     0.16116,     0.16216,     0.16316,     0.16416,     0.16517,     0.16617,     0.16717,\n",
       "           0.16817,     0.16917,     0.17017,     0.17117,     0.17217,     0.17317,     0.17417,     0.17518,     0.17618,     0.17718,     0.17818,     0.17918,     0.18018,     0.18118,     0.18218,     0.18318,     0.18418,     0.18519,     0.18619,     0.18719,     0.18819,     0.18919,     0.19019,     0.19119,\n",
       "           0.19219,     0.19319,     0.19419,      0.1952,      0.1962,      0.1972,      0.1982,      0.1992,      0.2002,      0.2012,      0.2022,      0.2032,      0.2042,     0.20521,     0.20621,     0.20721,     0.20821,     0.20921,     0.21021,     0.21121,     0.21221,     0.21321,     0.21421,     0.21522,\n",
       "           0.21622,     0.21722,     0.21822,     0.21922,     0.22022,     0.22122,     0.22222,     0.22322,     0.22422,     0.22523,     0.22623,     0.22723,     0.22823,     0.22923,     0.23023,     0.23123,     0.23223,     0.23323,     0.23423,     0.23524,     0.23624,     0.23724,     0.23824,     0.23924,\n",
       "           0.24024,     0.24124,     0.24224,     0.24324,     0.24424,     0.24525,     0.24625,     0.24725,     0.24825,     0.24925,     0.25025,     0.25125,     0.25225,     0.25325,     0.25425,     0.25526,     0.25626,     0.25726,     0.25826,     0.25926,     0.26026,     0.26126,     0.26226,     0.26326,\n",
       "           0.26426,     0.26527,     0.26627,     0.26727,     0.26827,     0.26927,     0.27027,     0.27127,     0.27227,     0.27327,     0.27427,     0.27528,     0.27628,     0.27728,     0.27828,     0.27928,     0.28028,     0.28128,     0.28228,     0.28328,     0.28428,     0.28529,     0.28629,     0.28729,\n",
       "           0.28829,     0.28929,     0.29029,     0.29129,     0.29229,     0.29329,     0.29429,      0.2953,      0.2963,      0.2973,      0.2983,      0.2993,      0.3003,      0.3013,      0.3023,      0.3033,      0.3043,     0.30531,     0.30631,     0.30731,     0.30831,     0.30931,     0.31031,     0.31131,\n",
       "           0.31231,     0.31331,     0.31431,     0.31532,     0.31632,     0.31732,     0.31832,     0.31932,     0.32032,     0.32132,     0.32232,     0.32332,     0.32432,     0.32533,     0.32633,     0.32733,     0.32833,     0.32933,     0.33033,     0.33133,     0.33233,     0.33333,     0.33433,     0.33534,\n",
       "           0.33634,     0.33734,     0.33834,     0.33934,     0.34034,     0.34134,     0.34234,     0.34334,     0.34434,     0.34535,     0.34635,     0.34735,     0.34835,     0.34935,     0.35035,     0.35135,     0.35235,     0.35335,     0.35435,     0.35536,     0.35636,     0.35736,     0.35836,     0.35936,\n",
       "           0.36036,     0.36136,     0.36236,     0.36336,     0.36436,     0.36537,     0.36637,     0.36737,     0.36837,     0.36937,     0.37037,     0.37137,     0.37237,     0.37337,     0.37437,     0.37538,     0.37638,     0.37738,     0.37838,     0.37938,     0.38038,     0.38138,     0.38238,     0.38338,\n",
       "           0.38438,     0.38539,     0.38639,     0.38739,     0.38839,     0.38939,     0.39039,     0.39139,     0.39239,     0.39339,     0.39439,      0.3954,      0.3964,      0.3974,      0.3984,      0.3994,      0.4004,      0.4014,      0.4024,      0.4034,      0.4044,     0.40541,     0.40641,     0.40741,\n",
       "           0.40841,     0.40941,     0.41041,     0.41141,     0.41241,     0.41341,     0.41441,     0.41542,     0.41642,     0.41742,     0.41842,     0.41942,     0.42042,     0.42142,     0.42242,     0.42342,     0.42442,     0.42543,     0.42643,     0.42743,     0.42843,     0.42943,     0.43043,     0.43143,\n",
       "           0.43243,     0.43343,     0.43443,     0.43544,     0.43644,     0.43744,     0.43844,     0.43944,     0.44044,     0.44144,     0.44244,     0.44344,     0.44444,     0.44545,     0.44645,     0.44745,     0.44845,     0.44945,     0.45045,     0.45145,     0.45245,     0.45345,     0.45445,     0.45546,\n",
       "           0.45646,     0.45746,     0.45846,     0.45946,     0.46046,     0.46146,     0.46246,     0.46346,     0.46446,     0.46547,     0.46647,     0.46747,     0.46847,     0.46947,     0.47047,     0.47147,     0.47247,     0.47347,     0.47447,     0.47548,     0.47648,     0.47748,     0.47848,     0.47948,\n",
       "           0.48048,     0.48148,     0.48248,     0.48348,     0.48448,     0.48549,     0.48649,     0.48749,     0.48849,     0.48949,     0.49049,     0.49149,     0.49249,     0.49349,     0.49449,      0.4955,      0.4965,      0.4975,      0.4985,      0.4995,      0.5005,      0.5015,      0.5025,      0.5035,\n",
       "            0.5045,     0.50551,     0.50651,     0.50751,     0.50851,     0.50951,     0.51051,     0.51151,     0.51251,     0.51351,     0.51451,     0.51552,     0.51652,     0.51752,     0.51852,     0.51952,     0.52052,     0.52152,     0.52252,     0.52352,     0.52452,     0.52553,     0.52653,     0.52753,\n",
       "           0.52853,     0.52953,     0.53053,     0.53153,     0.53253,     0.53353,     0.53453,     0.53554,     0.53654,     0.53754,     0.53854,     0.53954,     0.54054,     0.54154,     0.54254,     0.54354,     0.54454,     0.54555,     0.54655,     0.54755,     0.54855,     0.54955,     0.55055,     0.55155,\n",
       "           0.55255,     0.55355,     0.55455,     0.55556,     0.55656,     0.55756,     0.55856,     0.55956,     0.56056,     0.56156,     0.56256,     0.56356,     0.56456,     0.56557,     0.56657,     0.56757,     0.56857,     0.56957,     0.57057,     0.57157,     0.57257,     0.57357,     0.57457,     0.57558,\n",
       "           0.57658,     0.57758,     0.57858,     0.57958,     0.58058,     0.58158,     0.58258,     0.58358,     0.58458,     0.58559,     0.58659,     0.58759,     0.58859,     0.58959,     0.59059,     0.59159,     0.59259,     0.59359,     0.59459,      0.5956,      0.5966,      0.5976,      0.5986,      0.5996,\n",
       "            0.6006,      0.6016,      0.6026,      0.6036,      0.6046,     0.60561,     0.60661,     0.60761,     0.60861,     0.60961,     0.61061,     0.61161,     0.61261,     0.61361,     0.61461,     0.61562,     0.61662,     0.61762,     0.61862,     0.61962,     0.62062,     0.62162,     0.62262,     0.62362,\n",
       "           0.62462,     0.62563,     0.62663,     0.62763,     0.62863,     0.62963,     0.63063,     0.63163,     0.63263,     0.63363,     0.63463,     0.63564,     0.63664,     0.63764,     0.63864,     0.63964,     0.64064,     0.64164,     0.64264,     0.64364,     0.64464,     0.64565,     0.64665,     0.64765,\n",
       "           0.64865,     0.64965,     0.65065,     0.65165,     0.65265,     0.65365,     0.65465,     0.65566,     0.65666,     0.65766,     0.65866,     0.65966,     0.66066,     0.66166,     0.66266,     0.66366,     0.66466,     0.66567,     0.66667,     0.66767,     0.66867,     0.66967,     0.67067,     0.67167,\n",
       "           0.67267,     0.67367,     0.67467,     0.67568,     0.67668,     0.67768,     0.67868,     0.67968,     0.68068,     0.68168,     0.68268,     0.68368,     0.68468,     0.68569,     0.68669,     0.68769,     0.68869,     0.68969,     0.69069,     0.69169,     0.69269,     0.69369,     0.69469,      0.6957,\n",
       "            0.6967,      0.6977,      0.6987,      0.6997,      0.7007,      0.7017,      0.7027,      0.7037,      0.7047,     0.70571,     0.70671,     0.70771,     0.70871,     0.70971,     0.71071,     0.71171,     0.71271,     0.71371,     0.71471,     0.71572,     0.71672,     0.71772,     0.71872,     0.71972,\n",
       "           0.72072,     0.72172,     0.72272,     0.72372,     0.72472,     0.72573,     0.72673,     0.72773,     0.72873,     0.72973,     0.73073,     0.73173,     0.73273,     0.73373,     0.73473,     0.73574,     0.73674,     0.73774,     0.73874,     0.73974,     0.74074,     0.74174,     0.74274,     0.74374,\n",
       "           0.74474,     0.74575,     0.74675,     0.74775,     0.74875,     0.74975,     0.75075,     0.75175,     0.75275,     0.75375,     0.75475,     0.75576,     0.75676,     0.75776,     0.75876,     0.75976,     0.76076,     0.76176,     0.76276,     0.76376,     0.76476,     0.76577,     0.76677,     0.76777,\n",
       "           0.76877,     0.76977,     0.77077,     0.77177,     0.77277,     0.77377,     0.77477,     0.77578,     0.77678,     0.77778,     0.77878,     0.77978,     0.78078,     0.78178,     0.78278,     0.78378,     0.78478,     0.78579,     0.78679,     0.78779,     0.78879,     0.78979,     0.79079,     0.79179,\n",
       "           0.79279,     0.79379,     0.79479,      0.7958,      0.7968,      0.7978,      0.7988,      0.7998,      0.8008,      0.8018,      0.8028,      0.8038,      0.8048,     0.80581,     0.80681,     0.80781,     0.80881,     0.80981,     0.81081,     0.81181,     0.81281,     0.81381,     0.81481,     0.81582,\n",
       "           0.81682,     0.81782,     0.81882,     0.81982,     0.82082,     0.82182,     0.82282,     0.82382,     0.82482,     0.82583,     0.82683,     0.82783,     0.82883,     0.82983,     0.83083,     0.83183,     0.83283,     0.83383,     0.83483,     0.83584,     0.83684,     0.83784,     0.83884,     0.83984,\n",
       "           0.84084,     0.84184,     0.84284,     0.84384,     0.84484,     0.84585,     0.84685,     0.84785,     0.84885,     0.84985,     0.85085,     0.85185,     0.85285,     0.85385,     0.85485,     0.85586,     0.85686,     0.85786,     0.85886,     0.85986,     0.86086,     0.86186,     0.86286,     0.86386,\n",
       "           0.86486,     0.86587,     0.86687,     0.86787,     0.86887,     0.86987,     0.87087,     0.87187,     0.87287,     0.87387,     0.87487,     0.87588,     0.87688,     0.87788,     0.87888,     0.87988,     0.88088,     0.88188,     0.88288,     0.88388,     0.88488,     0.88589,     0.88689,     0.88789,\n",
       "           0.88889,     0.88989,     0.89089,     0.89189,     0.89289,     0.89389,     0.89489,      0.8959,      0.8969,      0.8979,      0.8989,      0.8999,      0.9009,      0.9019,      0.9029,      0.9039,      0.9049,     0.90591,     0.90691,     0.90791,     0.90891,     0.90991,     0.91091,     0.91191,\n",
       "           0.91291,     0.91391,     0.91491,     0.91592,     0.91692,     0.91792,     0.91892,     0.91992,     0.92092,     0.92192,     0.92292,     0.92392,     0.92492,     0.92593,     0.92693,     0.92793,     0.92893,     0.92993,     0.93093,     0.93193,     0.93293,     0.93393,     0.93493,     0.93594,\n",
       "           0.93694,     0.93794,     0.93894,     0.93994,     0.94094,     0.94194,     0.94294,     0.94394,     0.94494,     0.94595,     0.94695,     0.94795,     0.94895,     0.94995,     0.95095,     0.95195,     0.95295,     0.95395,     0.95495,     0.95596,     0.95696,     0.95796,     0.95896,     0.95996,\n",
       "           0.96096,     0.96196,     0.96296,     0.96396,     0.96496,     0.96597,     0.96697,     0.96797,     0.96897,     0.96997,     0.97097,     0.97197,     0.97297,     0.97397,     0.97497,     0.97598,     0.97698,     0.97798,     0.97898,     0.97998,     0.98098,     0.98198,     0.98298,     0.98398,\n",
       "           0.98498,     0.98599,     0.98699,     0.98799,     0.98899,     0.98999,     0.99099,     0.99199,     0.99299,     0.99399,     0.99499,       0.996,       0.997,       0.998,       0.999,           1]), array([[    0.85189,     0.85189,     0.85008,     0.84805,     0.84572,     0.84386,     0.84196,     0.84001,     0.83796,     0.83592,     0.83399,     0.83222,     0.83064,     0.82876,     0.82732,     0.82577,     0.82423,     0.82255,     0.82088,     0.81928,     0.81762,     0.81636,      0.8148,\n",
       "            0.81357,      0.8121,     0.81083,     0.80927,     0.80779,     0.80648,     0.80514,     0.80375,     0.80242,     0.80112,     0.79981,     0.79858,     0.79746,     0.79618,     0.79525,      0.7941,     0.79328,     0.79242,     0.79166,     0.79047,     0.78939,     0.78851,      0.7874,\n",
       "            0.78638,     0.78556,     0.78466,     0.78376,     0.78295,     0.78219,     0.78122,     0.78033,     0.77949,      0.7788,     0.77809,     0.77739,     0.77677,     0.77586,     0.77518,     0.77447,     0.77378,     0.77305,      0.7725,      0.7719,     0.77154,     0.77102,     0.77038,\n",
       "            0.76972,     0.76905,     0.76848,     0.76804,     0.76722,      0.7667,     0.76627,      0.7658,     0.76519,     0.76472,     0.76428,     0.76363,     0.76317,     0.76274,     0.76218,     0.76177,     0.76126,     0.76067,      0.7603,     0.75992,     0.75938,     0.75891,     0.75834,\n",
       "             0.7578,     0.75732,     0.75698,     0.75653,     0.75617,     0.75575,      0.7552,     0.75488,      0.7545,     0.75408,     0.75352,     0.75306,     0.75277,      0.7523,      0.7519,      0.7514,     0.75112,     0.75062,     0.75001,     0.74972,       0.749,     0.74855,     0.74806,\n",
       "            0.74769,     0.74721,     0.74682,     0.74632,     0.74607,     0.74563,     0.74528,     0.74494,     0.74449,     0.74407,     0.74358,      0.7433,     0.74293,     0.74243,     0.74205,     0.74174,     0.74141,     0.74094,     0.74055,     0.74019,     0.73996,     0.73946,     0.73916,\n",
       "            0.73884,      0.7385,     0.73821,     0.73781,     0.73742,     0.73703,     0.73673,     0.73619,     0.73583,     0.73555,     0.73529,     0.73494,     0.73462,     0.73423,     0.73386,     0.73334,     0.73296,     0.73267,     0.73226,     0.73185,      0.7316,     0.73114,     0.73077,\n",
       "            0.73038,     0.72985,     0.72967,     0.72932,     0.72906,     0.72869,     0.72842,     0.72808,     0.72768,     0.72735,     0.72704,     0.72666,     0.72647,     0.72618,     0.72583,     0.72547,     0.72526,      0.7249,      0.7245,     0.72411,     0.72396,     0.72349,     0.72301,\n",
       "            0.72272,     0.72245,     0.72209,     0.72167,     0.72155,     0.72113,     0.72064,     0.72038,     0.71999,      0.7197,     0.71949,     0.71909,     0.71863,     0.71842,     0.71795,     0.71776,     0.71739,     0.71704,     0.71678,     0.71641,      0.7161,     0.71582,     0.71554,\n",
       "            0.71508,     0.71478,     0.71458,     0.71411,     0.71389,     0.71347,     0.71328,     0.71271,     0.71237,     0.71198,     0.71174,      0.7114,     0.71112,     0.71058,     0.71029,     0.70984,     0.70961,      0.7093,     0.70902,      0.7085,     0.70822,     0.70779,      0.7076,\n",
       "            0.70719,     0.70703,     0.70682,      0.7064,      0.7062,     0.70564,     0.70542,     0.70496,     0.70472,     0.70449,     0.70396,      0.7037,     0.70317,     0.70283,     0.70258,     0.70205,      0.7019,     0.70166,     0.70119,     0.70091,     0.70041,     0.70014,     0.69989,\n",
       "            0.69924,     0.69903,     0.69879,     0.69833,     0.69807,     0.69781,     0.69739,     0.69704,     0.69653,     0.69625,     0.69592,     0.69569,     0.69517,     0.69485,     0.69465,     0.69427,     0.69405,     0.69375,     0.69322,      0.6929,     0.69265,     0.69235,     0.69197,\n",
       "            0.69176,      0.6915,     0.69129,     0.69061,     0.69034,     0.69009,      0.6895,     0.68929,     0.68904,     0.68885,     0.68819,     0.68795,     0.68777,     0.68753,     0.68694,      0.6867,     0.68643,     0.68613,     0.68561,     0.68537,     0.68511,     0.68491,     0.68465,\n",
       "            0.68404,      0.6838,     0.68361,      0.6833,     0.68298,     0.68266,     0.68231,     0.68203,     0.68178,      0.6812,     0.68096,     0.68075,      0.6804,     0.67973,     0.67952,     0.67923,     0.67881,     0.67831,     0.67797,     0.67777,     0.67726,     0.67689,     0.67665,\n",
       "            0.67639,     0.67608,     0.67542,     0.67512,     0.67482,     0.67457,     0.67424,       0.674,     0.67347,     0.67319,     0.67295,     0.67253,     0.67208,     0.67177,     0.67142,     0.67092,     0.67063,     0.67033,     0.66996,     0.66954,     0.66929,     0.66865,     0.66822,\n",
       "              0.668,     0.66772,     0.66742,     0.66711,     0.66669,     0.66599,     0.66577,      0.6654,     0.66506,     0.66476,     0.66432,     0.66399,     0.66357,     0.66327,     0.66299,     0.66241,     0.66206,     0.66178,      0.6614,     0.66107,     0.66077,     0.66041,     0.66019,\n",
       "            0.65972,     0.65935,      0.6586,     0.65817,     0.65777,     0.65745,     0.65701,     0.65667,     0.65632,     0.65602,     0.65577,     0.65539,     0.65485,     0.65457,     0.65429,     0.65392,     0.65352,     0.65321,     0.65282,     0.65252,     0.65215,     0.65181,     0.65133,\n",
       "            0.65099,     0.65065,     0.65033,     0.64982,     0.64952,     0.64914,      0.6487,      0.6484,     0.64803,     0.64773,     0.64738,     0.64698,      0.6467,     0.64636,     0.64602,     0.64566,     0.64494,     0.64457,     0.64415,     0.64381,     0.64343,     0.64307,     0.64256,\n",
       "            0.64213,      0.6418,      0.6414,     0.64084,     0.64045,     0.64013,      0.6396,     0.63921,     0.63886,     0.63817,      0.6378,     0.63733,     0.63694,     0.63644,     0.63611,     0.63576,     0.63519,     0.63477,      0.6344,     0.63401,     0.63348,     0.63306,     0.63269,\n",
       "            0.63224,     0.63181,     0.63138,     0.63104,     0.63067,     0.63026,     0.62987,     0.62945,     0.62901,     0.62852,     0.62804,     0.62761,     0.62721,     0.62619,     0.62587,      0.6254,     0.62485,     0.62436,     0.62383,     0.62345,     0.62292,     0.62261,     0.62231,\n",
       "            0.62181,     0.62128,     0.62072,     0.62018,     0.61979,     0.61935,     0.61875,      0.6183,     0.61781,     0.61721,     0.61671,     0.61625,     0.61593,     0.61542,     0.61489,     0.61451,     0.61388,     0.61344,     0.61297,     0.61254,     0.61151,     0.61115,     0.61061,\n",
       "             0.6101,      0.6095,     0.60903,      0.6084,     0.60778,     0.60718,     0.60677,      0.6062,     0.60566,     0.60507,     0.60462,     0.60405,     0.60352,     0.60278,     0.60212,      0.6016,     0.60115,     0.60043,     0.59978,       0.599,     0.59843,      0.5979,     0.59718,\n",
       "            0.59654,     0.59601,     0.59542,     0.59493,     0.59431,     0.59368,     0.59306,      0.5924,     0.59184,     0.59119,     0.59064,     0.59016,     0.58963,     0.58899,     0.58782,     0.58736,     0.58675,     0.58616,     0.58569,     0.58504,     0.58424,     0.58342,     0.58271,\n",
       "            0.58207,     0.58145,      0.5809,     0.58038,     0.57981,      0.5792,     0.57863,     0.57808,     0.57747,     0.57688,      0.5762,     0.57569,     0.57508,     0.57444,     0.57391,     0.57333,     0.57249,     0.57183,      0.5712,     0.57069,     0.57004,     0.56929,     0.56866,\n",
       "            0.56796,     0.56731,     0.56655,     0.56583,     0.56495,     0.56341,     0.56264,     0.56191,     0.56126,     0.56044,     0.55984,     0.55888,     0.55799,     0.55712,     0.55629,     0.55554,     0.55483,     0.55415,     0.55333,      0.5527,     0.55192,      0.5512,      0.5505,\n",
       "            0.54962,     0.54866,     0.54797,     0.54709,     0.54604,     0.54415,     0.54335,     0.54255,      0.5418,     0.54096,     0.54028,     0.53935,     0.53851,     0.53784,     0.53677,     0.53603,     0.53506,     0.53426,     0.53347,     0.53284,     0.53195,     0.53011,     0.52931,\n",
       "            0.52841,     0.52748,     0.52649,     0.52559,     0.52469,     0.52382,     0.52277,     0.52175,     0.52099,     0.51882,       0.518,     0.51691,     0.51582,     0.51488,     0.51417,     0.51324,     0.51226,     0.51129,      0.5102,     0.50919,     0.50799,     0.50704,     0.50512,\n",
       "            0.50388,     0.50295,     0.50199,     0.50079,     0.49989,     0.49886,      0.4979,     0.49682,     0.49579,     0.49474,     0.49363,     0.49173,      0.4908,     0.48982,     0.48852,     0.48743,     0.48635,     0.48492,     0.48394,     0.48175,     0.48042,     0.47917,     0.47793,\n",
       "            0.47676,     0.47572,     0.47472,     0.47349,     0.47223,     0.46996,     0.46896,     0.46774,     0.46612,     0.46489,      0.4636,     0.46263,     0.46135,     0.46026,     0.45791,     0.45673,     0.45546,     0.45405,     0.45159,     0.45029,     0.44883,     0.44779,     0.44645,\n",
       "             0.4453,     0.44415,      0.4428,     0.43994,     0.43889,     0.43764,     0.43656,     0.43511,     0.43377,     0.43265,      0.4299,     0.42862,     0.42725,     0.42451,     0.42311,      0.4219,     0.42057,     0.41935,     0.41821,     0.41699,     0.41469,     0.41303,     0.41189,\n",
       "            0.41062,      0.4093,     0.40807,     0.40486,     0.40357,     0.40266,     0.40138,     0.39997,     0.39734,     0.39575,     0.39301,     0.39152,     0.39008,     0.38848,     0.38698,     0.38431,     0.38277,     0.38123,     0.37965,     0.37946,     0.37673,     0.37411,     0.37381,\n",
       "            0.37106,      0.3709,     0.36831,     0.36588,     0.36564,     0.36267,     0.35956,     0.35934,     0.35658,     0.35391,     0.35378,     0.35124,      0.3485,     0.34823,     0.34571,     0.34269,     0.34249,     0.33984,     0.33956,     0.33667,      0.3336,     0.33329,     0.33077,\n",
       "            0.32791,     0.32758,     0.32486,     0.32183,      0.3188,     0.31864,     0.31588,     0.31561,      0.3128,     0.31013,     0.30988,     0.30682,     0.30439,     0.30408,     0.30136,     0.29866,     0.29835,     0.29562,     0.29327,     0.29301,     0.29027,     0.28772,     0.28533,\n",
       "            0.28517,     0.28263,     0.28014,     0.27728,     0.27709,     0.27404,     0.27171,     0.27156,     0.26872,     0.26596,     0.26351,     0.26336,     0.26104,     0.25833,     0.25802,     0.25535,     0.25339,     0.25319,     0.25068,     0.24837,     0.24602,     0.24375,     0.24346,\n",
       "            0.24114,     0.23867,     0.23602,     0.23584,     0.23364,     0.23148,     0.22874,      0.2286,     0.22618,     0.22381,     0.22157,     0.22147,     0.21925,     0.21717,     0.21504,     0.21276,     0.21262,     0.21036,     0.20806,     0.20619,     0.20401,     0.20183,     0.20163,\n",
       "             0.1996,     0.19727,     0.19544,     0.19358,     0.19346,     0.19128,     0.18903,     0.18709,     0.18466,     0.18285,     0.18272,     0.18098,      0.1791,     0.17753,     0.17574,     0.17358,     0.17182,     0.16996,     0.16797,     0.16775,      0.1661,     0.16423,     0.16248,\n",
       "            0.16065,     0.15911,     0.15739,     0.15568,     0.15556,     0.15392,     0.15199,     0.15044,     0.14864,     0.14717,     0.14557,     0.14373,     0.14217,     0.14049,     0.13915,     0.13757,     0.13607,     0.13468,      0.1333,     0.13155,      0.1298,     0.12827,     0.12654,\n",
       "            0.12438,     0.12299,     0.12164,     0.12006,     0.11847,      0.1169,     0.11535,     0.11383,     0.11228,     0.10922,     0.10806,     0.10659,       0.105,     0.10351,     0.10195,      0.1005,    0.099089,    0.097522,    0.095968,    0.094207,    0.092695,    0.089782,    0.088256,\n",
       "           0.086509,    0.084899,     0.08311,    0.081598,    0.080114,    0.077354,    0.075856,    0.073096,    0.071529,     0.07028,    0.068754,    0.067284,    0.064649,    0.063372,    0.061444,    0.060127,     0.05781,    0.056284,    0.054953,    0.052955,    0.051582,    0.050264,    0.048225,\n",
       "           0.046686,    0.045451,    0.043343,    0.041332,    0.039806,    0.037892,    0.036421,    0.034715,    0.033161,     0.03226,    0.030359,    0.028847,    0.026808,    0.025283,    0.023729,    0.022272,    0.021121,    0.019651,    0.018679,    0.017153,    0.016099,    0.015031,    0.013602,\n",
       "           0.012145,    0.011229,    0.010106,   0.0093702,   0.0084544,   0.0076911,   0.0068723,   0.0061922,    0.005526,   0.0050123,   0.0046095,   0.0040404,   0.0037208,   0.0032903,   0.0027904,   0.0024431,   0.0019571,   0.0016514,   0.0014566,   0.0011509,   0.0007758,  0.00066418,  0.00049711,\n",
       "         0.00038549,  0.00026001,  0.00023365,  0.00021703,   0.0001359,  0.00012355,  0.00011786,  0.00011218,  9.2914e-05,  6.8578e-05,  6.6209e-05,   6.384e-05,  6.1472e-05,  5.9103e-05,  5.6734e-05,  4.0135e-05,  3.6977e-05,  3.3819e-05,   3.066e-05,  2.7217e-05,  2.0111e-05,           0,           0,\n",
       "                  0,           0,           0,           0,           0,           0,           0,           0,           0,           0,           0,           0,           0,           0,           0,           0,           0,           0,           0,           0,           0,           0,           0,\n",
       "                  0,           0,           0,           0,           0,           0,           0,           0,           0,           0,           0]]), 'Confidence', 'Recall']]\n",
       "fitness: 0.504825447571835\n",
       "keys: ['metrics/precision(B)', 'metrics/recall(B)', 'metrics/mAP50(B)', 'metrics/mAP50-95(B)']\n",
       "maps: array([    0.47693])\n",
       "names: {0: 'object'}\n",
       "plot: True\n",
       "results_dict: {'metrics/precision(B)': 0.8273906962589721, 'metrics/recall(B)': 0.6906054384320679, 'metrics/mAP50(B)': 0.7559213591399989, 'metrics/mAP50-95(B)': 0.476925901842039, 'fitness': 0.504825447571835}\n",
       "save_dir: WindowsPath('runs/detect/yolov8n-custom2')\n",
       "speed: {'preprocess': 0.26501199514096824, 'inference': 1.4825401735609207, 'loss': 0.0, 'postprocess': 0.7204058353537971}\n",
       "task: 'detect'"
      ]
     },
     "execution_count": 1,
     "metadata": {},
     "output_type": "execute_result"
    }
   ],
   "source": [
    "from ultralytics import YOLO\n",
    "\n",
    "# Create a YOLOv8 Nano model\n",
    "model = YOLO('yolov8n.pt')  # YOLOv8 Nano pretrained weights\n",
    "\n",
    "# Train the model\n",
    "model.train(\n",
    "    data='./C2A_Dataset/new_dataset3/data.yaml',     # Dataset path and configuration\n",
    "    epochs=50,            # Number of training epochs\n",
    "    batch=16,             # Batch size\n",
    "    imgsz=640,            # Image size for training\n",
    "    name=\"yolov8n-custom\" # Experiment name\n",
    ")"
   ]
  },
  {
   "cell_type": "markdown",
   "metadata": {},
   "source": [
    "#### Evaluate on testing set"
   ]
  },
  {
   "cell_type": "code",
   "execution_count": 1,
   "metadata": {},
   "outputs": [
    {
     "name": "stdout",
     "output_type": "stream",
     "text": [
      "Ultralytics 8.3.25  Python-3.12.5 torch-2.5.1+cu121 CUDA:0 (NVIDIA GeForce RTX 4060 Laptop GPU, 8188MiB)\n",
      "Model summary (fused): 168 layers, 3,005,843 parameters, 0 gradients, 8.1 GFLOPs\n"
     ]
    },
    {
     "name": "stderr",
     "output_type": "stream",
     "text": [
      "\u001b[34m\u001b[1mval: \u001b[0mScanning C:\\Users\\Karee\\OneDrive\\Desktop\\Fall 2024 AUS\\COE49413\\Project\\Code\\C2A_Dataset\\new_dataset3\\test\\labels... 2043 images, 0 backgrounds, 0 corrupt: 100%|██████████| 2043/2043 [00:07<00:00, 257.23it/s]\n"
     ]
    },
    {
     "name": "stdout",
     "output_type": "stream",
     "text": [
      "\u001b[34m\u001b[1mval: \u001b[0mNew cache created: C:\\Users\\Karee\\OneDrive\\Desktop\\Fall 2024 AUS\\COE49413\\Project\\Code\\C2A_Dataset\\new_dataset3\\test\\labels.cache\n"
     ]
    },
    {
     "name": "stderr",
     "output_type": "stream",
     "text": [
      "                 Class     Images  Instances      Box(P          R      mAP50  mAP50-95): 100%|██████████| 128/128 [00:33<00:00,  3.77it/s]\n"
     ]
    },
    {
     "name": "stdout",
     "output_type": "stream",
     "text": [
      "                   all       2043      72523      0.829      0.701      0.763      0.488\n",
      "Speed: 0.4ms preprocess, 3.8ms inference, 0.0ms loss, 2.0ms postprocess per image\n",
      "Results saved to \u001b[1mruns\\detect\\val\u001b[0m\n",
      "ultralytics.utils.metrics.DetMetrics object with attributes:\n",
      "\n",
      "ap_class_index: array([0])\n",
      "box: ultralytics.utils.metrics.Metric object\n",
      "confusion_matrix: <ultralytics.utils.metrics.ConfusionMatrix object at 0x0000024CA5D83590>\n",
      "curves: ['Precision-Recall(B)', 'F1-Confidence(B)', 'Precision-Confidence(B)', 'Recall-Confidence(B)']\n",
      "curves_results: [[array([          0,    0.001001,    0.002002,    0.003003,    0.004004,    0.005005,    0.006006,    0.007007,    0.008008,    0.009009,     0.01001,    0.011011,    0.012012,    0.013013,    0.014014,    0.015015,    0.016016,    0.017017,    0.018018,    0.019019,     0.02002,    0.021021,    0.022022,    0.023023,\n",
      "          0.024024,    0.025025,    0.026026,    0.027027,    0.028028,    0.029029,     0.03003,    0.031031,    0.032032,    0.033033,    0.034034,    0.035035,    0.036036,    0.037037,    0.038038,    0.039039,     0.04004,    0.041041,    0.042042,    0.043043,    0.044044,    0.045045,    0.046046,    0.047047,\n",
      "          0.048048,    0.049049,     0.05005,    0.051051,    0.052052,    0.053053,    0.054054,    0.055055,    0.056056,    0.057057,    0.058058,    0.059059,     0.06006,    0.061061,    0.062062,    0.063063,    0.064064,    0.065065,    0.066066,    0.067067,    0.068068,    0.069069,     0.07007,    0.071071,\n",
      "          0.072072,    0.073073,    0.074074,    0.075075,    0.076076,    0.077077,    0.078078,    0.079079,     0.08008,    0.081081,    0.082082,    0.083083,    0.084084,    0.085085,    0.086086,    0.087087,    0.088088,    0.089089,     0.09009,    0.091091,    0.092092,    0.093093,    0.094094,    0.095095,\n",
      "          0.096096,    0.097097,    0.098098,    0.099099,      0.1001,      0.1011,      0.1021,      0.1031,      0.1041,     0.10511,     0.10611,     0.10711,     0.10811,     0.10911,     0.11011,     0.11111,     0.11211,     0.11311,     0.11411,     0.11512,     0.11612,     0.11712,     0.11812,     0.11912,\n",
      "           0.12012,     0.12112,     0.12212,     0.12312,     0.12412,     0.12513,     0.12613,     0.12713,     0.12813,     0.12913,     0.13013,     0.13113,     0.13213,     0.13313,     0.13413,     0.13514,     0.13614,     0.13714,     0.13814,     0.13914,     0.14014,     0.14114,     0.14214,     0.14314,\n",
      "           0.14414,     0.14515,     0.14615,     0.14715,     0.14815,     0.14915,     0.15015,     0.15115,     0.15215,     0.15315,     0.15415,     0.15516,     0.15616,     0.15716,     0.15816,     0.15916,     0.16016,     0.16116,     0.16216,     0.16316,     0.16416,     0.16517,     0.16617,     0.16717,\n",
      "           0.16817,     0.16917,     0.17017,     0.17117,     0.17217,     0.17317,     0.17417,     0.17518,     0.17618,     0.17718,     0.17818,     0.17918,     0.18018,     0.18118,     0.18218,     0.18318,     0.18418,     0.18519,     0.18619,     0.18719,     0.18819,     0.18919,     0.19019,     0.19119,\n",
      "           0.19219,     0.19319,     0.19419,      0.1952,      0.1962,      0.1972,      0.1982,      0.1992,      0.2002,      0.2012,      0.2022,      0.2032,      0.2042,     0.20521,     0.20621,     0.20721,     0.20821,     0.20921,     0.21021,     0.21121,     0.21221,     0.21321,     0.21421,     0.21522,\n",
      "           0.21622,     0.21722,     0.21822,     0.21922,     0.22022,     0.22122,     0.22222,     0.22322,     0.22422,     0.22523,     0.22623,     0.22723,     0.22823,     0.22923,     0.23023,     0.23123,     0.23223,     0.23323,     0.23423,     0.23524,     0.23624,     0.23724,     0.23824,     0.23924,\n",
      "           0.24024,     0.24124,     0.24224,     0.24324,     0.24424,     0.24525,     0.24625,     0.24725,     0.24825,     0.24925,     0.25025,     0.25125,     0.25225,     0.25325,     0.25425,     0.25526,     0.25626,     0.25726,     0.25826,     0.25926,     0.26026,     0.26126,     0.26226,     0.26326,\n",
      "           0.26426,     0.26527,     0.26627,     0.26727,     0.26827,     0.26927,     0.27027,     0.27127,     0.27227,     0.27327,     0.27427,     0.27528,     0.27628,     0.27728,     0.27828,     0.27928,     0.28028,     0.28128,     0.28228,     0.28328,     0.28428,     0.28529,     0.28629,     0.28729,\n",
      "           0.28829,     0.28929,     0.29029,     0.29129,     0.29229,     0.29329,     0.29429,      0.2953,      0.2963,      0.2973,      0.2983,      0.2993,      0.3003,      0.3013,      0.3023,      0.3033,      0.3043,     0.30531,     0.30631,     0.30731,     0.30831,     0.30931,     0.31031,     0.31131,\n",
      "           0.31231,     0.31331,     0.31431,     0.31532,     0.31632,     0.31732,     0.31832,     0.31932,     0.32032,     0.32132,     0.32232,     0.32332,     0.32432,     0.32533,     0.32633,     0.32733,     0.32833,     0.32933,     0.33033,     0.33133,     0.33233,     0.33333,     0.33433,     0.33534,\n",
      "           0.33634,     0.33734,     0.33834,     0.33934,     0.34034,     0.34134,     0.34234,     0.34334,     0.34434,     0.34535,     0.34635,     0.34735,     0.34835,     0.34935,     0.35035,     0.35135,     0.35235,     0.35335,     0.35435,     0.35536,     0.35636,     0.35736,     0.35836,     0.35936,\n",
      "           0.36036,     0.36136,     0.36236,     0.36336,     0.36436,     0.36537,     0.36637,     0.36737,     0.36837,     0.36937,     0.37037,     0.37137,     0.37237,     0.37337,     0.37437,     0.37538,     0.37638,     0.37738,     0.37838,     0.37938,     0.38038,     0.38138,     0.38238,     0.38338,\n",
      "           0.38438,     0.38539,     0.38639,     0.38739,     0.38839,     0.38939,     0.39039,     0.39139,     0.39239,     0.39339,     0.39439,      0.3954,      0.3964,      0.3974,      0.3984,      0.3994,      0.4004,      0.4014,      0.4024,      0.4034,      0.4044,     0.40541,     0.40641,     0.40741,\n",
      "           0.40841,     0.40941,     0.41041,     0.41141,     0.41241,     0.41341,     0.41441,     0.41542,     0.41642,     0.41742,     0.41842,     0.41942,     0.42042,     0.42142,     0.42242,     0.42342,     0.42442,     0.42543,     0.42643,     0.42743,     0.42843,     0.42943,     0.43043,     0.43143,\n",
      "           0.43243,     0.43343,     0.43443,     0.43544,     0.43644,     0.43744,     0.43844,     0.43944,     0.44044,     0.44144,     0.44244,     0.44344,     0.44444,     0.44545,     0.44645,     0.44745,     0.44845,     0.44945,     0.45045,     0.45145,     0.45245,     0.45345,     0.45445,     0.45546,\n",
      "           0.45646,     0.45746,     0.45846,     0.45946,     0.46046,     0.46146,     0.46246,     0.46346,     0.46446,     0.46547,     0.46647,     0.46747,     0.46847,     0.46947,     0.47047,     0.47147,     0.47247,     0.47347,     0.47447,     0.47548,     0.47648,     0.47748,     0.47848,     0.47948,\n",
      "           0.48048,     0.48148,     0.48248,     0.48348,     0.48448,     0.48549,     0.48649,     0.48749,     0.48849,     0.48949,     0.49049,     0.49149,     0.49249,     0.49349,     0.49449,      0.4955,      0.4965,      0.4975,      0.4985,      0.4995,      0.5005,      0.5015,      0.5025,      0.5035,\n",
      "            0.5045,     0.50551,     0.50651,     0.50751,     0.50851,     0.50951,     0.51051,     0.51151,     0.51251,     0.51351,     0.51451,     0.51552,     0.51652,     0.51752,     0.51852,     0.51952,     0.52052,     0.52152,     0.52252,     0.52352,     0.52452,     0.52553,     0.52653,     0.52753,\n",
      "           0.52853,     0.52953,     0.53053,     0.53153,     0.53253,     0.53353,     0.53453,     0.53554,     0.53654,     0.53754,     0.53854,     0.53954,     0.54054,     0.54154,     0.54254,     0.54354,     0.54454,     0.54555,     0.54655,     0.54755,     0.54855,     0.54955,     0.55055,     0.55155,\n",
      "           0.55255,     0.55355,     0.55455,     0.55556,     0.55656,     0.55756,     0.55856,     0.55956,     0.56056,     0.56156,     0.56256,     0.56356,     0.56456,     0.56557,     0.56657,     0.56757,     0.56857,     0.56957,     0.57057,     0.57157,     0.57257,     0.57357,     0.57457,     0.57558,\n",
      "           0.57658,     0.57758,     0.57858,     0.57958,     0.58058,     0.58158,     0.58258,     0.58358,     0.58458,     0.58559,     0.58659,     0.58759,     0.58859,     0.58959,     0.59059,     0.59159,     0.59259,     0.59359,     0.59459,      0.5956,      0.5966,      0.5976,      0.5986,      0.5996,\n",
      "            0.6006,      0.6016,      0.6026,      0.6036,      0.6046,     0.60561,     0.60661,     0.60761,     0.60861,     0.60961,     0.61061,     0.61161,     0.61261,     0.61361,     0.61461,     0.61562,     0.61662,     0.61762,     0.61862,     0.61962,     0.62062,     0.62162,     0.62262,     0.62362,\n",
      "           0.62462,     0.62563,     0.62663,     0.62763,     0.62863,     0.62963,     0.63063,     0.63163,     0.63263,     0.63363,     0.63463,     0.63564,     0.63664,     0.63764,     0.63864,     0.63964,     0.64064,     0.64164,     0.64264,     0.64364,     0.64464,     0.64565,     0.64665,     0.64765,\n",
      "           0.64865,     0.64965,     0.65065,     0.65165,     0.65265,     0.65365,     0.65465,     0.65566,     0.65666,     0.65766,     0.65866,     0.65966,     0.66066,     0.66166,     0.66266,     0.66366,     0.66466,     0.66567,     0.66667,     0.66767,     0.66867,     0.66967,     0.67067,     0.67167,\n",
      "           0.67267,     0.67367,     0.67467,     0.67568,     0.67668,     0.67768,     0.67868,     0.67968,     0.68068,     0.68168,     0.68268,     0.68368,     0.68468,     0.68569,     0.68669,     0.68769,     0.68869,     0.68969,     0.69069,     0.69169,     0.69269,     0.69369,     0.69469,      0.6957,\n",
      "            0.6967,      0.6977,      0.6987,      0.6997,      0.7007,      0.7017,      0.7027,      0.7037,      0.7047,     0.70571,     0.70671,     0.70771,     0.70871,     0.70971,     0.71071,     0.71171,     0.71271,     0.71371,     0.71471,     0.71572,     0.71672,     0.71772,     0.71872,     0.71972,\n",
      "           0.72072,     0.72172,     0.72272,     0.72372,     0.72472,     0.72573,     0.72673,     0.72773,     0.72873,     0.72973,     0.73073,     0.73173,     0.73273,     0.73373,     0.73473,     0.73574,     0.73674,     0.73774,     0.73874,     0.73974,     0.74074,     0.74174,     0.74274,     0.74374,\n",
      "           0.74474,     0.74575,     0.74675,     0.74775,     0.74875,     0.74975,     0.75075,     0.75175,     0.75275,     0.75375,     0.75475,     0.75576,     0.75676,     0.75776,     0.75876,     0.75976,     0.76076,     0.76176,     0.76276,     0.76376,     0.76476,     0.76577,     0.76677,     0.76777,\n",
      "           0.76877,     0.76977,     0.77077,     0.77177,     0.77277,     0.77377,     0.77477,     0.77578,     0.77678,     0.77778,     0.77878,     0.77978,     0.78078,     0.78178,     0.78278,     0.78378,     0.78478,     0.78579,     0.78679,     0.78779,     0.78879,     0.78979,     0.79079,     0.79179,\n",
      "           0.79279,     0.79379,     0.79479,      0.7958,      0.7968,      0.7978,      0.7988,      0.7998,      0.8008,      0.8018,      0.8028,      0.8038,      0.8048,     0.80581,     0.80681,     0.80781,     0.80881,     0.80981,     0.81081,     0.81181,     0.81281,     0.81381,     0.81481,     0.81582,\n",
      "           0.81682,     0.81782,     0.81882,     0.81982,     0.82082,     0.82182,     0.82282,     0.82382,     0.82482,     0.82583,     0.82683,     0.82783,     0.82883,     0.82983,     0.83083,     0.83183,     0.83283,     0.83383,     0.83483,     0.83584,     0.83684,     0.83784,     0.83884,     0.83984,\n",
      "           0.84084,     0.84184,     0.84284,     0.84384,     0.84484,     0.84585,     0.84685,     0.84785,     0.84885,     0.84985,     0.85085,     0.85185,     0.85285,     0.85385,     0.85485,     0.85586,     0.85686,     0.85786,     0.85886,     0.85986,     0.86086,     0.86186,     0.86286,     0.86386,\n",
      "           0.86486,     0.86587,     0.86687,     0.86787,     0.86887,     0.86987,     0.87087,     0.87187,     0.87287,     0.87387,     0.87487,     0.87588,     0.87688,     0.87788,     0.87888,     0.87988,     0.88088,     0.88188,     0.88288,     0.88388,     0.88488,     0.88589,     0.88689,     0.88789,\n",
      "           0.88889,     0.88989,     0.89089,     0.89189,     0.89289,     0.89389,     0.89489,      0.8959,      0.8969,      0.8979,      0.8989,      0.8999,      0.9009,      0.9019,      0.9029,      0.9039,      0.9049,     0.90591,     0.90691,     0.90791,     0.90891,     0.90991,     0.91091,     0.91191,\n",
      "           0.91291,     0.91391,     0.91491,     0.91592,     0.91692,     0.91792,     0.91892,     0.91992,     0.92092,     0.92192,     0.92292,     0.92392,     0.92492,     0.92593,     0.92693,     0.92793,     0.92893,     0.92993,     0.93093,     0.93193,     0.93293,     0.93393,     0.93493,     0.93594,\n",
      "           0.93694,     0.93794,     0.93894,     0.93994,     0.94094,     0.94194,     0.94294,     0.94394,     0.94494,     0.94595,     0.94695,     0.94795,     0.94895,     0.94995,     0.95095,     0.95195,     0.95295,     0.95395,     0.95495,     0.95596,     0.95696,     0.95796,     0.95896,     0.95996,\n",
      "           0.96096,     0.96196,     0.96296,     0.96396,     0.96496,     0.96597,     0.96697,     0.96797,     0.96897,     0.96997,     0.97097,     0.97197,     0.97297,     0.97397,     0.97497,     0.97598,     0.97698,     0.97798,     0.97898,     0.97998,     0.98098,     0.98198,     0.98298,     0.98398,\n",
      "           0.98498,     0.98599,     0.98699,     0.98799,     0.98899,     0.98999,     0.99099,     0.99199,     0.99299,     0.99399,     0.99499,       0.996,       0.997,       0.998,       0.999,           1]), array([[          1,           1,           1,     0.99919,     0.99919,     0.99919,     0.99919,     0.99919,     0.99919,     0.99919,     0.99919,     0.99919,     0.99919,     0.99919,     0.99919,     0.99919,     0.99919,     0.99919,     0.99919,     0.99919,     0.99919,     0.99919,     0.99919,\n",
      "            0.99919,     0.99919,     0.99919,     0.99919,     0.99919,     0.99919,     0.99919,     0.99919,     0.99919,     0.99919,     0.99919,     0.99919,     0.99919,     0.99919,     0.99919,     0.99919,     0.99919,     0.99919,     0.99919,     0.99919,     0.99919,     0.99919,     0.99919,\n",
      "            0.99919,     0.99919,     0.99919,     0.99919,     0.99919,     0.99904,     0.99904,     0.99904,     0.99904,     0.99904,     0.99904,     0.99904,     0.99886,     0.99886,     0.99886,     0.99866,      0.9985,      0.9985,      0.9985,     0.99834,     0.99834,     0.99828,     0.99828,\n",
      "            0.99828,     0.99828,     0.99828,     0.99828,     0.99826,     0.99826,     0.99826,     0.99826,     0.99826,     0.99826,     0.99826,     0.99796,     0.99786,     0.99786,     0.99786,     0.99777,     0.99777,     0.99777,      0.9977,      0.9977,      0.9977,     0.99741,     0.99715,\n",
      "            0.99702,     0.99687,     0.99687,     0.99687,     0.99687,     0.99684,     0.99684,     0.99684,     0.99684,     0.99684,     0.99684,     0.99684,     0.99684,      0.9968,      0.9968,      0.9968,     0.99671,     0.99671,     0.99671,     0.99671,     0.99671,      0.9966,     0.99652,\n",
      "            0.99631,     0.99611,     0.99606,     0.99606,       0.996,       0.996,       0.996,       0.996,       0.996,     0.99584,     0.99584,     0.99571,     0.99571,     0.99552,     0.99552,     0.99552,     0.99552,     0.99526,     0.99526,     0.99523,     0.99523,     0.99506,     0.99493,\n",
      "            0.99486,     0.99478,     0.99472,     0.99437,     0.99432,     0.99408,     0.99402,     0.99397,     0.99383,     0.99367,     0.99364,     0.99364,     0.99364,     0.99358,      0.9934,      0.9934,     0.99339,     0.99339,     0.99317,     0.99313,     0.99282,     0.99282,     0.99277,\n",
      "            0.99271,     0.99218,     0.99205,     0.99195,     0.99181,     0.99171,     0.99159,     0.99155,     0.99152,     0.99149,     0.99139,     0.99136,     0.99118,     0.99093,     0.99081,     0.99078,      0.9906,     0.99042,     0.99028,     0.99015,     0.99001,     0.98989,     0.98972,\n",
      "            0.98941,     0.98922,      0.9891,     0.98901,      0.9887,     0.98848,     0.98824,     0.98817,     0.98809,     0.98796,     0.98788,     0.98773,     0.98758,     0.98723,     0.98696,     0.98691,     0.98689,     0.98677,     0.98656,     0.98642,     0.98602,     0.98577,     0.98564,\n",
      "             0.9856,      0.9854,     0.98522,     0.98516,     0.98495,     0.98479,     0.98479,     0.98476,     0.98474,     0.98444,     0.98434,     0.98428,     0.98417,     0.98391,     0.98383,     0.98354,     0.98313,     0.98299,     0.98292,     0.98277,     0.98266,     0.98256,       0.982,\n",
      "            0.98195,     0.98181,     0.98165,     0.98146,     0.98138,     0.98122,     0.98106,     0.98103,     0.98098,      0.9809,     0.98087,     0.98059,     0.98042,     0.98012,     0.97989,     0.97985,     0.97968,     0.97958,     0.97938,       0.979,     0.97881,     0.97858,     0.97846,\n",
      "            0.97833,     0.97801,     0.97776,     0.97746,     0.97743,     0.97742,     0.97729,     0.97716,      0.9769,     0.97664,     0.97638,     0.97612,     0.97585,     0.97578,      0.9756,      0.9754,     0.97533,     0.97504,     0.97499,     0.97482,     0.97468,     0.97462,     0.97438,\n",
      "            0.97415,     0.97405,     0.97391,     0.97376,     0.97347,     0.97335,     0.97321,      0.9732,     0.97306,     0.97284,     0.97256,     0.97233,      0.9723,     0.97226,     0.97218,     0.97213,     0.97202,     0.97186,     0.97177,     0.97167,     0.97165,     0.97153,      0.9714,\n",
      "            0.97102,     0.97076,     0.97062,      0.9706,     0.97053,     0.97032,     0.97016,     0.96984,     0.96976,     0.96948,     0.96921,     0.96904,     0.96887,     0.96864,     0.96855,     0.96827,     0.96805,     0.96793,     0.96779,     0.96748,     0.96726,       0.967,     0.96699,\n",
      "            0.96671,     0.96645,     0.96625,     0.96612,     0.96589,     0.96581,      0.9658,     0.96568,     0.96544,     0.96515,     0.96505,     0.96484,     0.96474,      0.9645,      0.9644,     0.96422,     0.96413,     0.96392,     0.96374,      0.9635,     0.96339,     0.96318,     0.96301,\n",
      "             0.9629,     0.96281,     0.96276,     0.96264,     0.96251,     0.96244,     0.96214,     0.96199,     0.96199,     0.96188,     0.96175,     0.96166,     0.96146,     0.96131,      0.9611,     0.96088,     0.96074,     0.96059,     0.96025,     0.96021,     0.96018,     0.96008,     0.95994,\n",
      "            0.95963,     0.95947,     0.95936,     0.95924,     0.95917,     0.95904,     0.95883,     0.95866,     0.95857,      0.9584,     0.95818,     0.95813,     0.95789,     0.95767,     0.95745,      0.9573,     0.95725,     0.95703,     0.95675,     0.95655,     0.95644,     0.95635,     0.95608,\n",
      "            0.95587,      0.9558,     0.95569,     0.95554,     0.95541,     0.95496,     0.95477,     0.95471,     0.95454,     0.95445,     0.95432,     0.95416,       0.954,     0.95389,     0.95366,     0.95346,     0.95334,     0.95325,     0.95295,     0.95275,     0.95253,     0.95234,     0.95202,\n",
      "            0.95194,      0.9519,     0.95161,      0.9513,     0.95114,     0.95083,     0.95056,     0.95042,     0.95021,     0.95006,     0.94983,     0.94965,      0.9495,     0.94935,     0.94909,     0.94883,     0.94868,      0.9483,     0.94804,     0.94775,      0.9475,     0.94724,     0.94711,\n",
      "            0.94707,     0.94703,     0.94687,     0.94683,     0.94666,     0.94653,     0.94647,     0.94625,     0.94612,      0.9459,     0.94568,     0.94561,     0.94521,     0.94498,     0.94491,     0.94478,     0.94452,     0.94437,     0.94425,     0.94396,     0.94376,     0.94364,      0.9435,\n",
      "            0.94333,     0.94312,     0.94298,     0.94262,     0.94235,     0.94223,     0.94203,      0.9418,     0.94158,      0.9414,     0.94124,     0.94121,     0.94107,     0.94083,     0.94072,     0.94071,      0.9404,      0.9403,     0.94013,     0.93979,     0.93953,     0.93926,     0.93899,\n",
      "             0.9387,     0.93837,     0.93812,     0.93788,     0.93775,     0.93753,     0.93731,     0.93729,     0.93699,     0.93667,     0.93648,     0.93627,     0.93593,     0.93563,     0.93552,      0.9353,     0.93506,     0.93483,     0.93464,     0.93447,     0.93435,     0.93411,     0.93399,\n",
      "             0.9338,     0.93371,     0.93327,       0.933,     0.93274,     0.93259,     0.93247,     0.93239,     0.93219,     0.93189,     0.93168,     0.93142,     0.93096,     0.93053,     0.93024,     0.92991,     0.92962,     0.92951,     0.92935,      0.9292,     0.92888,     0.92853,     0.92845,\n",
      "            0.92829,     0.92812,     0.92811,     0.92793,     0.92763,     0.92734,     0.92713,     0.92682,     0.92652,      0.9262,     0.92579,      0.9256,     0.92531,     0.92507,     0.92462,     0.92428,     0.92401,     0.92381,     0.92367,      0.9233,     0.92318,     0.92298,     0.92275,\n",
      "            0.92249,      0.9222,     0.92183,     0.92161,     0.92135,     0.92116,     0.92089,     0.92045,     0.92019,     0.91983,     0.91936,     0.91913,      0.9188,     0.91855,     0.91834,     0.91812,     0.91772,     0.91743,     0.91703,     0.91668,     0.91634,       0.916,     0.91548,\n",
      "            0.91522,     0.91493,     0.91446,      0.9141,      0.9136,     0.91328,     0.91285,     0.91261,     0.91229,     0.91212,     0.91167,     0.91135,     0.91103,     0.91083,     0.91051,     0.91009,     0.90987,     0.90956,     0.90911,     0.90881,     0.90849,     0.90823,     0.90794,\n",
      "            0.90763,     0.90724,     0.90702,     0.90658,     0.90625,     0.90553,     0.90522,     0.90481,     0.90423,     0.90395,     0.90368,     0.90316,     0.90263,     0.90211,     0.90134,     0.90071,     0.90035,     0.90001,     0.89949,     0.89914,     0.89858,     0.89817,     0.89778,\n",
      "            0.89728,     0.89678,     0.89627,     0.89577,     0.89555,     0.89516,     0.89456,     0.89412,     0.89369,     0.89332,      0.8926,     0.89205,     0.89141,     0.89102,     0.89058,     0.88991,     0.88935,     0.88887,     0.88827,     0.88766,     0.88702,     0.88609,     0.88549,\n",
      "            0.88478,     0.88396,     0.88309,     0.88221,     0.88146,      0.8808,     0.87991,     0.87934,     0.87857,     0.87807,     0.87732,     0.87653,     0.87592,     0.87542,     0.87455,     0.87357,     0.87278,     0.87198,     0.87122,     0.87007,     0.86906,     0.86784,     0.86652,\n",
      "            0.86562,     0.86449,     0.86374,     0.86272,     0.86159,     0.86097,     0.86018,      0.8591,     0.85812,     0.85707,     0.85625,     0.85529,     0.85419,     0.85317,     0.85194,     0.85097,     0.85001,     0.84884,     0.84787,      0.8466,     0.84561,     0.84455,      0.8435,\n",
      "            0.84188,     0.84039,     0.83926,     0.83818,     0.83701,     0.83583,     0.83487,     0.83368,     0.83222,     0.83082,     0.82952,     0.82826,     0.82709,     0.82592,      0.8242,     0.82252,     0.82111,     0.81948,     0.81752,     0.81621,     0.81455,     0.81308,     0.81137,\n",
      "            0.81006,     0.80781,     0.80618,     0.80434,     0.80265,     0.80097,       0.799,     0.79669,     0.79444,     0.79239,     0.79068,     0.78872,      0.7875,      0.7851,     0.78289,     0.78065,     0.77845,     0.77642,     0.77404,     0.77169,       0.769,     0.76668,     0.76442,\n",
      "            0.76177,     0.75917,     0.75656,     0.75418,     0.75103,     0.74819,     0.74619,     0.74363,     0.74076,     0.73793,     0.73515,     0.73172,     0.72917,     0.72653,     0.72377,     0.72068,      0.7183,      0.7151,     0.71171,     0.70749,     0.70412,     0.70095,     0.69685,\n",
      "            0.69245,     0.68827,     0.68477,     0.68128,     0.67847,       0.675,     0.67068,     0.66671,     0.66337,     0.65877,     0.65342,      0.6493,     0.64411,     0.63931,     0.63443,     0.62878,     0.62297,     0.61785,     0.61257,     0.60802,     0.60102,     0.59466,     0.58915,\n",
      "            0.58287,     0.57748,     0.57338,     0.56609,     0.55972,     0.55306,      0.5476,     0.54234,     0.53691,     0.52932,     0.52336,     0.51745,     0.51009,     0.50449,     0.49816,     0.49227,     0.48707,     0.48107,     0.47533,     0.46901,     0.46266,     0.45578,     0.44981,\n",
      "            0.44285,     0.43674,     0.43097,     0.42536,     0.41968,     0.41393,     0.40756,     0.40134,     0.39584,     0.39035,     0.38498,     0.37993,     0.37358,     0.36685,     0.35907,     0.35342,     0.34747,     0.34224,     0.33438,     0.32943,     0.32361,     0.31632,     0.30955,\n",
      "            0.30422,     0.29768,      0.2917,     0.28483,     0.27917,     0.27245,     0.26602,     0.25929,     0.25337,     0.24699,     0.24062,     0.23383,     0.22767,     0.22026,     0.21343,     0.20585,     0.19821,     0.19085,     0.18359,     0.17559,     0.16591,     0.15703,      0.1486,\n",
      "            0.14124,     0.13014,     0.12141,     0.10931,     0.10722,     0.10648,     0.10573,     0.10499,     0.10424,      0.1035,     0.10275,     0.10201,     0.10127,     0.10052,    0.099777,    0.099032,    0.098287,    0.097543,    0.096798,    0.096054,    0.095309,    0.094564,     0.09382,\n",
      "           0.093075,    0.092331,    0.091586,    0.090841,    0.090097,    0.089352,    0.088608,    0.087863,    0.087118,    0.086374,    0.085629,    0.084885,     0.08414,    0.083395,    0.082651,    0.081906,    0.081161,    0.080417,    0.079672,    0.078928,    0.078183,    0.077438,    0.076694,\n",
      "           0.075949,    0.075205,     0.07446,    0.073715,    0.072971,    0.072226,    0.071482,    0.070737,    0.069992,    0.069248,    0.068503,    0.067759,    0.067014,    0.066269,    0.065525,     0.06478,    0.064036,    0.063291,    0.062546,    0.061802,    0.061057,    0.060313,    0.059568,\n",
      "           0.058823,    0.058079,    0.057334,     0.05659,    0.055845,      0.0551,    0.054356,    0.053611,    0.052867,    0.052122,    0.051377,    0.050633,    0.049888,    0.049144,    0.048399,    0.047654,     0.04691,    0.046165,    0.045421,    0.044676,    0.043931,    0.043187,    0.042442,\n",
      "           0.041698,    0.040953,    0.040208,    0.039464,    0.038719,    0.037975,     0.03723,    0.036485,    0.035741,    0.034996,    0.034252,    0.033507,    0.032762,    0.032018,    0.031273,    0.030529,    0.029784,    0.029039,    0.028295,     0.02755,    0.026806,    0.026061,    0.025316,\n",
      "           0.024572,    0.023827,    0.023083,    0.022338,    0.021593,    0.020849,    0.020104,     0.01936,    0.018615,     0.01787,    0.017126,    0.016381,    0.015637,    0.014892,    0.014147,    0.013403,    0.012658,    0.011914,    0.011169,    0.010424,   0.0096798,   0.0089352,   0.0081906,\n",
      "           0.007446,   0.0067014,   0.0059568,   0.0052122,   0.0044676,    0.003723,   0.0029784,   0.0022338,   0.0014892,   0.0007446,           0]]), 'Recall', 'Precision'], [array([          0,    0.001001,    0.002002,    0.003003,    0.004004,    0.005005,    0.006006,    0.007007,    0.008008,    0.009009,     0.01001,    0.011011,    0.012012,    0.013013,    0.014014,    0.015015,    0.016016,    0.017017,    0.018018,    0.019019,     0.02002,    0.021021,    0.022022,    0.023023,\n",
      "          0.024024,    0.025025,    0.026026,    0.027027,    0.028028,    0.029029,     0.03003,    0.031031,    0.032032,    0.033033,    0.034034,    0.035035,    0.036036,    0.037037,    0.038038,    0.039039,     0.04004,    0.041041,    0.042042,    0.043043,    0.044044,    0.045045,    0.046046,    0.047047,\n",
      "          0.048048,    0.049049,     0.05005,    0.051051,    0.052052,    0.053053,    0.054054,    0.055055,    0.056056,    0.057057,    0.058058,    0.059059,     0.06006,    0.061061,    0.062062,    0.063063,    0.064064,    0.065065,    0.066066,    0.067067,    0.068068,    0.069069,     0.07007,    0.071071,\n",
      "          0.072072,    0.073073,    0.074074,    0.075075,    0.076076,    0.077077,    0.078078,    0.079079,     0.08008,    0.081081,    0.082082,    0.083083,    0.084084,    0.085085,    0.086086,    0.087087,    0.088088,    0.089089,     0.09009,    0.091091,    0.092092,    0.093093,    0.094094,    0.095095,\n",
      "          0.096096,    0.097097,    0.098098,    0.099099,      0.1001,      0.1011,      0.1021,      0.1031,      0.1041,     0.10511,     0.10611,     0.10711,     0.10811,     0.10911,     0.11011,     0.11111,     0.11211,     0.11311,     0.11411,     0.11512,     0.11612,     0.11712,     0.11812,     0.11912,\n",
      "           0.12012,     0.12112,     0.12212,     0.12312,     0.12412,     0.12513,     0.12613,     0.12713,     0.12813,     0.12913,     0.13013,     0.13113,     0.13213,     0.13313,     0.13413,     0.13514,     0.13614,     0.13714,     0.13814,     0.13914,     0.14014,     0.14114,     0.14214,     0.14314,\n",
      "           0.14414,     0.14515,     0.14615,     0.14715,     0.14815,     0.14915,     0.15015,     0.15115,     0.15215,     0.15315,     0.15415,     0.15516,     0.15616,     0.15716,     0.15816,     0.15916,     0.16016,     0.16116,     0.16216,     0.16316,     0.16416,     0.16517,     0.16617,     0.16717,\n",
      "           0.16817,     0.16917,     0.17017,     0.17117,     0.17217,     0.17317,     0.17417,     0.17518,     0.17618,     0.17718,     0.17818,     0.17918,     0.18018,     0.18118,     0.18218,     0.18318,     0.18418,     0.18519,     0.18619,     0.18719,     0.18819,     0.18919,     0.19019,     0.19119,\n",
      "           0.19219,     0.19319,     0.19419,      0.1952,      0.1962,      0.1972,      0.1982,      0.1992,      0.2002,      0.2012,      0.2022,      0.2032,      0.2042,     0.20521,     0.20621,     0.20721,     0.20821,     0.20921,     0.21021,     0.21121,     0.21221,     0.21321,     0.21421,     0.21522,\n",
      "           0.21622,     0.21722,     0.21822,     0.21922,     0.22022,     0.22122,     0.22222,     0.22322,     0.22422,     0.22523,     0.22623,     0.22723,     0.22823,     0.22923,     0.23023,     0.23123,     0.23223,     0.23323,     0.23423,     0.23524,     0.23624,     0.23724,     0.23824,     0.23924,\n",
      "           0.24024,     0.24124,     0.24224,     0.24324,     0.24424,     0.24525,     0.24625,     0.24725,     0.24825,     0.24925,     0.25025,     0.25125,     0.25225,     0.25325,     0.25425,     0.25526,     0.25626,     0.25726,     0.25826,     0.25926,     0.26026,     0.26126,     0.26226,     0.26326,\n",
      "           0.26426,     0.26527,     0.26627,     0.26727,     0.26827,     0.26927,     0.27027,     0.27127,     0.27227,     0.27327,     0.27427,     0.27528,     0.27628,     0.27728,     0.27828,     0.27928,     0.28028,     0.28128,     0.28228,     0.28328,     0.28428,     0.28529,     0.28629,     0.28729,\n",
      "           0.28829,     0.28929,     0.29029,     0.29129,     0.29229,     0.29329,     0.29429,      0.2953,      0.2963,      0.2973,      0.2983,      0.2993,      0.3003,      0.3013,      0.3023,      0.3033,      0.3043,     0.30531,     0.30631,     0.30731,     0.30831,     0.30931,     0.31031,     0.31131,\n",
      "           0.31231,     0.31331,     0.31431,     0.31532,     0.31632,     0.31732,     0.31832,     0.31932,     0.32032,     0.32132,     0.32232,     0.32332,     0.32432,     0.32533,     0.32633,     0.32733,     0.32833,     0.32933,     0.33033,     0.33133,     0.33233,     0.33333,     0.33433,     0.33534,\n",
      "           0.33634,     0.33734,     0.33834,     0.33934,     0.34034,     0.34134,     0.34234,     0.34334,     0.34434,     0.34535,     0.34635,     0.34735,     0.34835,     0.34935,     0.35035,     0.35135,     0.35235,     0.35335,     0.35435,     0.35536,     0.35636,     0.35736,     0.35836,     0.35936,\n",
      "           0.36036,     0.36136,     0.36236,     0.36336,     0.36436,     0.36537,     0.36637,     0.36737,     0.36837,     0.36937,     0.37037,     0.37137,     0.37237,     0.37337,     0.37437,     0.37538,     0.37638,     0.37738,     0.37838,     0.37938,     0.38038,     0.38138,     0.38238,     0.38338,\n",
      "           0.38438,     0.38539,     0.38639,     0.38739,     0.38839,     0.38939,     0.39039,     0.39139,     0.39239,     0.39339,     0.39439,      0.3954,      0.3964,      0.3974,      0.3984,      0.3994,      0.4004,      0.4014,      0.4024,      0.4034,      0.4044,     0.40541,     0.40641,     0.40741,\n",
      "           0.40841,     0.40941,     0.41041,     0.41141,     0.41241,     0.41341,     0.41441,     0.41542,     0.41642,     0.41742,     0.41842,     0.41942,     0.42042,     0.42142,     0.42242,     0.42342,     0.42442,     0.42543,     0.42643,     0.42743,     0.42843,     0.42943,     0.43043,     0.43143,\n",
      "           0.43243,     0.43343,     0.43443,     0.43544,     0.43644,     0.43744,     0.43844,     0.43944,     0.44044,     0.44144,     0.44244,     0.44344,     0.44444,     0.44545,     0.44645,     0.44745,     0.44845,     0.44945,     0.45045,     0.45145,     0.45245,     0.45345,     0.45445,     0.45546,\n",
      "           0.45646,     0.45746,     0.45846,     0.45946,     0.46046,     0.46146,     0.46246,     0.46346,     0.46446,     0.46547,     0.46647,     0.46747,     0.46847,     0.46947,     0.47047,     0.47147,     0.47247,     0.47347,     0.47447,     0.47548,     0.47648,     0.47748,     0.47848,     0.47948,\n",
      "           0.48048,     0.48148,     0.48248,     0.48348,     0.48448,     0.48549,     0.48649,     0.48749,     0.48849,     0.48949,     0.49049,     0.49149,     0.49249,     0.49349,     0.49449,      0.4955,      0.4965,      0.4975,      0.4985,      0.4995,      0.5005,      0.5015,      0.5025,      0.5035,\n",
      "            0.5045,     0.50551,     0.50651,     0.50751,     0.50851,     0.50951,     0.51051,     0.51151,     0.51251,     0.51351,     0.51451,     0.51552,     0.51652,     0.51752,     0.51852,     0.51952,     0.52052,     0.52152,     0.52252,     0.52352,     0.52452,     0.52553,     0.52653,     0.52753,\n",
      "           0.52853,     0.52953,     0.53053,     0.53153,     0.53253,     0.53353,     0.53453,     0.53554,     0.53654,     0.53754,     0.53854,     0.53954,     0.54054,     0.54154,     0.54254,     0.54354,     0.54454,     0.54555,     0.54655,     0.54755,     0.54855,     0.54955,     0.55055,     0.55155,\n",
      "           0.55255,     0.55355,     0.55455,     0.55556,     0.55656,     0.55756,     0.55856,     0.55956,     0.56056,     0.56156,     0.56256,     0.56356,     0.56456,     0.56557,     0.56657,     0.56757,     0.56857,     0.56957,     0.57057,     0.57157,     0.57257,     0.57357,     0.57457,     0.57558,\n",
      "           0.57658,     0.57758,     0.57858,     0.57958,     0.58058,     0.58158,     0.58258,     0.58358,     0.58458,     0.58559,     0.58659,     0.58759,     0.58859,     0.58959,     0.59059,     0.59159,     0.59259,     0.59359,     0.59459,      0.5956,      0.5966,      0.5976,      0.5986,      0.5996,\n",
      "            0.6006,      0.6016,      0.6026,      0.6036,      0.6046,     0.60561,     0.60661,     0.60761,     0.60861,     0.60961,     0.61061,     0.61161,     0.61261,     0.61361,     0.61461,     0.61562,     0.61662,     0.61762,     0.61862,     0.61962,     0.62062,     0.62162,     0.62262,     0.62362,\n",
      "           0.62462,     0.62563,     0.62663,     0.62763,     0.62863,     0.62963,     0.63063,     0.63163,     0.63263,     0.63363,     0.63463,     0.63564,     0.63664,     0.63764,     0.63864,     0.63964,     0.64064,     0.64164,     0.64264,     0.64364,     0.64464,     0.64565,     0.64665,     0.64765,\n",
      "           0.64865,     0.64965,     0.65065,     0.65165,     0.65265,     0.65365,     0.65465,     0.65566,     0.65666,     0.65766,     0.65866,     0.65966,     0.66066,     0.66166,     0.66266,     0.66366,     0.66466,     0.66567,     0.66667,     0.66767,     0.66867,     0.66967,     0.67067,     0.67167,\n",
      "           0.67267,     0.67367,     0.67467,     0.67568,     0.67668,     0.67768,     0.67868,     0.67968,     0.68068,     0.68168,     0.68268,     0.68368,     0.68468,     0.68569,     0.68669,     0.68769,     0.68869,     0.68969,     0.69069,     0.69169,     0.69269,     0.69369,     0.69469,      0.6957,\n",
      "            0.6967,      0.6977,      0.6987,      0.6997,      0.7007,      0.7017,      0.7027,      0.7037,      0.7047,     0.70571,     0.70671,     0.70771,     0.70871,     0.70971,     0.71071,     0.71171,     0.71271,     0.71371,     0.71471,     0.71572,     0.71672,     0.71772,     0.71872,     0.71972,\n",
      "           0.72072,     0.72172,     0.72272,     0.72372,     0.72472,     0.72573,     0.72673,     0.72773,     0.72873,     0.72973,     0.73073,     0.73173,     0.73273,     0.73373,     0.73473,     0.73574,     0.73674,     0.73774,     0.73874,     0.73974,     0.74074,     0.74174,     0.74274,     0.74374,\n",
      "           0.74474,     0.74575,     0.74675,     0.74775,     0.74875,     0.74975,     0.75075,     0.75175,     0.75275,     0.75375,     0.75475,     0.75576,     0.75676,     0.75776,     0.75876,     0.75976,     0.76076,     0.76176,     0.76276,     0.76376,     0.76476,     0.76577,     0.76677,     0.76777,\n",
      "           0.76877,     0.76977,     0.77077,     0.77177,     0.77277,     0.77377,     0.77477,     0.77578,     0.77678,     0.77778,     0.77878,     0.77978,     0.78078,     0.78178,     0.78278,     0.78378,     0.78478,     0.78579,     0.78679,     0.78779,     0.78879,     0.78979,     0.79079,     0.79179,\n",
      "           0.79279,     0.79379,     0.79479,      0.7958,      0.7968,      0.7978,      0.7988,      0.7998,      0.8008,      0.8018,      0.8028,      0.8038,      0.8048,     0.80581,     0.80681,     0.80781,     0.80881,     0.80981,     0.81081,     0.81181,     0.81281,     0.81381,     0.81481,     0.81582,\n",
      "           0.81682,     0.81782,     0.81882,     0.81982,     0.82082,     0.82182,     0.82282,     0.82382,     0.82482,     0.82583,     0.82683,     0.82783,     0.82883,     0.82983,     0.83083,     0.83183,     0.83283,     0.83383,     0.83483,     0.83584,     0.83684,     0.83784,     0.83884,     0.83984,\n",
      "           0.84084,     0.84184,     0.84284,     0.84384,     0.84484,     0.84585,     0.84685,     0.84785,     0.84885,     0.84985,     0.85085,     0.85185,     0.85285,     0.85385,     0.85485,     0.85586,     0.85686,     0.85786,     0.85886,     0.85986,     0.86086,     0.86186,     0.86286,     0.86386,\n",
      "           0.86486,     0.86587,     0.86687,     0.86787,     0.86887,     0.86987,     0.87087,     0.87187,     0.87287,     0.87387,     0.87487,     0.87588,     0.87688,     0.87788,     0.87888,     0.87988,     0.88088,     0.88188,     0.88288,     0.88388,     0.88488,     0.88589,     0.88689,     0.88789,\n",
      "           0.88889,     0.88989,     0.89089,     0.89189,     0.89289,     0.89389,     0.89489,      0.8959,      0.8969,      0.8979,      0.8989,      0.8999,      0.9009,      0.9019,      0.9029,      0.9039,      0.9049,     0.90591,     0.90691,     0.90791,     0.90891,     0.90991,     0.91091,     0.91191,\n",
      "           0.91291,     0.91391,     0.91491,     0.91592,     0.91692,     0.91792,     0.91892,     0.91992,     0.92092,     0.92192,     0.92292,     0.92392,     0.92492,     0.92593,     0.92693,     0.92793,     0.92893,     0.92993,     0.93093,     0.93193,     0.93293,     0.93393,     0.93493,     0.93594,\n",
      "           0.93694,     0.93794,     0.93894,     0.93994,     0.94094,     0.94194,     0.94294,     0.94394,     0.94494,     0.94595,     0.94695,     0.94795,     0.94895,     0.94995,     0.95095,     0.95195,     0.95295,     0.95395,     0.95495,     0.95596,     0.95696,     0.95796,     0.95896,     0.95996,\n",
      "           0.96096,     0.96196,     0.96296,     0.96396,     0.96496,     0.96597,     0.96697,     0.96797,     0.96897,     0.96997,     0.97097,     0.97197,     0.97297,     0.97397,     0.97497,     0.97598,     0.97698,     0.97798,     0.97898,     0.97998,     0.98098,     0.98198,     0.98298,     0.98398,\n",
      "           0.98498,     0.98599,     0.98699,     0.98799,     0.98899,     0.98999,     0.99099,     0.99199,     0.99299,     0.99399,     0.99499,       0.996,       0.997,       0.998,       0.999,           1]), array([[    0.19164,     0.19166,     0.21825,     0.24548,     0.26984,     0.29145,     0.31068,     0.32812,     0.34411,     0.35877,     0.37233,     0.38529,     0.39776,     0.40968,     0.42083,     0.43204,     0.44263,      0.4525,     0.46242,     0.47184,     0.48115,     0.48983,     0.49806,\n",
      "            0.50643,     0.51447,     0.52227,      0.5296,     0.53674,     0.54351,     0.55054,     0.55692,     0.56311,     0.56911,     0.57468,     0.58036,     0.58586,     0.59089,       0.596,     0.60081,      0.6053,     0.60977,     0.61432,     0.61846,     0.62233,     0.62629,     0.62995,\n",
      "            0.63348,     0.63705,     0.64054,      0.6436,     0.64667,     0.64946,      0.6524,      0.6553,     0.65815,     0.66082,     0.66323,     0.66547,     0.66784,     0.67015,     0.67238,     0.67452,     0.67656,     0.67861,     0.68051,     0.68248,     0.68423,      0.6859,     0.68769,\n",
      "            0.68913,     0.69058,     0.69214,     0.69376,     0.69504,     0.69644,     0.69794,     0.69922,     0.70044,     0.70175,     0.70313,     0.70436,     0.70549,     0.70655,     0.70764,     0.70885,     0.70997,       0.711,     0.71204,     0.71296,     0.71379,     0.71464,     0.71565,\n",
      "            0.71658,     0.71739,     0.71815,     0.71883,      0.7196,     0.72037,     0.72104,     0.72183,      0.7225,     0.72317,     0.72396,     0.72466,     0.72533,     0.72601,     0.72667,     0.72734,     0.72789,     0.72857,     0.72908,     0.72958,     0.73016,     0.73073,     0.73127,\n",
      "             0.7319,     0.73233,     0.73283,     0.73337,     0.73384,     0.73432,     0.73483,     0.73526,     0.73554,     0.73596,     0.73631,     0.73669,     0.73707,     0.73738,     0.73774,     0.73805,     0.73842,     0.73876,     0.73902,     0.73931,     0.73964,     0.74006,     0.74059,\n",
      "             0.7409,     0.74125,     0.74156,     0.74182,     0.74223,     0.74246,     0.74277,     0.74305,     0.74336,     0.74366,     0.74391,     0.74424,     0.74446,     0.74471,     0.74488,     0.74521,     0.74549,     0.74574,     0.74598,     0.74629,     0.74658,     0.74686,     0.74715,\n",
      "            0.74741,     0.74759,     0.74784,     0.74807,     0.74829,     0.74849,     0.74872,       0.749,     0.74918,     0.74936,     0.74962,     0.74991,     0.75005,      0.7503,     0.75055,      0.7507,     0.75079,     0.75106,     0.75145,     0.75163,     0.75171,     0.75199,     0.75204,\n",
      "            0.75232,     0.75247,     0.75277,     0.75291,      0.7531,     0.75323,     0.75336,     0.75349,     0.75367,     0.75384,     0.75401,     0.75416,     0.75425,     0.75441,      0.7545,     0.75472,     0.75489,     0.75509,     0.75523,     0.75535,     0.75534,      0.7554,     0.75552,\n",
      "            0.75563,     0.75568,     0.75577,     0.75587,     0.75594,     0.75603,     0.75609,     0.75625,     0.75633,     0.75646,     0.75665,     0.75676,     0.75697,     0.75719,     0.75726,     0.75742,     0.75753,     0.75758,     0.75761,     0.75772,      0.7578,      0.7579,     0.75797,\n",
      "            0.75797,     0.75803,     0.75813,     0.75823,     0.75831,      0.7584,     0.75837,     0.75853,     0.75862,     0.75863,      0.7588,     0.75891,     0.75882,     0.75887,     0.75896,     0.75898,     0.75901,     0.75905,     0.75904,     0.75911,     0.75918,     0.75924,     0.75927,\n",
      "            0.75926,     0.75924,     0.75924,     0.75926,     0.75935,     0.75948,     0.75956,     0.75964,     0.75967,     0.75958,     0.75967,     0.75967,     0.75969,     0.75973,     0.75976,     0.75978,     0.75977,     0.75988,     0.75994,      0.7598,     0.75987,     0.75975,     0.75971,\n",
      "            0.75977,     0.75981,     0.75971,     0.75973,     0.75965,     0.75964,     0.75962,     0.75965,     0.75963,     0.75958,     0.75958,     0.75964,     0.75968,     0.75966,     0.75962,     0.75946,     0.75945,     0.75935,     0.75933,     0.75927,     0.75918,     0.75912,     0.75913,\n",
      "            0.75908,      0.7591,     0.75895,       0.759,     0.75891,     0.75883,     0.75887,     0.75891,     0.75882,     0.75879,     0.75886,     0.75886,     0.75887,     0.75881,     0.75877,     0.75872,     0.75862,     0.75855,     0.75846,     0.75839,     0.75828,     0.75819,     0.75816,\n",
      "            0.75821,     0.75819,     0.75803,     0.75797,     0.75794,     0.75786,     0.75787,     0.75783,     0.75767,     0.75765,     0.75763,     0.75747,     0.75741,     0.75727,     0.75726,     0.75723,     0.75716,     0.75713,       0.757,     0.75699,      0.7569,     0.75682,     0.75668,\n",
      "            0.75669,     0.75657,     0.75652,     0.75631,     0.75617,     0.75608,     0.75604,     0.75592,     0.75591,     0.75584,     0.75574,     0.75557,     0.75561,     0.75548,     0.75541,     0.75524,     0.75505,     0.75489,     0.75478,     0.75473,     0.75469,     0.75456,      0.7545,\n",
      "            0.75438,     0.75424,     0.75406,     0.75392,     0.75393,     0.75383,     0.75375,     0.75361,     0.75358,     0.75348,     0.75344,     0.75337,     0.75331,     0.75332,     0.75326,      0.7532,     0.75301,     0.75294,     0.75297,     0.75282,     0.75272,     0.75261,     0.75244,\n",
      "            0.75234,     0.75228,     0.75209,     0.75189,      0.7518,     0.75167,     0.75154,     0.75153,     0.75128,     0.75118,     0.75108,     0.75096,     0.75072,     0.75052,     0.75027,     0.75013,     0.75013,     0.74982,     0.74966,     0.74955,     0.74934,      0.7492,     0.74892,\n",
      "            0.74878,     0.74866,     0.74847,     0.74824,     0.74801,     0.74787,     0.74777,     0.74766,     0.74748,     0.74734,     0.74721,     0.74706,      0.7468,     0.74671,     0.74664,      0.7465,     0.74637,     0.74619,     0.74613,     0.74602,      0.7458,     0.74565,     0.74551,\n",
      "            0.74537,     0.74514,     0.74494,     0.74485,     0.74459,      0.7444,     0.74422,     0.74402,     0.74381,     0.74352,     0.74335,     0.74317,     0.74297,     0.74276,     0.74254,     0.74242,     0.74212,     0.74191,     0.74169,     0.74145,      0.7412,     0.74081,     0.74065,\n",
      "            0.74037,     0.74015,      0.7399,     0.73965,     0.73942,     0.73935,     0.73898,     0.73862,     0.73831,     0.73812,     0.73782,     0.73751,     0.73735,      0.7371,     0.73672,     0.73646,     0.73594,     0.73575,      0.7353,     0.73509,     0.73475,     0.73452,      0.7342,\n",
      "            0.73402,     0.73373,     0.73346,      0.7331,     0.73286,      0.7326,     0.73233,       0.732,     0.73162,     0.73122,     0.73113,     0.73082,     0.73047,     0.73018,      0.7298,     0.72963,     0.72934,     0.72918,     0.72891,     0.72848,     0.72833,     0.72793,     0.72766,\n",
      "             0.7274,     0.72708,     0.72668,      0.7263,     0.72598,     0.72572,     0.72534,     0.72494,     0.72444,     0.72429,     0.72403,     0.72375,     0.72328,     0.72293,     0.72268,     0.72226,     0.72176,      0.7214,     0.72102,      0.7205,     0.72017,     0.71961,     0.71911,\n",
      "            0.71866,     0.71824,     0.71791,     0.71749,     0.71699,     0.71651,     0.71599,     0.71548,      0.7151,     0.71466,      0.7142,      0.7138,     0.71342,      0.7129,     0.71252,     0.71206,     0.71155,     0.71102,     0.71056,     0.71014,     0.70962,     0.70913,     0.70872,\n",
      "             0.7083,     0.70792,     0.70744,     0.70699,     0.70636,     0.70587,     0.70551,     0.70489,     0.70437,     0.70393,     0.70348,     0.70312,     0.70243,     0.70199,     0.70156,     0.70097,     0.70042,     0.69988,     0.69932,     0.69873,     0.69801,     0.69757,     0.69709,\n",
      "            0.69654,       0.696,     0.69547,     0.69496,     0.69434,     0.69364,     0.69292,     0.69227,     0.69176,     0.69127,     0.69055,     0.68982,     0.68907,      0.6884,     0.68774,     0.68707,     0.68629,     0.68552,     0.68487,     0.68432,     0.68368,     0.68301,     0.68224,\n",
      "            0.68154,     0.68101,     0.68041,     0.67978,     0.67917,     0.67833,     0.67764,     0.67679,     0.67604,      0.6751,     0.67436,     0.67348,     0.67268,     0.67215,     0.67141,     0.67049,      0.6696,     0.66873,     0.66796,     0.66714,     0.66645,     0.66577,     0.66498,\n",
      "            0.66426,     0.66342,     0.66268,     0.66192,     0.66108,     0.66014,     0.65919,     0.65838,     0.65769,     0.65655,     0.65565,      0.6547,     0.65382,     0.65301,     0.65204,      0.6512,     0.65024,     0.64948,     0.64846,     0.64765,     0.64677,      0.6457,     0.64467,\n",
      "            0.64365,     0.64247,     0.64133,     0.64025,     0.63926,     0.63832,     0.63705,     0.63594,     0.63476,     0.63368,     0.63267,     0.63126,     0.63022,     0.62913,     0.62784,     0.62661,     0.62515,     0.62416,     0.62307,     0.62168,     0.62038,     0.61911,     0.61773,\n",
      "             0.6164,     0.61515,     0.61401,     0.61271,     0.61148,     0.60997,     0.60877,     0.60735,     0.60592,     0.60421,     0.60277,     0.60147,     0.60007,     0.59859,       0.597,     0.59556,     0.59411,     0.59284,     0.59162,     0.59013,     0.58864,     0.58719,     0.58551,\n",
      "            0.58409,     0.58245,     0.58112,     0.57972,     0.57824,     0.57636,     0.57481,     0.57343,     0.57181,     0.57022,      0.5686,     0.56699,     0.56529,     0.56357,     0.56191,      0.5604,     0.55876,      0.5571,     0.55521,     0.55338,     0.55159,     0.54979,     0.54831,\n",
      "            0.54651,     0.54477,     0.54286,     0.54131,     0.53937,     0.53741,     0.53585,     0.53411,     0.53207,     0.53019,     0.52823,     0.52634,     0.52407,      0.5222,     0.52027,     0.51797,     0.51573,     0.51382,     0.51165,     0.50958,     0.50771,     0.50585,     0.50382,\n",
      "            0.50128,     0.49922,     0.49732,     0.49539,     0.49303,     0.49071,     0.48798,     0.48557,     0.48365,     0.48146,      0.4796,     0.47752,     0.47555,     0.47352,     0.47104,     0.46871,     0.46681,     0.46457,     0.46235,      0.4602,      0.4578,     0.45554,     0.45311,\n",
      "            0.45068,     0.44856,     0.44572,     0.44323,     0.44094,     0.43851,     0.43585,     0.43352,     0.43131,     0.42853,     0.42617,     0.42346,     0.42121,     0.41888,     0.41653,     0.41409,     0.41204,     0.40985,     0.40766,     0.40514,      0.4028,     0.40016,     0.39771,\n",
      "            0.39541,     0.39284,     0.39058,     0.38819,     0.38596,     0.38334,     0.38108,     0.37828,     0.37597,     0.37302,     0.37054,     0.36812,     0.36537,     0.36302,     0.36062,     0.35836,     0.35592,     0.35319,     0.35079,     0.34827,     0.34558,     0.34331,     0.34076,\n",
      "            0.33857,     0.33658,     0.33438,     0.33193,     0.32954,     0.32686,     0.32453,     0.32213,     0.32016,     0.31767,     0.31544,      0.3131,     0.31074,     0.30819,      0.3059,     0.30341,     0.30087,     0.29834,     0.29589,     0.29359,     0.29101,     0.28846,     0.28571,\n",
      "             0.2837,     0.28112,     0.27866,     0.27618,     0.27337,     0.27078,     0.26849,     0.26566,     0.26284,     0.26065,     0.25844,     0.25597,     0.25368,     0.25069,     0.24805,     0.24577,     0.24298,     0.24056,     0.23784,     0.23506,     0.23288,     0.23044,     0.22779,\n",
      "            0.22575,     0.22357,     0.22133,     0.21859,      0.2163,     0.21396,     0.21108,     0.20841,     0.20567,     0.20333,     0.20045,     0.19778,      0.1952,       0.193,     0.19045,     0.18786,     0.18495,     0.18208,     0.17903,     0.17642,     0.17362,     0.17087,     0.16831,\n",
      "            0.16553,      0.1626,     0.15907,     0.15581,     0.15269,     0.14985,     0.14671,     0.14399,     0.14088,     0.13758,     0.13465,     0.13152,      0.1288,     0.12587,     0.12291,     0.11928,     0.11623,     0.11328,     0.10961,     0.10641,     0.10316,    0.099792,    0.096283,\n",
      "           0.093177,    0.089648,    0.086458,    0.083506,    0.080677,    0.077062,    0.073515,     0.07036,    0.066821,    0.063516,    0.060583,    0.057673,    0.055001,    0.051848,    0.048891,    0.046354,    0.044129,    0.041193,    0.038635,    0.036084,    0.033488,    0.031013,    0.028374,\n",
      "           0.026229,    0.024134,    0.022311,    0.020327,    0.018577,    0.016763,     0.01524,    0.013696,    0.012216,    0.011039,   0.0095786,   0.0085825,     0.00756,   0.0061294,   0.0053655,    0.004516,   0.0037969,    0.003171,   0.0027507,   0.0022456,    0.001899,    0.001556,    0.001361,\n",
      "         0.00096474,  0.00082156,    0.000666,  0.00054488,  0.00042989,  0.00030297,  0.00027816,  0.00023466,  0.00021805,  0.00018993,  0.00016487,  0.00015737,  0.00014986,  0.00014236,  0.00011411,  0.00010102,  9.1092e-05,  7.3022e-05,  3.1202e-05,           0,           0,           0,           0,\n",
      "                  0,           0,           0,           0,           0,           0,           0,           0,           0,           0,           0,           0,           0,           0,           0,           0,           0,           0,           0,           0,           0,           0,           0,\n",
      "                  0,           0,           0,           0,           0,           0,           0,           0,           0,           0,           0]]), 'Confidence', 'F1'], [array([          0,    0.001001,    0.002002,    0.003003,    0.004004,    0.005005,    0.006006,    0.007007,    0.008008,    0.009009,     0.01001,    0.011011,    0.012012,    0.013013,    0.014014,    0.015015,    0.016016,    0.017017,    0.018018,    0.019019,     0.02002,    0.021021,    0.022022,    0.023023,\n",
      "          0.024024,    0.025025,    0.026026,    0.027027,    0.028028,    0.029029,     0.03003,    0.031031,    0.032032,    0.033033,    0.034034,    0.035035,    0.036036,    0.037037,    0.038038,    0.039039,     0.04004,    0.041041,    0.042042,    0.043043,    0.044044,    0.045045,    0.046046,    0.047047,\n",
      "          0.048048,    0.049049,     0.05005,    0.051051,    0.052052,    0.053053,    0.054054,    0.055055,    0.056056,    0.057057,    0.058058,    0.059059,     0.06006,    0.061061,    0.062062,    0.063063,    0.064064,    0.065065,    0.066066,    0.067067,    0.068068,    0.069069,     0.07007,    0.071071,\n",
      "          0.072072,    0.073073,    0.074074,    0.075075,    0.076076,    0.077077,    0.078078,    0.079079,     0.08008,    0.081081,    0.082082,    0.083083,    0.084084,    0.085085,    0.086086,    0.087087,    0.088088,    0.089089,     0.09009,    0.091091,    0.092092,    0.093093,    0.094094,    0.095095,\n",
      "          0.096096,    0.097097,    0.098098,    0.099099,      0.1001,      0.1011,      0.1021,      0.1031,      0.1041,     0.10511,     0.10611,     0.10711,     0.10811,     0.10911,     0.11011,     0.11111,     0.11211,     0.11311,     0.11411,     0.11512,     0.11612,     0.11712,     0.11812,     0.11912,\n",
      "           0.12012,     0.12112,     0.12212,     0.12312,     0.12412,     0.12513,     0.12613,     0.12713,     0.12813,     0.12913,     0.13013,     0.13113,     0.13213,     0.13313,     0.13413,     0.13514,     0.13614,     0.13714,     0.13814,     0.13914,     0.14014,     0.14114,     0.14214,     0.14314,\n",
      "           0.14414,     0.14515,     0.14615,     0.14715,     0.14815,     0.14915,     0.15015,     0.15115,     0.15215,     0.15315,     0.15415,     0.15516,     0.15616,     0.15716,     0.15816,     0.15916,     0.16016,     0.16116,     0.16216,     0.16316,     0.16416,     0.16517,     0.16617,     0.16717,\n",
      "           0.16817,     0.16917,     0.17017,     0.17117,     0.17217,     0.17317,     0.17417,     0.17518,     0.17618,     0.17718,     0.17818,     0.17918,     0.18018,     0.18118,     0.18218,     0.18318,     0.18418,     0.18519,     0.18619,     0.18719,     0.18819,     0.18919,     0.19019,     0.19119,\n",
      "           0.19219,     0.19319,     0.19419,      0.1952,      0.1962,      0.1972,      0.1982,      0.1992,      0.2002,      0.2012,      0.2022,      0.2032,      0.2042,     0.20521,     0.20621,     0.20721,     0.20821,     0.20921,     0.21021,     0.21121,     0.21221,     0.21321,     0.21421,     0.21522,\n",
      "           0.21622,     0.21722,     0.21822,     0.21922,     0.22022,     0.22122,     0.22222,     0.22322,     0.22422,     0.22523,     0.22623,     0.22723,     0.22823,     0.22923,     0.23023,     0.23123,     0.23223,     0.23323,     0.23423,     0.23524,     0.23624,     0.23724,     0.23824,     0.23924,\n",
      "           0.24024,     0.24124,     0.24224,     0.24324,     0.24424,     0.24525,     0.24625,     0.24725,     0.24825,     0.24925,     0.25025,     0.25125,     0.25225,     0.25325,     0.25425,     0.25526,     0.25626,     0.25726,     0.25826,     0.25926,     0.26026,     0.26126,     0.26226,     0.26326,\n",
      "           0.26426,     0.26527,     0.26627,     0.26727,     0.26827,     0.26927,     0.27027,     0.27127,     0.27227,     0.27327,     0.27427,     0.27528,     0.27628,     0.27728,     0.27828,     0.27928,     0.28028,     0.28128,     0.28228,     0.28328,     0.28428,     0.28529,     0.28629,     0.28729,\n",
      "           0.28829,     0.28929,     0.29029,     0.29129,     0.29229,     0.29329,     0.29429,      0.2953,      0.2963,      0.2973,      0.2983,      0.2993,      0.3003,      0.3013,      0.3023,      0.3033,      0.3043,     0.30531,     0.30631,     0.30731,     0.30831,     0.30931,     0.31031,     0.31131,\n",
      "           0.31231,     0.31331,     0.31431,     0.31532,     0.31632,     0.31732,     0.31832,     0.31932,     0.32032,     0.32132,     0.32232,     0.32332,     0.32432,     0.32533,     0.32633,     0.32733,     0.32833,     0.32933,     0.33033,     0.33133,     0.33233,     0.33333,     0.33433,     0.33534,\n",
      "           0.33634,     0.33734,     0.33834,     0.33934,     0.34034,     0.34134,     0.34234,     0.34334,     0.34434,     0.34535,     0.34635,     0.34735,     0.34835,     0.34935,     0.35035,     0.35135,     0.35235,     0.35335,     0.35435,     0.35536,     0.35636,     0.35736,     0.35836,     0.35936,\n",
      "           0.36036,     0.36136,     0.36236,     0.36336,     0.36436,     0.36537,     0.36637,     0.36737,     0.36837,     0.36937,     0.37037,     0.37137,     0.37237,     0.37337,     0.37437,     0.37538,     0.37638,     0.37738,     0.37838,     0.37938,     0.38038,     0.38138,     0.38238,     0.38338,\n",
      "           0.38438,     0.38539,     0.38639,     0.38739,     0.38839,     0.38939,     0.39039,     0.39139,     0.39239,     0.39339,     0.39439,      0.3954,      0.3964,      0.3974,      0.3984,      0.3994,      0.4004,      0.4014,      0.4024,      0.4034,      0.4044,     0.40541,     0.40641,     0.40741,\n",
      "           0.40841,     0.40941,     0.41041,     0.41141,     0.41241,     0.41341,     0.41441,     0.41542,     0.41642,     0.41742,     0.41842,     0.41942,     0.42042,     0.42142,     0.42242,     0.42342,     0.42442,     0.42543,     0.42643,     0.42743,     0.42843,     0.42943,     0.43043,     0.43143,\n",
      "           0.43243,     0.43343,     0.43443,     0.43544,     0.43644,     0.43744,     0.43844,     0.43944,     0.44044,     0.44144,     0.44244,     0.44344,     0.44444,     0.44545,     0.44645,     0.44745,     0.44845,     0.44945,     0.45045,     0.45145,     0.45245,     0.45345,     0.45445,     0.45546,\n",
      "           0.45646,     0.45746,     0.45846,     0.45946,     0.46046,     0.46146,     0.46246,     0.46346,     0.46446,     0.46547,     0.46647,     0.46747,     0.46847,     0.46947,     0.47047,     0.47147,     0.47247,     0.47347,     0.47447,     0.47548,     0.47648,     0.47748,     0.47848,     0.47948,\n",
      "           0.48048,     0.48148,     0.48248,     0.48348,     0.48448,     0.48549,     0.48649,     0.48749,     0.48849,     0.48949,     0.49049,     0.49149,     0.49249,     0.49349,     0.49449,      0.4955,      0.4965,      0.4975,      0.4985,      0.4995,      0.5005,      0.5015,      0.5025,      0.5035,\n",
      "            0.5045,     0.50551,     0.50651,     0.50751,     0.50851,     0.50951,     0.51051,     0.51151,     0.51251,     0.51351,     0.51451,     0.51552,     0.51652,     0.51752,     0.51852,     0.51952,     0.52052,     0.52152,     0.52252,     0.52352,     0.52452,     0.52553,     0.52653,     0.52753,\n",
      "           0.52853,     0.52953,     0.53053,     0.53153,     0.53253,     0.53353,     0.53453,     0.53554,     0.53654,     0.53754,     0.53854,     0.53954,     0.54054,     0.54154,     0.54254,     0.54354,     0.54454,     0.54555,     0.54655,     0.54755,     0.54855,     0.54955,     0.55055,     0.55155,\n",
      "           0.55255,     0.55355,     0.55455,     0.55556,     0.55656,     0.55756,     0.55856,     0.55956,     0.56056,     0.56156,     0.56256,     0.56356,     0.56456,     0.56557,     0.56657,     0.56757,     0.56857,     0.56957,     0.57057,     0.57157,     0.57257,     0.57357,     0.57457,     0.57558,\n",
      "           0.57658,     0.57758,     0.57858,     0.57958,     0.58058,     0.58158,     0.58258,     0.58358,     0.58458,     0.58559,     0.58659,     0.58759,     0.58859,     0.58959,     0.59059,     0.59159,     0.59259,     0.59359,     0.59459,      0.5956,      0.5966,      0.5976,      0.5986,      0.5996,\n",
      "            0.6006,      0.6016,      0.6026,      0.6036,      0.6046,     0.60561,     0.60661,     0.60761,     0.60861,     0.60961,     0.61061,     0.61161,     0.61261,     0.61361,     0.61461,     0.61562,     0.61662,     0.61762,     0.61862,     0.61962,     0.62062,     0.62162,     0.62262,     0.62362,\n",
      "           0.62462,     0.62563,     0.62663,     0.62763,     0.62863,     0.62963,     0.63063,     0.63163,     0.63263,     0.63363,     0.63463,     0.63564,     0.63664,     0.63764,     0.63864,     0.63964,     0.64064,     0.64164,     0.64264,     0.64364,     0.64464,     0.64565,     0.64665,     0.64765,\n",
      "           0.64865,     0.64965,     0.65065,     0.65165,     0.65265,     0.65365,     0.65465,     0.65566,     0.65666,     0.65766,     0.65866,     0.65966,     0.66066,     0.66166,     0.66266,     0.66366,     0.66466,     0.66567,     0.66667,     0.66767,     0.66867,     0.66967,     0.67067,     0.67167,\n",
      "           0.67267,     0.67367,     0.67467,     0.67568,     0.67668,     0.67768,     0.67868,     0.67968,     0.68068,     0.68168,     0.68268,     0.68368,     0.68468,     0.68569,     0.68669,     0.68769,     0.68869,     0.68969,     0.69069,     0.69169,     0.69269,     0.69369,     0.69469,      0.6957,\n",
      "            0.6967,      0.6977,      0.6987,      0.6997,      0.7007,      0.7017,      0.7027,      0.7037,      0.7047,     0.70571,     0.70671,     0.70771,     0.70871,     0.70971,     0.71071,     0.71171,     0.71271,     0.71371,     0.71471,     0.71572,     0.71672,     0.71772,     0.71872,     0.71972,\n",
      "           0.72072,     0.72172,     0.72272,     0.72372,     0.72472,     0.72573,     0.72673,     0.72773,     0.72873,     0.72973,     0.73073,     0.73173,     0.73273,     0.73373,     0.73473,     0.73574,     0.73674,     0.73774,     0.73874,     0.73974,     0.74074,     0.74174,     0.74274,     0.74374,\n",
      "           0.74474,     0.74575,     0.74675,     0.74775,     0.74875,     0.74975,     0.75075,     0.75175,     0.75275,     0.75375,     0.75475,     0.75576,     0.75676,     0.75776,     0.75876,     0.75976,     0.76076,     0.76176,     0.76276,     0.76376,     0.76476,     0.76577,     0.76677,     0.76777,\n",
      "           0.76877,     0.76977,     0.77077,     0.77177,     0.77277,     0.77377,     0.77477,     0.77578,     0.77678,     0.77778,     0.77878,     0.77978,     0.78078,     0.78178,     0.78278,     0.78378,     0.78478,     0.78579,     0.78679,     0.78779,     0.78879,     0.78979,     0.79079,     0.79179,\n",
      "           0.79279,     0.79379,     0.79479,      0.7958,      0.7968,      0.7978,      0.7988,      0.7998,      0.8008,      0.8018,      0.8028,      0.8038,      0.8048,     0.80581,     0.80681,     0.80781,     0.80881,     0.80981,     0.81081,     0.81181,     0.81281,     0.81381,     0.81481,     0.81582,\n",
      "           0.81682,     0.81782,     0.81882,     0.81982,     0.82082,     0.82182,     0.82282,     0.82382,     0.82482,     0.82583,     0.82683,     0.82783,     0.82883,     0.82983,     0.83083,     0.83183,     0.83283,     0.83383,     0.83483,     0.83584,     0.83684,     0.83784,     0.83884,     0.83984,\n",
      "           0.84084,     0.84184,     0.84284,     0.84384,     0.84484,     0.84585,     0.84685,     0.84785,     0.84885,     0.84985,     0.85085,     0.85185,     0.85285,     0.85385,     0.85485,     0.85586,     0.85686,     0.85786,     0.85886,     0.85986,     0.86086,     0.86186,     0.86286,     0.86386,\n",
      "           0.86486,     0.86587,     0.86687,     0.86787,     0.86887,     0.86987,     0.87087,     0.87187,     0.87287,     0.87387,     0.87487,     0.87588,     0.87688,     0.87788,     0.87888,     0.87988,     0.88088,     0.88188,     0.88288,     0.88388,     0.88488,     0.88589,     0.88689,     0.88789,\n",
      "           0.88889,     0.88989,     0.89089,     0.89189,     0.89289,     0.89389,     0.89489,      0.8959,      0.8969,      0.8979,      0.8989,      0.8999,      0.9009,      0.9019,      0.9029,      0.9039,      0.9049,     0.90591,     0.90691,     0.90791,     0.90891,     0.90991,     0.91091,     0.91191,\n",
      "           0.91291,     0.91391,     0.91491,     0.91592,     0.91692,     0.91792,     0.91892,     0.91992,     0.92092,     0.92192,     0.92292,     0.92392,     0.92492,     0.92593,     0.92693,     0.92793,     0.92893,     0.92993,     0.93093,     0.93193,     0.93293,     0.93393,     0.93493,     0.93594,\n",
      "           0.93694,     0.93794,     0.93894,     0.93994,     0.94094,     0.94194,     0.94294,     0.94394,     0.94494,     0.94595,     0.94695,     0.94795,     0.94895,     0.94995,     0.95095,     0.95195,     0.95295,     0.95395,     0.95495,     0.95596,     0.95696,     0.95796,     0.95896,     0.95996,\n",
      "           0.96096,     0.96196,     0.96296,     0.96396,     0.96496,     0.96597,     0.96697,     0.96797,     0.96897,     0.96997,     0.97097,     0.97197,     0.97297,     0.97397,     0.97497,     0.97598,     0.97698,     0.97798,     0.97898,     0.97998,     0.98098,     0.98198,     0.98298,     0.98398,\n",
      "           0.98498,     0.98599,     0.98699,     0.98799,     0.98899,     0.98999,     0.99099,     0.99199,     0.99299,     0.99399,     0.99499,       0.996,       0.997,       0.998,       0.999,           1]), array([[    0.10791,     0.10793,     0.12512,     0.14341,      0.1604,     0.17597,     0.19028,     0.20364,     0.21622,     0.22804,     0.23926,     0.25022,       0.261,     0.27153,     0.28159,     0.29192,     0.30189,     0.31137,     0.32105,     0.33047,     0.33993,     0.34893,     0.35762,\n",
      "            0.36656,     0.37533,     0.38403,     0.39237,     0.40063,     0.40853,     0.41686,     0.42462,     0.43224,     0.43971,     0.44676,     0.45401,     0.46114,     0.46777,     0.47456,     0.48113,      0.4873,     0.49359,     0.49993,     0.50583,     0.51142,     0.51709,     0.52253,\n",
      "            0.52779,     0.53314,     0.53841,     0.54319,     0.54796,     0.55241,     0.55704,     0.56171,      0.5662,     0.57045,     0.57449,     0.57825,     0.58224,     0.58613,     0.58993,     0.59358,     0.59718,     0.60066,      0.6039,     0.60726,     0.61052,     0.61352,     0.61678,\n",
      "             0.6195,     0.62214,     0.62498,     0.62795,     0.63042,     0.63311,     0.63581,     0.63835,     0.64075,     0.64326,     0.64591,     0.64833,     0.65068,     0.65286,     0.65506,     0.65742,     0.65972,      0.6618,     0.66394,       0.666,     0.66792,     0.66978,     0.67185,\n",
      "             0.6739,     0.67574,     0.67745,     0.67916,       0.681,     0.68279,     0.68442,     0.68613,     0.68779,      0.6894,     0.69111,     0.69269,     0.69422,     0.69579,     0.69738,     0.69891,     0.70021,     0.70173,      0.7031,     0.70439,     0.70579,     0.70724,     0.70856,\n",
      "            0.70992,     0.71107,     0.71227,     0.71363,      0.7149,     0.71612,     0.71751,     0.71871,      0.7197,     0.72083,     0.72179,     0.72285,     0.72392,     0.72485,     0.72584,      0.7268,     0.72787,     0.72889,     0.72985,     0.73077,     0.73176,     0.73285,      0.7341,\n",
      "            0.73512,     0.73613,     0.73709,     0.73797,     0.73908,     0.73992,     0.74085,      0.7418,     0.74266,     0.74357,     0.74447,     0.74543,     0.74625,     0.74711,     0.74794,     0.74895,     0.74988,     0.75069,     0.75153,     0.75241,      0.7532,      0.7541,       0.755,\n",
      "            0.75588,     0.75666,     0.75756,     0.75834,     0.75913,     0.75984,     0.76059,     0.76149,     0.76221,     0.76302,      0.7639,     0.76478,     0.76538,     0.76631,     0.76722,     0.76784,     0.76843,     0.76927,     0.77038,     0.77101,     0.77172,     0.77259,     0.77315,\n",
      "            0.77403,     0.77482,     0.77567,      0.7765,     0.77728,     0.77803,      0.7787,     0.77942,     0.78012,     0.78083,     0.78152,     0.78212,     0.78274,     0.78348,      0.7841,     0.78487,     0.78558,     0.78637,     0.78695,     0.78754,     0.78814,      0.7887,     0.78933,\n",
      "             0.7899,     0.79041,      0.7909,     0.79151,     0.79207,     0.79273,     0.79319,     0.79391,     0.79447,     0.79518,     0.79595,     0.79656,     0.79743,     0.79832,       0.799,     0.79961,     0.80025,     0.80088,     0.80139,     0.80203,     0.80255,     0.80315,     0.80373,\n",
      "            0.80419,      0.8048,      0.8053,     0.80588,     0.80646,     0.80706,     0.80755,     0.80817,     0.80874,     0.80919,     0.80987,     0.81048,     0.81097,     0.81154,     0.81214,     0.81267,     0.81313,     0.81368,     0.81417,     0.81467,     0.81523,     0.81565,     0.81615,\n",
      "             0.8167,     0.81718,     0.81755,      0.8181,     0.81862,     0.81931,     0.81981,     0.82041,     0.82092,     0.82131,     0.82191,     0.82235,     0.82292,     0.82342,     0.82393,     0.82441,     0.82487,     0.82553,     0.82602,     0.82647,     0.82698,     0.82733,     0.82779,\n",
      "            0.82838,     0.82897,      0.8293,     0.82978,     0.83018,      0.8307,     0.83117,     0.83163,     0.83207,     0.83251,       0.833,     0.83341,     0.83394,     0.83434,     0.83477,     0.83508,     0.83553,     0.83588,     0.83628,     0.83668,     0.83706,     0.83742,     0.83791,\n",
      "            0.83832,     0.83875,     0.83909,     0.83966,     0.84001,     0.84039,     0.84086,     0.84125,     0.84161,     0.84206,      0.8426,     0.84307,     0.84353,     0.84389,     0.84431,     0.84469,     0.84497,     0.84536,     0.84571,     0.84608,     0.84641,     0.84676,     0.84721,\n",
      "            0.84769,     0.84795,     0.84822,     0.84852,     0.84889,      0.8492,     0.84962,      0.8501,     0.85033,     0.85071,     0.85114,     0.85146,     0.85186,     0.85214,     0.85252,     0.85303,     0.85339,     0.85389,     0.85422,     0.85465,     0.85498,     0.85529,     0.85551,\n",
      "            0.85595,     0.85628,     0.85675,     0.85699,     0.85726,     0.85759,       0.858,     0.85828,     0.85869,     0.85904,     0.85941,     0.85969,     0.86014,     0.86039,     0.86078,       0.861,     0.86128,     0.86157,      0.8619,     0.86232,      0.8628,     0.86315,     0.86351,\n",
      "            0.86383,     0.86413,     0.86449,     0.86485,      0.8653,     0.86567,     0.86597,     0.86636,      0.8669,     0.86712,     0.86767,       0.868,     0.86835,     0.86873,     0.86902,     0.86943,     0.86973,     0.87007,     0.87063,     0.87091,     0.87123,     0.87151,     0.87186,\n",
      "            0.87211,     0.87252,     0.87272,     0.87299,     0.87326,     0.87359,     0.87387,     0.87429,      0.8746,     0.87486,     0.87524,     0.87563,     0.87584,     0.87609,     0.87634,      0.8766,     0.87705,     0.87725,     0.87762,     0.87788,     0.87818,     0.87845,     0.87858,\n",
      "            0.87888,     0.87915,     0.87947,     0.87976,     0.87996,      0.8802,     0.88058,     0.88097,     0.88118,     0.88146,     0.88182,     0.88209,      0.8823,     0.88259,     0.88296,     0.88334,     0.88371,     0.88401,     0.88433,     0.88461,      0.8849,     0.88514,     0.88546,\n",
      "            0.88582,     0.88602,     0.88634,     0.88674,     0.88705,     0.88738,     0.88764,     0.88794,     0.88818,     0.88848,     0.88879,     0.88896,     0.88913,     0.88934,     0.88963,     0.88989,     0.89015,     0.89045,     0.89067,     0.89088,     0.89122,     0.89136,     0.89168,\n",
      "            0.89198,     0.89234,     0.89253,     0.89273,     0.89301,     0.89328,     0.89355,     0.89373,     0.89395,     0.89422,     0.89449,     0.89472,     0.89505,     0.89525,     0.89542,     0.89569,     0.89575,     0.89615,     0.89631,     0.89671,     0.89688,     0.89718,     0.89738,\n",
      "            0.89775,     0.89791,     0.89806,     0.89817,     0.89841,     0.89871,     0.89904,     0.89932,     0.89951,     0.89963,     0.90003,     0.90023,     0.90038,     0.90059,     0.90088,     0.90126,     0.90148,     0.90184,     0.90218,      0.9025,     0.90285,     0.90316,      0.9034,\n",
      "            0.90366,     0.90383,     0.90401,     0.90419,     0.90434,     0.90469,      0.9049,     0.90525,     0.90549,     0.90576,     0.90608,     0.90637,     0.90657,     0.90675,     0.90701,      0.9072,     0.90727,     0.90765,     0.90785,     0.90806,      0.9082,     0.90844,     0.90862,\n",
      "             0.9089,     0.90911,     0.90943,     0.90967,     0.90987,     0.91006,     0.91028,     0.91059,     0.91078,     0.91094,     0.91108,     0.91132,     0.91155,     0.91173,     0.91211,      0.9122,     0.91249,     0.91268,     0.91279,     0.91308,     0.91339,     0.91358,     0.91394,\n",
      "            0.91432,     0.91451,     0.91481,     0.91509,     0.91535,     0.91557,     0.91599,     0.91617,     0.91658,     0.91684,     0.91697,     0.91724,     0.91752,     0.91779,     0.91805,     0.91825,     0.91847,     0.91865,     0.91884,     0.91913,     0.91935,      0.9197,     0.91999,\n",
      "            0.92018,     0.92047,     0.92071,     0.92112,     0.92124,     0.92141,     0.92168,      0.9219,     0.92218,     0.92249,      0.9227,     0.92291,     0.92312,      0.9232,     0.92351,     0.92377,     0.92394,     0.92421,     0.92449,     0.92475,     0.92515,     0.92542,     0.92567,\n",
      "            0.92589,     0.92619,     0.92648,     0.92671,     0.92699,     0.92731,     0.92755,     0.92789,     0.92801,     0.92811,     0.92828,     0.92845,     0.92855,     0.92882,     0.92914,     0.92936,      0.9296,     0.92969,     0.92999,     0.93034,     0.93066,     0.93116,     0.93151,\n",
      "            0.93176,     0.93205,      0.9323,     0.93242,     0.93255,      0.9327,     0.93296,     0.93322,     0.93363,      0.9338,     0.93406,      0.9343,     0.93443,     0.93459,     0.93481,     0.93504,     0.93533,      0.9355,     0.93574,     0.93605,     0.93648,     0.93657,       0.937,\n",
      "            0.93729,     0.93752,     0.93777,     0.93797,     0.93832,     0.93868,       0.939,     0.93947,     0.93993,     0.94021,      0.9404,     0.94066,      0.9408,     0.94107,     0.94118,     0.94139,     0.94167,     0.94197,     0.94222,     0.94255,     0.94303,     0.94321,     0.94351,\n",
      "             0.9437,     0.94401,     0.94433,     0.94451,     0.94489,     0.94499,     0.94541,     0.94574,     0.94608,     0.94634,      0.9466,     0.94679,     0.94688,     0.94706,     0.94712,     0.94756,     0.94797,     0.94841,     0.94877,     0.94914,     0.94948,     0.94977,     0.95001,\n",
      "            0.95039,     0.95071,     0.95116,     0.95149,     0.95186,     0.95201,     0.95246,     0.95274,     0.95324,     0.95342,      0.9537,       0.954,     0.95429,     0.95448,     0.95476,     0.95494,     0.95545,     0.95571,     0.95587,     0.95641,     0.95654,     0.95688,     0.95729,\n",
      "            0.95743,     0.95787,     0.95814,     0.95845,     0.95868,     0.95901,     0.95923,     0.95936,     0.95972,     0.96013,     0.96021,     0.96057,     0.96087,     0.96129,     0.96159,     0.96187,     0.96197,     0.96244,     0.96263,      0.9628,     0.96298,     0.96329,     0.96362,\n",
      "            0.96409,     0.96423,     0.96447,     0.96487,     0.96519,     0.96575,     0.96582,     0.96623,     0.96665,     0.96697,     0.96737,     0.96779,     0.96815,     0.96855,     0.96883,     0.96917,     0.96968,     0.97004,      0.9705,     0.97055,     0.97099,     0.97146,     0.97161,\n",
      "            0.97182,     0.97209,     0.97223,     0.97226,     0.97285,     0.97321,     0.97338,     0.97376,     0.97406,     0.97456,     0.97481,       0.975,     0.97532,     0.97573,     0.97601,     0.97648,     0.97689,     0.97724,     0.97739,     0.97768,     0.97814,     0.97844,     0.97896,\n",
      "            0.97955,     0.97982,     0.97989,     0.98045,     0.98086,       0.981,     0.98101,     0.98135,     0.98161,     0.98195,     0.98252,     0.98277,     0.98297,     0.98337,      0.9839,     0.98423,     0.98432,     0.98473,     0.98473,     0.98485,     0.98515,     0.98555,     0.98568,\n",
      "            0.98596,     0.98646,     0.98675,      0.9869,      0.9872,     0.98769,     0.98786,     0.98804,     0.98823,     0.98848,     0.98888,     0.98922,     0.98927,     0.98978,     0.99008,     0.99032,     0.99053,     0.99074,     0.99104,     0.99135,     0.99142,     0.99149,     0.99156,\n",
      "            0.99174,      0.9919,     0.99215,     0.99275,     0.99275,      0.9931,     0.99338,     0.99339,     0.99349,     0.99361,     0.99354,     0.99375,     0.99397,     0.99407,     0.99429,     0.99472,     0.99485,     0.99489,     0.99522,     0.99516,     0.99532,     0.99547,     0.99541,\n",
      "            0.99569,     0.99575,     0.99581,     0.99597,     0.99593,     0.99588,     0.99604,     0.99611,     0.99641,      0.9966,     0.99667,     0.99662,     0.99657,     0.99678,     0.99674,     0.99682,     0.99676,     0.99671,     0.99665,     0.99673,     0.99682,     0.99676,     0.99701,\n",
      "            0.99741,     0.99767,     0.99761,     0.99772,     0.99784,     0.99779,     0.99809,     0.99823,     0.99818,     0.99814,     0.99809,     0.99824,      0.9982,     0.99816,     0.99832,     0.99848,     0.99844,     0.99885,     0.99881,     0.99902,     0.99899,     0.99895,     0.99918,\n",
      "            0.99915,     0.99912,     0.99909,     0.99905,     0.99902,     0.99897,     0.99892,     0.99887,      0.9988,     0.99874,     0.99868,     0.99861,     0.99854,     0.99845,     0.99835,     0.99884,     0.99878,     0.99869,      0.9986,      0.9985,     0.99838,     0.99825,     0.99809,\n",
      "            0.99793,     0.99775,     0.99878,     0.99866,     0.99853,     0.99837,     0.99821,       0.998,     0.99776,     0.99752,     0.99714,     0.99681,     0.99638,     0.99553,      0.9949,     0.99394,           1,           1,           1,           1,           1,           1,           1,\n",
      "                  1,           1,           1,           1,           1,           1,           1,           1,           1,           1,           1,           1,           1,           1,           1,           1,           1,           1,           1,           1,           1,           1,           1,\n",
      "                  1,           1,           1,           1,           1,           1,           1,           1,           1,           1,           1,           1,           1,           1,           1,           1,           1,           1,           1,           1,           1,           1,           1,\n",
      "                  1,           1,           1,           1,           1,           1,           1,           1,           1,           1,           1]]), 'Confidence', 'Precision'], [array([          0,    0.001001,    0.002002,    0.003003,    0.004004,    0.005005,    0.006006,    0.007007,    0.008008,    0.009009,     0.01001,    0.011011,    0.012012,    0.013013,    0.014014,    0.015015,    0.016016,    0.017017,    0.018018,    0.019019,     0.02002,    0.021021,    0.022022,    0.023023,\n",
      "          0.024024,    0.025025,    0.026026,    0.027027,    0.028028,    0.029029,     0.03003,    0.031031,    0.032032,    0.033033,    0.034034,    0.035035,    0.036036,    0.037037,    0.038038,    0.039039,     0.04004,    0.041041,    0.042042,    0.043043,    0.044044,    0.045045,    0.046046,    0.047047,\n",
      "          0.048048,    0.049049,     0.05005,    0.051051,    0.052052,    0.053053,    0.054054,    0.055055,    0.056056,    0.057057,    0.058058,    0.059059,     0.06006,    0.061061,    0.062062,    0.063063,    0.064064,    0.065065,    0.066066,    0.067067,    0.068068,    0.069069,     0.07007,    0.071071,\n",
      "          0.072072,    0.073073,    0.074074,    0.075075,    0.076076,    0.077077,    0.078078,    0.079079,     0.08008,    0.081081,    0.082082,    0.083083,    0.084084,    0.085085,    0.086086,    0.087087,    0.088088,    0.089089,     0.09009,    0.091091,    0.092092,    0.093093,    0.094094,    0.095095,\n",
      "          0.096096,    0.097097,    0.098098,    0.099099,      0.1001,      0.1011,      0.1021,      0.1031,      0.1041,     0.10511,     0.10611,     0.10711,     0.10811,     0.10911,     0.11011,     0.11111,     0.11211,     0.11311,     0.11411,     0.11512,     0.11612,     0.11712,     0.11812,     0.11912,\n",
      "           0.12012,     0.12112,     0.12212,     0.12312,     0.12412,     0.12513,     0.12613,     0.12713,     0.12813,     0.12913,     0.13013,     0.13113,     0.13213,     0.13313,     0.13413,     0.13514,     0.13614,     0.13714,     0.13814,     0.13914,     0.14014,     0.14114,     0.14214,     0.14314,\n",
      "           0.14414,     0.14515,     0.14615,     0.14715,     0.14815,     0.14915,     0.15015,     0.15115,     0.15215,     0.15315,     0.15415,     0.15516,     0.15616,     0.15716,     0.15816,     0.15916,     0.16016,     0.16116,     0.16216,     0.16316,     0.16416,     0.16517,     0.16617,     0.16717,\n",
      "           0.16817,     0.16917,     0.17017,     0.17117,     0.17217,     0.17317,     0.17417,     0.17518,     0.17618,     0.17718,     0.17818,     0.17918,     0.18018,     0.18118,     0.18218,     0.18318,     0.18418,     0.18519,     0.18619,     0.18719,     0.18819,     0.18919,     0.19019,     0.19119,\n",
      "           0.19219,     0.19319,     0.19419,      0.1952,      0.1962,      0.1972,      0.1982,      0.1992,      0.2002,      0.2012,      0.2022,      0.2032,      0.2042,     0.20521,     0.20621,     0.20721,     0.20821,     0.20921,     0.21021,     0.21121,     0.21221,     0.21321,     0.21421,     0.21522,\n",
      "           0.21622,     0.21722,     0.21822,     0.21922,     0.22022,     0.22122,     0.22222,     0.22322,     0.22422,     0.22523,     0.22623,     0.22723,     0.22823,     0.22923,     0.23023,     0.23123,     0.23223,     0.23323,     0.23423,     0.23524,     0.23624,     0.23724,     0.23824,     0.23924,\n",
      "           0.24024,     0.24124,     0.24224,     0.24324,     0.24424,     0.24525,     0.24625,     0.24725,     0.24825,     0.24925,     0.25025,     0.25125,     0.25225,     0.25325,     0.25425,     0.25526,     0.25626,     0.25726,     0.25826,     0.25926,     0.26026,     0.26126,     0.26226,     0.26326,\n",
      "           0.26426,     0.26527,     0.26627,     0.26727,     0.26827,     0.26927,     0.27027,     0.27127,     0.27227,     0.27327,     0.27427,     0.27528,     0.27628,     0.27728,     0.27828,     0.27928,     0.28028,     0.28128,     0.28228,     0.28328,     0.28428,     0.28529,     0.28629,     0.28729,\n",
      "           0.28829,     0.28929,     0.29029,     0.29129,     0.29229,     0.29329,     0.29429,      0.2953,      0.2963,      0.2973,      0.2983,      0.2993,      0.3003,      0.3013,      0.3023,      0.3033,      0.3043,     0.30531,     0.30631,     0.30731,     0.30831,     0.30931,     0.31031,     0.31131,\n",
      "           0.31231,     0.31331,     0.31431,     0.31532,     0.31632,     0.31732,     0.31832,     0.31932,     0.32032,     0.32132,     0.32232,     0.32332,     0.32432,     0.32533,     0.32633,     0.32733,     0.32833,     0.32933,     0.33033,     0.33133,     0.33233,     0.33333,     0.33433,     0.33534,\n",
      "           0.33634,     0.33734,     0.33834,     0.33934,     0.34034,     0.34134,     0.34234,     0.34334,     0.34434,     0.34535,     0.34635,     0.34735,     0.34835,     0.34935,     0.35035,     0.35135,     0.35235,     0.35335,     0.35435,     0.35536,     0.35636,     0.35736,     0.35836,     0.35936,\n",
      "           0.36036,     0.36136,     0.36236,     0.36336,     0.36436,     0.36537,     0.36637,     0.36737,     0.36837,     0.36937,     0.37037,     0.37137,     0.37237,     0.37337,     0.37437,     0.37538,     0.37638,     0.37738,     0.37838,     0.37938,     0.38038,     0.38138,     0.38238,     0.38338,\n",
      "           0.38438,     0.38539,     0.38639,     0.38739,     0.38839,     0.38939,     0.39039,     0.39139,     0.39239,     0.39339,     0.39439,      0.3954,      0.3964,      0.3974,      0.3984,      0.3994,      0.4004,      0.4014,      0.4024,      0.4034,      0.4044,     0.40541,     0.40641,     0.40741,\n",
      "           0.40841,     0.40941,     0.41041,     0.41141,     0.41241,     0.41341,     0.41441,     0.41542,     0.41642,     0.41742,     0.41842,     0.41942,     0.42042,     0.42142,     0.42242,     0.42342,     0.42442,     0.42543,     0.42643,     0.42743,     0.42843,     0.42943,     0.43043,     0.43143,\n",
      "           0.43243,     0.43343,     0.43443,     0.43544,     0.43644,     0.43744,     0.43844,     0.43944,     0.44044,     0.44144,     0.44244,     0.44344,     0.44444,     0.44545,     0.44645,     0.44745,     0.44845,     0.44945,     0.45045,     0.45145,     0.45245,     0.45345,     0.45445,     0.45546,\n",
      "           0.45646,     0.45746,     0.45846,     0.45946,     0.46046,     0.46146,     0.46246,     0.46346,     0.46446,     0.46547,     0.46647,     0.46747,     0.46847,     0.46947,     0.47047,     0.47147,     0.47247,     0.47347,     0.47447,     0.47548,     0.47648,     0.47748,     0.47848,     0.47948,\n",
      "           0.48048,     0.48148,     0.48248,     0.48348,     0.48448,     0.48549,     0.48649,     0.48749,     0.48849,     0.48949,     0.49049,     0.49149,     0.49249,     0.49349,     0.49449,      0.4955,      0.4965,      0.4975,      0.4985,      0.4995,      0.5005,      0.5015,      0.5025,      0.5035,\n",
      "            0.5045,     0.50551,     0.50651,     0.50751,     0.50851,     0.50951,     0.51051,     0.51151,     0.51251,     0.51351,     0.51451,     0.51552,     0.51652,     0.51752,     0.51852,     0.51952,     0.52052,     0.52152,     0.52252,     0.52352,     0.52452,     0.52553,     0.52653,     0.52753,\n",
      "           0.52853,     0.52953,     0.53053,     0.53153,     0.53253,     0.53353,     0.53453,     0.53554,     0.53654,     0.53754,     0.53854,     0.53954,     0.54054,     0.54154,     0.54254,     0.54354,     0.54454,     0.54555,     0.54655,     0.54755,     0.54855,     0.54955,     0.55055,     0.55155,\n",
      "           0.55255,     0.55355,     0.55455,     0.55556,     0.55656,     0.55756,     0.55856,     0.55956,     0.56056,     0.56156,     0.56256,     0.56356,     0.56456,     0.56557,     0.56657,     0.56757,     0.56857,     0.56957,     0.57057,     0.57157,     0.57257,     0.57357,     0.57457,     0.57558,\n",
      "           0.57658,     0.57758,     0.57858,     0.57958,     0.58058,     0.58158,     0.58258,     0.58358,     0.58458,     0.58559,     0.58659,     0.58759,     0.58859,     0.58959,     0.59059,     0.59159,     0.59259,     0.59359,     0.59459,      0.5956,      0.5966,      0.5976,      0.5986,      0.5996,\n",
      "            0.6006,      0.6016,      0.6026,      0.6036,      0.6046,     0.60561,     0.60661,     0.60761,     0.60861,     0.60961,     0.61061,     0.61161,     0.61261,     0.61361,     0.61461,     0.61562,     0.61662,     0.61762,     0.61862,     0.61962,     0.62062,     0.62162,     0.62262,     0.62362,\n",
      "           0.62462,     0.62563,     0.62663,     0.62763,     0.62863,     0.62963,     0.63063,     0.63163,     0.63263,     0.63363,     0.63463,     0.63564,     0.63664,     0.63764,     0.63864,     0.63964,     0.64064,     0.64164,     0.64264,     0.64364,     0.64464,     0.64565,     0.64665,     0.64765,\n",
      "           0.64865,     0.64965,     0.65065,     0.65165,     0.65265,     0.65365,     0.65465,     0.65566,     0.65666,     0.65766,     0.65866,     0.65966,     0.66066,     0.66166,     0.66266,     0.66366,     0.66466,     0.66567,     0.66667,     0.66767,     0.66867,     0.66967,     0.67067,     0.67167,\n",
      "           0.67267,     0.67367,     0.67467,     0.67568,     0.67668,     0.67768,     0.67868,     0.67968,     0.68068,     0.68168,     0.68268,     0.68368,     0.68468,     0.68569,     0.68669,     0.68769,     0.68869,     0.68969,     0.69069,     0.69169,     0.69269,     0.69369,     0.69469,      0.6957,\n",
      "            0.6967,      0.6977,      0.6987,      0.6997,      0.7007,      0.7017,      0.7027,      0.7037,      0.7047,     0.70571,     0.70671,     0.70771,     0.70871,     0.70971,     0.71071,     0.71171,     0.71271,     0.71371,     0.71471,     0.71572,     0.71672,     0.71772,     0.71872,     0.71972,\n",
      "           0.72072,     0.72172,     0.72272,     0.72372,     0.72472,     0.72573,     0.72673,     0.72773,     0.72873,     0.72973,     0.73073,     0.73173,     0.73273,     0.73373,     0.73473,     0.73574,     0.73674,     0.73774,     0.73874,     0.73974,     0.74074,     0.74174,     0.74274,     0.74374,\n",
      "           0.74474,     0.74575,     0.74675,     0.74775,     0.74875,     0.74975,     0.75075,     0.75175,     0.75275,     0.75375,     0.75475,     0.75576,     0.75676,     0.75776,     0.75876,     0.75976,     0.76076,     0.76176,     0.76276,     0.76376,     0.76476,     0.76577,     0.76677,     0.76777,\n",
      "           0.76877,     0.76977,     0.77077,     0.77177,     0.77277,     0.77377,     0.77477,     0.77578,     0.77678,     0.77778,     0.77878,     0.77978,     0.78078,     0.78178,     0.78278,     0.78378,     0.78478,     0.78579,     0.78679,     0.78779,     0.78879,     0.78979,     0.79079,     0.79179,\n",
      "           0.79279,     0.79379,     0.79479,      0.7958,      0.7968,      0.7978,      0.7988,      0.7998,      0.8008,      0.8018,      0.8028,      0.8038,      0.8048,     0.80581,     0.80681,     0.80781,     0.80881,     0.80981,     0.81081,     0.81181,     0.81281,     0.81381,     0.81481,     0.81582,\n",
      "           0.81682,     0.81782,     0.81882,     0.81982,     0.82082,     0.82182,     0.82282,     0.82382,     0.82482,     0.82583,     0.82683,     0.82783,     0.82883,     0.82983,     0.83083,     0.83183,     0.83283,     0.83383,     0.83483,     0.83584,     0.83684,     0.83784,     0.83884,     0.83984,\n",
      "           0.84084,     0.84184,     0.84284,     0.84384,     0.84484,     0.84585,     0.84685,     0.84785,     0.84885,     0.84985,     0.85085,     0.85185,     0.85285,     0.85385,     0.85485,     0.85586,     0.85686,     0.85786,     0.85886,     0.85986,     0.86086,     0.86186,     0.86286,     0.86386,\n",
      "           0.86486,     0.86587,     0.86687,     0.86787,     0.86887,     0.86987,     0.87087,     0.87187,     0.87287,     0.87387,     0.87487,     0.87588,     0.87688,     0.87788,     0.87888,     0.87988,     0.88088,     0.88188,     0.88288,     0.88388,     0.88488,     0.88589,     0.88689,     0.88789,\n",
      "           0.88889,     0.88989,     0.89089,     0.89189,     0.89289,     0.89389,     0.89489,      0.8959,      0.8969,      0.8979,      0.8989,      0.8999,      0.9009,      0.9019,      0.9029,      0.9039,      0.9049,     0.90591,     0.90691,     0.90791,     0.90891,     0.90991,     0.91091,     0.91191,\n",
      "           0.91291,     0.91391,     0.91491,     0.91592,     0.91692,     0.91792,     0.91892,     0.91992,     0.92092,     0.92192,     0.92292,     0.92392,     0.92492,     0.92593,     0.92693,     0.92793,     0.92893,     0.92993,     0.93093,     0.93193,     0.93293,     0.93393,     0.93493,     0.93594,\n",
      "           0.93694,     0.93794,     0.93894,     0.93994,     0.94094,     0.94194,     0.94294,     0.94394,     0.94494,     0.94595,     0.94695,     0.94795,     0.94895,     0.94995,     0.95095,     0.95195,     0.95295,     0.95395,     0.95495,     0.95596,     0.95696,     0.95796,     0.95896,     0.95996,\n",
      "           0.96096,     0.96196,     0.96296,     0.96396,     0.96496,     0.96597,     0.96697,     0.96797,     0.96897,     0.96997,     0.97097,     0.97197,     0.97297,     0.97397,     0.97497,     0.97598,     0.97698,     0.97798,     0.97898,     0.97998,     0.98098,     0.98198,     0.98298,     0.98398,\n",
      "           0.98498,     0.98599,     0.98699,     0.98799,     0.98899,     0.98999,     0.99099,     0.99199,     0.99299,     0.99399,     0.99499,       0.996,       0.997,       0.998,       0.999,           1]), array([[    0.85493,     0.85493,     0.85341,     0.85156,     0.84947,     0.84781,     0.84599,     0.84415,     0.84235,     0.84078,     0.83896,     0.83731,     0.83557,     0.83396,     0.83241,     0.83081,      0.8292,      0.8276,     0.82623,     0.82459,     0.82312,     0.82159,     0.82014,\n",
      "            0.81889,     0.81756,     0.81603,     0.81442,     0.81294,      0.8117,     0.81042,     0.80898,     0.80762,     0.80642,     0.80525,     0.80416,     0.80307,     0.80198,     0.80095,     0.79977,     0.79871,     0.79748,     0.79657,     0.79562,     0.79466,     0.79394,     0.79298,\n",
      "            0.79211,     0.79128,     0.79048,     0.78955,     0.78874,     0.78787,     0.78716,     0.78632,     0.78576,      0.7852,      0.7844,     0.78367,     0.78295,     0.78229,     0.78161,     0.78101,     0.78028,     0.77982,     0.77938,     0.77895,     0.77817,     0.77763,     0.77701,\n",
      "            0.77639,     0.77593,     0.77546,     0.77497,     0.77442,     0.77384,     0.77352,     0.77291,     0.77239,     0.77193,     0.77147,       0.771,     0.77039,     0.76987,     0.76941,     0.76901,     0.76851,     0.76809,     0.76766,     0.76705,     0.76643,     0.76594,     0.76556,\n",
      "            0.76504,     0.76452,     0.76405,     0.76343,     0.76285,     0.76232,      0.7618,     0.76144,      0.7609,     0.76042,      0.7601,     0.75972,     0.75935,     0.75899,     0.75852,     0.75819,     0.75786,     0.75754,     0.75705,     0.75663,     0.75627,     0.75583,      0.7555,\n",
      "            0.75529,     0.75491,     0.75462,     0.75424,      0.7538,     0.75346,     0.75302,      0.7526,     0.75209,     0.75173,     0.75143,     0.75106,      0.7507,     0.75035,     0.75004,     0.74965,     0.74928,      0.7489,     0.74843,     0.74804,     0.74769,     0.74741,     0.74718,\n",
      "            0.74677,     0.74644,     0.74609,     0.74572,      0.7454,     0.74502,      0.7447,     0.74432,     0.74407,     0.74376,     0.74334,     0.74305,     0.74267,     0.74232,     0.74183,      0.7415,     0.74114,     0.74086,     0.74051,     0.74028,     0.74007,     0.73976,     0.73946,\n",
      "            0.73913,     0.73873,     0.73837,     0.73807,     0.73775,     0.73748,     0.73722,     0.73692,     0.73658,     0.73618,     0.73586,     0.73561,     0.73533,     0.73494,     0.73459,     0.73431,     0.73393,     0.73368,     0.73344,      0.7332,     0.73271,     0.73246,     0.73206,\n",
      "             0.7318,     0.73137,     0.73118,      0.7307,     0.73038,     0.72997,     0.72962,     0.72923,     0.72895,     0.72865,     0.72836,     0.72813,     0.72776,     0.72742,     0.72706,     0.72679,     0.72651,      0.7262,     0.72598,     0.72569,     0.72516,     0.72479,     0.72449,\n",
      "            0.72421,     0.72388,     0.72363,      0.7233,     0.72297,     0.72257,     0.72231,     0.72201,     0.72169,     0.72134,     0.72105,     0.72075,     0.72042,     0.72009,     0.71967,     0.71945,     0.71915,     0.71872,     0.71837,     0.71805,     0.71778,     0.71747,     0.71714,\n",
      "            0.71678,     0.71641,     0.71617,      0.7159,     0.71558,     0.71527,     0.71484,     0.71464,     0.71435,     0.71401,     0.71379,     0.71351,     0.71296,     0.71263,     0.71231,     0.71194,     0.71164,      0.7113,     0.71091,     0.71064,     0.71034,     0.71012,      0.7098,\n",
      "            0.70936,     0.70898,      0.7087,     0.70833,     0.70808,      0.7078,     0.70756,     0.70725,     0.70692,     0.70648,     0.70619,     0.70587,     0.70548,     0.70519,     0.70486,     0.70455,     0.70419,     0.70391,     0.70365,     0.70308,     0.70283,     0.70237,     0.70197,\n",
      "            0.70165,     0.70131,     0.70089,     0.70059,     0.70016,     0.69978,     0.69941,     0.69913,      0.6988,      0.6984,     0.69805,     0.69786,     0.69757,     0.69725,     0.69689,      0.6964,     0.69607,     0.69566,     0.69535,     0.69497,     0.69455,     0.69421,     0.69389,\n",
      "            0.69352,     0.69327,     0.69279,     0.69248,      0.6921,      0.6917,     0.69145,     0.69126,     0.69087,     0.69051,     0.69025,     0.68995,     0.68966,     0.68931,     0.68897,     0.68864,     0.68828,     0.68791,     0.68754,     0.68717,     0.68678,     0.68639,     0.68606,\n",
      "            0.68581,     0.68561,     0.68518,     0.68489,     0.68459,     0.68425,     0.68401,     0.68363,     0.68322,     0.68294,     0.68262,     0.68217,     0.68181,     0.68141,     0.68115,     0.68078,     0.68043,     0.68007,     0.67966,     0.67936,     0.67901,     0.67869,     0.67832,\n",
      "            0.67806,     0.67766,     0.67727,     0.67679,     0.67641,     0.67606,     0.67575,     0.67537,      0.6751,     0.67478,     0.67439,     0.67394,     0.67373,     0.67337,     0.67302,     0.67261,     0.67215,     0.67172,     0.67135,     0.67101,     0.67065,     0.67024,     0.66993,\n",
      "            0.66955,     0.66914,     0.66864,     0.66821,     0.66796,     0.66759,     0.66728,     0.66684,     0.66646,     0.66617,     0.66579,     0.66549,     0.66519,     0.66497,     0.66472,     0.66438,     0.66391,     0.66361,     0.66332,     0.66293,     0.66259,     0.66225,     0.66179,\n",
      "            0.66149,     0.66117,     0.66076,      0.6603,        0.66,     0.65961,     0.65925,       0.659,     0.65844,     0.65814,     0.65778,     0.65736,     0.65687,     0.65643,     0.65592,     0.65554,      0.6553,     0.65471,     0.65428,     0.65396,     0.65346,     0.65311,     0.65261,\n",
      "            0.65223,      0.6519,     0.65144,     0.65093,     0.65047,     0.65012,     0.64978,     0.64939,     0.64901,     0.64864,     0.64825,     0.64788,     0.64738,     0.64709,     0.64679,     0.64637,     0.64597,     0.64554,     0.64529,     0.64498,     0.64449,     0.64413,     0.64375,\n",
      "            0.64336,     0.64291,     0.64244,     0.64211,     0.64156,      0.6411,     0.64069,     0.64025,     0.63981,     0.63923,     0.63882,     0.63847,     0.63807,     0.63765,     0.63719,     0.63688,      0.6363,     0.63584,     0.63541,     0.63494,     0.63441,     0.63377,     0.63337,\n",
      "            0.63282,     0.63231,     0.63185,     0.63139,     0.63091,     0.63067,        0.63,     0.62939,     0.62883,     0.62842,     0.62786,     0.62729,     0.62689,     0.62644,      0.6258,     0.62531,     0.62452,     0.62406,     0.62333,     0.62284,     0.62226,     0.62179,     0.62123,\n",
      "             0.6208,     0.62031,     0.61986,     0.61929,     0.61883,     0.61832,     0.61777,     0.61717,     0.61654,     0.61591,     0.61561,     0.61507,     0.61451,     0.61399,     0.61333,     0.61291,      0.6124,       0.612,     0.61146,     0.61072,     0.61034,     0.60965,     0.60917,\n",
      "            0.60867,     0.60816,      0.6075,     0.60689,     0.60639,     0.60586,     0.60524,     0.60453,     0.60373,      0.6034,     0.60289,     0.60238,     0.60164,     0.60108,     0.60062,     0.59996,     0.59923,     0.59858,     0.59796,     0.59716,     0.59664,     0.59578,     0.59501,\n",
      "            0.59428,      0.5936,     0.59302,     0.59235,     0.59158,     0.59086,     0.59005,     0.58922,     0.58863,     0.58797,     0.58729,     0.58665,     0.58603,     0.58526,     0.58459,     0.58394,     0.58314,     0.58235,     0.58169,       0.581,     0.58019,     0.57946,     0.57877,\n",
      "            0.57805,     0.57746,     0.57671,     0.57599,     0.57506,     0.57433,     0.57369,      0.5728,     0.57195,     0.57127,     0.57062,     0.57005,     0.56904,     0.56835,     0.56769,     0.56685,     0.56603,     0.56526,     0.56447,     0.56359,     0.56257,     0.56187,     0.56113,\n",
      "            0.56035,     0.55955,     0.55878,     0.55796,     0.55712,     0.55616,     0.55514,     0.55422,     0.55347,     0.55273,     0.55173,     0.55073,     0.54969,     0.54881,     0.54787,     0.54693,     0.54588,     0.54481,      0.5439,     0.54312,     0.54217,     0.54124,     0.54019,\n",
      "            0.53923,     0.53846,     0.53762,     0.53675,     0.53591,     0.53475,     0.53382,     0.53264,     0.53168,     0.53049,     0.52951,     0.52838,     0.52736,     0.52662,     0.52561,     0.52441,     0.52325,     0.52217,     0.52113,     0.52002,     0.51908,     0.51811,     0.51705,\n",
      "             0.5161,       0.515,     0.51403,     0.51308,     0.51202,     0.51086,     0.50964,      0.5086,     0.50765,     0.50625,      0.5051,      0.5039,     0.50282,     0.50181,     0.50061,     0.49956,     0.49834,     0.49741,     0.49614,     0.49511,     0.49396,     0.49269,     0.49137,\n",
      "            0.49011,     0.48868,     0.48729,       0.486,     0.48476,     0.48358,     0.48204,     0.48065,     0.47919,     0.47788,     0.47668,     0.47501,     0.47381,     0.47251,     0.47103,     0.46959,     0.46788,      0.4667,     0.46542,     0.46379,     0.46223,     0.46078,     0.45918,\n",
      "            0.45766,     0.45621,     0.45489,     0.45343,       0.452,     0.45032,     0.44892,      0.4473,     0.44567,     0.44378,     0.44216,     0.44073,      0.4392,     0.43759,     0.43587,     0.43425,     0.43262,     0.43118,     0.42982,     0.42818,     0.42654,     0.42495,     0.42316,\n",
      "             0.4216,     0.41983,     0.41837,     0.41685,     0.41524,     0.41329,     0.41161,     0.41015,     0.40839,     0.40674,     0.40505,     0.40336,     0.40159,     0.39982,     0.39811,     0.39656,     0.39484,     0.39313,     0.39123,     0.38933,     0.38753,      0.3857,     0.38418,\n",
      "             0.3824,     0.38062,     0.37871,     0.37716,     0.37525,      0.3733,     0.37176,     0.37007,     0.36806,     0.36621,     0.36432,     0.36248,     0.36028,     0.35847,     0.35661,     0.35442,      0.3523,     0.35047,     0.34842,     0.34648,     0.34473,     0.34298,     0.34108,\n",
      "            0.33869,     0.33679,     0.33504,     0.33324,     0.33108,     0.32892,     0.32646,     0.32426,     0.32251,     0.32053,     0.31883,     0.31695,     0.31519,     0.31336,     0.31116,      0.3091,      0.3074,     0.30542,     0.30346,      0.3016,      0.2995,     0.29753,     0.29544,\n",
      "            0.29337,     0.29154,     0.28913,     0.28705,     0.28508,     0.28302,     0.28079,     0.27883,     0.27697,     0.27465,     0.27269,     0.27046,     0.26861,     0.26669,     0.26476,     0.26276,     0.26108,      0.2593,     0.25754,     0.25551,     0.25362,     0.25151,     0.24954,\n",
      "             0.2477,     0.24567,      0.2439,     0.24201,     0.24025,     0.23821,     0.23647,      0.2343,     0.23252,     0.23024,     0.22833,     0.22647,     0.22439,      0.2226,     0.22077,     0.21906,     0.21724,     0.21519,      0.2134,     0.21154,     0.20954,     0.20786,     0.20598,\n",
      "            0.20437,     0.20291,      0.2013,     0.19952,     0.19778,     0.19584,     0.19416,     0.19244,     0.19103,     0.18925,     0.18765,     0.18598,     0.18432,     0.18251,     0.18089,     0.17914,     0.17738,     0.17561,     0.17391,     0.17231,     0.17053,     0.16878,      0.1669,\n",
      "            0.16552,     0.16377,     0.16209,      0.1604,     0.15851,     0.15676,     0.15522,     0.15333,     0.15146,        0.15,     0.14854,      0.1469,     0.14539,     0.14343,      0.1417,     0.14021,     0.13839,     0.13682,     0.13506,     0.13327,     0.13187,      0.1303,     0.12861,\n",
      "            0.12731,     0.12592,      0.1245,     0.12277,     0.12132,     0.11985,     0.11805,     0.11638,     0.11467,     0.11322,     0.11143,     0.10978,      0.1082,     0.10684,     0.10528,      0.1037,     0.10193,     0.10019,    0.098346,    0.096777,    0.095091,    0.093446,    0.091914,\n",
      "           0.090256,    0.088515,    0.086423,    0.084501,    0.082667,     0.08101,    0.079175,     0.07759,    0.075791,    0.073883,    0.072196,    0.070396,    0.068843,    0.067168,    0.065487,    0.063429,    0.061705,    0.060043,    0.057987,    0.056195,     0.05439,    0.052519,    0.050579,\n",
      "           0.048867,     0.04693,    0.045184,    0.043574,    0.042036,    0.040077,    0.038162,    0.036464,    0.034567,    0.032801,    0.031239,    0.029694,    0.028279,    0.026615,    0.025059,    0.023727,    0.022563,     0.02103,    0.019698,    0.018374,     0.01703,    0.015751,    0.014391,\n",
      "           0.013289,    0.012215,    0.011282,    0.010268,   0.0093758,   0.0084524,   0.0076787,   0.0068953,   0.0061457,   0.0055504,   0.0048124,   0.0043098,   0.0037944,   0.0030741,     0.00269,   0.0022631,    0.001902,    0.001588,   0.0013772,    0.001124,   0.0009504,   0.0007786,  0.00068098,\n",
      "          0.0004826,  0.00041095,  0.00033311,  0.00027251,  0.00021499,  0.00015151,   0.0001391,  0.00011734,  0.00010904,  9.4976e-05,   8.244e-05,  7.8689e-05,  7.4938e-05,  7.1187e-05,  5.7056e-05,  5.0511e-05,  4.5548e-05,  3.6512e-05,  1.5601e-05,           0,           0,           0,           0,\n",
      "                  0,           0,           0,           0,           0,           0,           0,           0,           0,           0,           0,           0,           0,           0,           0,           0,           0,           0,           0,           0,           0,           0,           0,\n",
      "                  0,           0,           0,           0,           0,           0,           0,           0,           0,           0,           0]]), 'Confidence', 'Recall']]\n",
      "fitness: 0.515747806812889\n",
      "keys: ['metrics/precision(B)', 'metrics/recall(B)', 'metrics/mAP50(B)', 'metrics/mAP50-95(B)']\n",
      "maps: array([    0.48831])\n",
      "names: {0: 'object'}\n",
      "plot: True\n",
      "results_dict: {'metrics/precision(B)': 0.8293024503710053, 'metrics/recall(B)': 0.7008948885181253, 'metrics/mAP50(B)': 0.7626496240714928, 'metrics/mAP50-95(B)': 0.488314271561933, 'fitness': 0.515747806812889}\n",
      "save_dir: WindowsPath('runs/detect/val')\n",
      "speed: {'preprocess': 0.35613503925250667, 'inference': 3.764365388083213, 'loss': 0.0, 'postprocess': 1.9581848887678344}\n",
      "task: 'detect'\n"
     ]
    }
   ],
   "source": [
    "from ultralytics import YOLO\n",
    "\n",
    "# Load the trained model\n",
    "model = YOLO('./runs/detect/yolov8n-custom2/weights/best.pt')  # Path to the best weights after training\n",
    "\n",
    "# Evaluate the model on the test dataset\n",
    "metrics = model.val(\n",
    "    data='./C2A_Dataset/new_dataset3/data.yaml',  # Path to your dataset configuration\n",
    "    split='test',                                # Specify the test split\n",
    "    imgsz=640,                                   # Image size for evaluation\n",
    "    batch=16                                     # Batch size for evaluation\n",
    ")\n",
    "\n",
    "# Print evaluation metrics\n",
    "print(metrics)\n"
   ]
  },
  {
   "cell_type": "markdown",
   "metadata": {},
   "source": [
    "## YOLOv11"
   ]
  },
  {
   "cell_type": "markdown",
   "metadata": {},
   "source": [
    "The above model was set as a benchmark; however, we are welling to predict the bounding box surrounding the human with the pose of the human. Let's do that using YOLOv11 which is the latest YOLO model released at Sept. 2024"
   ]
  },
  {
   "cell_type": "markdown",
   "metadata": {},
   "source": [
    "First, since data is not stored properly, we will need to rewrite the dataset fromat because when downloading it from the source, it is annotated without taking the pose into considerations. The pose of each object is given on another text file. "
   ]
  },
  {
   "cell_type": "code",
   "execution_count": 2,
   "metadata": {},
   "outputs": [],
   "source": [
    "import os\n",
    "\n",
    "# Define paths\n",
    "base_dir = \"./C2A_Dataset/new_dataset3\"\n",
    "pose_labels_dir = os.path.join(base_dir, \"All labels with Pose information\", \"labels\")\n",
    "sub_dirs = [\"train\", \"val\", \"test\"]\n",
    "\n",
    "# Iterate through train, val, and test directories\n",
    "for sub_dir in sub_dirs:\n",
    "    image_dir = os.path.join(base_dir, sub_dir, \"images\")\n",
    "    old_label_dir = os.path.join(base_dir, sub_dir, \"labels\")  # Original labels\n",
    "    new_label_dir = os.path.join(base_dir, sub_dir, \"labels_1\")  # New labels directory\n",
    "\n",
    "\n",
    "    # Get all image filenames\n",
    "    image_files = sorted(os.listdir(image_dir))  # Ensure order matches images\n",
    "    for image_file in image_files:\n",
    "        image_name = os.path.splitext(image_file)[0]\n",
    "        pose_label_path = os.path.join(pose_labels_dir, f\"{image_name}.txt\")\n",
    "        new_label_path = os.path.join(new_label_dir, f\"{image_name}.txt\")\n",
    "\n",
    "        # Process the pose label file\n",
    "        if os.path.exists(pose_label_path):\n",
    "            with open(pose_label_path, \"r\") as file:\n",
    "                lines = file.readlines()\n",
    "\n",
    "            # Modify each line of the label\n",
    "            new_lines = []\n",
    "            for line in lines:\n",
    "                parts = line.strip().split()\n",
    "                if len(parts) < 6:\n",
    "                    continue  # Skip invalid lines\n",
    "                # Reformat: Move class label to the beginning\n",
    "                new_line = f\"{parts[-1]} {' '.join(parts[1:-1])}\\n\"\n",
    "                new_lines.append(new_line)\n",
    "\n",
    "            # Save to the new label file\n",
    "            with open(new_label_path, \"w\") as file:\n",
    "                file.writelines(new_lines)\n",
    "\n",
    "        else:\n",
    "            print(f\"Label file not found for image: {image_file}\")\n"
   ]
  },
  {
   "cell_type": "markdown",
   "metadata": {},
   "source": [
    "#### Training Yolov11"
   ]
  },
  {
   "cell_type": "code",
   "execution_count": 3,
   "metadata": {},
   "outputs": [
    {
     "name": "stdout",
     "output_type": "stream",
     "text": [
      "New https://pypi.org/project/ultralytics/8.3.36 available  Update with 'pip install -U ultralytics'\n",
      "Ultralytics 8.3.25  Python-3.12.5 torch-2.5.1+cu121 CUDA:0 (NVIDIA GeForce RTX 4060 Laptop GPU, 8188MiB)\n",
      "\u001b[34m\u001b[1mengine\\trainer: \u001b[0mtask=detect, mode=train, model=yolo11n.pt, data=./C2A_Dataset/new_dataset3/data.yaml, epochs=50, time=None, patience=100, batch=16, imgsz=640, save=True, save_period=-1, cache=False, device=None, workers=8, project=None, name=yolov11-pose_estemation, exist_ok=False, pretrained=True, optimizer=auto, verbose=True, seed=0, deterministic=True, single_cls=False, rect=False, cos_lr=False, close_mosaic=10, resume=False, amp=True, fraction=1.0, profile=False, freeze=None, multi_scale=False, overlap_mask=True, mask_ratio=4, dropout=0.0, val=True, split=val, save_json=False, save_hybrid=False, conf=None, iou=0.7, max_det=300, half=False, dnn=False, plots=True, source=None, vid_stride=1, stream_buffer=False, visualize=False, augment=False, agnostic_nms=False, classes=None, retina_masks=False, embed=None, show=False, save_frames=False, save_txt=False, save_conf=False, save_crop=False, show_labels=True, show_conf=True, show_boxes=True, line_width=None, format=torchscript, keras=False, optimize=False, int8=False, dynamic=False, simplify=True, opset=None, workspace=4, nms=False, lr0=0.01, lrf=0.01, momentum=0.937, weight_decay=0.0005, warmup_epochs=3.0, warmup_momentum=0.8, warmup_bias_lr=0.1, box=7.5, cls=0.5, dfl=1.5, pose=12.0, kobj=1.0, label_smoothing=0.0, nbs=64, hsv_h=0.015, hsv_s=0.7, hsv_v=0.4, degrees=0.0, translate=0.1, scale=0.5, shear=0.0, perspective=0.0, flipud=0.0, fliplr=0.5, bgr=0.0, mosaic=1.0, mixup=0.0, copy_paste=0.0, copy_paste_mode=flip, auto_augment=randaugment, erasing=0.4, crop_fraction=1.0, cfg=None, tracker=botsort.yaml, save_dir=runs\\detect\\yolov11-pose_estemation\n"
     ]
    },
    {
     "name": "stderr",
     "output_type": "stream",
     "text": [
      "c:\\Users\\Karee\\AppData\\Local\\Programs\\Python\\Python312\\Lib\\site-packages\\tqdm\\auto.py:21: TqdmWarning: IProgress not found. Please update jupyter and ipywidgets. See https://ipywidgets.readthedocs.io/en/stable/user_install.html\n",
      "  from .autonotebook import tqdm as notebook_tqdm\n",
      "2024-11-23 23:52:35,470\tINFO util.py:154 -- Missing packages: ['ipywidgets']. Run `pip install -U ipywidgets`, then restart the notebook server for rich notebook output.\n",
      "2024-11-23 23:52:36,004\tINFO util.py:154 -- Missing packages: ['ipywidgets']. Run `pip install -U ipywidgets`, then restart the notebook server for rich notebook output.\n"
     ]
    },
    {
     "name": "stdout",
     "output_type": "stream",
     "text": [
      "Overriding model.yaml nc=80 with nc=5\n",
      "\n",
      "                   from  n    params  module                                       arguments                     \n",
      "  0                  -1  1       464  ultralytics.nn.modules.conv.Conv             [3, 16, 3, 2]                 \n",
      "  1                  -1  1      4672  ultralytics.nn.modules.conv.Conv             [16, 32, 3, 2]                \n",
      "  2                  -1  1      6640  ultralytics.nn.modules.block.C3k2            [32, 64, 1, False, 0.25]      \n",
      "  3                  -1  1     36992  ultralytics.nn.modules.conv.Conv             [64, 64, 3, 2]                \n",
      "  4                  -1  1     26080  ultralytics.nn.modules.block.C3k2            [64, 128, 1, False, 0.25]     \n",
      "  5                  -1  1    147712  ultralytics.nn.modules.conv.Conv             [128, 128, 3, 2]              \n",
      "  6                  -1  1     87040  ultralytics.nn.modules.block.C3k2            [128, 128, 1, True]           \n",
      "  7                  -1  1    295424  ultralytics.nn.modules.conv.Conv             [128, 256, 3, 2]              \n",
      "  8                  -1  1    346112  ultralytics.nn.modules.block.C3k2            [256, 256, 1, True]           \n",
      "  9                  -1  1    164608  ultralytics.nn.modules.block.SPPF            [256, 256, 5]                 \n",
      " 10                  -1  1    249728  ultralytics.nn.modules.block.C2PSA           [256, 256, 1]                 \n",
      " 11                  -1  1         0  torch.nn.modules.upsampling.Upsample         [None, 2, 'nearest']          \n",
      " 12             [-1, 6]  1         0  ultralytics.nn.modules.conv.Concat           [1]                           \n",
      " 13                  -1  1    111296  ultralytics.nn.modules.block.C3k2            [384, 128, 1, False]          \n",
      " 14                  -1  1         0  torch.nn.modules.upsampling.Upsample         [None, 2, 'nearest']          \n",
      " 15             [-1, 4]  1         0  ultralytics.nn.modules.conv.Concat           [1]                           \n",
      " 16                  -1  1     32096  ultralytics.nn.modules.block.C3k2            [256, 64, 1, False]           \n",
      " 17                  -1  1     36992  ultralytics.nn.modules.conv.Conv             [64, 64, 3, 2]                \n",
      " 18            [-1, 13]  1         0  ultralytics.nn.modules.conv.Concat           [1]                           \n",
      " 19                  -1  1     86720  ultralytics.nn.modules.block.C3k2            [192, 128, 1, False]          \n",
      " 20                  -1  1    147712  ultralytics.nn.modules.conv.Conv             [128, 128, 3, 2]              \n",
      " 21            [-1, 10]  1         0  ultralytics.nn.modules.conv.Concat           [1]                           \n",
      " 22                  -1  1    378880  ultralytics.nn.modules.block.C3k2            [384, 256, 1, True]           \n",
      " 23        [16, 19, 22]  1    431647  ultralytics.nn.modules.head.Detect           [5, [64, 128, 256]]           \n",
      "YOLO11n summary: 319 layers, 2,590,815 parameters, 2,590,799 gradients, 6.4 GFLOPs\n",
      "\n",
      "Transferred 448/499 items from pretrained weights\n",
      "\u001b[34m\u001b[1mTensorBoard: \u001b[0mStart with 'tensorboard --logdir runs\\detect\\yolov11-pose_estemation', view at http://localhost:6006/\n",
      "Freezing layer 'model.23.dfl.conv.weight'\n",
      "\u001b[34m\u001b[1mAMP: \u001b[0mrunning Automatic Mixed Precision (AMP) checks...\n",
      "\u001b[34m\u001b[1mAMP: \u001b[0mchecks passed \n"
     ]
    },
    {
     "name": "stderr",
     "output_type": "stream",
     "text": [
      "\u001b[34m\u001b[1mtrain: \u001b[0mScanning C:\\Users\\Karee\\OneDrive\\Desktop\\Fall 2024 AUS\\COE49413\\Project\\Code\\C2A_Dataset\\new_dataset3\\train\\labels... 6129 images, 0 backgrounds, 0 corrupt: 100%|██████████| 6129/6129 [00:20<00:00, 301.16it/s]\n"
     ]
    },
    {
     "name": "stdout",
     "output_type": "stream",
     "text": [
      "\u001b[34m\u001b[1mtrain: \u001b[0mNew cache created: C:\\Users\\Karee\\OneDrive\\Desktop\\Fall 2024 AUS\\COE49413\\Project\\Code\\C2A_Dataset\\new_dataset3\\train\\labels.cache\n"
     ]
    },
    {
     "name": "stderr",
     "output_type": "stream",
     "text": [
      "\u001b[34m\u001b[1mval: \u001b[0mScanning C:\\Users\\Karee\\OneDrive\\Desktop\\Fall 2024 AUS\\COE49413\\Project\\Code\\C2A_Dataset\\new_dataset3\\val\\labels... 2043 images, 0 backgrounds, 0 corrupt: 100%|██████████| 2043/2043 [00:06<00:00, 327.30it/s]\n"
     ]
    },
    {
     "name": "stdout",
     "output_type": "stream",
     "text": [
      "\u001b[34m\u001b[1mval: \u001b[0mNew cache created: C:\\Users\\Karee\\OneDrive\\Desktop\\Fall 2024 AUS\\COE49413\\Project\\Code\\C2A_Dataset\\new_dataset3\\val\\labels.cache\n",
      "Plotting labels to runs\\detect\\yolov11-pose_estemation\\labels.jpg... \n",
      "\u001b[34m\u001b[1moptimizer:\u001b[0m 'optimizer=auto' found, ignoring 'lr0=0.01' and 'momentum=0.937' and determining best 'optimizer', 'lr0' and 'momentum' automatically... \n",
      "\u001b[34m\u001b[1moptimizer:\u001b[0m AdamW(lr=0.001111, momentum=0.9) with parameter groups 81 weight(decay=0.0), 88 weight(decay=0.0005), 87 bias(decay=0.0)\n",
      "\u001b[34m\u001b[1mTensorBoard: \u001b[0mmodel graph visualization added \n",
      "Image sizes 640 train, 640 val\n",
      "Using 8 dataloader workers\n",
      "Logging results to \u001b[1mruns\\detect\\yolov11-pose_estemation\u001b[0m\n",
      "Starting training for 50 epochs...\n",
      "\n",
      "      Epoch    GPU_mem   box_loss   cls_loss   dfl_loss  Instances       Size\n"
     ]
    },
    {
     "name": "stderr",
     "output_type": "stream",
     "text": [
      "       1/50      7.02G      1.686      2.607      1.064         73        640: 100%|██████████| 384/384 [01:00<00:00,  6.32it/s]\n",
      "                 Class     Images  Instances      Box(P          R      mAP50  mAP50-95): 100%|██████████| 64/64 [00:18<00:00,  3.40it/s]\n"
     ]
    },
    {
     "name": "stdout",
     "output_type": "stream",
     "text": [
      "                   all       2043      72123      0.163      0.425      0.128     0.0691\n",
      "\n",
      "      Epoch    GPU_mem   box_loss   cls_loss   dfl_loss  Instances       Size\n"
     ]
    },
    {
     "name": "stderr",
     "output_type": "stream",
     "text": [
      "       2/50      6.04G      1.534      2.027      1.022         59        640: 100%|██████████| 384/384 [00:56<00:00,  6.76it/s]\n",
      "                 Class     Images  Instances      Box(P          R      mAP50  mAP50-95): 100%|██████████| 64/64 [00:12<00:00,  5.11it/s]\n"
     ]
    },
    {
     "name": "stdout",
     "output_type": "stream",
     "text": [
      "                   all       2043      72123       0.17       0.47      0.136     0.0755\n",
      "\n",
      "      Epoch    GPU_mem   box_loss   cls_loss   dfl_loss  Instances       Size\n"
     ]
    },
    {
     "name": "stderr",
     "output_type": "stream",
     "text": [
      "       3/50      4.78G      1.487      1.948      1.017        129        640: 100%|██████████| 384/384 [00:55<00:00,  6.95it/s]\n",
      "                 Class     Images  Instances      Box(P          R      mAP50  mAP50-95): 100%|██████████| 64/64 [00:13<00:00,  4.71it/s]\n"
     ]
    },
    {
     "name": "stdout",
     "output_type": "stream",
     "text": [
      "                   all       2043      72123      0.172      0.464      0.141     0.0815\n",
      "\n",
      "      Epoch    GPU_mem   box_loss   cls_loss   dfl_loss  Instances       Size\n"
     ]
    },
    {
     "name": "stderr",
     "output_type": "stream",
     "text": [
      "       4/50      4.33G      1.458      1.903      1.009         29        640: 100%|██████████| 384/384 [00:55<00:00,  6.86it/s]\n",
      "                 Class     Images  Instances      Box(P          R      mAP50  mAP50-95): 100%|██████████| 64/64 [00:12<00:00,  5.01it/s]\n"
     ]
    },
    {
     "name": "stdout",
     "output_type": "stream",
     "text": [
      "                   all       2043      72123      0.171      0.528      0.149     0.0854\n",
      "\n",
      "      Epoch    GPU_mem   box_loss   cls_loss   dfl_loss  Instances       Size\n"
     ]
    },
    {
     "name": "stderr",
     "output_type": "stream",
     "text": [
      "       5/50      5.97G      1.425      1.867      1.002         62        640: 100%|██████████| 384/384 [00:56<00:00,  6.82it/s]\n",
      "                 Class     Images  Instances      Box(P          R      mAP50  mAP50-95): 100%|██████████| 64/64 [00:13<00:00,  4.74it/s]\n"
     ]
    },
    {
     "name": "stdout",
     "output_type": "stream",
     "text": [
      "                   all       2043      72123      0.167      0.525      0.148     0.0863\n",
      "\n",
      "      Epoch    GPU_mem   box_loss   cls_loss   dfl_loss  Instances       Size\n"
     ]
    },
    {
     "name": "stderr",
     "output_type": "stream",
     "text": [
      "       6/50      4.92G      1.412      1.849     0.9974         49        640: 100%|██████████| 384/384 [00:56<00:00,  6.85it/s]\n",
      "                 Class     Images  Instances      Box(P          R      mAP50  mAP50-95): 100%|██████████| 64/64 [00:13<00:00,  4.90it/s]\n"
     ]
    },
    {
     "name": "stdout",
     "output_type": "stream",
     "text": [
      "                   all       2043      72123      0.174      0.548      0.155     0.0909\n",
      "\n",
      "      Epoch    GPU_mem   box_loss   cls_loss   dfl_loss  Instances       Size\n"
     ]
    },
    {
     "name": "stderr",
     "output_type": "stream",
     "text": [
      "       7/50       7.2G      1.391      1.829      0.993         61        640: 100%|██████████| 384/384 [00:55<00:00,  6.88it/s]\n",
      "                 Class     Images  Instances      Box(P          R      mAP50  mAP50-95): 100%|██████████| 64/64 [00:15<00:00,  4.09it/s]\n"
     ]
    },
    {
     "name": "stdout",
     "output_type": "stream",
     "text": [
      "                   all       2043      72123      0.171      0.576      0.153     0.0895\n",
      "\n",
      "      Epoch    GPU_mem   box_loss   cls_loss   dfl_loss  Instances       Size\n"
     ]
    },
    {
     "name": "stderr",
     "output_type": "stream",
     "text": [
      "       8/50      5.72G      1.382      1.819     0.9883        128        640: 100%|██████████| 384/384 [00:56<00:00,  6.77it/s]\n",
      "                 Class     Images  Instances      Box(P          R      mAP50  mAP50-95): 100%|██████████| 64/64 [00:12<00:00,  5.10it/s]\n"
     ]
    },
    {
     "name": "stdout",
     "output_type": "stream",
     "text": [
      "                   all       2043      72123      0.172      0.585      0.158     0.0934\n",
      "\n",
      "      Epoch    GPU_mem   box_loss   cls_loss   dfl_loss  Instances       Size\n"
     ]
    },
    {
     "name": "stderr",
     "output_type": "stream",
     "text": [
      "       9/50       6.4G      1.373       1.81      0.986         40        640: 100%|██████████| 384/384 [00:56<00:00,  6.84it/s]\n",
      "                 Class     Images  Instances      Box(P          R      mAP50  mAP50-95): 100%|██████████| 64/64 [00:12<00:00,  5.05it/s]\n"
     ]
    },
    {
     "name": "stdout",
     "output_type": "stream",
     "text": [
      "                   all       2043      72123      0.175      0.574      0.161      0.095\n",
      "\n",
      "      Epoch    GPU_mem   box_loss   cls_loss   dfl_loss  Instances       Size\n"
     ]
    },
    {
     "name": "stderr",
     "output_type": "stream",
     "text": [
      "      10/50      4.84G       1.35      1.798     0.9834         59        640: 100%|██████████| 384/384 [00:55<00:00,  6.88it/s]\n",
      "                 Class     Images  Instances      Box(P          R      mAP50  mAP50-95): 100%|██████████| 64/64 [00:12<00:00,  4.92it/s]\n"
     ]
    },
    {
     "name": "stdout",
     "output_type": "stream",
     "text": [
      "                   all       2043      72123      0.173       0.58       0.16     0.0955\n",
      "\n",
      "      Epoch    GPU_mem   box_loss   cls_loss   dfl_loss  Instances       Size\n"
     ]
    },
    {
     "name": "stderr",
     "output_type": "stream",
     "text": [
      "      11/50      4.35G      1.344      1.789     0.9816         76        640: 100%|██████████| 384/384 [00:56<00:00,  6.84it/s]\n",
      "                 Class     Images  Instances      Box(P          R      mAP50  mAP50-95): 100%|██████████| 64/64 [00:12<00:00,  5.09it/s]\n"
     ]
    },
    {
     "name": "stdout",
     "output_type": "stream",
     "text": [
      "                   all       2043      72123      0.172      0.577       0.16     0.0955\n",
      "\n",
      "      Epoch    GPU_mem   box_loss   cls_loss   dfl_loss  Instances       Size\n"
     ]
    },
    {
     "name": "stderr",
     "output_type": "stream",
     "text": [
      "      12/50      5.72G      1.337      1.785      0.982         26        640: 100%|██████████| 384/384 [00:57<00:00,  6.67it/s]\n",
      "                 Class     Images  Instances      Box(P          R      mAP50  mAP50-95): 100%|██████████| 64/64 [00:13<00:00,  4.75it/s]\n"
     ]
    },
    {
     "name": "stdout",
     "output_type": "stream",
     "text": [
      "                   all       2043      72123      0.175      0.588      0.164     0.0973\n",
      "\n",
      "      Epoch    GPU_mem   box_loss   cls_loss   dfl_loss  Instances       Size\n"
     ]
    },
    {
     "name": "stderr",
     "output_type": "stream",
     "text": [
      "      13/50      5.24G      1.323      1.775     0.9774         46        640: 100%|██████████| 384/384 [00:57<00:00,  6.68it/s]\n",
      "                 Class     Images  Instances      Box(P          R      mAP50  mAP50-95): 100%|██████████| 64/64 [00:13<00:00,  4.91it/s]\n"
     ]
    },
    {
     "name": "stdout",
     "output_type": "stream",
     "text": [
      "                   all       2043      72123      0.175      0.583      0.164     0.0989\n",
      "\n",
      "      Epoch    GPU_mem   box_loss   cls_loss   dfl_loss  Instances       Size\n"
     ]
    },
    {
     "name": "stderr",
     "output_type": "stream",
     "text": [
      "      14/50      5.97G      1.319      1.769     0.9746         48        640: 100%|██████████| 384/384 [00:56<00:00,  6.85it/s]\n",
      "                 Class     Images  Instances      Box(P          R      mAP50  mAP50-95): 100%|██████████| 64/64 [00:12<00:00,  5.01it/s]\n"
     ]
    },
    {
     "name": "stdout",
     "output_type": "stream",
     "text": [
      "                   all       2043      72123      0.174      0.568      0.163     0.0978\n",
      "\n",
      "      Epoch    GPU_mem   box_loss   cls_loss   dfl_loss  Instances       Size\n"
     ]
    },
    {
     "name": "stderr",
     "output_type": "stream",
     "text": [
      "      15/50      5.68G      1.303      1.761     0.9736         61        640: 100%|██████████| 384/384 [00:56<00:00,  6.86it/s]\n",
      "                 Class     Images  Instances      Box(P          R      mAP50  mAP50-95): 100%|██████████| 64/64 [00:12<00:00,  5.00it/s]\n"
     ]
    },
    {
     "name": "stdout",
     "output_type": "stream",
     "text": [
      "                   all       2043      72123      0.174      0.606      0.165     0.0983\n",
      "\n",
      "      Epoch    GPU_mem   box_loss   cls_loss   dfl_loss  Instances       Size\n"
     ]
    },
    {
     "name": "stderr",
     "output_type": "stream",
     "text": [
      "      16/50      4.94G      1.296      1.758     0.9717         88        640: 100%|██████████| 384/384 [00:56<00:00,  6.83it/s]\n",
      "                 Class     Images  Instances      Box(P          R      mAP50  mAP50-95): 100%|██████████| 64/64 [00:12<00:00,  5.04it/s]\n"
     ]
    },
    {
     "name": "stdout",
     "output_type": "stream",
     "text": [
      "                   all       2043      72123      0.176      0.598      0.167      0.103\n",
      "\n",
      "      Epoch    GPU_mem   box_loss   cls_loss   dfl_loss  Instances       Size\n"
     ]
    },
    {
     "name": "stderr",
     "output_type": "stream",
     "text": [
      "      17/50      5.08G      1.298       1.75      0.968         34        640: 100%|██████████| 384/384 [00:56<00:00,  6.82it/s]\n",
      "                 Class     Images  Instances      Box(P          R      mAP50  mAP50-95): 100%|██████████| 64/64 [00:12<00:00,  5.00it/s]\n"
     ]
    },
    {
     "name": "stdout",
     "output_type": "stream",
     "text": [
      "                   all       2043      72123      0.176      0.599      0.168      0.103\n",
      "\n",
      "      Epoch    GPU_mem   box_loss   cls_loss   dfl_loss  Instances       Size\n"
     ]
    },
    {
     "name": "stderr",
     "output_type": "stream",
     "text": [
      "      18/50      4.87G      1.283      1.747     0.9678         21        640: 100%|██████████| 384/384 [00:56<00:00,  6.83it/s]\n",
      "                 Class     Images  Instances      Box(P          R      mAP50  mAP50-95): 100%|██████████| 64/64 [00:12<00:00,  4.98it/s]\n"
     ]
    },
    {
     "name": "stdout",
     "output_type": "stream",
     "text": [
      "                   all       2043      72123      0.177      0.603      0.168      0.103\n",
      "\n",
      "      Epoch    GPU_mem   box_loss   cls_loss   dfl_loss  Instances       Size\n"
     ]
    },
    {
     "name": "stderr",
     "output_type": "stream",
     "text": [
      "      19/50      5.75G       1.28      1.744      0.967         21        640: 100%|██████████| 384/384 [00:56<00:00,  6.78it/s]\n",
      "                 Class     Images  Instances      Box(P          R      mAP50  mAP50-95): 100%|██████████| 64/64 [00:12<00:00,  5.04it/s]\n"
     ]
    },
    {
     "name": "stdout",
     "output_type": "stream",
     "text": [
      "                   all       2043      72123      0.178      0.597      0.169      0.104\n",
      "\n",
      "      Epoch    GPU_mem   box_loss   cls_loss   dfl_loss  Instances       Size\n"
     ]
    },
    {
     "name": "stderr",
     "output_type": "stream",
     "text": [
      "      20/50      5.35G      1.275      1.744     0.9668         30        640: 100%|██████████| 384/384 [00:56<00:00,  6.82it/s]\n",
      "                 Class     Images  Instances      Box(P          R      mAP50  mAP50-95): 100%|██████████| 64/64 [00:12<00:00,  5.09it/s]\n"
     ]
    },
    {
     "name": "stdout",
     "output_type": "stream",
     "text": [
      "                   all       2043      72123      0.178      0.606       0.17      0.104\n",
      "\n",
      "      Epoch    GPU_mem   box_loss   cls_loss   dfl_loss  Instances       Size\n"
     ]
    },
    {
     "name": "stderr",
     "output_type": "stream",
     "text": [
      "      21/50      5.14G      1.268      1.738     0.9639         66        640: 100%|██████████| 384/384 [00:56<00:00,  6.80it/s]\n",
      "                 Class     Images  Instances      Box(P          R      mAP50  mAP50-95): 100%|██████████| 64/64 [00:12<00:00,  5.13it/s]\n"
     ]
    },
    {
     "name": "stdout",
     "output_type": "stream",
     "text": [
      "                   all       2043      72123      0.179      0.604       0.17      0.104\n",
      "\n",
      "      Epoch    GPU_mem   box_loss   cls_loss   dfl_loss  Instances       Size\n"
     ]
    },
    {
     "name": "stderr",
     "output_type": "stream",
     "text": [
      "      22/50      6.85G       1.26      1.734     0.9614         23        640: 100%|██████████| 384/384 [00:56<00:00,  6.83it/s]\n",
      "                 Class     Images  Instances      Box(P          R      mAP50  mAP50-95): 100%|██████████| 64/64 [00:14<00:00,  4.56it/s]\n"
     ]
    },
    {
     "name": "stdout",
     "output_type": "stream",
     "text": [
      "                   all       2043      72123      0.178       0.61      0.172      0.106\n",
      "\n",
      "      Epoch    GPU_mem   box_loss   cls_loss   dfl_loss  Instances       Size\n"
     ]
    },
    {
     "name": "stderr",
     "output_type": "stream",
     "text": [
      "      23/50      5.28G      1.256      1.732     0.9607         51        640: 100%|██████████| 384/384 [00:56<00:00,  6.86it/s]\n",
      "                 Class     Images  Instances      Box(P          R      mAP50  mAP50-95): 100%|██████████| 64/64 [00:12<00:00,  5.02it/s]\n"
     ]
    },
    {
     "name": "stdout",
     "output_type": "stream",
     "text": [
      "                   all       2043      72123      0.177      0.613      0.172      0.106\n",
      "\n",
      "      Epoch    GPU_mem   box_loss   cls_loss   dfl_loss  Instances       Size\n"
     ]
    },
    {
     "name": "stderr",
     "output_type": "stream",
     "text": [
      "      24/50      5.87G      1.252      1.728     0.9612         55        640: 100%|██████████| 384/384 [00:55<00:00,  6.91it/s]\n",
      "                 Class     Images  Instances      Box(P          R      mAP50  mAP50-95): 100%|██████████| 64/64 [00:12<00:00,  4.99it/s]\n"
     ]
    },
    {
     "name": "stdout",
     "output_type": "stream",
     "text": [
      "                   all       2043      72123      0.179      0.613      0.173      0.107\n",
      "\n",
      "      Epoch    GPU_mem   box_loss   cls_loss   dfl_loss  Instances       Size\n"
     ]
    },
    {
     "name": "stderr",
     "output_type": "stream",
     "text": [
      "      25/50      4.85G       1.25      1.729     0.9607         46        640: 100%|██████████| 384/384 [00:56<00:00,  6.83it/s]\n",
      "                 Class     Images  Instances      Box(P          R      mAP50  mAP50-95): 100%|██████████| 64/64 [00:12<00:00,  5.10it/s]\n"
     ]
    },
    {
     "name": "stdout",
     "output_type": "stream",
     "text": [
      "                   all       2043      72123      0.176      0.611      0.172      0.105\n",
      "\n",
      "      Epoch    GPU_mem   box_loss   cls_loss   dfl_loss  Instances       Size\n"
     ]
    },
    {
     "name": "stderr",
     "output_type": "stream",
     "text": [
      "      26/50       4.2G      1.244      1.725     0.9608         31        640: 100%|██████████| 384/384 [00:56<00:00,  6.80it/s]\n",
      "                 Class     Images  Instances      Box(P          R      mAP50  mAP50-95): 100%|██████████| 64/64 [00:12<00:00,  5.10it/s]\n"
     ]
    },
    {
     "name": "stdout",
     "output_type": "stream",
     "text": [
      "                   all       2043      72123      0.179      0.616      0.173      0.107\n",
      "\n",
      "      Epoch    GPU_mem   box_loss   cls_loss   dfl_loss  Instances       Size\n"
     ]
    },
    {
     "name": "stderr",
     "output_type": "stream",
     "text": [
      "      27/50      5.57G      1.236      1.719     0.9572         43        640: 100%|██████████| 384/384 [00:55<00:00,  6.88it/s]\n",
      "                 Class     Images  Instances      Box(P          R      mAP50  mAP50-95): 100%|██████████| 64/64 [00:12<00:00,  5.05it/s]\n"
     ]
    },
    {
     "name": "stdout",
     "output_type": "stream",
     "text": [
      "                   all       2043      72123      0.176      0.624      0.171      0.105\n",
      "\n",
      "      Epoch    GPU_mem   box_loss   cls_loss   dfl_loss  Instances       Size\n"
     ]
    },
    {
     "name": "stderr",
     "output_type": "stream",
     "text": [
      "      28/50      4.45G      1.241       1.72     0.9582         47        640: 100%|██████████| 384/384 [00:55<00:00,  6.87it/s]\n",
      "                 Class     Images  Instances      Box(P          R      mAP50  mAP50-95): 100%|██████████| 64/64 [00:12<00:00,  5.06it/s]\n"
     ]
    },
    {
     "name": "stdout",
     "output_type": "stream",
     "text": [
      "                   all       2043      72123      0.179      0.625      0.176       0.11\n",
      "\n",
      "      Epoch    GPU_mem   box_loss   cls_loss   dfl_loss  Instances       Size\n"
     ]
    },
    {
     "name": "stderr",
     "output_type": "stream",
     "text": [
      "      29/50      5.24G      1.233      1.716     0.9551         33        640: 100%|██████████| 384/384 [00:56<00:00,  6.84it/s]\n",
      "                 Class     Images  Instances      Box(P          R      mAP50  mAP50-95): 100%|██████████| 64/64 [00:12<00:00,  5.05it/s]\n"
     ]
    },
    {
     "name": "stdout",
     "output_type": "stream",
     "text": [
      "                   all       2043      72123      0.179      0.624      0.176      0.109\n",
      "\n",
      "      Epoch    GPU_mem   box_loss   cls_loss   dfl_loss  Instances       Size\n"
     ]
    },
    {
     "name": "stderr",
     "output_type": "stream",
     "text": [
      "      30/50      4.65G      1.227      1.714     0.9553         49        640: 100%|██████████| 384/384 [00:55<00:00,  6.86it/s]\n",
      "                 Class     Images  Instances      Box(P          R      mAP50  mAP50-95): 100%|██████████| 64/64 [00:12<00:00,  5.14it/s]\n"
     ]
    },
    {
     "name": "stdout",
     "output_type": "stream",
     "text": [
      "                   all       2043      72123      0.179      0.623      0.175      0.108\n",
      "\n",
      "      Epoch    GPU_mem   box_loss   cls_loss   dfl_loss  Instances       Size\n"
     ]
    },
    {
     "name": "stderr",
     "output_type": "stream",
     "text": [
      "      31/50      4.32G      1.221      1.712     0.9541         16        640: 100%|██████████| 384/384 [00:55<00:00,  6.90it/s]\n",
      "                 Class     Images  Instances      Box(P          R      mAP50  mAP50-95): 100%|██████████| 64/64 [00:12<00:00,  5.08it/s]\n"
     ]
    },
    {
     "name": "stdout",
     "output_type": "stream",
     "text": [
      "                   all       2043      72123       0.18      0.627      0.177       0.11\n",
      "\n",
      "      Epoch    GPU_mem   box_loss   cls_loss   dfl_loss  Instances       Size\n"
     ]
    },
    {
     "name": "stderr",
     "output_type": "stream",
     "text": [
      "      32/50       5.1G      1.227      1.712     0.9548         35        640: 100%|██████████| 384/384 [00:56<00:00,  6.84it/s]\n",
      "                 Class     Images  Instances      Box(P          R      mAP50  mAP50-95): 100%|██████████| 64/64 [00:12<00:00,  5.06it/s]\n"
     ]
    },
    {
     "name": "stdout",
     "output_type": "stream",
     "text": [
      "                   all       2043      72123      0.179      0.623      0.176      0.109\n",
      "\n",
      "      Epoch    GPU_mem   box_loss   cls_loss   dfl_loss  Instances       Size\n"
     ]
    },
    {
     "name": "stderr",
     "output_type": "stream",
     "text": [
      "      33/50      5.88G       1.21      1.704      0.952         24        640: 100%|██████████| 384/384 [00:56<00:00,  6.85it/s]\n",
      "                 Class     Images  Instances      Box(P          R      mAP50  mAP50-95): 100%|██████████| 64/64 [00:12<00:00,  5.09it/s]\n"
     ]
    },
    {
     "name": "stdout",
     "output_type": "stream",
     "text": [
      "                   all       2043      72123       0.18      0.623      0.175      0.109\n",
      "\n",
      "      Epoch    GPU_mem   box_loss   cls_loss   dfl_loss  Instances       Size\n"
     ]
    },
    {
     "name": "stderr",
     "output_type": "stream",
     "text": [
      "      34/50      6.54G      1.213      1.705     0.9508         14        640: 100%|██████████| 384/384 [00:56<00:00,  6.86it/s]\n",
      "                 Class     Images  Instances      Box(P          R      mAP50  mAP50-95): 100%|██████████| 64/64 [00:12<00:00,  5.02it/s]\n"
     ]
    },
    {
     "name": "stdout",
     "output_type": "stream",
     "text": [
      "                   all       2043      72123       0.18      0.623      0.177       0.11\n",
      "\n",
      "      Epoch    GPU_mem   box_loss   cls_loss   dfl_loss  Instances       Size\n"
     ]
    },
    {
     "name": "stderr",
     "output_type": "stream",
     "text": [
      "      35/50      6.55G      1.216      1.704     0.9517         14        640: 100%|██████████| 384/384 [00:56<00:00,  6.74it/s]\n",
      "                 Class     Images  Instances      Box(P          R      mAP50  mAP50-95): 100%|██████████| 64/64 [00:12<00:00,  5.09it/s]\n"
     ]
    },
    {
     "name": "stdout",
     "output_type": "stream",
     "text": [
      "                   all       2043      72123       0.18      0.629      0.177      0.111\n",
      "\n",
      "      Epoch    GPU_mem   box_loss   cls_loss   dfl_loss  Instances       Size\n"
     ]
    },
    {
     "name": "stderr",
     "output_type": "stream",
     "text": [
      "      36/50       4.2G      1.205      1.698     0.9507         23        640: 100%|██████████| 384/384 [00:55<00:00,  6.87it/s]\n",
      "                 Class     Images  Instances      Box(P          R      mAP50  mAP50-95): 100%|██████████| 64/64 [00:12<00:00,  5.14it/s]\n"
     ]
    },
    {
     "name": "stdout",
     "output_type": "stream",
     "text": [
      "                   all       2043      72123       0.18      0.626      0.178      0.111\n",
      "\n",
      "      Epoch    GPU_mem   box_loss   cls_loss   dfl_loss  Instances       Size\n"
     ]
    },
    {
     "name": "stderr",
     "output_type": "stream",
     "text": [
      "      37/50      5.33G      1.207      1.699     0.9488         15        640: 100%|██████████| 384/384 [00:56<00:00,  6.85it/s]\n",
      "                 Class     Images  Instances      Box(P          R      mAP50  mAP50-95): 100%|██████████| 64/64 [00:12<00:00,  5.06it/s]\n"
     ]
    },
    {
     "name": "stdout",
     "output_type": "stream",
     "text": [
      "                   all       2043      72123       0.18       0.63      0.178      0.112\n",
      "\n",
      "      Epoch    GPU_mem   box_loss   cls_loss   dfl_loss  Instances       Size\n"
     ]
    },
    {
     "name": "stderr",
     "output_type": "stream",
     "text": [
      "      38/50      4.37G      1.203      1.697     0.9496         38        640: 100%|██████████| 384/384 [00:55<00:00,  6.91it/s]\n",
      "                 Class     Images  Instances      Box(P          R      mAP50  mAP50-95): 100%|██████████| 64/64 [00:12<00:00,  5.17it/s]\n"
     ]
    },
    {
     "name": "stdout",
     "output_type": "stream",
     "text": [
      "                   all       2043      72123      0.181      0.628      0.179      0.113\n",
      "\n",
      "      Epoch    GPU_mem   box_loss   cls_loss   dfl_loss  Instances       Size\n"
     ]
    },
    {
     "name": "stderr",
     "output_type": "stream",
     "text": [
      "      39/50      5.98G      1.195      1.694     0.9481         20        640: 100%|██████████| 384/384 [00:55<00:00,  6.87it/s]\n",
      "                 Class     Images  Instances      Box(P          R      mAP50  mAP50-95): 100%|██████████| 64/64 [00:12<00:00,  5.13it/s]\n"
     ]
    },
    {
     "name": "stdout",
     "output_type": "stream",
     "text": [
      "                   all       2043      72123      0.179      0.627      0.177       0.11\n",
      "\n",
      "      Epoch    GPU_mem   box_loss   cls_loss   dfl_loss  Instances       Size\n"
     ]
    },
    {
     "name": "stderr",
     "output_type": "stream",
     "text": [
      "      40/50      5.14G      1.197      1.692     0.9467         21        640: 100%|██████████| 384/384 [00:56<00:00,  6.84it/s]\n",
      "                 Class     Images  Instances      Box(P          R      mAP50  mAP50-95): 100%|██████████| 64/64 [00:12<00:00,  5.10it/s]\n"
     ]
    },
    {
     "name": "stdout",
     "output_type": "stream",
     "text": [
      "                   all       2043      72123       0.18      0.627      0.178      0.112\n",
      "Closing dataloader mosaic\n",
      "\n",
      "      Epoch    GPU_mem   box_loss   cls_loss   dfl_loss  Instances       Size\n"
     ]
    },
    {
     "name": "stderr",
     "output_type": "stream",
     "text": [
      "      41/50      6.53G       1.17      1.686     0.9514         29        640: 100%|██████████| 384/384 [00:51<00:00,  7.52it/s]\n",
      "                 Class     Images  Instances      Box(P          R      mAP50  mAP50-95): 100%|██████████| 64/64 [00:12<00:00,  5.21it/s]\n"
     ]
    },
    {
     "name": "stdout",
     "output_type": "stream",
     "text": [
      "                   all       2043      72123       0.18       0.63      0.179      0.113\n",
      "\n",
      "      Epoch    GPU_mem   box_loss   cls_loss   dfl_loss  Instances       Size\n"
     ]
    },
    {
     "name": "stderr",
     "output_type": "stream",
     "text": [
      "      42/50      4.19G      1.161       1.68       0.95         30        640: 100%|██████████| 384/384 [00:52<00:00,  7.36it/s]\n",
      "                 Class     Images  Instances      Box(P          R      mAP50  mAP50-95): 100%|██████████| 64/64 [00:12<00:00,  5.10it/s]\n"
     ]
    },
    {
     "name": "stdout",
     "output_type": "stream",
     "text": [
      "                   all       2043      72123      0.181      0.633      0.179      0.113\n",
      "\n",
      "      Epoch    GPU_mem   box_loss   cls_loss   dfl_loss  Instances       Size\n"
     ]
    },
    {
     "name": "stderr",
     "output_type": "stream",
     "text": [
      "      43/50      4.67G      1.153      1.676      0.949         40        640: 100%|██████████| 384/384 [00:51<00:00,  7.41it/s]\n",
      "                 Class     Images  Instances      Box(P          R      mAP50  mAP50-95): 100%|██████████| 64/64 [00:12<00:00,  5.17it/s]\n"
     ]
    },
    {
     "name": "stdout",
     "output_type": "stream",
     "text": [
      "                   all       2043      72123      0.181      0.631      0.179      0.113\n",
      "\n",
      "      Epoch    GPU_mem   box_loss   cls_loss   dfl_loss  Instances       Size\n"
     ]
    },
    {
     "name": "stderr",
     "output_type": "stream",
     "text": [
      "      44/50      4.14G      1.155      1.674     0.9501         25        640: 100%|██████████| 384/384 [00:51<00:00,  7.45it/s]\n",
      "                 Class     Images  Instances      Box(P          R      mAP50  mAP50-95): 100%|██████████| 64/64 [00:12<00:00,  5.17it/s]\n"
     ]
    },
    {
     "name": "stdout",
     "output_type": "stream",
     "text": [
      "                   all       2043      72123      0.181      0.635      0.181      0.114\n",
      "\n",
      "      Epoch    GPU_mem   box_loss   cls_loss   dfl_loss  Instances       Size\n"
     ]
    },
    {
     "name": "stderr",
     "output_type": "stream",
     "text": [
      "      45/50      4.46G      1.154      1.673     0.9468         27        640: 100%|██████████| 384/384 [00:51<00:00,  7.41it/s]\n",
      "                 Class     Images  Instances      Box(P          R      mAP50  mAP50-95): 100%|██████████| 64/64 [00:12<00:00,  5.08it/s]\n"
     ]
    },
    {
     "name": "stdout",
     "output_type": "stream",
     "text": [
      "                   all       2043      72123      0.181      0.632       0.18      0.114\n",
      "\n",
      "      Epoch    GPU_mem   box_loss   cls_loss   dfl_loss  Instances       Size\n"
     ]
    },
    {
     "name": "stderr",
     "output_type": "stream",
     "text": [
      "      46/50      4.75G      1.149      1.669     0.9461         15        640: 100%|██████████| 384/384 [00:51<00:00,  7.44it/s]\n",
      "                 Class     Images  Instances      Box(P          R      mAP50  mAP50-95): 100%|██████████| 64/64 [00:12<00:00,  5.11it/s]\n"
     ]
    },
    {
     "name": "stdout",
     "output_type": "stream",
     "text": [
      "                   all       2043      72123      0.181      0.631      0.181      0.114\n",
      "\n",
      "      Epoch    GPU_mem   box_loss   cls_loss   dfl_loss  Instances       Size\n"
     ]
    },
    {
     "name": "stderr",
     "output_type": "stream",
     "text": [
      "      47/50      4.79G      1.142      1.667     0.9459         25        640: 100%|██████████| 384/384 [00:51<00:00,  7.42it/s]\n",
      "                 Class     Images  Instances      Box(P          R      mAP50  mAP50-95): 100%|██████████| 64/64 [00:12<00:00,  5.08it/s]\n"
     ]
    },
    {
     "name": "stdout",
     "output_type": "stream",
     "text": [
      "                   all       2043      72123      0.182      0.633      0.181      0.115\n",
      "\n",
      "      Epoch    GPU_mem   box_loss   cls_loss   dfl_loss  Instances       Size\n"
     ]
    },
    {
     "name": "stderr",
     "output_type": "stream",
     "text": [
      "      48/50      3.65G       1.14      1.665     0.9443         34        640: 100%|██████████| 384/384 [00:51<00:00,  7.44it/s]\n",
      "                 Class     Images  Instances      Box(P          R      mAP50  mAP50-95): 100%|██████████| 64/64 [00:12<00:00,  5.10it/s]\n"
     ]
    },
    {
     "name": "stdout",
     "output_type": "stream",
     "text": [
      "                   all       2043      72123      0.181      0.634      0.181      0.115\n",
      "\n",
      "      Epoch    GPU_mem   box_loss   cls_loss   dfl_loss  Instances       Size\n"
     ]
    },
    {
     "name": "stderr",
     "output_type": "stream",
     "text": [
      "      49/50      5.02G      1.138      1.663     0.9455         17        640: 100%|██████████| 384/384 [00:51<00:00,  7.43it/s]\n",
      "                 Class     Images  Instances      Box(P          R      mAP50  mAP50-95): 100%|██████████| 64/64 [00:12<00:00,  5.12it/s]\n"
     ]
    },
    {
     "name": "stdout",
     "output_type": "stream",
     "text": [
      "                   all       2043      72123      0.181      0.632      0.181      0.115\n",
      "\n",
      "      Epoch    GPU_mem   box_loss   cls_loss   dfl_loss  Instances       Size\n"
     ]
    },
    {
     "name": "stderr",
     "output_type": "stream",
     "text": [
      "      50/50      4.57G      1.137      1.663     0.9435         21        640: 100%|██████████| 384/384 [00:51<00:00,  7.39it/s]\n",
      "                 Class     Images  Instances      Box(P          R      mAP50  mAP50-95): 100%|██████████| 64/64 [00:12<00:00,  5.03it/s]\n"
     ]
    },
    {
     "name": "stdout",
     "output_type": "stream",
     "text": [
      "                   all       2043      72123      0.182       0.63      0.181      0.115\n",
      "\n",
      "50 epochs completed in 0.968 hours.\n",
      "Optimizer stripped from runs\\detect\\yolov11-pose_estemation\\weights\\last.pt, 5.5MB\n",
      "Optimizer stripped from runs\\detect\\yolov11-pose_estemation\\weights\\best.pt, 5.5MB\n",
      "\n",
      "Validating runs\\detect\\yolov11-pose_estemation\\weights\\best.pt...\n",
      "Ultralytics 8.3.25  Python-3.12.5 torch-2.5.1+cu121 CUDA:0 (NVIDIA GeForce RTX 4060 Laptop GPU, 8188MiB)\n",
      "YOLO11n summary (fused): 238 layers, 2,583,127 parameters, 0 gradients, 6.3 GFLOPs\n"
     ]
    },
    {
     "name": "stderr",
     "output_type": "stream",
     "text": [
      "                 Class     Images  Instances      Box(P          R      mAP50  mAP50-95): 100%|██████████| 64/64 [00:14<00:00,  4.53it/s]\n"
     ]
    },
    {
     "name": "stdout",
     "output_type": "stream",
     "text": [
      "                   all       2043      72123      0.182       0.63      0.181      0.115\n",
      "                  Bent       2043      13494      0.176      0.631      0.168       0.11\n",
      "              Kneeling       2043      13758      0.178      0.631      0.162      0.105\n",
      "                 Lying       2043      13777       0.18      0.639      0.162      0.108\n",
      "               Sitting       2043      13504      0.176      0.633      0.164      0.108\n",
      "               Upright       2043      17590      0.199      0.617      0.251      0.145\n",
      "Speed: 0.3ms preprocess, 1.4ms inference, 0.0ms loss, 1.2ms postprocess per image\n",
      "Results saved to \u001b[1mruns\\detect\\yolov11-pose_estemation\u001b[0m\n"
     ]
    },
    {
     "data": {
      "text/plain": [
       "ultralytics.utils.metrics.DetMetrics object with attributes:\n",
       "\n",
       "ap_class_index: array([0, 1, 2, 3, 4])\n",
       "box: ultralytics.utils.metrics.Metric object\n",
       "confusion_matrix: <ultralytics.utils.metrics.ConfusionMatrix object at 0x0000014457757590>\n",
       "curves: ['Precision-Recall(B)', 'F1-Confidence(B)', 'Precision-Confidence(B)', 'Recall-Confidence(B)']\n",
       "curves_results: [[array([          0,    0.001001,    0.002002,    0.003003,    0.004004,    0.005005,    0.006006,    0.007007,    0.008008,    0.009009,     0.01001,    0.011011,    0.012012,    0.013013,    0.014014,    0.015015,    0.016016,    0.017017,    0.018018,    0.019019,     0.02002,    0.021021,    0.022022,    0.023023,\n",
       "          0.024024,    0.025025,    0.026026,    0.027027,    0.028028,    0.029029,     0.03003,    0.031031,    0.032032,    0.033033,    0.034034,    0.035035,    0.036036,    0.037037,    0.038038,    0.039039,     0.04004,    0.041041,    0.042042,    0.043043,    0.044044,    0.045045,    0.046046,    0.047047,\n",
       "          0.048048,    0.049049,     0.05005,    0.051051,    0.052052,    0.053053,    0.054054,    0.055055,    0.056056,    0.057057,    0.058058,    0.059059,     0.06006,    0.061061,    0.062062,    0.063063,    0.064064,    0.065065,    0.066066,    0.067067,    0.068068,    0.069069,     0.07007,    0.071071,\n",
       "          0.072072,    0.073073,    0.074074,    0.075075,    0.076076,    0.077077,    0.078078,    0.079079,     0.08008,    0.081081,    0.082082,    0.083083,    0.084084,    0.085085,    0.086086,    0.087087,    0.088088,    0.089089,     0.09009,    0.091091,    0.092092,    0.093093,    0.094094,    0.095095,\n",
       "          0.096096,    0.097097,    0.098098,    0.099099,      0.1001,      0.1011,      0.1021,      0.1031,      0.1041,     0.10511,     0.10611,     0.10711,     0.10811,     0.10911,     0.11011,     0.11111,     0.11211,     0.11311,     0.11411,     0.11512,     0.11612,     0.11712,     0.11812,     0.11912,\n",
       "           0.12012,     0.12112,     0.12212,     0.12312,     0.12412,     0.12513,     0.12613,     0.12713,     0.12813,     0.12913,     0.13013,     0.13113,     0.13213,     0.13313,     0.13413,     0.13514,     0.13614,     0.13714,     0.13814,     0.13914,     0.14014,     0.14114,     0.14214,     0.14314,\n",
       "           0.14414,     0.14515,     0.14615,     0.14715,     0.14815,     0.14915,     0.15015,     0.15115,     0.15215,     0.15315,     0.15415,     0.15516,     0.15616,     0.15716,     0.15816,     0.15916,     0.16016,     0.16116,     0.16216,     0.16316,     0.16416,     0.16517,     0.16617,     0.16717,\n",
       "           0.16817,     0.16917,     0.17017,     0.17117,     0.17217,     0.17317,     0.17417,     0.17518,     0.17618,     0.17718,     0.17818,     0.17918,     0.18018,     0.18118,     0.18218,     0.18318,     0.18418,     0.18519,     0.18619,     0.18719,     0.18819,     0.18919,     0.19019,     0.19119,\n",
       "           0.19219,     0.19319,     0.19419,      0.1952,      0.1962,      0.1972,      0.1982,      0.1992,      0.2002,      0.2012,      0.2022,      0.2032,      0.2042,     0.20521,     0.20621,     0.20721,     0.20821,     0.20921,     0.21021,     0.21121,     0.21221,     0.21321,     0.21421,     0.21522,\n",
       "           0.21622,     0.21722,     0.21822,     0.21922,     0.22022,     0.22122,     0.22222,     0.22322,     0.22422,     0.22523,     0.22623,     0.22723,     0.22823,     0.22923,     0.23023,     0.23123,     0.23223,     0.23323,     0.23423,     0.23524,     0.23624,     0.23724,     0.23824,     0.23924,\n",
       "           0.24024,     0.24124,     0.24224,     0.24324,     0.24424,     0.24525,     0.24625,     0.24725,     0.24825,     0.24925,     0.25025,     0.25125,     0.25225,     0.25325,     0.25425,     0.25526,     0.25626,     0.25726,     0.25826,     0.25926,     0.26026,     0.26126,     0.26226,     0.26326,\n",
       "           0.26426,     0.26527,     0.26627,     0.26727,     0.26827,     0.26927,     0.27027,     0.27127,     0.27227,     0.27327,     0.27427,     0.27528,     0.27628,     0.27728,     0.27828,     0.27928,     0.28028,     0.28128,     0.28228,     0.28328,     0.28428,     0.28529,     0.28629,     0.28729,\n",
       "           0.28829,     0.28929,     0.29029,     0.29129,     0.29229,     0.29329,     0.29429,      0.2953,      0.2963,      0.2973,      0.2983,      0.2993,      0.3003,      0.3013,      0.3023,      0.3033,      0.3043,     0.30531,     0.30631,     0.30731,     0.30831,     0.30931,     0.31031,     0.31131,\n",
       "           0.31231,     0.31331,     0.31431,     0.31532,     0.31632,     0.31732,     0.31832,     0.31932,     0.32032,     0.32132,     0.32232,     0.32332,     0.32432,     0.32533,     0.32633,     0.32733,     0.32833,     0.32933,     0.33033,     0.33133,     0.33233,     0.33333,     0.33433,     0.33534,\n",
       "           0.33634,     0.33734,     0.33834,     0.33934,     0.34034,     0.34134,     0.34234,     0.34334,     0.34434,     0.34535,     0.34635,     0.34735,     0.34835,     0.34935,     0.35035,     0.35135,     0.35235,     0.35335,     0.35435,     0.35536,     0.35636,     0.35736,     0.35836,     0.35936,\n",
       "           0.36036,     0.36136,     0.36236,     0.36336,     0.36436,     0.36537,     0.36637,     0.36737,     0.36837,     0.36937,     0.37037,     0.37137,     0.37237,     0.37337,     0.37437,     0.37538,     0.37638,     0.37738,     0.37838,     0.37938,     0.38038,     0.38138,     0.38238,     0.38338,\n",
       "           0.38438,     0.38539,     0.38639,     0.38739,     0.38839,     0.38939,     0.39039,     0.39139,     0.39239,     0.39339,     0.39439,      0.3954,      0.3964,      0.3974,      0.3984,      0.3994,      0.4004,      0.4014,      0.4024,      0.4034,      0.4044,     0.40541,     0.40641,     0.40741,\n",
       "           0.40841,     0.40941,     0.41041,     0.41141,     0.41241,     0.41341,     0.41441,     0.41542,     0.41642,     0.41742,     0.41842,     0.41942,     0.42042,     0.42142,     0.42242,     0.42342,     0.42442,     0.42543,     0.42643,     0.42743,     0.42843,     0.42943,     0.43043,     0.43143,\n",
       "           0.43243,     0.43343,     0.43443,     0.43544,     0.43644,     0.43744,     0.43844,     0.43944,     0.44044,     0.44144,     0.44244,     0.44344,     0.44444,     0.44545,     0.44645,     0.44745,     0.44845,     0.44945,     0.45045,     0.45145,     0.45245,     0.45345,     0.45445,     0.45546,\n",
       "           0.45646,     0.45746,     0.45846,     0.45946,     0.46046,     0.46146,     0.46246,     0.46346,     0.46446,     0.46547,     0.46647,     0.46747,     0.46847,     0.46947,     0.47047,     0.47147,     0.47247,     0.47347,     0.47447,     0.47548,     0.47648,     0.47748,     0.47848,     0.47948,\n",
       "           0.48048,     0.48148,     0.48248,     0.48348,     0.48448,     0.48549,     0.48649,     0.48749,     0.48849,     0.48949,     0.49049,     0.49149,     0.49249,     0.49349,     0.49449,      0.4955,      0.4965,      0.4975,      0.4985,      0.4995,      0.5005,      0.5015,      0.5025,      0.5035,\n",
       "            0.5045,     0.50551,     0.50651,     0.50751,     0.50851,     0.50951,     0.51051,     0.51151,     0.51251,     0.51351,     0.51451,     0.51552,     0.51652,     0.51752,     0.51852,     0.51952,     0.52052,     0.52152,     0.52252,     0.52352,     0.52452,     0.52553,     0.52653,     0.52753,\n",
       "           0.52853,     0.52953,     0.53053,     0.53153,     0.53253,     0.53353,     0.53453,     0.53554,     0.53654,     0.53754,     0.53854,     0.53954,     0.54054,     0.54154,     0.54254,     0.54354,     0.54454,     0.54555,     0.54655,     0.54755,     0.54855,     0.54955,     0.55055,     0.55155,\n",
       "           0.55255,     0.55355,     0.55455,     0.55556,     0.55656,     0.55756,     0.55856,     0.55956,     0.56056,     0.56156,     0.56256,     0.56356,     0.56456,     0.56557,     0.56657,     0.56757,     0.56857,     0.56957,     0.57057,     0.57157,     0.57257,     0.57357,     0.57457,     0.57558,\n",
       "           0.57658,     0.57758,     0.57858,     0.57958,     0.58058,     0.58158,     0.58258,     0.58358,     0.58458,     0.58559,     0.58659,     0.58759,     0.58859,     0.58959,     0.59059,     0.59159,     0.59259,     0.59359,     0.59459,      0.5956,      0.5966,      0.5976,      0.5986,      0.5996,\n",
       "            0.6006,      0.6016,      0.6026,      0.6036,      0.6046,     0.60561,     0.60661,     0.60761,     0.60861,     0.60961,     0.61061,     0.61161,     0.61261,     0.61361,     0.61461,     0.61562,     0.61662,     0.61762,     0.61862,     0.61962,     0.62062,     0.62162,     0.62262,     0.62362,\n",
       "           0.62462,     0.62563,     0.62663,     0.62763,     0.62863,     0.62963,     0.63063,     0.63163,     0.63263,     0.63363,     0.63463,     0.63564,     0.63664,     0.63764,     0.63864,     0.63964,     0.64064,     0.64164,     0.64264,     0.64364,     0.64464,     0.64565,     0.64665,     0.64765,\n",
       "           0.64865,     0.64965,     0.65065,     0.65165,     0.65265,     0.65365,     0.65465,     0.65566,     0.65666,     0.65766,     0.65866,     0.65966,     0.66066,     0.66166,     0.66266,     0.66366,     0.66466,     0.66567,     0.66667,     0.66767,     0.66867,     0.66967,     0.67067,     0.67167,\n",
       "           0.67267,     0.67367,     0.67467,     0.67568,     0.67668,     0.67768,     0.67868,     0.67968,     0.68068,     0.68168,     0.68268,     0.68368,     0.68468,     0.68569,     0.68669,     0.68769,     0.68869,     0.68969,     0.69069,     0.69169,     0.69269,     0.69369,     0.69469,      0.6957,\n",
       "            0.6967,      0.6977,      0.6987,      0.6997,      0.7007,      0.7017,      0.7027,      0.7037,      0.7047,     0.70571,     0.70671,     0.70771,     0.70871,     0.70971,     0.71071,     0.71171,     0.71271,     0.71371,     0.71471,     0.71572,     0.71672,     0.71772,     0.71872,     0.71972,\n",
       "           0.72072,     0.72172,     0.72272,     0.72372,     0.72472,     0.72573,     0.72673,     0.72773,     0.72873,     0.72973,     0.73073,     0.73173,     0.73273,     0.73373,     0.73473,     0.73574,     0.73674,     0.73774,     0.73874,     0.73974,     0.74074,     0.74174,     0.74274,     0.74374,\n",
       "           0.74474,     0.74575,     0.74675,     0.74775,     0.74875,     0.74975,     0.75075,     0.75175,     0.75275,     0.75375,     0.75475,     0.75576,     0.75676,     0.75776,     0.75876,     0.75976,     0.76076,     0.76176,     0.76276,     0.76376,     0.76476,     0.76577,     0.76677,     0.76777,\n",
       "           0.76877,     0.76977,     0.77077,     0.77177,     0.77277,     0.77377,     0.77477,     0.77578,     0.77678,     0.77778,     0.77878,     0.77978,     0.78078,     0.78178,     0.78278,     0.78378,     0.78478,     0.78579,     0.78679,     0.78779,     0.78879,     0.78979,     0.79079,     0.79179,\n",
       "           0.79279,     0.79379,     0.79479,      0.7958,      0.7968,      0.7978,      0.7988,      0.7998,      0.8008,      0.8018,      0.8028,      0.8038,      0.8048,     0.80581,     0.80681,     0.80781,     0.80881,     0.80981,     0.81081,     0.81181,     0.81281,     0.81381,     0.81481,     0.81582,\n",
       "           0.81682,     0.81782,     0.81882,     0.81982,     0.82082,     0.82182,     0.82282,     0.82382,     0.82482,     0.82583,     0.82683,     0.82783,     0.82883,     0.82983,     0.83083,     0.83183,     0.83283,     0.83383,     0.83483,     0.83584,     0.83684,     0.83784,     0.83884,     0.83984,\n",
       "           0.84084,     0.84184,     0.84284,     0.84384,     0.84484,     0.84585,     0.84685,     0.84785,     0.84885,     0.84985,     0.85085,     0.85185,     0.85285,     0.85385,     0.85485,     0.85586,     0.85686,     0.85786,     0.85886,     0.85986,     0.86086,     0.86186,     0.86286,     0.86386,\n",
       "           0.86486,     0.86587,     0.86687,     0.86787,     0.86887,     0.86987,     0.87087,     0.87187,     0.87287,     0.87387,     0.87487,     0.87588,     0.87688,     0.87788,     0.87888,     0.87988,     0.88088,     0.88188,     0.88288,     0.88388,     0.88488,     0.88589,     0.88689,     0.88789,\n",
       "           0.88889,     0.88989,     0.89089,     0.89189,     0.89289,     0.89389,     0.89489,      0.8959,      0.8969,      0.8979,      0.8989,      0.8999,      0.9009,      0.9019,      0.9029,      0.9039,      0.9049,     0.90591,     0.90691,     0.90791,     0.90891,     0.90991,     0.91091,     0.91191,\n",
       "           0.91291,     0.91391,     0.91491,     0.91592,     0.91692,     0.91792,     0.91892,     0.91992,     0.92092,     0.92192,     0.92292,     0.92392,     0.92492,     0.92593,     0.92693,     0.92793,     0.92893,     0.92993,     0.93093,     0.93193,     0.93293,     0.93393,     0.93493,     0.93594,\n",
       "           0.93694,     0.93794,     0.93894,     0.93994,     0.94094,     0.94194,     0.94294,     0.94394,     0.94494,     0.94595,     0.94695,     0.94795,     0.94895,     0.94995,     0.95095,     0.95195,     0.95295,     0.95395,     0.95495,     0.95596,     0.95696,     0.95796,     0.95896,     0.95996,\n",
       "           0.96096,     0.96196,     0.96296,     0.96396,     0.96496,     0.96597,     0.96697,     0.96797,     0.96897,     0.96997,     0.97097,     0.97197,     0.97297,     0.97397,     0.97497,     0.97598,     0.97698,     0.97798,     0.97898,     0.97998,     0.98098,     0.98198,     0.98298,     0.98398,\n",
       "           0.98498,     0.98599,     0.98699,     0.98799,     0.98899,     0.98999,     0.99099,     0.99199,     0.99299,     0.99399,     0.99499,       0.996,       0.997,       0.998,       0.999,           1]), array([[        0.6,     0.31225,     0.31225, ...,  0.00089827,  0.00044914,           0],\n",
       "       [    0.34783,     0.25339,     0.25339, ...,  0.00096929,  0.00048465,           0],\n",
       "       [        0.5,     0.22142,     0.22142, ...,  0.00095107,  0.00047553,           0],\n",
       "       [          1,      0.2987,     0.27358, ...,  0.00093826,  0.00046913,           0],\n",
       "       [          1,           1,           1, ...,  0.00083489,  0.00041745,           0]]), 'Recall', 'Precision'], [array([          0,    0.001001,    0.002002,    0.003003,    0.004004,    0.005005,    0.006006,    0.007007,    0.008008,    0.009009,     0.01001,    0.011011,    0.012012,    0.013013,    0.014014,    0.015015,    0.016016,    0.017017,    0.018018,    0.019019,     0.02002,    0.021021,    0.022022,    0.023023,\n",
       "          0.024024,    0.025025,    0.026026,    0.027027,    0.028028,    0.029029,     0.03003,    0.031031,    0.032032,    0.033033,    0.034034,    0.035035,    0.036036,    0.037037,    0.038038,    0.039039,     0.04004,    0.041041,    0.042042,    0.043043,    0.044044,    0.045045,    0.046046,    0.047047,\n",
       "          0.048048,    0.049049,     0.05005,    0.051051,    0.052052,    0.053053,    0.054054,    0.055055,    0.056056,    0.057057,    0.058058,    0.059059,     0.06006,    0.061061,    0.062062,    0.063063,    0.064064,    0.065065,    0.066066,    0.067067,    0.068068,    0.069069,     0.07007,    0.071071,\n",
       "          0.072072,    0.073073,    0.074074,    0.075075,    0.076076,    0.077077,    0.078078,    0.079079,     0.08008,    0.081081,    0.082082,    0.083083,    0.084084,    0.085085,    0.086086,    0.087087,    0.088088,    0.089089,     0.09009,    0.091091,    0.092092,    0.093093,    0.094094,    0.095095,\n",
       "          0.096096,    0.097097,    0.098098,    0.099099,      0.1001,      0.1011,      0.1021,      0.1031,      0.1041,     0.10511,     0.10611,     0.10711,     0.10811,     0.10911,     0.11011,     0.11111,     0.11211,     0.11311,     0.11411,     0.11512,     0.11612,     0.11712,     0.11812,     0.11912,\n",
       "           0.12012,     0.12112,     0.12212,     0.12312,     0.12412,     0.12513,     0.12613,     0.12713,     0.12813,     0.12913,     0.13013,     0.13113,     0.13213,     0.13313,     0.13413,     0.13514,     0.13614,     0.13714,     0.13814,     0.13914,     0.14014,     0.14114,     0.14214,     0.14314,\n",
       "           0.14414,     0.14515,     0.14615,     0.14715,     0.14815,     0.14915,     0.15015,     0.15115,     0.15215,     0.15315,     0.15415,     0.15516,     0.15616,     0.15716,     0.15816,     0.15916,     0.16016,     0.16116,     0.16216,     0.16316,     0.16416,     0.16517,     0.16617,     0.16717,\n",
       "           0.16817,     0.16917,     0.17017,     0.17117,     0.17217,     0.17317,     0.17417,     0.17518,     0.17618,     0.17718,     0.17818,     0.17918,     0.18018,     0.18118,     0.18218,     0.18318,     0.18418,     0.18519,     0.18619,     0.18719,     0.18819,     0.18919,     0.19019,     0.19119,\n",
       "           0.19219,     0.19319,     0.19419,      0.1952,      0.1962,      0.1972,      0.1982,      0.1992,      0.2002,      0.2012,      0.2022,      0.2032,      0.2042,     0.20521,     0.20621,     0.20721,     0.20821,     0.20921,     0.21021,     0.21121,     0.21221,     0.21321,     0.21421,     0.21522,\n",
       "           0.21622,     0.21722,     0.21822,     0.21922,     0.22022,     0.22122,     0.22222,     0.22322,     0.22422,     0.22523,     0.22623,     0.22723,     0.22823,     0.22923,     0.23023,     0.23123,     0.23223,     0.23323,     0.23423,     0.23524,     0.23624,     0.23724,     0.23824,     0.23924,\n",
       "           0.24024,     0.24124,     0.24224,     0.24324,     0.24424,     0.24525,     0.24625,     0.24725,     0.24825,     0.24925,     0.25025,     0.25125,     0.25225,     0.25325,     0.25425,     0.25526,     0.25626,     0.25726,     0.25826,     0.25926,     0.26026,     0.26126,     0.26226,     0.26326,\n",
       "           0.26426,     0.26527,     0.26627,     0.26727,     0.26827,     0.26927,     0.27027,     0.27127,     0.27227,     0.27327,     0.27427,     0.27528,     0.27628,     0.27728,     0.27828,     0.27928,     0.28028,     0.28128,     0.28228,     0.28328,     0.28428,     0.28529,     0.28629,     0.28729,\n",
       "           0.28829,     0.28929,     0.29029,     0.29129,     0.29229,     0.29329,     0.29429,      0.2953,      0.2963,      0.2973,      0.2983,      0.2993,      0.3003,      0.3013,      0.3023,      0.3033,      0.3043,     0.30531,     0.30631,     0.30731,     0.30831,     0.30931,     0.31031,     0.31131,\n",
       "           0.31231,     0.31331,     0.31431,     0.31532,     0.31632,     0.31732,     0.31832,     0.31932,     0.32032,     0.32132,     0.32232,     0.32332,     0.32432,     0.32533,     0.32633,     0.32733,     0.32833,     0.32933,     0.33033,     0.33133,     0.33233,     0.33333,     0.33433,     0.33534,\n",
       "           0.33634,     0.33734,     0.33834,     0.33934,     0.34034,     0.34134,     0.34234,     0.34334,     0.34434,     0.34535,     0.34635,     0.34735,     0.34835,     0.34935,     0.35035,     0.35135,     0.35235,     0.35335,     0.35435,     0.35536,     0.35636,     0.35736,     0.35836,     0.35936,\n",
       "           0.36036,     0.36136,     0.36236,     0.36336,     0.36436,     0.36537,     0.36637,     0.36737,     0.36837,     0.36937,     0.37037,     0.37137,     0.37237,     0.37337,     0.37437,     0.37538,     0.37638,     0.37738,     0.37838,     0.37938,     0.38038,     0.38138,     0.38238,     0.38338,\n",
       "           0.38438,     0.38539,     0.38639,     0.38739,     0.38839,     0.38939,     0.39039,     0.39139,     0.39239,     0.39339,     0.39439,      0.3954,      0.3964,      0.3974,      0.3984,      0.3994,      0.4004,      0.4014,      0.4024,      0.4034,      0.4044,     0.40541,     0.40641,     0.40741,\n",
       "           0.40841,     0.40941,     0.41041,     0.41141,     0.41241,     0.41341,     0.41441,     0.41542,     0.41642,     0.41742,     0.41842,     0.41942,     0.42042,     0.42142,     0.42242,     0.42342,     0.42442,     0.42543,     0.42643,     0.42743,     0.42843,     0.42943,     0.43043,     0.43143,\n",
       "           0.43243,     0.43343,     0.43443,     0.43544,     0.43644,     0.43744,     0.43844,     0.43944,     0.44044,     0.44144,     0.44244,     0.44344,     0.44444,     0.44545,     0.44645,     0.44745,     0.44845,     0.44945,     0.45045,     0.45145,     0.45245,     0.45345,     0.45445,     0.45546,\n",
       "           0.45646,     0.45746,     0.45846,     0.45946,     0.46046,     0.46146,     0.46246,     0.46346,     0.46446,     0.46547,     0.46647,     0.46747,     0.46847,     0.46947,     0.47047,     0.47147,     0.47247,     0.47347,     0.47447,     0.47548,     0.47648,     0.47748,     0.47848,     0.47948,\n",
       "           0.48048,     0.48148,     0.48248,     0.48348,     0.48448,     0.48549,     0.48649,     0.48749,     0.48849,     0.48949,     0.49049,     0.49149,     0.49249,     0.49349,     0.49449,      0.4955,      0.4965,      0.4975,      0.4985,      0.4995,      0.5005,      0.5015,      0.5025,      0.5035,\n",
       "            0.5045,     0.50551,     0.50651,     0.50751,     0.50851,     0.50951,     0.51051,     0.51151,     0.51251,     0.51351,     0.51451,     0.51552,     0.51652,     0.51752,     0.51852,     0.51952,     0.52052,     0.52152,     0.52252,     0.52352,     0.52452,     0.52553,     0.52653,     0.52753,\n",
       "           0.52853,     0.52953,     0.53053,     0.53153,     0.53253,     0.53353,     0.53453,     0.53554,     0.53654,     0.53754,     0.53854,     0.53954,     0.54054,     0.54154,     0.54254,     0.54354,     0.54454,     0.54555,     0.54655,     0.54755,     0.54855,     0.54955,     0.55055,     0.55155,\n",
       "           0.55255,     0.55355,     0.55455,     0.55556,     0.55656,     0.55756,     0.55856,     0.55956,     0.56056,     0.56156,     0.56256,     0.56356,     0.56456,     0.56557,     0.56657,     0.56757,     0.56857,     0.56957,     0.57057,     0.57157,     0.57257,     0.57357,     0.57457,     0.57558,\n",
       "           0.57658,     0.57758,     0.57858,     0.57958,     0.58058,     0.58158,     0.58258,     0.58358,     0.58458,     0.58559,     0.58659,     0.58759,     0.58859,     0.58959,     0.59059,     0.59159,     0.59259,     0.59359,     0.59459,      0.5956,      0.5966,      0.5976,      0.5986,      0.5996,\n",
       "            0.6006,      0.6016,      0.6026,      0.6036,      0.6046,     0.60561,     0.60661,     0.60761,     0.60861,     0.60961,     0.61061,     0.61161,     0.61261,     0.61361,     0.61461,     0.61562,     0.61662,     0.61762,     0.61862,     0.61962,     0.62062,     0.62162,     0.62262,     0.62362,\n",
       "           0.62462,     0.62563,     0.62663,     0.62763,     0.62863,     0.62963,     0.63063,     0.63163,     0.63263,     0.63363,     0.63463,     0.63564,     0.63664,     0.63764,     0.63864,     0.63964,     0.64064,     0.64164,     0.64264,     0.64364,     0.64464,     0.64565,     0.64665,     0.64765,\n",
       "           0.64865,     0.64965,     0.65065,     0.65165,     0.65265,     0.65365,     0.65465,     0.65566,     0.65666,     0.65766,     0.65866,     0.65966,     0.66066,     0.66166,     0.66266,     0.66366,     0.66466,     0.66567,     0.66667,     0.66767,     0.66867,     0.66967,     0.67067,     0.67167,\n",
       "           0.67267,     0.67367,     0.67467,     0.67568,     0.67668,     0.67768,     0.67868,     0.67968,     0.68068,     0.68168,     0.68268,     0.68368,     0.68468,     0.68569,     0.68669,     0.68769,     0.68869,     0.68969,     0.69069,     0.69169,     0.69269,     0.69369,     0.69469,      0.6957,\n",
       "            0.6967,      0.6977,      0.6987,      0.6997,      0.7007,      0.7017,      0.7027,      0.7037,      0.7047,     0.70571,     0.70671,     0.70771,     0.70871,     0.70971,     0.71071,     0.71171,     0.71271,     0.71371,     0.71471,     0.71572,     0.71672,     0.71772,     0.71872,     0.71972,\n",
       "           0.72072,     0.72172,     0.72272,     0.72372,     0.72472,     0.72573,     0.72673,     0.72773,     0.72873,     0.72973,     0.73073,     0.73173,     0.73273,     0.73373,     0.73473,     0.73574,     0.73674,     0.73774,     0.73874,     0.73974,     0.74074,     0.74174,     0.74274,     0.74374,\n",
       "           0.74474,     0.74575,     0.74675,     0.74775,     0.74875,     0.74975,     0.75075,     0.75175,     0.75275,     0.75375,     0.75475,     0.75576,     0.75676,     0.75776,     0.75876,     0.75976,     0.76076,     0.76176,     0.76276,     0.76376,     0.76476,     0.76577,     0.76677,     0.76777,\n",
       "           0.76877,     0.76977,     0.77077,     0.77177,     0.77277,     0.77377,     0.77477,     0.77578,     0.77678,     0.77778,     0.77878,     0.77978,     0.78078,     0.78178,     0.78278,     0.78378,     0.78478,     0.78579,     0.78679,     0.78779,     0.78879,     0.78979,     0.79079,     0.79179,\n",
       "           0.79279,     0.79379,     0.79479,      0.7958,      0.7968,      0.7978,      0.7988,      0.7998,      0.8008,      0.8018,      0.8028,      0.8038,      0.8048,     0.80581,     0.80681,     0.80781,     0.80881,     0.80981,     0.81081,     0.81181,     0.81281,     0.81381,     0.81481,     0.81582,\n",
       "           0.81682,     0.81782,     0.81882,     0.81982,     0.82082,     0.82182,     0.82282,     0.82382,     0.82482,     0.82583,     0.82683,     0.82783,     0.82883,     0.82983,     0.83083,     0.83183,     0.83283,     0.83383,     0.83483,     0.83584,     0.83684,     0.83784,     0.83884,     0.83984,\n",
       "           0.84084,     0.84184,     0.84284,     0.84384,     0.84484,     0.84585,     0.84685,     0.84785,     0.84885,     0.84985,     0.85085,     0.85185,     0.85285,     0.85385,     0.85485,     0.85586,     0.85686,     0.85786,     0.85886,     0.85986,     0.86086,     0.86186,     0.86286,     0.86386,\n",
       "           0.86486,     0.86587,     0.86687,     0.86787,     0.86887,     0.86987,     0.87087,     0.87187,     0.87287,     0.87387,     0.87487,     0.87588,     0.87688,     0.87788,     0.87888,     0.87988,     0.88088,     0.88188,     0.88288,     0.88388,     0.88488,     0.88589,     0.88689,     0.88789,\n",
       "           0.88889,     0.88989,     0.89089,     0.89189,     0.89289,     0.89389,     0.89489,      0.8959,      0.8969,      0.8979,      0.8989,      0.8999,      0.9009,      0.9019,      0.9029,      0.9039,      0.9049,     0.90591,     0.90691,     0.90791,     0.90891,     0.90991,     0.91091,     0.91191,\n",
       "           0.91291,     0.91391,     0.91491,     0.91592,     0.91692,     0.91792,     0.91892,     0.91992,     0.92092,     0.92192,     0.92292,     0.92392,     0.92492,     0.92593,     0.92693,     0.92793,     0.92893,     0.92993,     0.93093,     0.93193,     0.93293,     0.93393,     0.93493,     0.93594,\n",
       "           0.93694,     0.93794,     0.93894,     0.93994,     0.94094,     0.94194,     0.94294,     0.94394,     0.94494,     0.94595,     0.94695,     0.94795,     0.94895,     0.94995,     0.95095,     0.95195,     0.95295,     0.95395,     0.95495,     0.95596,     0.95696,     0.95796,     0.95896,     0.95996,\n",
       "           0.96096,     0.96196,     0.96296,     0.96396,     0.96496,     0.96597,     0.96697,     0.96797,     0.96897,     0.96997,     0.97097,     0.97197,     0.97297,     0.97397,     0.97497,     0.97598,     0.97698,     0.97798,     0.97898,     0.97998,     0.98098,     0.98198,     0.98298,     0.98398,\n",
       "           0.98498,     0.98599,     0.98699,     0.98799,     0.98899,     0.98999,     0.99099,     0.99199,     0.99299,     0.99399,     0.99499,       0.996,       0.997,       0.998,       0.999,           1]), array([[    0.16388,     0.16388,     0.16434, ...,           0,           0,           0],\n",
       "       [       0.17,        0.17,     0.17053, ...,           0,           0,           0],\n",
       "       [     0.1701,      0.1701,     0.17062, ...,           0,           0,           0],\n",
       "       [    0.16549,     0.16549,     0.16595, ...,           0,           0,           0],\n",
       "       [    0.16726,     0.16726,     0.16808, ...,           0,           0,           0]]), 'Confidence', 'F1'], [array([          0,    0.001001,    0.002002,    0.003003,    0.004004,    0.005005,    0.006006,    0.007007,    0.008008,    0.009009,     0.01001,    0.011011,    0.012012,    0.013013,    0.014014,    0.015015,    0.016016,    0.017017,    0.018018,    0.019019,     0.02002,    0.021021,    0.022022,    0.023023,\n",
       "          0.024024,    0.025025,    0.026026,    0.027027,    0.028028,    0.029029,     0.03003,    0.031031,    0.032032,    0.033033,    0.034034,    0.035035,    0.036036,    0.037037,    0.038038,    0.039039,     0.04004,    0.041041,    0.042042,    0.043043,    0.044044,    0.045045,    0.046046,    0.047047,\n",
       "          0.048048,    0.049049,     0.05005,    0.051051,    0.052052,    0.053053,    0.054054,    0.055055,    0.056056,    0.057057,    0.058058,    0.059059,     0.06006,    0.061061,    0.062062,    0.063063,    0.064064,    0.065065,    0.066066,    0.067067,    0.068068,    0.069069,     0.07007,    0.071071,\n",
       "          0.072072,    0.073073,    0.074074,    0.075075,    0.076076,    0.077077,    0.078078,    0.079079,     0.08008,    0.081081,    0.082082,    0.083083,    0.084084,    0.085085,    0.086086,    0.087087,    0.088088,    0.089089,     0.09009,    0.091091,    0.092092,    0.093093,    0.094094,    0.095095,\n",
       "          0.096096,    0.097097,    0.098098,    0.099099,      0.1001,      0.1011,      0.1021,      0.1031,      0.1041,     0.10511,     0.10611,     0.10711,     0.10811,     0.10911,     0.11011,     0.11111,     0.11211,     0.11311,     0.11411,     0.11512,     0.11612,     0.11712,     0.11812,     0.11912,\n",
       "           0.12012,     0.12112,     0.12212,     0.12312,     0.12412,     0.12513,     0.12613,     0.12713,     0.12813,     0.12913,     0.13013,     0.13113,     0.13213,     0.13313,     0.13413,     0.13514,     0.13614,     0.13714,     0.13814,     0.13914,     0.14014,     0.14114,     0.14214,     0.14314,\n",
       "           0.14414,     0.14515,     0.14615,     0.14715,     0.14815,     0.14915,     0.15015,     0.15115,     0.15215,     0.15315,     0.15415,     0.15516,     0.15616,     0.15716,     0.15816,     0.15916,     0.16016,     0.16116,     0.16216,     0.16316,     0.16416,     0.16517,     0.16617,     0.16717,\n",
       "           0.16817,     0.16917,     0.17017,     0.17117,     0.17217,     0.17317,     0.17417,     0.17518,     0.17618,     0.17718,     0.17818,     0.17918,     0.18018,     0.18118,     0.18218,     0.18318,     0.18418,     0.18519,     0.18619,     0.18719,     0.18819,     0.18919,     0.19019,     0.19119,\n",
       "           0.19219,     0.19319,     0.19419,      0.1952,      0.1962,      0.1972,      0.1982,      0.1992,      0.2002,      0.2012,      0.2022,      0.2032,      0.2042,     0.20521,     0.20621,     0.20721,     0.20821,     0.20921,     0.21021,     0.21121,     0.21221,     0.21321,     0.21421,     0.21522,\n",
       "           0.21622,     0.21722,     0.21822,     0.21922,     0.22022,     0.22122,     0.22222,     0.22322,     0.22422,     0.22523,     0.22623,     0.22723,     0.22823,     0.22923,     0.23023,     0.23123,     0.23223,     0.23323,     0.23423,     0.23524,     0.23624,     0.23724,     0.23824,     0.23924,\n",
       "           0.24024,     0.24124,     0.24224,     0.24324,     0.24424,     0.24525,     0.24625,     0.24725,     0.24825,     0.24925,     0.25025,     0.25125,     0.25225,     0.25325,     0.25425,     0.25526,     0.25626,     0.25726,     0.25826,     0.25926,     0.26026,     0.26126,     0.26226,     0.26326,\n",
       "           0.26426,     0.26527,     0.26627,     0.26727,     0.26827,     0.26927,     0.27027,     0.27127,     0.27227,     0.27327,     0.27427,     0.27528,     0.27628,     0.27728,     0.27828,     0.27928,     0.28028,     0.28128,     0.28228,     0.28328,     0.28428,     0.28529,     0.28629,     0.28729,\n",
       "           0.28829,     0.28929,     0.29029,     0.29129,     0.29229,     0.29329,     0.29429,      0.2953,      0.2963,      0.2973,      0.2983,      0.2993,      0.3003,      0.3013,      0.3023,      0.3033,      0.3043,     0.30531,     0.30631,     0.30731,     0.30831,     0.30931,     0.31031,     0.31131,\n",
       "           0.31231,     0.31331,     0.31431,     0.31532,     0.31632,     0.31732,     0.31832,     0.31932,     0.32032,     0.32132,     0.32232,     0.32332,     0.32432,     0.32533,     0.32633,     0.32733,     0.32833,     0.32933,     0.33033,     0.33133,     0.33233,     0.33333,     0.33433,     0.33534,\n",
       "           0.33634,     0.33734,     0.33834,     0.33934,     0.34034,     0.34134,     0.34234,     0.34334,     0.34434,     0.34535,     0.34635,     0.34735,     0.34835,     0.34935,     0.35035,     0.35135,     0.35235,     0.35335,     0.35435,     0.35536,     0.35636,     0.35736,     0.35836,     0.35936,\n",
       "           0.36036,     0.36136,     0.36236,     0.36336,     0.36436,     0.36537,     0.36637,     0.36737,     0.36837,     0.36937,     0.37037,     0.37137,     0.37237,     0.37337,     0.37437,     0.37538,     0.37638,     0.37738,     0.37838,     0.37938,     0.38038,     0.38138,     0.38238,     0.38338,\n",
       "           0.38438,     0.38539,     0.38639,     0.38739,     0.38839,     0.38939,     0.39039,     0.39139,     0.39239,     0.39339,     0.39439,      0.3954,      0.3964,      0.3974,      0.3984,      0.3994,      0.4004,      0.4014,      0.4024,      0.4034,      0.4044,     0.40541,     0.40641,     0.40741,\n",
       "           0.40841,     0.40941,     0.41041,     0.41141,     0.41241,     0.41341,     0.41441,     0.41542,     0.41642,     0.41742,     0.41842,     0.41942,     0.42042,     0.42142,     0.42242,     0.42342,     0.42442,     0.42543,     0.42643,     0.42743,     0.42843,     0.42943,     0.43043,     0.43143,\n",
       "           0.43243,     0.43343,     0.43443,     0.43544,     0.43644,     0.43744,     0.43844,     0.43944,     0.44044,     0.44144,     0.44244,     0.44344,     0.44444,     0.44545,     0.44645,     0.44745,     0.44845,     0.44945,     0.45045,     0.45145,     0.45245,     0.45345,     0.45445,     0.45546,\n",
       "           0.45646,     0.45746,     0.45846,     0.45946,     0.46046,     0.46146,     0.46246,     0.46346,     0.46446,     0.46547,     0.46647,     0.46747,     0.46847,     0.46947,     0.47047,     0.47147,     0.47247,     0.47347,     0.47447,     0.47548,     0.47648,     0.47748,     0.47848,     0.47948,\n",
       "           0.48048,     0.48148,     0.48248,     0.48348,     0.48448,     0.48549,     0.48649,     0.48749,     0.48849,     0.48949,     0.49049,     0.49149,     0.49249,     0.49349,     0.49449,      0.4955,      0.4965,      0.4975,      0.4985,      0.4995,      0.5005,      0.5015,      0.5025,      0.5035,\n",
       "            0.5045,     0.50551,     0.50651,     0.50751,     0.50851,     0.50951,     0.51051,     0.51151,     0.51251,     0.51351,     0.51451,     0.51552,     0.51652,     0.51752,     0.51852,     0.51952,     0.52052,     0.52152,     0.52252,     0.52352,     0.52452,     0.52553,     0.52653,     0.52753,\n",
       "           0.52853,     0.52953,     0.53053,     0.53153,     0.53253,     0.53353,     0.53453,     0.53554,     0.53654,     0.53754,     0.53854,     0.53954,     0.54054,     0.54154,     0.54254,     0.54354,     0.54454,     0.54555,     0.54655,     0.54755,     0.54855,     0.54955,     0.55055,     0.55155,\n",
       "           0.55255,     0.55355,     0.55455,     0.55556,     0.55656,     0.55756,     0.55856,     0.55956,     0.56056,     0.56156,     0.56256,     0.56356,     0.56456,     0.56557,     0.56657,     0.56757,     0.56857,     0.56957,     0.57057,     0.57157,     0.57257,     0.57357,     0.57457,     0.57558,\n",
       "           0.57658,     0.57758,     0.57858,     0.57958,     0.58058,     0.58158,     0.58258,     0.58358,     0.58458,     0.58559,     0.58659,     0.58759,     0.58859,     0.58959,     0.59059,     0.59159,     0.59259,     0.59359,     0.59459,      0.5956,      0.5966,      0.5976,      0.5986,      0.5996,\n",
       "            0.6006,      0.6016,      0.6026,      0.6036,      0.6046,     0.60561,     0.60661,     0.60761,     0.60861,     0.60961,     0.61061,     0.61161,     0.61261,     0.61361,     0.61461,     0.61562,     0.61662,     0.61762,     0.61862,     0.61962,     0.62062,     0.62162,     0.62262,     0.62362,\n",
       "           0.62462,     0.62563,     0.62663,     0.62763,     0.62863,     0.62963,     0.63063,     0.63163,     0.63263,     0.63363,     0.63463,     0.63564,     0.63664,     0.63764,     0.63864,     0.63964,     0.64064,     0.64164,     0.64264,     0.64364,     0.64464,     0.64565,     0.64665,     0.64765,\n",
       "           0.64865,     0.64965,     0.65065,     0.65165,     0.65265,     0.65365,     0.65465,     0.65566,     0.65666,     0.65766,     0.65866,     0.65966,     0.66066,     0.66166,     0.66266,     0.66366,     0.66466,     0.66567,     0.66667,     0.66767,     0.66867,     0.66967,     0.67067,     0.67167,\n",
       "           0.67267,     0.67367,     0.67467,     0.67568,     0.67668,     0.67768,     0.67868,     0.67968,     0.68068,     0.68168,     0.68268,     0.68368,     0.68468,     0.68569,     0.68669,     0.68769,     0.68869,     0.68969,     0.69069,     0.69169,     0.69269,     0.69369,     0.69469,      0.6957,\n",
       "            0.6967,      0.6977,      0.6987,      0.6997,      0.7007,      0.7017,      0.7027,      0.7037,      0.7047,     0.70571,     0.70671,     0.70771,     0.70871,     0.70971,     0.71071,     0.71171,     0.71271,     0.71371,     0.71471,     0.71572,     0.71672,     0.71772,     0.71872,     0.71972,\n",
       "           0.72072,     0.72172,     0.72272,     0.72372,     0.72472,     0.72573,     0.72673,     0.72773,     0.72873,     0.72973,     0.73073,     0.73173,     0.73273,     0.73373,     0.73473,     0.73574,     0.73674,     0.73774,     0.73874,     0.73974,     0.74074,     0.74174,     0.74274,     0.74374,\n",
       "           0.74474,     0.74575,     0.74675,     0.74775,     0.74875,     0.74975,     0.75075,     0.75175,     0.75275,     0.75375,     0.75475,     0.75576,     0.75676,     0.75776,     0.75876,     0.75976,     0.76076,     0.76176,     0.76276,     0.76376,     0.76476,     0.76577,     0.76677,     0.76777,\n",
       "           0.76877,     0.76977,     0.77077,     0.77177,     0.77277,     0.77377,     0.77477,     0.77578,     0.77678,     0.77778,     0.77878,     0.77978,     0.78078,     0.78178,     0.78278,     0.78378,     0.78478,     0.78579,     0.78679,     0.78779,     0.78879,     0.78979,     0.79079,     0.79179,\n",
       "           0.79279,     0.79379,     0.79479,      0.7958,      0.7968,      0.7978,      0.7988,      0.7998,      0.8008,      0.8018,      0.8028,      0.8038,      0.8048,     0.80581,     0.80681,     0.80781,     0.80881,     0.80981,     0.81081,     0.81181,     0.81281,     0.81381,     0.81481,     0.81582,\n",
       "           0.81682,     0.81782,     0.81882,     0.81982,     0.82082,     0.82182,     0.82282,     0.82382,     0.82482,     0.82583,     0.82683,     0.82783,     0.82883,     0.82983,     0.83083,     0.83183,     0.83283,     0.83383,     0.83483,     0.83584,     0.83684,     0.83784,     0.83884,     0.83984,\n",
       "           0.84084,     0.84184,     0.84284,     0.84384,     0.84484,     0.84585,     0.84685,     0.84785,     0.84885,     0.84985,     0.85085,     0.85185,     0.85285,     0.85385,     0.85485,     0.85586,     0.85686,     0.85786,     0.85886,     0.85986,     0.86086,     0.86186,     0.86286,     0.86386,\n",
       "           0.86486,     0.86587,     0.86687,     0.86787,     0.86887,     0.86987,     0.87087,     0.87187,     0.87287,     0.87387,     0.87487,     0.87588,     0.87688,     0.87788,     0.87888,     0.87988,     0.88088,     0.88188,     0.88288,     0.88388,     0.88488,     0.88589,     0.88689,     0.88789,\n",
       "           0.88889,     0.88989,     0.89089,     0.89189,     0.89289,     0.89389,     0.89489,      0.8959,      0.8969,      0.8979,      0.8989,      0.8999,      0.9009,      0.9019,      0.9029,      0.9039,      0.9049,     0.90591,     0.90691,     0.90791,     0.90891,     0.90991,     0.91091,     0.91191,\n",
       "           0.91291,     0.91391,     0.91491,     0.91592,     0.91692,     0.91792,     0.91892,     0.91992,     0.92092,     0.92192,     0.92292,     0.92392,     0.92492,     0.92593,     0.92693,     0.92793,     0.92893,     0.92993,     0.93093,     0.93193,     0.93293,     0.93393,     0.93493,     0.93594,\n",
       "           0.93694,     0.93794,     0.93894,     0.93994,     0.94094,     0.94194,     0.94294,     0.94394,     0.94494,     0.94595,     0.94695,     0.94795,     0.94895,     0.94995,     0.95095,     0.95195,     0.95295,     0.95395,     0.95495,     0.95596,     0.95696,     0.95796,     0.95896,     0.95996,\n",
       "           0.96096,     0.96196,     0.96296,     0.96396,     0.96496,     0.96597,     0.96697,     0.96797,     0.96897,     0.96997,     0.97097,     0.97197,     0.97297,     0.97397,     0.97497,     0.97598,     0.97698,     0.97798,     0.97898,     0.97998,     0.98098,     0.98198,     0.98298,     0.98398,\n",
       "           0.98498,     0.98599,     0.98699,     0.98799,     0.98899,     0.98999,     0.99099,     0.99199,     0.99299,     0.99399,     0.99499,       0.996,       0.997,       0.998,       0.999,           1]), array([[    0.09134,     0.09134,    0.091622, ...,           1,           1,           1],\n",
       "       [   0.095052,    0.095052,    0.095382, ...,           1,           1,           1],\n",
       "       [    0.09517,     0.09517,    0.095499, ...,           1,           1,           1],\n",
       "       [   0.092247,    0.092247,    0.092539, ...,           1,           1,           1],\n",
       "       [   0.093743,    0.093743,    0.094261, ...,           1,           1,           1]]), 'Confidence', 'Precision'], [array([          0,    0.001001,    0.002002,    0.003003,    0.004004,    0.005005,    0.006006,    0.007007,    0.008008,    0.009009,     0.01001,    0.011011,    0.012012,    0.013013,    0.014014,    0.015015,    0.016016,    0.017017,    0.018018,    0.019019,     0.02002,    0.021021,    0.022022,    0.023023,\n",
       "          0.024024,    0.025025,    0.026026,    0.027027,    0.028028,    0.029029,     0.03003,    0.031031,    0.032032,    0.033033,    0.034034,    0.035035,    0.036036,    0.037037,    0.038038,    0.039039,     0.04004,    0.041041,    0.042042,    0.043043,    0.044044,    0.045045,    0.046046,    0.047047,\n",
       "          0.048048,    0.049049,     0.05005,    0.051051,    0.052052,    0.053053,    0.054054,    0.055055,    0.056056,    0.057057,    0.058058,    0.059059,     0.06006,    0.061061,    0.062062,    0.063063,    0.064064,    0.065065,    0.066066,    0.067067,    0.068068,    0.069069,     0.07007,    0.071071,\n",
       "          0.072072,    0.073073,    0.074074,    0.075075,    0.076076,    0.077077,    0.078078,    0.079079,     0.08008,    0.081081,    0.082082,    0.083083,    0.084084,    0.085085,    0.086086,    0.087087,    0.088088,    0.089089,     0.09009,    0.091091,    0.092092,    0.093093,    0.094094,    0.095095,\n",
       "          0.096096,    0.097097,    0.098098,    0.099099,      0.1001,      0.1011,      0.1021,      0.1031,      0.1041,     0.10511,     0.10611,     0.10711,     0.10811,     0.10911,     0.11011,     0.11111,     0.11211,     0.11311,     0.11411,     0.11512,     0.11612,     0.11712,     0.11812,     0.11912,\n",
       "           0.12012,     0.12112,     0.12212,     0.12312,     0.12412,     0.12513,     0.12613,     0.12713,     0.12813,     0.12913,     0.13013,     0.13113,     0.13213,     0.13313,     0.13413,     0.13514,     0.13614,     0.13714,     0.13814,     0.13914,     0.14014,     0.14114,     0.14214,     0.14314,\n",
       "           0.14414,     0.14515,     0.14615,     0.14715,     0.14815,     0.14915,     0.15015,     0.15115,     0.15215,     0.15315,     0.15415,     0.15516,     0.15616,     0.15716,     0.15816,     0.15916,     0.16016,     0.16116,     0.16216,     0.16316,     0.16416,     0.16517,     0.16617,     0.16717,\n",
       "           0.16817,     0.16917,     0.17017,     0.17117,     0.17217,     0.17317,     0.17417,     0.17518,     0.17618,     0.17718,     0.17818,     0.17918,     0.18018,     0.18118,     0.18218,     0.18318,     0.18418,     0.18519,     0.18619,     0.18719,     0.18819,     0.18919,     0.19019,     0.19119,\n",
       "           0.19219,     0.19319,     0.19419,      0.1952,      0.1962,      0.1972,      0.1982,      0.1992,      0.2002,      0.2012,      0.2022,      0.2032,      0.2042,     0.20521,     0.20621,     0.20721,     0.20821,     0.20921,     0.21021,     0.21121,     0.21221,     0.21321,     0.21421,     0.21522,\n",
       "           0.21622,     0.21722,     0.21822,     0.21922,     0.22022,     0.22122,     0.22222,     0.22322,     0.22422,     0.22523,     0.22623,     0.22723,     0.22823,     0.22923,     0.23023,     0.23123,     0.23223,     0.23323,     0.23423,     0.23524,     0.23624,     0.23724,     0.23824,     0.23924,\n",
       "           0.24024,     0.24124,     0.24224,     0.24324,     0.24424,     0.24525,     0.24625,     0.24725,     0.24825,     0.24925,     0.25025,     0.25125,     0.25225,     0.25325,     0.25425,     0.25526,     0.25626,     0.25726,     0.25826,     0.25926,     0.26026,     0.26126,     0.26226,     0.26326,\n",
       "           0.26426,     0.26527,     0.26627,     0.26727,     0.26827,     0.26927,     0.27027,     0.27127,     0.27227,     0.27327,     0.27427,     0.27528,     0.27628,     0.27728,     0.27828,     0.27928,     0.28028,     0.28128,     0.28228,     0.28328,     0.28428,     0.28529,     0.28629,     0.28729,\n",
       "           0.28829,     0.28929,     0.29029,     0.29129,     0.29229,     0.29329,     0.29429,      0.2953,      0.2963,      0.2973,      0.2983,      0.2993,      0.3003,      0.3013,      0.3023,      0.3033,      0.3043,     0.30531,     0.30631,     0.30731,     0.30831,     0.30931,     0.31031,     0.31131,\n",
       "           0.31231,     0.31331,     0.31431,     0.31532,     0.31632,     0.31732,     0.31832,     0.31932,     0.32032,     0.32132,     0.32232,     0.32332,     0.32432,     0.32533,     0.32633,     0.32733,     0.32833,     0.32933,     0.33033,     0.33133,     0.33233,     0.33333,     0.33433,     0.33534,\n",
       "           0.33634,     0.33734,     0.33834,     0.33934,     0.34034,     0.34134,     0.34234,     0.34334,     0.34434,     0.34535,     0.34635,     0.34735,     0.34835,     0.34935,     0.35035,     0.35135,     0.35235,     0.35335,     0.35435,     0.35536,     0.35636,     0.35736,     0.35836,     0.35936,\n",
       "           0.36036,     0.36136,     0.36236,     0.36336,     0.36436,     0.36537,     0.36637,     0.36737,     0.36837,     0.36937,     0.37037,     0.37137,     0.37237,     0.37337,     0.37437,     0.37538,     0.37638,     0.37738,     0.37838,     0.37938,     0.38038,     0.38138,     0.38238,     0.38338,\n",
       "           0.38438,     0.38539,     0.38639,     0.38739,     0.38839,     0.38939,     0.39039,     0.39139,     0.39239,     0.39339,     0.39439,      0.3954,      0.3964,      0.3974,      0.3984,      0.3994,      0.4004,      0.4014,      0.4024,      0.4034,      0.4044,     0.40541,     0.40641,     0.40741,\n",
       "           0.40841,     0.40941,     0.41041,     0.41141,     0.41241,     0.41341,     0.41441,     0.41542,     0.41642,     0.41742,     0.41842,     0.41942,     0.42042,     0.42142,     0.42242,     0.42342,     0.42442,     0.42543,     0.42643,     0.42743,     0.42843,     0.42943,     0.43043,     0.43143,\n",
       "           0.43243,     0.43343,     0.43443,     0.43544,     0.43644,     0.43744,     0.43844,     0.43944,     0.44044,     0.44144,     0.44244,     0.44344,     0.44444,     0.44545,     0.44645,     0.44745,     0.44845,     0.44945,     0.45045,     0.45145,     0.45245,     0.45345,     0.45445,     0.45546,\n",
       "           0.45646,     0.45746,     0.45846,     0.45946,     0.46046,     0.46146,     0.46246,     0.46346,     0.46446,     0.46547,     0.46647,     0.46747,     0.46847,     0.46947,     0.47047,     0.47147,     0.47247,     0.47347,     0.47447,     0.47548,     0.47648,     0.47748,     0.47848,     0.47948,\n",
       "           0.48048,     0.48148,     0.48248,     0.48348,     0.48448,     0.48549,     0.48649,     0.48749,     0.48849,     0.48949,     0.49049,     0.49149,     0.49249,     0.49349,     0.49449,      0.4955,      0.4965,      0.4975,      0.4985,      0.4995,      0.5005,      0.5015,      0.5025,      0.5035,\n",
       "            0.5045,     0.50551,     0.50651,     0.50751,     0.50851,     0.50951,     0.51051,     0.51151,     0.51251,     0.51351,     0.51451,     0.51552,     0.51652,     0.51752,     0.51852,     0.51952,     0.52052,     0.52152,     0.52252,     0.52352,     0.52452,     0.52553,     0.52653,     0.52753,\n",
       "           0.52853,     0.52953,     0.53053,     0.53153,     0.53253,     0.53353,     0.53453,     0.53554,     0.53654,     0.53754,     0.53854,     0.53954,     0.54054,     0.54154,     0.54254,     0.54354,     0.54454,     0.54555,     0.54655,     0.54755,     0.54855,     0.54955,     0.55055,     0.55155,\n",
       "           0.55255,     0.55355,     0.55455,     0.55556,     0.55656,     0.55756,     0.55856,     0.55956,     0.56056,     0.56156,     0.56256,     0.56356,     0.56456,     0.56557,     0.56657,     0.56757,     0.56857,     0.56957,     0.57057,     0.57157,     0.57257,     0.57357,     0.57457,     0.57558,\n",
       "           0.57658,     0.57758,     0.57858,     0.57958,     0.58058,     0.58158,     0.58258,     0.58358,     0.58458,     0.58559,     0.58659,     0.58759,     0.58859,     0.58959,     0.59059,     0.59159,     0.59259,     0.59359,     0.59459,      0.5956,      0.5966,      0.5976,      0.5986,      0.5996,\n",
       "            0.6006,      0.6016,      0.6026,      0.6036,      0.6046,     0.60561,     0.60661,     0.60761,     0.60861,     0.60961,     0.61061,     0.61161,     0.61261,     0.61361,     0.61461,     0.61562,     0.61662,     0.61762,     0.61862,     0.61962,     0.62062,     0.62162,     0.62262,     0.62362,\n",
       "           0.62462,     0.62563,     0.62663,     0.62763,     0.62863,     0.62963,     0.63063,     0.63163,     0.63263,     0.63363,     0.63463,     0.63564,     0.63664,     0.63764,     0.63864,     0.63964,     0.64064,     0.64164,     0.64264,     0.64364,     0.64464,     0.64565,     0.64665,     0.64765,\n",
       "           0.64865,     0.64965,     0.65065,     0.65165,     0.65265,     0.65365,     0.65465,     0.65566,     0.65666,     0.65766,     0.65866,     0.65966,     0.66066,     0.66166,     0.66266,     0.66366,     0.66466,     0.66567,     0.66667,     0.66767,     0.66867,     0.66967,     0.67067,     0.67167,\n",
       "           0.67267,     0.67367,     0.67467,     0.67568,     0.67668,     0.67768,     0.67868,     0.67968,     0.68068,     0.68168,     0.68268,     0.68368,     0.68468,     0.68569,     0.68669,     0.68769,     0.68869,     0.68969,     0.69069,     0.69169,     0.69269,     0.69369,     0.69469,      0.6957,\n",
       "            0.6967,      0.6977,      0.6987,      0.6997,      0.7007,      0.7017,      0.7027,      0.7037,      0.7047,     0.70571,     0.70671,     0.70771,     0.70871,     0.70971,     0.71071,     0.71171,     0.71271,     0.71371,     0.71471,     0.71572,     0.71672,     0.71772,     0.71872,     0.71972,\n",
       "           0.72072,     0.72172,     0.72272,     0.72372,     0.72472,     0.72573,     0.72673,     0.72773,     0.72873,     0.72973,     0.73073,     0.73173,     0.73273,     0.73373,     0.73473,     0.73574,     0.73674,     0.73774,     0.73874,     0.73974,     0.74074,     0.74174,     0.74274,     0.74374,\n",
       "           0.74474,     0.74575,     0.74675,     0.74775,     0.74875,     0.74975,     0.75075,     0.75175,     0.75275,     0.75375,     0.75475,     0.75576,     0.75676,     0.75776,     0.75876,     0.75976,     0.76076,     0.76176,     0.76276,     0.76376,     0.76476,     0.76577,     0.76677,     0.76777,\n",
       "           0.76877,     0.76977,     0.77077,     0.77177,     0.77277,     0.77377,     0.77477,     0.77578,     0.77678,     0.77778,     0.77878,     0.77978,     0.78078,     0.78178,     0.78278,     0.78378,     0.78478,     0.78579,     0.78679,     0.78779,     0.78879,     0.78979,     0.79079,     0.79179,\n",
       "           0.79279,     0.79379,     0.79479,      0.7958,      0.7968,      0.7978,      0.7988,      0.7998,      0.8008,      0.8018,      0.8028,      0.8038,      0.8048,     0.80581,     0.80681,     0.80781,     0.80881,     0.80981,     0.81081,     0.81181,     0.81281,     0.81381,     0.81481,     0.81582,\n",
       "           0.81682,     0.81782,     0.81882,     0.81982,     0.82082,     0.82182,     0.82282,     0.82382,     0.82482,     0.82583,     0.82683,     0.82783,     0.82883,     0.82983,     0.83083,     0.83183,     0.83283,     0.83383,     0.83483,     0.83584,     0.83684,     0.83784,     0.83884,     0.83984,\n",
       "           0.84084,     0.84184,     0.84284,     0.84384,     0.84484,     0.84585,     0.84685,     0.84785,     0.84885,     0.84985,     0.85085,     0.85185,     0.85285,     0.85385,     0.85485,     0.85586,     0.85686,     0.85786,     0.85886,     0.85986,     0.86086,     0.86186,     0.86286,     0.86386,\n",
       "           0.86486,     0.86587,     0.86687,     0.86787,     0.86887,     0.86987,     0.87087,     0.87187,     0.87287,     0.87387,     0.87487,     0.87588,     0.87688,     0.87788,     0.87888,     0.87988,     0.88088,     0.88188,     0.88288,     0.88388,     0.88488,     0.88589,     0.88689,     0.88789,\n",
       "           0.88889,     0.88989,     0.89089,     0.89189,     0.89289,     0.89389,     0.89489,      0.8959,      0.8969,      0.8979,      0.8989,      0.8999,      0.9009,      0.9019,      0.9029,      0.9039,      0.9049,     0.90591,     0.90691,     0.90791,     0.90891,     0.90991,     0.91091,     0.91191,\n",
       "           0.91291,     0.91391,     0.91491,     0.91592,     0.91692,     0.91792,     0.91892,     0.91992,     0.92092,     0.92192,     0.92292,     0.92392,     0.92492,     0.92593,     0.92693,     0.92793,     0.92893,     0.92993,     0.93093,     0.93193,     0.93293,     0.93393,     0.93493,     0.93594,\n",
       "           0.93694,     0.93794,     0.93894,     0.93994,     0.94094,     0.94194,     0.94294,     0.94394,     0.94494,     0.94595,     0.94695,     0.94795,     0.94895,     0.94995,     0.95095,     0.95195,     0.95295,     0.95395,     0.95495,     0.95596,     0.95696,     0.95796,     0.95896,     0.95996,\n",
       "           0.96096,     0.96196,     0.96296,     0.96396,     0.96496,     0.96597,     0.96697,     0.96797,     0.96897,     0.96997,     0.97097,     0.97197,     0.97297,     0.97397,     0.97497,     0.97598,     0.97698,     0.97798,     0.97898,     0.97998,     0.98098,     0.98198,     0.98298,     0.98398,\n",
       "           0.98498,     0.98599,     0.98699,     0.98799,     0.98899,     0.98999,     0.99099,     0.99199,     0.99299,     0.99399,     0.99499,       0.996,       0.997,       0.998,       0.999,           1]), array([[    0.79643,     0.79643,     0.79628, ...,           0,           0,           0],\n",
       "       [    0.80368,     0.80368,     0.80368, ...,           0,           0,           0],\n",
       "       [    0.79967,     0.79967,     0.79952, ...,           0,           0,           0],\n",
       "       [    0.80317,     0.80317,     0.80295, ...,           0,           0,           0],\n",
       "       [    0.77521,     0.77521,      0.7751, ...,           0,           0,           0]]), 'Confidence', 'Recall']]\n",
       "fitness: 0.12174382510631154\n",
       "keys: ['metrics/precision(B)', 'metrics/recall(B)', 'metrics/mAP50(B)', 'metrics/mAP50-95(B)']\n",
       "maps: array([    0.11004,     0.10482,     0.10782,     0.10811,     0.14481])\n",
       "names: {0: 'Bent', 1: 'Kneeling', 2: 'Lying', 3: 'Sitting', 4: 'Upright'}\n",
       "plot: True\n",
       "results_dict: {'metrics/precision(B)': 0.18173106708710035, 'metrics/recall(B)': 0.6303172213086399, 'metrics/mAP50(B)': 0.18135082718794696, 'metrics/mAP50-95(B)': 0.1151208248750187, 'fitness': 0.12174382510631154}\n",
       "save_dir: WindowsPath('runs/detect/yolov11-pose_estemation')\n",
       "speed: {'preprocess': 0.26696485686523913, 'inference': 1.3938553474489754, 'loss': 0.0, 'postprocess': 1.23825950827951}\n",
       "task: 'detect'"
      ]
     },
     "execution_count": 3,
     "metadata": {},
     "output_type": "execute_result"
    }
   ],
   "source": [
    "from ultralytics import YOLO\n",
    "\n",
    "# Create a YOLOv8 Nano model\n",
    "model = YOLO('yolo11n.pt')  # YOLOv11 Nano pretrained weights\n",
    "\n",
    "# Train the model\n",
    "model.train(\n",
    "    data='./C2A_Dataset/new_dataset3/data.yaml',     # Dataset path and configuration\n",
    "    epochs=50,            # Number of training epochs\n",
    "    batch=16,             # Batch size\n",
    "    imgsz=640,            # Image size for training\n",
    "    name=\"yolov11-pose_estemation\" # Experiment name\n",
    ")"
   ]
  },
  {
   "cell_type": "code",
   "execution_count": 1,
   "metadata": {},
   "outputs": [
    {
     "name": "stdout",
     "output_type": "stream",
     "text": [
      "Ultralytics 8.3.25  Python-3.12.5 torch-2.5.1+cu121 CUDA:0 (NVIDIA GeForce RTX 4060 Laptop GPU, 8188MiB)\n",
      "YOLO11n summary (fused): 238 layers, 2,583,127 parameters, 0 gradients, 6.3 GFLOPs\n"
     ]
    },
    {
     "name": "stderr",
     "output_type": "stream",
     "text": [
      "\u001b[34m\u001b[1mval: \u001b[0mScanning C:\\Users\\Karee\\OneDrive\\Desktop\\Fall 2024 AUS\\COE49413\\Project\\Code\\C2A_Dataset\\new_dataset3\\test\\labels... 2043 images, 0 backgrounds, 0 corrupt: 100%|██████████| 2043/2043 [00:03<00:00, 618.85it/s]\n"
     ]
    },
    {
     "name": "stdout",
     "output_type": "stream",
     "text": [
      "\u001b[34m\u001b[1mval: \u001b[0mNew cache created: C:\\Users\\Karee\\OneDrive\\Desktop\\Fall 2024 AUS\\COE49413\\Project\\Code\\C2A_Dataset\\new_dataset3\\test\\labels.cache\n"
     ]
    },
    {
     "name": "stderr",
     "output_type": "stream",
     "text": [
      "                 Class     Images  Instances      Box(P          R      mAP50  mAP50-95): 100%|██████████| 128/128 [00:14<00:00,  8.88it/s]\n"
     ]
    },
    {
     "name": "stdout",
     "output_type": "stream",
     "text": [
      "                   all       2043      72523      0.182      0.642      0.183      0.118\n",
      "                  Bent       2043      13707      0.177      0.642      0.168      0.111\n",
      "              Kneeling       2043      13882      0.178      0.643      0.167      0.112\n",
      "                 Lying       2043      13871      0.179      0.648      0.161      0.108\n",
      "               Sitting       2043      13755      0.176      0.638      0.161      0.107\n",
      "               Upright       2043      17308      0.199      0.637      0.257      0.151\n",
      "Speed: 0.3ms preprocess, 2.4ms inference, 0.0ms loss, 1.2ms postprocess per image\n",
      "Results saved to \u001b[1mruns\\detect\\val2\u001b[0m\n",
      "ultralytics.utils.metrics.DetMetrics object with attributes:\n",
      "\n",
      "ap_class_index: array([0, 1, 2, 3, 4])\n",
      "box: ultralytics.utils.metrics.Metric object\n",
      "confusion_matrix: <ultralytics.utils.metrics.ConfusionMatrix object at 0x0000023402DAF530>\n",
      "curves: ['Precision-Recall(B)', 'F1-Confidence(B)', 'Precision-Confidence(B)', 'Recall-Confidence(B)']\n",
      "curves_results: [[array([          0,    0.001001,    0.002002,    0.003003,    0.004004,    0.005005,    0.006006,    0.007007,    0.008008,    0.009009,     0.01001,    0.011011,    0.012012,    0.013013,    0.014014,    0.015015,    0.016016,    0.017017,    0.018018,    0.019019,     0.02002,    0.021021,    0.022022,    0.023023,\n",
      "          0.024024,    0.025025,    0.026026,    0.027027,    0.028028,    0.029029,     0.03003,    0.031031,    0.032032,    0.033033,    0.034034,    0.035035,    0.036036,    0.037037,    0.038038,    0.039039,     0.04004,    0.041041,    0.042042,    0.043043,    0.044044,    0.045045,    0.046046,    0.047047,\n",
      "          0.048048,    0.049049,     0.05005,    0.051051,    0.052052,    0.053053,    0.054054,    0.055055,    0.056056,    0.057057,    0.058058,    0.059059,     0.06006,    0.061061,    0.062062,    0.063063,    0.064064,    0.065065,    0.066066,    0.067067,    0.068068,    0.069069,     0.07007,    0.071071,\n",
      "          0.072072,    0.073073,    0.074074,    0.075075,    0.076076,    0.077077,    0.078078,    0.079079,     0.08008,    0.081081,    0.082082,    0.083083,    0.084084,    0.085085,    0.086086,    0.087087,    0.088088,    0.089089,     0.09009,    0.091091,    0.092092,    0.093093,    0.094094,    0.095095,\n",
      "          0.096096,    0.097097,    0.098098,    0.099099,      0.1001,      0.1011,      0.1021,      0.1031,      0.1041,     0.10511,     0.10611,     0.10711,     0.10811,     0.10911,     0.11011,     0.11111,     0.11211,     0.11311,     0.11411,     0.11512,     0.11612,     0.11712,     0.11812,     0.11912,\n",
      "           0.12012,     0.12112,     0.12212,     0.12312,     0.12412,     0.12513,     0.12613,     0.12713,     0.12813,     0.12913,     0.13013,     0.13113,     0.13213,     0.13313,     0.13413,     0.13514,     0.13614,     0.13714,     0.13814,     0.13914,     0.14014,     0.14114,     0.14214,     0.14314,\n",
      "           0.14414,     0.14515,     0.14615,     0.14715,     0.14815,     0.14915,     0.15015,     0.15115,     0.15215,     0.15315,     0.15415,     0.15516,     0.15616,     0.15716,     0.15816,     0.15916,     0.16016,     0.16116,     0.16216,     0.16316,     0.16416,     0.16517,     0.16617,     0.16717,\n",
      "           0.16817,     0.16917,     0.17017,     0.17117,     0.17217,     0.17317,     0.17417,     0.17518,     0.17618,     0.17718,     0.17818,     0.17918,     0.18018,     0.18118,     0.18218,     0.18318,     0.18418,     0.18519,     0.18619,     0.18719,     0.18819,     0.18919,     0.19019,     0.19119,\n",
      "           0.19219,     0.19319,     0.19419,      0.1952,      0.1962,      0.1972,      0.1982,      0.1992,      0.2002,      0.2012,      0.2022,      0.2032,      0.2042,     0.20521,     0.20621,     0.20721,     0.20821,     0.20921,     0.21021,     0.21121,     0.21221,     0.21321,     0.21421,     0.21522,\n",
      "           0.21622,     0.21722,     0.21822,     0.21922,     0.22022,     0.22122,     0.22222,     0.22322,     0.22422,     0.22523,     0.22623,     0.22723,     0.22823,     0.22923,     0.23023,     0.23123,     0.23223,     0.23323,     0.23423,     0.23524,     0.23624,     0.23724,     0.23824,     0.23924,\n",
      "           0.24024,     0.24124,     0.24224,     0.24324,     0.24424,     0.24525,     0.24625,     0.24725,     0.24825,     0.24925,     0.25025,     0.25125,     0.25225,     0.25325,     0.25425,     0.25526,     0.25626,     0.25726,     0.25826,     0.25926,     0.26026,     0.26126,     0.26226,     0.26326,\n",
      "           0.26426,     0.26527,     0.26627,     0.26727,     0.26827,     0.26927,     0.27027,     0.27127,     0.27227,     0.27327,     0.27427,     0.27528,     0.27628,     0.27728,     0.27828,     0.27928,     0.28028,     0.28128,     0.28228,     0.28328,     0.28428,     0.28529,     0.28629,     0.28729,\n",
      "           0.28829,     0.28929,     0.29029,     0.29129,     0.29229,     0.29329,     0.29429,      0.2953,      0.2963,      0.2973,      0.2983,      0.2993,      0.3003,      0.3013,      0.3023,      0.3033,      0.3043,     0.30531,     0.30631,     0.30731,     0.30831,     0.30931,     0.31031,     0.31131,\n",
      "           0.31231,     0.31331,     0.31431,     0.31532,     0.31632,     0.31732,     0.31832,     0.31932,     0.32032,     0.32132,     0.32232,     0.32332,     0.32432,     0.32533,     0.32633,     0.32733,     0.32833,     0.32933,     0.33033,     0.33133,     0.33233,     0.33333,     0.33433,     0.33534,\n",
      "           0.33634,     0.33734,     0.33834,     0.33934,     0.34034,     0.34134,     0.34234,     0.34334,     0.34434,     0.34535,     0.34635,     0.34735,     0.34835,     0.34935,     0.35035,     0.35135,     0.35235,     0.35335,     0.35435,     0.35536,     0.35636,     0.35736,     0.35836,     0.35936,\n",
      "           0.36036,     0.36136,     0.36236,     0.36336,     0.36436,     0.36537,     0.36637,     0.36737,     0.36837,     0.36937,     0.37037,     0.37137,     0.37237,     0.37337,     0.37437,     0.37538,     0.37638,     0.37738,     0.37838,     0.37938,     0.38038,     0.38138,     0.38238,     0.38338,\n",
      "           0.38438,     0.38539,     0.38639,     0.38739,     0.38839,     0.38939,     0.39039,     0.39139,     0.39239,     0.39339,     0.39439,      0.3954,      0.3964,      0.3974,      0.3984,      0.3994,      0.4004,      0.4014,      0.4024,      0.4034,      0.4044,     0.40541,     0.40641,     0.40741,\n",
      "           0.40841,     0.40941,     0.41041,     0.41141,     0.41241,     0.41341,     0.41441,     0.41542,     0.41642,     0.41742,     0.41842,     0.41942,     0.42042,     0.42142,     0.42242,     0.42342,     0.42442,     0.42543,     0.42643,     0.42743,     0.42843,     0.42943,     0.43043,     0.43143,\n",
      "           0.43243,     0.43343,     0.43443,     0.43544,     0.43644,     0.43744,     0.43844,     0.43944,     0.44044,     0.44144,     0.44244,     0.44344,     0.44444,     0.44545,     0.44645,     0.44745,     0.44845,     0.44945,     0.45045,     0.45145,     0.45245,     0.45345,     0.45445,     0.45546,\n",
      "           0.45646,     0.45746,     0.45846,     0.45946,     0.46046,     0.46146,     0.46246,     0.46346,     0.46446,     0.46547,     0.46647,     0.46747,     0.46847,     0.46947,     0.47047,     0.47147,     0.47247,     0.47347,     0.47447,     0.47548,     0.47648,     0.47748,     0.47848,     0.47948,\n",
      "           0.48048,     0.48148,     0.48248,     0.48348,     0.48448,     0.48549,     0.48649,     0.48749,     0.48849,     0.48949,     0.49049,     0.49149,     0.49249,     0.49349,     0.49449,      0.4955,      0.4965,      0.4975,      0.4985,      0.4995,      0.5005,      0.5015,      0.5025,      0.5035,\n",
      "            0.5045,     0.50551,     0.50651,     0.50751,     0.50851,     0.50951,     0.51051,     0.51151,     0.51251,     0.51351,     0.51451,     0.51552,     0.51652,     0.51752,     0.51852,     0.51952,     0.52052,     0.52152,     0.52252,     0.52352,     0.52452,     0.52553,     0.52653,     0.52753,\n",
      "           0.52853,     0.52953,     0.53053,     0.53153,     0.53253,     0.53353,     0.53453,     0.53554,     0.53654,     0.53754,     0.53854,     0.53954,     0.54054,     0.54154,     0.54254,     0.54354,     0.54454,     0.54555,     0.54655,     0.54755,     0.54855,     0.54955,     0.55055,     0.55155,\n",
      "           0.55255,     0.55355,     0.55455,     0.55556,     0.55656,     0.55756,     0.55856,     0.55956,     0.56056,     0.56156,     0.56256,     0.56356,     0.56456,     0.56557,     0.56657,     0.56757,     0.56857,     0.56957,     0.57057,     0.57157,     0.57257,     0.57357,     0.57457,     0.57558,\n",
      "           0.57658,     0.57758,     0.57858,     0.57958,     0.58058,     0.58158,     0.58258,     0.58358,     0.58458,     0.58559,     0.58659,     0.58759,     0.58859,     0.58959,     0.59059,     0.59159,     0.59259,     0.59359,     0.59459,      0.5956,      0.5966,      0.5976,      0.5986,      0.5996,\n",
      "            0.6006,      0.6016,      0.6026,      0.6036,      0.6046,     0.60561,     0.60661,     0.60761,     0.60861,     0.60961,     0.61061,     0.61161,     0.61261,     0.61361,     0.61461,     0.61562,     0.61662,     0.61762,     0.61862,     0.61962,     0.62062,     0.62162,     0.62262,     0.62362,\n",
      "           0.62462,     0.62563,     0.62663,     0.62763,     0.62863,     0.62963,     0.63063,     0.63163,     0.63263,     0.63363,     0.63463,     0.63564,     0.63664,     0.63764,     0.63864,     0.63964,     0.64064,     0.64164,     0.64264,     0.64364,     0.64464,     0.64565,     0.64665,     0.64765,\n",
      "           0.64865,     0.64965,     0.65065,     0.65165,     0.65265,     0.65365,     0.65465,     0.65566,     0.65666,     0.65766,     0.65866,     0.65966,     0.66066,     0.66166,     0.66266,     0.66366,     0.66466,     0.66567,     0.66667,     0.66767,     0.66867,     0.66967,     0.67067,     0.67167,\n",
      "           0.67267,     0.67367,     0.67467,     0.67568,     0.67668,     0.67768,     0.67868,     0.67968,     0.68068,     0.68168,     0.68268,     0.68368,     0.68468,     0.68569,     0.68669,     0.68769,     0.68869,     0.68969,     0.69069,     0.69169,     0.69269,     0.69369,     0.69469,      0.6957,\n",
      "            0.6967,      0.6977,      0.6987,      0.6997,      0.7007,      0.7017,      0.7027,      0.7037,      0.7047,     0.70571,     0.70671,     0.70771,     0.70871,     0.70971,     0.71071,     0.71171,     0.71271,     0.71371,     0.71471,     0.71572,     0.71672,     0.71772,     0.71872,     0.71972,\n",
      "           0.72072,     0.72172,     0.72272,     0.72372,     0.72472,     0.72573,     0.72673,     0.72773,     0.72873,     0.72973,     0.73073,     0.73173,     0.73273,     0.73373,     0.73473,     0.73574,     0.73674,     0.73774,     0.73874,     0.73974,     0.74074,     0.74174,     0.74274,     0.74374,\n",
      "           0.74474,     0.74575,     0.74675,     0.74775,     0.74875,     0.74975,     0.75075,     0.75175,     0.75275,     0.75375,     0.75475,     0.75576,     0.75676,     0.75776,     0.75876,     0.75976,     0.76076,     0.76176,     0.76276,     0.76376,     0.76476,     0.76577,     0.76677,     0.76777,\n",
      "           0.76877,     0.76977,     0.77077,     0.77177,     0.77277,     0.77377,     0.77477,     0.77578,     0.77678,     0.77778,     0.77878,     0.77978,     0.78078,     0.78178,     0.78278,     0.78378,     0.78478,     0.78579,     0.78679,     0.78779,     0.78879,     0.78979,     0.79079,     0.79179,\n",
      "           0.79279,     0.79379,     0.79479,      0.7958,      0.7968,      0.7978,      0.7988,      0.7998,      0.8008,      0.8018,      0.8028,      0.8038,      0.8048,     0.80581,     0.80681,     0.80781,     0.80881,     0.80981,     0.81081,     0.81181,     0.81281,     0.81381,     0.81481,     0.81582,\n",
      "           0.81682,     0.81782,     0.81882,     0.81982,     0.82082,     0.82182,     0.82282,     0.82382,     0.82482,     0.82583,     0.82683,     0.82783,     0.82883,     0.82983,     0.83083,     0.83183,     0.83283,     0.83383,     0.83483,     0.83584,     0.83684,     0.83784,     0.83884,     0.83984,\n",
      "           0.84084,     0.84184,     0.84284,     0.84384,     0.84484,     0.84585,     0.84685,     0.84785,     0.84885,     0.84985,     0.85085,     0.85185,     0.85285,     0.85385,     0.85485,     0.85586,     0.85686,     0.85786,     0.85886,     0.85986,     0.86086,     0.86186,     0.86286,     0.86386,\n",
      "           0.86486,     0.86587,     0.86687,     0.86787,     0.86887,     0.86987,     0.87087,     0.87187,     0.87287,     0.87387,     0.87487,     0.87588,     0.87688,     0.87788,     0.87888,     0.87988,     0.88088,     0.88188,     0.88288,     0.88388,     0.88488,     0.88589,     0.88689,     0.88789,\n",
      "           0.88889,     0.88989,     0.89089,     0.89189,     0.89289,     0.89389,     0.89489,      0.8959,      0.8969,      0.8979,      0.8989,      0.8999,      0.9009,      0.9019,      0.9029,      0.9039,      0.9049,     0.90591,     0.90691,     0.90791,     0.90891,     0.90991,     0.91091,     0.91191,\n",
      "           0.91291,     0.91391,     0.91491,     0.91592,     0.91692,     0.91792,     0.91892,     0.91992,     0.92092,     0.92192,     0.92292,     0.92392,     0.92492,     0.92593,     0.92693,     0.92793,     0.92893,     0.92993,     0.93093,     0.93193,     0.93293,     0.93393,     0.93493,     0.93594,\n",
      "           0.93694,     0.93794,     0.93894,     0.93994,     0.94094,     0.94194,     0.94294,     0.94394,     0.94494,     0.94595,     0.94695,     0.94795,     0.94895,     0.94995,     0.95095,     0.95195,     0.95295,     0.95395,     0.95495,     0.95596,     0.95696,     0.95796,     0.95896,     0.95996,\n",
      "           0.96096,     0.96196,     0.96296,     0.96396,     0.96496,     0.96597,     0.96697,     0.96797,     0.96897,     0.96997,     0.97097,     0.97197,     0.97297,     0.97397,     0.97497,     0.97598,     0.97698,     0.97798,     0.97898,     0.97998,     0.98098,     0.98198,     0.98298,     0.98398,\n",
      "           0.98498,     0.98599,     0.98699,     0.98799,     0.98899,     0.98999,     0.99099,     0.99199,     0.99299,     0.99399,     0.99499,       0.996,       0.997,       0.998,       0.999,           1]), array([[      0.625,     0.45161,        0.37, ...,  0.00095706,  0.00047853,           0],\n",
      "       [          1,      0.3125,     0.27907, ...,  0.00097635,  0.00048817,           0],\n",
      "       [    0.24731,     0.24731,     0.23016, ...,   0.0009673,  0.00048365,           0],\n",
      "       [    0.33333,     0.26087,     0.23739, ...,  0.00097573,  0.00048787,           0],\n",
      "       [          1,           1,           1, ...,  0.00090037,  0.00045019,           0]]), 'Recall', 'Precision'], [array([          0,    0.001001,    0.002002,    0.003003,    0.004004,    0.005005,    0.006006,    0.007007,    0.008008,    0.009009,     0.01001,    0.011011,    0.012012,    0.013013,    0.014014,    0.015015,    0.016016,    0.017017,    0.018018,    0.019019,     0.02002,    0.021021,    0.022022,    0.023023,\n",
      "          0.024024,    0.025025,    0.026026,    0.027027,    0.028028,    0.029029,     0.03003,    0.031031,    0.032032,    0.033033,    0.034034,    0.035035,    0.036036,    0.037037,    0.038038,    0.039039,     0.04004,    0.041041,    0.042042,    0.043043,    0.044044,    0.045045,    0.046046,    0.047047,\n",
      "          0.048048,    0.049049,     0.05005,    0.051051,    0.052052,    0.053053,    0.054054,    0.055055,    0.056056,    0.057057,    0.058058,    0.059059,     0.06006,    0.061061,    0.062062,    0.063063,    0.064064,    0.065065,    0.066066,    0.067067,    0.068068,    0.069069,     0.07007,    0.071071,\n",
      "          0.072072,    0.073073,    0.074074,    0.075075,    0.076076,    0.077077,    0.078078,    0.079079,     0.08008,    0.081081,    0.082082,    0.083083,    0.084084,    0.085085,    0.086086,    0.087087,    0.088088,    0.089089,     0.09009,    0.091091,    0.092092,    0.093093,    0.094094,    0.095095,\n",
      "          0.096096,    0.097097,    0.098098,    0.099099,      0.1001,      0.1011,      0.1021,      0.1031,      0.1041,     0.10511,     0.10611,     0.10711,     0.10811,     0.10911,     0.11011,     0.11111,     0.11211,     0.11311,     0.11411,     0.11512,     0.11612,     0.11712,     0.11812,     0.11912,\n",
      "           0.12012,     0.12112,     0.12212,     0.12312,     0.12412,     0.12513,     0.12613,     0.12713,     0.12813,     0.12913,     0.13013,     0.13113,     0.13213,     0.13313,     0.13413,     0.13514,     0.13614,     0.13714,     0.13814,     0.13914,     0.14014,     0.14114,     0.14214,     0.14314,\n",
      "           0.14414,     0.14515,     0.14615,     0.14715,     0.14815,     0.14915,     0.15015,     0.15115,     0.15215,     0.15315,     0.15415,     0.15516,     0.15616,     0.15716,     0.15816,     0.15916,     0.16016,     0.16116,     0.16216,     0.16316,     0.16416,     0.16517,     0.16617,     0.16717,\n",
      "           0.16817,     0.16917,     0.17017,     0.17117,     0.17217,     0.17317,     0.17417,     0.17518,     0.17618,     0.17718,     0.17818,     0.17918,     0.18018,     0.18118,     0.18218,     0.18318,     0.18418,     0.18519,     0.18619,     0.18719,     0.18819,     0.18919,     0.19019,     0.19119,\n",
      "           0.19219,     0.19319,     0.19419,      0.1952,      0.1962,      0.1972,      0.1982,      0.1992,      0.2002,      0.2012,      0.2022,      0.2032,      0.2042,     0.20521,     0.20621,     0.20721,     0.20821,     0.20921,     0.21021,     0.21121,     0.21221,     0.21321,     0.21421,     0.21522,\n",
      "           0.21622,     0.21722,     0.21822,     0.21922,     0.22022,     0.22122,     0.22222,     0.22322,     0.22422,     0.22523,     0.22623,     0.22723,     0.22823,     0.22923,     0.23023,     0.23123,     0.23223,     0.23323,     0.23423,     0.23524,     0.23624,     0.23724,     0.23824,     0.23924,\n",
      "           0.24024,     0.24124,     0.24224,     0.24324,     0.24424,     0.24525,     0.24625,     0.24725,     0.24825,     0.24925,     0.25025,     0.25125,     0.25225,     0.25325,     0.25425,     0.25526,     0.25626,     0.25726,     0.25826,     0.25926,     0.26026,     0.26126,     0.26226,     0.26326,\n",
      "           0.26426,     0.26527,     0.26627,     0.26727,     0.26827,     0.26927,     0.27027,     0.27127,     0.27227,     0.27327,     0.27427,     0.27528,     0.27628,     0.27728,     0.27828,     0.27928,     0.28028,     0.28128,     0.28228,     0.28328,     0.28428,     0.28529,     0.28629,     0.28729,\n",
      "           0.28829,     0.28929,     0.29029,     0.29129,     0.29229,     0.29329,     0.29429,      0.2953,      0.2963,      0.2973,      0.2983,      0.2993,      0.3003,      0.3013,      0.3023,      0.3033,      0.3043,     0.30531,     0.30631,     0.30731,     0.30831,     0.30931,     0.31031,     0.31131,\n",
      "           0.31231,     0.31331,     0.31431,     0.31532,     0.31632,     0.31732,     0.31832,     0.31932,     0.32032,     0.32132,     0.32232,     0.32332,     0.32432,     0.32533,     0.32633,     0.32733,     0.32833,     0.32933,     0.33033,     0.33133,     0.33233,     0.33333,     0.33433,     0.33534,\n",
      "           0.33634,     0.33734,     0.33834,     0.33934,     0.34034,     0.34134,     0.34234,     0.34334,     0.34434,     0.34535,     0.34635,     0.34735,     0.34835,     0.34935,     0.35035,     0.35135,     0.35235,     0.35335,     0.35435,     0.35536,     0.35636,     0.35736,     0.35836,     0.35936,\n",
      "           0.36036,     0.36136,     0.36236,     0.36336,     0.36436,     0.36537,     0.36637,     0.36737,     0.36837,     0.36937,     0.37037,     0.37137,     0.37237,     0.37337,     0.37437,     0.37538,     0.37638,     0.37738,     0.37838,     0.37938,     0.38038,     0.38138,     0.38238,     0.38338,\n",
      "           0.38438,     0.38539,     0.38639,     0.38739,     0.38839,     0.38939,     0.39039,     0.39139,     0.39239,     0.39339,     0.39439,      0.3954,      0.3964,      0.3974,      0.3984,      0.3994,      0.4004,      0.4014,      0.4024,      0.4034,      0.4044,     0.40541,     0.40641,     0.40741,\n",
      "           0.40841,     0.40941,     0.41041,     0.41141,     0.41241,     0.41341,     0.41441,     0.41542,     0.41642,     0.41742,     0.41842,     0.41942,     0.42042,     0.42142,     0.42242,     0.42342,     0.42442,     0.42543,     0.42643,     0.42743,     0.42843,     0.42943,     0.43043,     0.43143,\n",
      "           0.43243,     0.43343,     0.43443,     0.43544,     0.43644,     0.43744,     0.43844,     0.43944,     0.44044,     0.44144,     0.44244,     0.44344,     0.44444,     0.44545,     0.44645,     0.44745,     0.44845,     0.44945,     0.45045,     0.45145,     0.45245,     0.45345,     0.45445,     0.45546,\n",
      "           0.45646,     0.45746,     0.45846,     0.45946,     0.46046,     0.46146,     0.46246,     0.46346,     0.46446,     0.46547,     0.46647,     0.46747,     0.46847,     0.46947,     0.47047,     0.47147,     0.47247,     0.47347,     0.47447,     0.47548,     0.47648,     0.47748,     0.47848,     0.47948,\n",
      "           0.48048,     0.48148,     0.48248,     0.48348,     0.48448,     0.48549,     0.48649,     0.48749,     0.48849,     0.48949,     0.49049,     0.49149,     0.49249,     0.49349,     0.49449,      0.4955,      0.4965,      0.4975,      0.4985,      0.4995,      0.5005,      0.5015,      0.5025,      0.5035,\n",
      "            0.5045,     0.50551,     0.50651,     0.50751,     0.50851,     0.50951,     0.51051,     0.51151,     0.51251,     0.51351,     0.51451,     0.51552,     0.51652,     0.51752,     0.51852,     0.51952,     0.52052,     0.52152,     0.52252,     0.52352,     0.52452,     0.52553,     0.52653,     0.52753,\n",
      "           0.52853,     0.52953,     0.53053,     0.53153,     0.53253,     0.53353,     0.53453,     0.53554,     0.53654,     0.53754,     0.53854,     0.53954,     0.54054,     0.54154,     0.54254,     0.54354,     0.54454,     0.54555,     0.54655,     0.54755,     0.54855,     0.54955,     0.55055,     0.55155,\n",
      "           0.55255,     0.55355,     0.55455,     0.55556,     0.55656,     0.55756,     0.55856,     0.55956,     0.56056,     0.56156,     0.56256,     0.56356,     0.56456,     0.56557,     0.56657,     0.56757,     0.56857,     0.56957,     0.57057,     0.57157,     0.57257,     0.57357,     0.57457,     0.57558,\n",
      "           0.57658,     0.57758,     0.57858,     0.57958,     0.58058,     0.58158,     0.58258,     0.58358,     0.58458,     0.58559,     0.58659,     0.58759,     0.58859,     0.58959,     0.59059,     0.59159,     0.59259,     0.59359,     0.59459,      0.5956,      0.5966,      0.5976,      0.5986,      0.5996,\n",
      "            0.6006,      0.6016,      0.6026,      0.6036,      0.6046,     0.60561,     0.60661,     0.60761,     0.60861,     0.60961,     0.61061,     0.61161,     0.61261,     0.61361,     0.61461,     0.61562,     0.61662,     0.61762,     0.61862,     0.61962,     0.62062,     0.62162,     0.62262,     0.62362,\n",
      "           0.62462,     0.62563,     0.62663,     0.62763,     0.62863,     0.62963,     0.63063,     0.63163,     0.63263,     0.63363,     0.63463,     0.63564,     0.63664,     0.63764,     0.63864,     0.63964,     0.64064,     0.64164,     0.64264,     0.64364,     0.64464,     0.64565,     0.64665,     0.64765,\n",
      "           0.64865,     0.64965,     0.65065,     0.65165,     0.65265,     0.65365,     0.65465,     0.65566,     0.65666,     0.65766,     0.65866,     0.65966,     0.66066,     0.66166,     0.66266,     0.66366,     0.66466,     0.66567,     0.66667,     0.66767,     0.66867,     0.66967,     0.67067,     0.67167,\n",
      "           0.67267,     0.67367,     0.67467,     0.67568,     0.67668,     0.67768,     0.67868,     0.67968,     0.68068,     0.68168,     0.68268,     0.68368,     0.68468,     0.68569,     0.68669,     0.68769,     0.68869,     0.68969,     0.69069,     0.69169,     0.69269,     0.69369,     0.69469,      0.6957,\n",
      "            0.6967,      0.6977,      0.6987,      0.6997,      0.7007,      0.7017,      0.7027,      0.7037,      0.7047,     0.70571,     0.70671,     0.70771,     0.70871,     0.70971,     0.71071,     0.71171,     0.71271,     0.71371,     0.71471,     0.71572,     0.71672,     0.71772,     0.71872,     0.71972,\n",
      "           0.72072,     0.72172,     0.72272,     0.72372,     0.72472,     0.72573,     0.72673,     0.72773,     0.72873,     0.72973,     0.73073,     0.73173,     0.73273,     0.73373,     0.73473,     0.73574,     0.73674,     0.73774,     0.73874,     0.73974,     0.74074,     0.74174,     0.74274,     0.74374,\n",
      "           0.74474,     0.74575,     0.74675,     0.74775,     0.74875,     0.74975,     0.75075,     0.75175,     0.75275,     0.75375,     0.75475,     0.75576,     0.75676,     0.75776,     0.75876,     0.75976,     0.76076,     0.76176,     0.76276,     0.76376,     0.76476,     0.76577,     0.76677,     0.76777,\n",
      "           0.76877,     0.76977,     0.77077,     0.77177,     0.77277,     0.77377,     0.77477,     0.77578,     0.77678,     0.77778,     0.77878,     0.77978,     0.78078,     0.78178,     0.78278,     0.78378,     0.78478,     0.78579,     0.78679,     0.78779,     0.78879,     0.78979,     0.79079,     0.79179,\n",
      "           0.79279,     0.79379,     0.79479,      0.7958,      0.7968,      0.7978,      0.7988,      0.7998,      0.8008,      0.8018,      0.8028,      0.8038,      0.8048,     0.80581,     0.80681,     0.80781,     0.80881,     0.80981,     0.81081,     0.81181,     0.81281,     0.81381,     0.81481,     0.81582,\n",
      "           0.81682,     0.81782,     0.81882,     0.81982,     0.82082,     0.82182,     0.82282,     0.82382,     0.82482,     0.82583,     0.82683,     0.82783,     0.82883,     0.82983,     0.83083,     0.83183,     0.83283,     0.83383,     0.83483,     0.83584,     0.83684,     0.83784,     0.83884,     0.83984,\n",
      "           0.84084,     0.84184,     0.84284,     0.84384,     0.84484,     0.84585,     0.84685,     0.84785,     0.84885,     0.84985,     0.85085,     0.85185,     0.85285,     0.85385,     0.85485,     0.85586,     0.85686,     0.85786,     0.85886,     0.85986,     0.86086,     0.86186,     0.86286,     0.86386,\n",
      "           0.86486,     0.86587,     0.86687,     0.86787,     0.86887,     0.86987,     0.87087,     0.87187,     0.87287,     0.87387,     0.87487,     0.87588,     0.87688,     0.87788,     0.87888,     0.87988,     0.88088,     0.88188,     0.88288,     0.88388,     0.88488,     0.88589,     0.88689,     0.88789,\n",
      "           0.88889,     0.88989,     0.89089,     0.89189,     0.89289,     0.89389,     0.89489,      0.8959,      0.8969,      0.8979,      0.8989,      0.8999,      0.9009,      0.9019,      0.9029,      0.9039,      0.9049,     0.90591,     0.90691,     0.90791,     0.90891,     0.90991,     0.91091,     0.91191,\n",
      "           0.91291,     0.91391,     0.91491,     0.91592,     0.91692,     0.91792,     0.91892,     0.91992,     0.92092,     0.92192,     0.92292,     0.92392,     0.92492,     0.92593,     0.92693,     0.92793,     0.92893,     0.92993,     0.93093,     0.93193,     0.93293,     0.93393,     0.93493,     0.93594,\n",
      "           0.93694,     0.93794,     0.93894,     0.93994,     0.94094,     0.94194,     0.94294,     0.94394,     0.94494,     0.94595,     0.94695,     0.94795,     0.94895,     0.94995,     0.95095,     0.95195,     0.95295,     0.95395,     0.95495,     0.95596,     0.95696,     0.95796,     0.95896,     0.95996,\n",
      "           0.96096,     0.96196,     0.96296,     0.96396,     0.96496,     0.96597,     0.96697,     0.96797,     0.96897,     0.96997,     0.97097,     0.97197,     0.97297,     0.97397,     0.97497,     0.97598,     0.97698,     0.97798,     0.97898,     0.97998,     0.98098,     0.98198,     0.98298,     0.98398,\n",
      "           0.98498,     0.98599,     0.98699,     0.98799,     0.98899,     0.98999,     0.99099,     0.99199,     0.99299,     0.99399,     0.99499,       0.996,       0.997,       0.998,       0.999,           1]), array([[    0.16753,     0.16753,     0.16822, ...,           0,           0,           0],\n",
      "       [    0.17108,     0.17108,      0.1718, ...,           0,           0,           0],\n",
      "       [    0.17108,     0.17108,     0.17182, ...,           0,           0,           0],\n",
      "       [    0.16867,     0.16867,     0.16935, ...,           0,           0,           0],\n",
      "       [    0.16993,     0.16994,     0.17137, ...,           0,           0,           0]]), 'Confidence', 'F1'], [array([          0,    0.001001,    0.002002,    0.003003,    0.004004,    0.005005,    0.006006,    0.007007,    0.008008,    0.009009,     0.01001,    0.011011,    0.012012,    0.013013,    0.014014,    0.015015,    0.016016,    0.017017,    0.018018,    0.019019,     0.02002,    0.021021,    0.022022,    0.023023,\n",
      "          0.024024,    0.025025,    0.026026,    0.027027,    0.028028,    0.029029,     0.03003,    0.031031,    0.032032,    0.033033,    0.034034,    0.035035,    0.036036,    0.037037,    0.038038,    0.039039,     0.04004,    0.041041,    0.042042,    0.043043,    0.044044,    0.045045,    0.046046,    0.047047,\n",
      "          0.048048,    0.049049,     0.05005,    0.051051,    0.052052,    0.053053,    0.054054,    0.055055,    0.056056,    0.057057,    0.058058,    0.059059,     0.06006,    0.061061,    0.062062,    0.063063,    0.064064,    0.065065,    0.066066,    0.067067,    0.068068,    0.069069,     0.07007,    0.071071,\n",
      "          0.072072,    0.073073,    0.074074,    0.075075,    0.076076,    0.077077,    0.078078,    0.079079,     0.08008,    0.081081,    0.082082,    0.083083,    0.084084,    0.085085,    0.086086,    0.087087,    0.088088,    0.089089,     0.09009,    0.091091,    0.092092,    0.093093,    0.094094,    0.095095,\n",
      "          0.096096,    0.097097,    0.098098,    0.099099,      0.1001,      0.1011,      0.1021,      0.1031,      0.1041,     0.10511,     0.10611,     0.10711,     0.10811,     0.10911,     0.11011,     0.11111,     0.11211,     0.11311,     0.11411,     0.11512,     0.11612,     0.11712,     0.11812,     0.11912,\n",
      "           0.12012,     0.12112,     0.12212,     0.12312,     0.12412,     0.12513,     0.12613,     0.12713,     0.12813,     0.12913,     0.13013,     0.13113,     0.13213,     0.13313,     0.13413,     0.13514,     0.13614,     0.13714,     0.13814,     0.13914,     0.14014,     0.14114,     0.14214,     0.14314,\n",
      "           0.14414,     0.14515,     0.14615,     0.14715,     0.14815,     0.14915,     0.15015,     0.15115,     0.15215,     0.15315,     0.15415,     0.15516,     0.15616,     0.15716,     0.15816,     0.15916,     0.16016,     0.16116,     0.16216,     0.16316,     0.16416,     0.16517,     0.16617,     0.16717,\n",
      "           0.16817,     0.16917,     0.17017,     0.17117,     0.17217,     0.17317,     0.17417,     0.17518,     0.17618,     0.17718,     0.17818,     0.17918,     0.18018,     0.18118,     0.18218,     0.18318,     0.18418,     0.18519,     0.18619,     0.18719,     0.18819,     0.18919,     0.19019,     0.19119,\n",
      "           0.19219,     0.19319,     0.19419,      0.1952,      0.1962,      0.1972,      0.1982,      0.1992,      0.2002,      0.2012,      0.2022,      0.2032,      0.2042,     0.20521,     0.20621,     0.20721,     0.20821,     0.20921,     0.21021,     0.21121,     0.21221,     0.21321,     0.21421,     0.21522,\n",
      "           0.21622,     0.21722,     0.21822,     0.21922,     0.22022,     0.22122,     0.22222,     0.22322,     0.22422,     0.22523,     0.22623,     0.22723,     0.22823,     0.22923,     0.23023,     0.23123,     0.23223,     0.23323,     0.23423,     0.23524,     0.23624,     0.23724,     0.23824,     0.23924,\n",
      "           0.24024,     0.24124,     0.24224,     0.24324,     0.24424,     0.24525,     0.24625,     0.24725,     0.24825,     0.24925,     0.25025,     0.25125,     0.25225,     0.25325,     0.25425,     0.25526,     0.25626,     0.25726,     0.25826,     0.25926,     0.26026,     0.26126,     0.26226,     0.26326,\n",
      "           0.26426,     0.26527,     0.26627,     0.26727,     0.26827,     0.26927,     0.27027,     0.27127,     0.27227,     0.27327,     0.27427,     0.27528,     0.27628,     0.27728,     0.27828,     0.27928,     0.28028,     0.28128,     0.28228,     0.28328,     0.28428,     0.28529,     0.28629,     0.28729,\n",
      "           0.28829,     0.28929,     0.29029,     0.29129,     0.29229,     0.29329,     0.29429,      0.2953,      0.2963,      0.2973,      0.2983,      0.2993,      0.3003,      0.3013,      0.3023,      0.3033,      0.3043,     0.30531,     0.30631,     0.30731,     0.30831,     0.30931,     0.31031,     0.31131,\n",
      "           0.31231,     0.31331,     0.31431,     0.31532,     0.31632,     0.31732,     0.31832,     0.31932,     0.32032,     0.32132,     0.32232,     0.32332,     0.32432,     0.32533,     0.32633,     0.32733,     0.32833,     0.32933,     0.33033,     0.33133,     0.33233,     0.33333,     0.33433,     0.33534,\n",
      "           0.33634,     0.33734,     0.33834,     0.33934,     0.34034,     0.34134,     0.34234,     0.34334,     0.34434,     0.34535,     0.34635,     0.34735,     0.34835,     0.34935,     0.35035,     0.35135,     0.35235,     0.35335,     0.35435,     0.35536,     0.35636,     0.35736,     0.35836,     0.35936,\n",
      "           0.36036,     0.36136,     0.36236,     0.36336,     0.36436,     0.36537,     0.36637,     0.36737,     0.36837,     0.36937,     0.37037,     0.37137,     0.37237,     0.37337,     0.37437,     0.37538,     0.37638,     0.37738,     0.37838,     0.37938,     0.38038,     0.38138,     0.38238,     0.38338,\n",
      "           0.38438,     0.38539,     0.38639,     0.38739,     0.38839,     0.38939,     0.39039,     0.39139,     0.39239,     0.39339,     0.39439,      0.3954,      0.3964,      0.3974,      0.3984,      0.3994,      0.4004,      0.4014,      0.4024,      0.4034,      0.4044,     0.40541,     0.40641,     0.40741,\n",
      "           0.40841,     0.40941,     0.41041,     0.41141,     0.41241,     0.41341,     0.41441,     0.41542,     0.41642,     0.41742,     0.41842,     0.41942,     0.42042,     0.42142,     0.42242,     0.42342,     0.42442,     0.42543,     0.42643,     0.42743,     0.42843,     0.42943,     0.43043,     0.43143,\n",
      "           0.43243,     0.43343,     0.43443,     0.43544,     0.43644,     0.43744,     0.43844,     0.43944,     0.44044,     0.44144,     0.44244,     0.44344,     0.44444,     0.44545,     0.44645,     0.44745,     0.44845,     0.44945,     0.45045,     0.45145,     0.45245,     0.45345,     0.45445,     0.45546,\n",
      "           0.45646,     0.45746,     0.45846,     0.45946,     0.46046,     0.46146,     0.46246,     0.46346,     0.46446,     0.46547,     0.46647,     0.46747,     0.46847,     0.46947,     0.47047,     0.47147,     0.47247,     0.47347,     0.47447,     0.47548,     0.47648,     0.47748,     0.47848,     0.47948,\n",
      "           0.48048,     0.48148,     0.48248,     0.48348,     0.48448,     0.48549,     0.48649,     0.48749,     0.48849,     0.48949,     0.49049,     0.49149,     0.49249,     0.49349,     0.49449,      0.4955,      0.4965,      0.4975,      0.4985,      0.4995,      0.5005,      0.5015,      0.5025,      0.5035,\n",
      "            0.5045,     0.50551,     0.50651,     0.50751,     0.50851,     0.50951,     0.51051,     0.51151,     0.51251,     0.51351,     0.51451,     0.51552,     0.51652,     0.51752,     0.51852,     0.51952,     0.52052,     0.52152,     0.52252,     0.52352,     0.52452,     0.52553,     0.52653,     0.52753,\n",
      "           0.52853,     0.52953,     0.53053,     0.53153,     0.53253,     0.53353,     0.53453,     0.53554,     0.53654,     0.53754,     0.53854,     0.53954,     0.54054,     0.54154,     0.54254,     0.54354,     0.54454,     0.54555,     0.54655,     0.54755,     0.54855,     0.54955,     0.55055,     0.55155,\n",
      "           0.55255,     0.55355,     0.55455,     0.55556,     0.55656,     0.55756,     0.55856,     0.55956,     0.56056,     0.56156,     0.56256,     0.56356,     0.56456,     0.56557,     0.56657,     0.56757,     0.56857,     0.56957,     0.57057,     0.57157,     0.57257,     0.57357,     0.57457,     0.57558,\n",
      "           0.57658,     0.57758,     0.57858,     0.57958,     0.58058,     0.58158,     0.58258,     0.58358,     0.58458,     0.58559,     0.58659,     0.58759,     0.58859,     0.58959,     0.59059,     0.59159,     0.59259,     0.59359,     0.59459,      0.5956,      0.5966,      0.5976,      0.5986,      0.5996,\n",
      "            0.6006,      0.6016,      0.6026,      0.6036,      0.6046,     0.60561,     0.60661,     0.60761,     0.60861,     0.60961,     0.61061,     0.61161,     0.61261,     0.61361,     0.61461,     0.61562,     0.61662,     0.61762,     0.61862,     0.61962,     0.62062,     0.62162,     0.62262,     0.62362,\n",
      "           0.62462,     0.62563,     0.62663,     0.62763,     0.62863,     0.62963,     0.63063,     0.63163,     0.63263,     0.63363,     0.63463,     0.63564,     0.63664,     0.63764,     0.63864,     0.63964,     0.64064,     0.64164,     0.64264,     0.64364,     0.64464,     0.64565,     0.64665,     0.64765,\n",
      "           0.64865,     0.64965,     0.65065,     0.65165,     0.65265,     0.65365,     0.65465,     0.65566,     0.65666,     0.65766,     0.65866,     0.65966,     0.66066,     0.66166,     0.66266,     0.66366,     0.66466,     0.66567,     0.66667,     0.66767,     0.66867,     0.66967,     0.67067,     0.67167,\n",
      "           0.67267,     0.67367,     0.67467,     0.67568,     0.67668,     0.67768,     0.67868,     0.67968,     0.68068,     0.68168,     0.68268,     0.68368,     0.68468,     0.68569,     0.68669,     0.68769,     0.68869,     0.68969,     0.69069,     0.69169,     0.69269,     0.69369,     0.69469,      0.6957,\n",
      "            0.6967,      0.6977,      0.6987,      0.6997,      0.7007,      0.7017,      0.7027,      0.7037,      0.7047,     0.70571,     0.70671,     0.70771,     0.70871,     0.70971,     0.71071,     0.71171,     0.71271,     0.71371,     0.71471,     0.71572,     0.71672,     0.71772,     0.71872,     0.71972,\n",
      "           0.72072,     0.72172,     0.72272,     0.72372,     0.72472,     0.72573,     0.72673,     0.72773,     0.72873,     0.72973,     0.73073,     0.73173,     0.73273,     0.73373,     0.73473,     0.73574,     0.73674,     0.73774,     0.73874,     0.73974,     0.74074,     0.74174,     0.74274,     0.74374,\n",
      "           0.74474,     0.74575,     0.74675,     0.74775,     0.74875,     0.74975,     0.75075,     0.75175,     0.75275,     0.75375,     0.75475,     0.75576,     0.75676,     0.75776,     0.75876,     0.75976,     0.76076,     0.76176,     0.76276,     0.76376,     0.76476,     0.76577,     0.76677,     0.76777,\n",
      "           0.76877,     0.76977,     0.77077,     0.77177,     0.77277,     0.77377,     0.77477,     0.77578,     0.77678,     0.77778,     0.77878,     0.77978,     0.78078,     0.78178,     0.78278,     0.78378,     0.78478,     0.78579,     0.78679,     0.78779,     0.78879,     0.78979,     0.79079,     0.79179,\n",
      "           0.79279,     0.79379,     0.79479,      0.7958,      0.7968,      0.7978,      0.7988,      0.7998,      0.8008,      0.8018,      0.8028,      0.8038,      0.8048,     0.80581,     0.80681,     0.80781,     0.80881,     0.80981,     0.81081,     0.81181,     0.81281,     0.81381,     0.81481,     0.81582,\n",
      "           0.81682,     0.81782,     0.81882,     0.81982,     0.82082,     0.82182,     0.82282,     0.82382,     0.82482,     0.82583,     0.82683,     0.82783,     0.82883,     0.82983,     0.83083,     0.83183,     0.83283,     0.83383,     0.83483,     0.83584,     0.83684,     0.83784,     0.83884,     0.83984,\n",
      "           0.84084,     0.84184,     0.84284,     0.84384,     0.84484,     0.84585,     0.84685,     0.84785,     0.84885,     0.84985,     0.85085,     0.85185,     0.85285,     0.85385,     0.85485,     0.85586,     0.85686,     0.85786,     0.85886,     0.85986,     0.86086,     0.86186,     0.86286,     0.86386,\n",
      "           0.86486,     0.86587,     0.86687,     0.86787,     0.86887,     0.86987,     0.87087,     0.87187,     0.87287,     0.87387,     0.87487,     0.87588,     0.87688,     0.87788,     0.87888,     0.87988,     0.88088,     0.88188,     0.88288,     0.88388,     0.88488,     0.88589,     0.88689,     0.88789,\n",
      "           0.88889,     0.88989,     0.89089,     0.89189,     0.89289,     0.89389,     0.89489,      0.8959,      0.8969,      0.8979,      0.8989,      0.8999,      0.9009,      0.9019,      0.9029,      0.9039,      0.9049,     0.90591,     0.90691,     0.90791,     0.90891,     0.90991,     0.91091,     0.91191,\n",
      "           0.91291,     0.91391,     0.91491,     0.91592,     0.91692,     0.91792,     0.91892,     0.91992,     0.92092,     0.92192,     0.92292,     0.92392,     0.92492,     0.92593,     0.92693,     0.92793,     0.92893,     0.92993,     0.93093,     0.93193,     0.93293,     0.93393,     0.93493,     0.93594,\n",
      "           0.93694,     0.93794,     0.93894,     0.93994,     0.94094,     0.94194,     0.94294,     0.94394,     0.94494,     0.94595,     0.94695,     0.94795,     0.94895,     0.94995,     0.95095,     0.95195,     0.95295,     0.95395,     0.95495,     0.95596,     0.95696,     0.95796,     0.95896,     0.95996,\n",
      "           0.96096,     0.96196,     0.96296,     0.96396,     0.96496,     0.96597,     0.96697,     0.96797,     0.96897,     0.96997,     0.97097,     0.97197,     0.97297,     0.97397,     0.97497,     0.97598,     0.97698,     0.97798,     0.97898,     0.97998,     0.98098,     0.98198,     0.98298,     0.98398,\n",
      "           0.98498,     0.98599,     0.98699,     0.98799,     0.98899,     0.98999,     0.99099,     0.99199,     0.99299,     0.99399,     0.99499,       0.996,       0.997,       0.998,       0.999,           1]), array([[   0.093504,    0.093504,    0.093931, ...,           1,           1,           1],\n",
      "       [   0.095731,    0.095731,    0.096178, ...,           1,           1,           1],\n",
      "       [   0.095755,    0.095755,    0.096217, ...,           1,           1,           1],\n",
      "       [    0.09418,     0.09418,    0.094603, ...,           1,           1,           1],\n",
      "       [   0.095232,    0.095233,    0.096137, ...,           1,           1,           1]]), 'Confidence', 'Precision'], [array([          0,    0.001001,    0.002002,    0.003003,    0.004004,    0.005005,    0.006006,    0.007007,    0.008008,    0.009009,     0.01001,    0.011011,    0.012012,    0.013013,    0.014014,    0.015015,    0.016016,    0.017017,    0.018018,    0.019019,     0.02002,    0.021021,    0.022022,    0.023023,\n",
      "          0.024024,    0.025025,    0.026026,    0.027027,    0.028028,    0.029029,     0.03003,    0.031031,    0.032032,    0.033033,    0.034034,    0.035035,    0.036036,    0.037037,    0.038038,    0.039039,     0.04004,    0.041041,    0.042042,    0.043043,    0.044044,    0.045045,    0.046046,    0.047047,\n",
      "          0.048048,    0.049049,     0.05005,    0.051051,    0.052052,    0.053053,    0.054054,    0.055055,    0.056056,    0.057057,    0.058058,    0.059059,     0.06006,    0.061061,    0.062062,    0.063063,    0.064064,    0.065065,    0.066066,    0.067067,    0.068068,    0.069069,     0.07007,    0.071071,\n",
      "          0.072072,    0.073073,    0.074074,    0.075075,    0.076076,    0.077077,    0.078078,    0.079079,     0.08008,    0.081081,    0.082082,    0.083083,    0.084084,    0.085085,    0.086086,    0.087087,    0.088088,    0.089089,     0.09009,    0.091091,    0.092092,    0.093093,    0.094094,    0.095095,\n",
      "          0.096096,    0.097097,    0.098098,    0.099099,      0.1001,      0.1011,      0.1021,      0.1031,      0.1041,     0.10511,     0.10611,     0.10711,     0.10811,     0.10911,     0.11011,     0.11111,     0.11211,     0.11311,     0.11411,     0.11512,     0.11612,     0.11712,     0.11812,     0.11912,\n",
      "           0.12012,     0.12112,     0.12212,     0.12312,     0.12412,     0.12513,     0.12613,     0.12713,     0.12813,     0.12913,     0.13013,     0.13113,     0.13213,     0.13313,     0.13413,     0.13514,     0.13614,     0.13714,     0.13814,     0.13914,     0.14014,     0.14114,     0.14214,     0.14314,\n",
      "           0.14414,     0.14515,     0.14615,     0.14715,     0.14815,     0.14915,     0.15015,     0.15115,     0.15215,     0.15315,     0.15415,     0.15516,     0.15616,     0.15716,     0.15816,     0.15916,     0.16016,     0.16116,     0.16216,     0.16316,     0.16416,     0.16517,     0.16617,     0.16717,\n",
      "           0.16817,     0.16917,     0.17017,     0.17117,     0.17217,     0.17317,     0.17417,     0.17518,     0.17618,     0.17718,     0.17818,     0.17918,     0.18018,     0.18118,     0.18218,     0.18318,     0.18418,     0.18519,     0.18619,     0.18719,     0.18819,     0.18919,     0.19019,     0.19119,\n",
      "           0.19219,     0.19319,     0.19419,      0.1952,      0.1962,      0.1972,      0.1982,      0.1992,      0.2002,      0.2012,      0.2022,      0.2032,      0.2042,     0.20521,     0.20621,     0.20721,     0.20821,     0.20921,     0.21021,     0.21121,     0.21221,     0.21321,     0.21421,     0.21522,\n",
      "           0.21622,     0.21722,     0.21822,     0.21922,     0.22022,     0.22122,     0.22222,     0.22322,     0.22422,     0.22523,     0.22623,     0.22723,     0.22823,     0.22923,     0.23023,     0.23123,     0.23223,     0.23323,     0.23423,     0.23524,     0.23624,     0.23724,     0.23824,     0.23924,\n",
      "           0.24024,     0.24124,     0.24224,     0.24324,     0.24424,     0.24525,     0.24625,     0.24725,     0.24825,     0.24925,     0.25025,     0.25125,     0.25225,     0.25325,     0.25425,     0.25526,     0.25626,     0.25726,     0.25826,     0.25926,     0.26026,     0.26126,     0.26226,     0.26326,\n",
      "           0.26426,     0.26527,     0.26627,     0.26727,     0.26827,     0.26927,     0.27027,     0.27127,     0.27227,     0.27327,     0.27427,     0.27528,     0.27628,     0.27728,     0.27828,     0.27928,     0.28028,     0.28128,     0.28228,     0.28328,     0.28428,     0.28529,     0.28629,     0.28729,\n",
      "           0.28829,     0.28929,     0.29029,     0.29129,     0.29229,     0.29329,     0.29429,      0.2953,      0.2963,      0.2973,      0.2983,      0.2993,      0.3003,      0.3013,      0.3023,      0.3033,      0.3043,     0.30531,     0.30631,     0.30731,     0.30831,     0.30931,     0.31031,     0.31131,\n",
      "           0.31231,     0.31331,     0.31431,     0.31532,     0.31632,     0.31732,     0.31832,     0.31932,     0.32032,     0.32132,     0.32232,     0.32332,     0.32432,     0.32533,     0.32633,     0.32733,     0.32833,     0.32933,     0.33033,     0.33133,     0.33233,     0.33333,     0.33433,     0.33534,\n",
      "           0.33634,     0.33734,     0.33834,     0.33934,     0.34034,     0.34134,     0.34234,     0.34334,     0.34434,     0.34535,     0.34635,     0.34735,     0.34835,     0.34935,     0.35035,     0.35135,     0.35235,     0.35335,     0.35435,     0.35536,     0.35636,     0.35736,     0.35836,     0.35936,\n",
      "           0.36036,     0.36136,     0.36236,     0.36336,     0.36436,     0.36537,     0.36637,     0.36737,     0.36837,     0.36937,     0.37037,     0.37137,     0.37237,     0.37337,     0.37437,     0.37538,     0.37638,     0.37738,     0.37838,     0.37938,     0.38038,     0.38138,     0.38238,     0.38338,\n",
      "           0.38438,     0.38539,     0.38639,     0.38739,     0.38839,     0.38939,     0.39039,     0.39139,     0.39239,     0.39339,     0.39439,      0.3954,      0.3964,      0.3974,      0.3984,      0.3994,      0.4004,      0.4014,      0.4024,      0.4034,      0.4044,     0.40541,     0.40641,     0.40741,\n",
      "           0.40841,     0.40941,     0.41041,     0.41141,     0.41241,     0.41341,     0.41441,     0.41542,     0.41642,     0.41742,     0.41842,     0.41942,     0.42042,     0.42142,     0.42242,     0.42342,     0.42442,     0.42543,     0.42643,     0.42743,     0.42843,     0.42943,     0.43043,     0.43143,\n",
      "           0.43243,     0.43343,     0.43443,     0.43544,     0.43644,     0.43744,     0.43844,     0.43944,     0.44044,     0.44144,     0.44244,     0.44344,     0.44444,     0.44545,     0.44645,     0.44745,     0.44845,     0.44945,     0.45045,     0.45145,     0.45245,     0.45345,     0.45445,     0.45546,\n",
      "           0.45646,     0.45746,     0.45846,     0.45946,     0.46046,     0.46146,     0.46246,     0.46346,     0.46446,     0.46547,     0.46647,     0.46747,     0.46847,     0.46947,     0.47047,     0.47147,     0.47247,     0.47347,     0.47447,     0.47548,     0.47648,     0.47748,     0.47848,     0.47948,\n",
      "           0.48048,     0.48148,     0.48248,     0.48348,     0.48448,     0.48549,     0.48649,     0.48749,     0.48849,     0.48949,     0.49049,     0.49149,     0.49249,     0.49349,     0.49449,      0.4955,      0.4965,      0.4975,      0.4985,      0.4995,      0.5005,      0.5015,      0.5025,      0.5035,\n",
      "            0.5045,     0.50551,     0.50651,     0.50751,     0.50851,     0.50951,     0.51051,     0.51151,     0.51251,     0.51351,     0.51451,     0.51552,     0.51652,     0.51752,     0.51852,     0.51952,     0.52052,     0.52152,     0.52252,     0.52352,     0.52452,     0.52553,     0.52653,     0.52753,\n",
      "           0.52853,     0.52953,     0.53053,     0.53153,     0.53253,     0.53353,     0.53453,     0.53554,     0.53654,     0.53754,     0.53854,     0.53954,     0.54054,     0.54154,     0.54254,     0.54354,     0.54454,     0.54555,     0.54655,     0.54755,     0.54855,     0.54955,     0.55055,     0.55155,\n",
      "           0.55255,     0.55355,     0.55455,     0.55556,     0.55656,     0.55756,     0.55856,     0.55956,     0.56056,     0.56156,     0.56256,     0.56356,     0.56456,     0.56557,     0.56657,     0.56757,     0.56857,     0.56957,     0.57057,     0.57157,     0.57257,     0.57357,     0.57457,     0.57558,\n",
      "           0.57658,     0.57758,     0.57858,     0.57958,     0.58058,     0.58158,     0.58258,     0.58358,     0.58458,     0.58559,     0.58659,     0.58759,     0.58859,     0.58959,     0.59059,     0.59159,     0.59259,     0.59359,     0.59459,      0.5956,      0.5966,      0.5976,      0.5986,      0.5996,\n",
      "            0.6006,      0.6016,      0.6026,      0.6036,      0.6046,     0.60561,     0.60661,     0.60761,     0.60861,     0.60961,     0.61061,     0.61161,     0.61261,     0.61361,     0.61461,     0.61562,     0.61662,     0.61762,     0.61862,     0.61962,     0.62062,     0.62162,     0.62262,     0.62362,\n",
      "           0.62462,     0.62563,     0.62663,     0.62763,     0.62863,     0.62963,     0.63063,     0.63163,     0.63263,     0.63363,     0.63463,     0.63564,     0.63664,     0.63764,     0.63864,     0.63964,     0.64064,     0.64164,     0.64264,     0.64364,     0.64464,     0.64565,     0.64665,     0.64765,\n",
      "           0.64865,     0.64965,     0.65065,     0.65165,     0.65265,     0.65365,     0.65465,     0.65566,     0.65666,     0.65766,     0.65866,     0.65966,     0.66066,     0.66166,     0.66266,     0.66366,     0.66466,     0.66567,     0.66667,     0.66767,     0.66867,     0.66967,     0.67067,     0.67167,\n",
      "           0.67267,     0.67367,     0.67467,     0.67568,     0.67668,     0.67768,     0.67868,     0.67968,     0.68068,     0.68168,     0.68268,     0.68368,     0.68468,     0.68569,     0.68669,     0.68769,     0.68869,     0.68969,     0.69069,     0.69169,     0.69269,     0.69369,     0.69469,      0.6957,\n",
      "            0.6967,      0.6977,      0.6987,      0.6997,      0.7007,      0.7017,      0.7027,      0.7037,      0.7047,     0.70571,     0.70671,     0.70771,     0.70871,     0.70971,     0.71071,     0.71171,     0.71271,     0.71371,     0.71471,     0.71572,     0.71672,     0.71772,     0.71872,     0.71972,\n",
      "           0.72072,     0.72172,     0.72272,     0.72372,     0.72472,     0.72573,     0.72673,     0.72773,     0.72873,     0.72973,     0.73073,     0.73173,     0.73273,     0.73373,     0.73473,     0.73574,     0.73674,     0.73774,     0.73874,     0.73974,     0.74074,     0.74174,     0.74274,     0.74374,\n",
      "           0.74474,     0.74575,     0.74675,     0.74775,     0.74875,     0.74975,     0.75075,     0.75175,     0.75275,     0.75375,     0.75475,     0.75576,     0.75676,     0.75776,     0.75876,     0.75976,     0.76076,     0.76176,     0.76276,     0.76376,     0.76476,     0.76577,     0.76677,     0.76777,\n",
      "           0.76877,     0.76977,     0.77077,     0.77177,     0.77277,     0.77377,     0.77477,     0.77578,     0.77678,     0.77778,     0.77878,     0.77978,     0.78078,     0.78178,     0.78278,     0.78378,     0.78478,     0.78579,     0.78679,     0.78779,     0.78879,     0.78979,     0.79079,     0.79179,\n",
      "           0.79279,     0.79379,     0.79479,      0.7958,      0.7968,      0.7978,      0.7988,      0.7998,      0.8008,      0.8018,      0.8028,      0.8038,      0.8048,     0.80581,     0.80681,     0.80781,     0.80881,     0.80981,     0.81081,     0.81181,     0.81281,     0.81381,     0.81481,     0.81582,\n",
      "           0.81682,     0.81782,     0.81882,     0.81982,     0.82082,     0.82182,     0.82282,     0.82382,     0.82482,     0.82583,     0.82683,     0.82783,     0.82883,     0.82983,     0.83083,     0.83183,     0.83283,     0.83383,     0.83483,     0.83584,     0.83684,     0.83784,     0.83884,     0.83984,\n",
      "           0.84084,     0.84184,     0.84284,     0.84384,     0.84484,     0.84585,     0.84685,     0.84785,     0.84885,     0.84985,     0.85085,     0.85185,     0.85285,     0.85385,     0.85485,     0.85586,     0.85686,     0.85786,     0.85886,     0.85986,     0.86086,     0.86186,     0.86286,     0.86386,\n",
      "           0.86486,     0.86587,     0.86687,     0.86787,     0.86887,     0.86987,     0.87087,     0.87187,     0.87287,     0.87387,     0.87487,     0.87588,     0.87688,     0.87788,     0.87888,     0.87988,     0.88088,     0.88188,     0.88288,     0.88388,     0.88488,     0.88589,     0.88689,     0.88789,\n",
      "           0.88889,     0.88989,     0.89089,     0.89189,     0.89289,     0.89389,     0.89489,      0.8959,      0.8969,      0.8979,      0.8989,      0.8999,      0.9009,      0.9019,      0.9029,      0.9039,      0.9049,     0.90591,     0.90691,     0.90791,     0.90891,     0.90991,     0.91091,     0.91191,\n",
      "           0.91291,     0.91391,     0.91491,     0.91592,     0.91692,     0.91792,     0.91892,     0.91992,     0.92092,     0.92192,     0.92292,     0.92392,     0.92492,     0.92593,     0.92693,     0.92793,     0.92893,     0.92993,     0.93093,     0.93193,     0.93293,     0.93393,     0.93493,     0.93594,\n",
      "           0.93694,     0.93794,     0.93894,     0.93994,     0.94094,     0.94194,     0.94294,     0.94394,     0.94494,     0.94595,     0.94695,     0.94795,     0.94895,     0.94995,     0.95095,     0.95195,     0.95295,     0.95395,     0.95495,     0.95596,     0.95696,     0.95796,     0.95896,     0.95996,\n",
      "           0.96096,     0.96196,     0.96296,     0.96396,     0.96496,     0.96597,     0.96697,     0.96797,     0.96897,     0.96997,     0.97097,     0.97197,     0.97297,     0.97397,     0.97497,     0.97598,     0.97698,     0.97798,     0.97898,     0.97998,     0.98098,     0.98198,     0.98298,     0.98398,\n",
      "           0.98498,     0.98599,     0.98699,     0.98799,     0.98899,     0.98999,     0.99099,     0.99199,     0.99299,     0.99399,     0.99499,       0.996,       0.997,       0.998,       0.999,           1]), array([[    0.80441,     0.80441,     0.80441, ...,           0,           0,           0],\n",
      "       [     0.8037,      0.8037,     0.80363, ...,           0,           0,           0],\n",
      "       [    0.80182,     0.80182,     0.80182, ...,           0,           0,           0],\n",
      "       [    0.80676,     0.80676,     0.80676, ...,           0,           0,           0],\n",
      "       [    0.78825,     0.78825,     0.78807, ...,           0,           0,           0]]), 'Confidence', 'Recall']]\n",
      "fitness: 0.12435210149444144\n",
      "keys: ['metrics/precision(B)', 'metrics/recall(B)', 'metrics/mAP50(B)', 'metrics/mAP50-95(B)']\n",
      "maps: array([    0.11138,      0.1124,     0.10772,     0.10684,     0.15085])\n",
      "names: {0: 'Bent', 1: 'Kneeling', 2: 'Lying', 3: 'Sitting', 4: 'Upright'}\n",
      "plot: True\n",
      "results_dict: {'metrics/precision(B)': 0.1817017254482185, 'metrics/recall(B)': 0.6416596505371726, 'metrics/mAP50(B)': 0.18296892426850672, 'metrics/mAP50-95(B)': 0.11783912118621195, 'fitness': 0.12435210149444144}\n",
      "save_dir: WindowsPath('runs/detect/val2')\n",
      "speed: {'preprocess': 0.28348529216301427, 'inference': 2.390404629812367, 'loss': 0.0, 'postprocess': 1.1516922079227279}\n",
      "task: 'detect'\n"
     ]
    }
   ],
   "source": [
    "from ultralytics import YOLO\n",
    "\n",
    "# Load the trained model\n",
    "model = YOLO('./runs/detect/yolov11-pose_estemation/weights/best.pt')  # Path to the best weights after training\n",
    "\n",
    "# Evaluate the model on the test dataset\n",
    "metrics = model.val(\n",
    "    data='./C2A_Dataset/new_dataset3/data.yaml',  # Path to your dataset configuration\n",
    "    split='test',                                # Specify the test split\n",
    "    imgsz=640,                                   # Image size for evaluation\n",
    "    batch=16                                     # Batch size for evaluation\n",
    ")\n",
    "\n",
    "# Print evaluation metrics\n",
    "print(metrics)"
   ]
  },
  {
   "cell_type": "markdown",
   "metadata": {},
   "source": [
    "## YOLO v11 w/o pose estemation"
   ]
  },
  {
   "cell_type": "code",
   "execution_count": 2,
   "metadata": {},
   "outputs": [
    {
     "name": "stdout",
     "output_type": "stream",
     "text": [
      "Downloading https://github.com/ultralytics/assets/releases/download/v8.3.0/yolo11s.pt to 'yolo11s.pt'...\n"
     ]
    },
    {
     "name": "stderr",
     "output_type": "stream",
     "text": [
      "100%|██████████| 18.4M/18.4M [00:02<00:00, 7.95MB/s]\n"
     ]
    },
    {
     "name": "stdout",
     "output_type": "stream",
     "text": [
      "New https://pypi.org/project/ultralytics/8.3.36 available  Update with 'pip install -U ultralytics'\n",
      "Ultralytics 8.3.25  Python-3.12.5 torch-2.5.1+cu121 CUDA:0 (NVIDIA GeForce RTX 4060 Laptop GPU, 8188MiB)\n",
      "\u001b[34m\u001b[1mengine\\trainer: \u001b[0mtask=detect, mode=train, model=yolo11s.pt, data=./C2A_Dataset/new_dataset3/data.yaml, epochs=50, time=None, patience=100, batch=16, imgsz=640, save=True, save_period=-1, cache=False, device=None, workers=8, project=None, name=yolov11_run1, exist_ok=False, pretrained=True, optimizer=auto, verbose=True, seed=0, deterministic=True, single_cls=False, rect=False, cos_lr=False, close_mosaic=10, resume=False, amp=True, fraction=1.0, profile=False, freeze=None, multi_scale=False, overlap_mask=True, mask_ratio=4, dropout=0.0, val=True, split=val, save_json=False, save_hybrid=False, conf=None, iou=0.7, max_det=300, half=False, dnn=False, plots=True, source=None, vid_stride=1, stream_buffer=False, visualize=False, augment=False, agnostic_nms=False, classes=None, retina_masks=False, embed=None, show=False, save_frames=False, save_txt=False, save_conf=False, save_crop=False, show_labels=True, show_conf=True, show_boxes=True, line_width=None, format=torchscript, keras=False, optimize=False, int8=False, dynamic=False, simplify=True, opset=None, workspace=4, nms=False, lr0=0.01, lrf=0.01, momentum=0.937, weight_decay=0.0005, warmup_epochs=3.0, warmup_momentum=0.8, warmup_bias_lr=0.1, box=7.5, cls=0.5, dfl=1.5, pose=12.0, kobj=1.0, label_smoothing=0.0, nbs=64, hsv_h=0.015, hsv_s=0.7, hsv_v=0.4, degrees=0.0, translate=0.1, scale=0.5, shear=0.0, perspective=0.0, flipud=0.0, fliplr=0.5, bgr=0.0, mosaic=1.0, mixup=0.0, copy_paste=0.0, copy_paste_mode=flip, auto_augment=randaugment, erasing=0.4, crop_fraction=1.0, cfg=None, tracker=botsort.yaml, save_dir=runs\\detect\\yolov11_run1\n"
     ]
    },
    {
     "name": "stderr",
     "output_type": "stream",
     "text": [
      "c:\\Users\\Karee\\AppData\\Local\\Programs\\Python\\Python312\\Lib\\site-packages\\tqdm\\auto.py:21: TqdmWarning: IProgress not found. Please update jupyter and ipywidgets. See https://ipywidgets.readthedocs.io/en/stable/user_install.html\n",
      "  from .autonotebook import tqdm as notebook_tqdm\n",
      "2024-11-24 20:39:08,300\tINFO util.py:154 -- Missing packages: ['ipywidgets']. Run `pip install -U ipywidgets`, then restart the notebook server for rich notebook output.\n",
      "2024-11-24 20:39:08,681\tINFO util.py:154 -- Missing packages: ['ipywidgets']. Run `pip install -U ipywidgets`, then restart the notebook server for rich notebook output.\n"
     ]
    },
    {
     "name": "stdout",
     "output_type": "stream",
     "text": [
      "Overriding model.yaml nc=80 with nc=1\n",
      "\n",
      "                   from  n    params  module                                       arguments                     \n",
      "  0                  -1  1       928  ultralytics.nn.modules.conv.Conv             [3, 32, 3, 2]                 \n",
      "  1                  -1  1     18560  ultralytics.nn.modules.conv.Conv             [32, 64, 3, 2]                \n",
      "  2                  -1  1     26080  ultralytics.nn.modules.block.C3k2            [64, 128, 1, False, 0.25]     \n",
      "  3                  -1  1    147712  ultralytics.nn.modules.conv.Conv             [128, 128, 3, 2]              \n",
      "  4                  -1  1    103360  ultralytics.nn.modules.block.C3k2            [128, 256, 1, False, 0.25]    \n",
      "  5                  -1  1    590336  ultralytics.nn.modules.conv.Conv             [256, 256, 3, 2]              \n",
      "  6                  -1  1    346112  ultralytics.nn.modules.block.C3k2            [256, 256, 1, True]           \n",
      "  7                  -1  1   1180672  ultralytics.nn.modules.conv.Conv             [256, 512, 3, 2]              \n",
      "  8                  -1  1   1380352  ultralytics.nn.modules.block.C3k2            [512, 512, 1, True]           \n",
      "  9                  -1  1    656896  ultralytics.nn.modules.block.SPPF            [512, 512, 5]                 \n",
      " 10                  -1  1    990976  ultralytics.nn.modules.block.C2PSA           [512, 512, 1]                 \n",
      " 11                  -1  1         0  torch.nn.modules.upsampling.Upsample         [None, 2, 'nearest']          \n",
      " 12             [-1, 6]  1         0  ultralytics.nn.modules.conv.Concat           [1]                           \n",
      " 13                  -1  1    443776  ultralytics.nn.modules.block.C3k2            [768, 256, 1, False]          \n",
      " 14                  -1  1         0  torch.nn.modules.upsampling.Upsample         [None, 2, 'nearest']          \n",
      " 15             [-1, 4]  1         0  ultralytics.nn.modules.conv.Concat           [1]                           \n",
      " 16                  -1  1    127680  ultralytics.nn.modules.block.C3k2            [512, 128, 1, False]          \n",
      " 17                  -1  1    147712  ultralytics.nn.modules.conv.Conv             [128, 128, 3, 2]              \n",
      " 18            [-1, 13]  1         0  ultralytics.nn.modules.conv.Concat           [1]                           \n",
      " 19                  -1  1    345472  ultralytics.nn.modules.block.C3k2            [384, 256, 1, False]          \n",
      " 20                  -1  1    590336  ultralytics.nn.modules.conv.Conv             [256, 256, 3, 2]              \n",
      " 21            [-1, 10]  1         0  ultralytics.nn.modules.conv.Concat           [1]                           \n",
      " 22                  -1  1   1511424  ultralytics.nn.modules.block.C3k2            [768, 512, 1, True]           \n",
      " 23        [16, 19, 22]  1    819795  ultralytics.nn.modules.head.Detect           [1, [128, 256, 512]]          \n",
      "YOLO11s summary: 319 layers, 9,428,179 parameters, 9,428,163 gradients, 21.5 GFLOPs\n",
      "\n",
      "Transferred 493/499 items from pretrained weights\n",
      "\u001b[34m\u001b[1mTensorBoard: \u001b[0mStart with 'tensorboard --logdir runs\\detect\\yolov11_run1', view at http://localhost:6006/\n",
      "Freezing layer 'model.23.dfl.conv.weight'\n",
      "\u001b[34m\u001b[1mAMP: \u001b[0mrunning Automatic Mixed Precision (AMP) checks...\n",
      "\u001b[34m\u001b[1mAMP: \u001b[0mchecks passed \n"
     ]
    },
    {
     "name": "stderr",
     "output_type": "stream",
     "text": [
      "\u001b[34m\u001b[1mtrain: \u001b[0mScanning C:\\Users\\Karee\\OneDrive\\Desktop\\Fall 2024 AUS\\COE49413\\Project\\Code\\C2A_Dataset\\new_dataset3\\train\\labels... 6129 images, 0 backgrounds, 0 corrupt: 100%|██████████| 6129/6129 [00:09<00:00, 620.01it/s]"
     ]
    },
    {
     "name": "stdout",
     "output_type": "stream",
     "text": [
      "\u001b[34m\u001b[1mtrain: \u001b[0mWARNING  C:\\Users\\Karee\\OneDrive\\Desktop\\Fall 2024 AUS\\COE49413\\Project\\Code\\C2A_Dataset\\new_dataset3\\train\\images\\flood_image0407_3.png: 1 duplicate labels removed\n"
     ]
    },
    {
     "name": "stderr",
     "output_type": "stream",
     "text": [
      "\n"
     ]
    },
    {
     "name": "stdout",
     "output_type": "stream",
     "text": [
      "\u001b[34m\u001b[1mtrain: \u001b[0mNew cache created: C:\\Users\\Karee\\OneDrive\\Desktop\\Fall 2024 AUS\\COE49413\\Project\\Code\\C2A_Dataset\\new_dataset3\\train\\labels.cache\n"
     ]
    },
    {
     "name": "stderr",
     "output_type": "stream",
     "text": [
      "\u001b[34m\u001b[1mval: \u001b[0mScanning C:\\Users\\Karee\\OneDrive\\Desktop\\Fall 2024 AUS\\COE49413\\Project\\Code\\C2A_Dataset\\new_dataset3\\val\\labels... 2043 images, 0 backgrounds, 0 corrupt: 100%|██████████| 2043/2043 [00:03<00:00, 596.49it/s]\n"
     ]
    },
    {
     "name": "stdout",
     "output_type": "stream",
     "text": [
      "\u001b[34m\u001b[1mval: \u001b[0mNew cache created: C:\\Users\\Karee\\OneDrive\\Desktop\\Fall 2024 AUS\\COE49413\\Project\\Code\\C2A_Dataset\\new_dataset3\\val\\labels.cache\n",
      "Plotting labels to runs\\detect\\yolov11_run1\\labels.jpg... \n",
      "\u001b[34m\u001b[1moptimizer:\u001b[0m 'optimizer=auto' found, ignoring 'lr0=0.01' and 'momentum=0.937' and determining best 'optimizer', 'lr0' and 'momentum' automatically... \n",
      "\u001b[34m\u001b[1moptimizer:\u001b[0m AdamW(lr=0.002, momentum=0.9) with parameter groups 81 weight(decay=0.0), 88 weight(decay=0.0005), 87 bias(decay=0.0)\n",
      "\u001b[34m\u001b[1mTensorBoard: \u001b[0mmodel graph visualization added \n",
      "Image sizes 640 train, 640 val\n",
      "Using 8 dataloader workers\n",
      "Logging results to \u001b[1mruns\\detect\\yolov11_run1\u001b[0m\n",
      "Starting training for 50 epochs...\n",
      "\n",
      "      Epoch    GPU_mem   box_loss   cls_loss   dfl_loss  Instances       Size\n"
     ]
    },
    {
     "name": "stderr",
     "output_type": "stream",
     "text": [
      "       1/50      8.75G      1.396       1.06      1.019         73        640: 100%|██████████| 384/384 [01:39<00:00,  3.85it/s]\n",
      "                 Class     Images  Instances      Box(P          R      mAP50  mAP50-95): 100%|██████████| 64/64 [00:20<00:00,  3.08it/s]\n"
     ]
    },
    {
     "name": "stdout",
     "output_type": "stream",
     "text": [
      "                   all       2043      72123      0.766       0.62      0.675      0.378\n",
      "\n",
      "      Epoch    GPU_mem   box_loss   cls_loss   dfl_loss  Instances       Size\n"
     ]
    },
    {
     "name": "stderr",
     "output_type": "stream",
     "text": [
      "       2/50      7.91G      1.331     0.8776     0.9939         59        640: 100%|██████████| 384/384 [01:27<00:00,  4.40it/s]\n",
      "                 Class     Images  Instances      Box(P          R      mAP50  mAP50-95): 100%|██████████| 64/64 [00:19<00:00,  3.30it/s]\n"
     ]
    },
    {
     "name": "stdout",
     "output_type": "stream",
     "text": [
      "                   all       2043      72123      0.793      0.655      0.704      0.407\n",
      "\n",
      "      Epoch    GPU_mem   box_loss   cls_loss   dfl_loss  Instances       Size\n"
     ]
    },
    {
     "name": "stderr",
     "output_type": "stream",
     "text": [
      "       3/50      6.61G      1.304     0.8557      0.991        129        640: 100%|██████████| 384/384 [01:26<00:00,  4.46it/s]\n",
      "                 Class     Images  Instances      Box(P          R      mAP50  mAP50-95): 100%|██████████| 64/64 [00:15<00:00,  4.21it/s]\n"
     ]
    },
    {
     "name": "stdout",
     "output_type": "stream",
     "text": [
      "                   all       2043      72123      0.781      0.661      0.705      0.418\n",
      "\n",
      "      Epoch    GPU_mem   box_loss   cls_loss   dfl_loss  Instances       Size\n"
     ]
    },
    {
     "name": "stderr",
     "output_type": "stream",
     "text": [
      "       4/50      6.19G       1.28     0.8356     0.9837         29        640: 100%|██████████| 384/384 [01:25<00:00,  4.49it/s]\n",
      "                 Class     Images  Instances      Box(P          R      mAP50  mAP50-95): 100%|██████████| 64/64 [00:14<00:00,  4.27it/s]\n"
     ]
    },
    {
     "name": "stdout",
     "output_type": "stream",
     "text": [
      "                   all       2043      72123      0.778      0.657      0.703      0.402\n",
      "\n",
      "      Epoch    GPU_mem   box_loss   cls_loss   dfl_loss  Instances       Size\n"
     ]
    },
    {
     "name": "stderr",
     "output_type": "stream",
     "text": [
      "       5/50      7.82G      1.243     0.8081     0.9757         62        640: 100%|██████████| 384/384 [01:25<00:00,  4.51it/s]\n",
      "                 Class     Images  Instances      Box(P          R      mAP50  mAP50-95): 100%|██████████| 64/64 [00:19<00:00,  3.27it/s]\n"
     ]
    },
    {
     "name": "stdout",
     "output_type": "stream",
     "text": [
      "                   all       2043      72123      0.775      0.646      0.705      0.421\n",
      "\n",
      "      Epoch    GPU_mem   box_loss   cls_loss   dfl_loss  Instances       Size\n"
     ]
    },
    {
     "name": "stderr",
     "output_type": "stream",
     "text": [
      "       6/50      6.77G      1.226      0.796     0.9711         49        640: 100%|██████████| 384/384 [01:25<00:00,  4.50it/s]\n",
      "                 Class     Images  Instances      Box(P          R      mAP50  mAP50-95): 100%|██████████| 64/64 [00:17<00:00,  3.76it/s]\n"
     ]
    },
    {
     "name": "stdout",
     "output_type": "stream",
     "text": [
      "                   all       2043      72123      0.787      0.655      0.712       0.43\n",
      "\n",
      "      Epoch    GPU_mem   box_loss   cls_loss   dfl_loss  Instances       Size\n"
     ]
    },
    {
     "name": "stderr",
     "output_type": "stream",
     "text": [
      "       7/50      8.94G      1.214     0.7913      0.969         61        640: 100%|██████████| 384/384 [01:29<00:00,  4.30it/s]\n",
      "                 Class     Images  Instances      Box(P          R      mAP50  mAP50-95): 100%|██████████| 64/64 [00:20<00:00,  3.10it/s]\n"
     ]
    },
    {
     "name": "stdout",
     "output_type": "stream",
     "text": [
      "                   all       2043      72123        0.8      0.666      0.724      0.439\n",
      "\n",
      "      Epoch    GPU_mem   box_loss   cls_loss   dfl_loss  Instances       Size\n"
     ]
    },
    {
     "name": "stderr",
     "output_type": "stream",
     "text": [
      "       8/50      7.47G      1.198     0.7765     0.9625        128        640: 100%|██████████| 384/384 [01:25<00:00,  4.48it/s]\n",
      "                 Class     Images  Instances      Box(P          R      mAP50  mAP50-95): 100%|██████████| 64/64 [00:18<00:00,  3.46it/s]\n"
     ]
    },
    {
     "name": "stdout",
     "output_type": "stream",
     "text": [
      "                   all       2043      72123      0.806      0.676      0.733      0.449\n",
      "\n",
      "      Epoch    GPU_mem   box_loss   cls_loss   dfl_loss  Instances       Size\n"
     ]
    },
    {
     "name": "stderr",
     "output_type": "stream",
     "text": [
      "       9/50      8.26G      1.194     0.7703     0.9593         40        640: 100%|██████████| 384/384 [01:41<00:00,  3.77it/s]\n",
      "                 Class     Images  Instances      Box(P          R      mAP50  mAP50-95): 100%|██████████| 64/64 [00:56<00:00,  1.13it/s]\n"
     ]
    },
    {
     "name": "stdout",
     "output_type": "stream",
     "text": [
      "                   all       2043      72123      0.814      0.676      0.738      0.462\n",
      "\n",
      "      Epoch    GPU_mem   box_loss   cls_loss   dfl_loss  Instances       Size\n"
     ]
    },
    {
     "name": "stderr",
     "output_type": "stream",
     "text": [
      "      10/50       6.7G       1.17     0.7503     0.9587         59        640: 100%|██████████| 384/384 [01:25<00:00,  4.52it/s]\n",
      "                 Class     Images  Instances      Box(P          R      mAP50  mAP50-95): 100%|██████████| 64/64 [00:15<00:00,  4.13it/s]\n"
     ]
    },
    {
     "name": "stdout",
     "output_type": "stream",
     "text": [
      "                   all       2043      72123      0.822       0.68      0.745      0.461\n",
      "\n",
      "      Epoch    GPU_mem   box_loss   cls_loss   dfl_loss  Instances       Size\n"
     ]
    },
    {
     "name": "stderr",
     "output_type": "stream",
     "text": [
      "      11/50       6.2G       1.16     0.7477      0.954         76        640: 100%|██████████| 384/384 [01:24<00:00,  4.52it/s]\n",
      "                 Class     Images  Instances      Box(P          R      mAP50  mAP50-95): 100%|██████████| 64/64 [00:15<00:00,  4.08it/s]\n"
     ]
    },
    {
     "name": "stdout",
     "output_type": "stream",
     "text": [
      "                   all       2043      72123      0.807      0.679      0.743      0.463\n",
      "\n",
      "      Epoch    GPU_mem   box_loss   cls_loss   dfl_loss  Instances       Size\n"
     ]
    },
    {
     "name": "stderr",
     "output_type": "stream",
     "text": [
      "      12/50      7.58G      1.157     0.7483     0.9546         26        640: 100%|██████████| 384/384 [01:25<00:00,  4.51it/s]\n",
      "                 Class     Images  Instances      Box(P          R      mAP50  mAP50-95): 100%|██████████| 64/64 [00:22<00:00,  2.89it/s]\n"
     ]
    },
    {
     "name": "stdout",
     "output_type": "stream",
     "text": [
      "                   all       2043      72123      0.814       0.68      0.743      0.461\n",
      "\n",
      "      Epoch    GPU_mem   box_loss   cls_loss   dfl_loss  Instances       Size\n"
     ]
    },
    {
     "name": "stderr",
     "output_type": "stream",
     "text": [
      "      13/50       7.1G      1.148     0.7413     0.9514         46        640: 100%|██████████| 384/384 [01:25<00:00,  4.48it/s]\n",
      "                 Class     Images  Instances      Box(P          R      mAP50  mAP50-95): 100%|██████████| 64/64 [00:17<00:00,  3.63it/s]\n"
     ]
    },
    {
     "name": "stdout",
     "output_type": "stream",
     "text": [
      "                   all       2043      72123       0.82      0.676      0.744      0.472\n",
      "\n",
      "      Epoch    GPU_mem   box_loss   cls_loss   dfl_loss  Instances       Size\n"
     ]
    },
    {
     "name": "stderr",
     "output_type": "stream",
     "text": [
      "      14/50      7.68G      1.144     0.7334      0.948         48        640: 100%|██████████| 384/384 [01:25<00:00,  4.50it/s]\n",
      "                 Class     Images  Instances      Box(P          R      mAP50  mAP50-95): 100%|██████████| 64/64 [00:19<00:00,  3.31it/s]\n"
     ]
    },
    {
     "name": "stdout",
     "output_type": "stream",
     "text": [
      "                   all       2043      72123      0.822       0.69      0.756       0.48\n",
      "\n",
      "      Epoch    GPU_mem   box_loss   cls_loss   dfl_loss  Instances       Size\n"
     ]
    },
    {
     "name": "stderr",
     "output_type": "stream",
     "text": [
      "      15/50      7.54G      1.125     0.7216      0.947         61        640: 100%|██████████| 384/384 [01:25<00:00,  4.51it/s]\n",
      "                 Class     Images  Instances      Box(P          R      mAP50  mAP50-95): 100%|██████████| 64/64 [00:36<00:00,  1.75it/s]\n"
     ]
    },
    {
     "name": "stdout",
     "output_type": "stream",
     "text": [
      "                   all       2043      72123      0.828      0.694      0.758      0.482\n",
      "\n",
      "      Epoch    GPU_mem   box_loss   cls_loss   dfl_loss  Instances       Size\n"
     ]
    },
    {
     "name": "stderr",
     "output_type": "stream",
     "text": [
      "      16/50      6.79G      1.128     0.7199     0.9466         88        640: 100%|██████████| 384/384 [01:25<00:00,  4.49it/s]\n",
      "                 Class     Images  Instances      Box(P          R      mAP50  mAP50-95): 100%|██████████| 64/64 [00:16<00:00,  3.92it/s]\n"
     ]
    },
    {
     "name": "stdout",
     "output_type": "stream",
     "text": [
      "                   all       2043      72123      0.823      0.691      0.758      0.479\n",
      "\n",
      "      Epoch    GPU_mem   box_loss   cls_loss   dfl_loss  Instances       Size\n"
     ]
    },
    {
     "name": "stderr",
     "output_type": "stream",
     "text": [
      "      17/50      6.73G      1.122     0.7158      0.942         34        640: 100%|██████████| 384/384 [01:25<00:00,  4.50it/s]\n",
      "                 Class     Images  Instances      Box(P          R      mAP50  mAP50-95): 100%|██████████| 64/64 [00:16<00:00,  3.99it/s]\n"
     ]
    },
    {
     "name": "stdout",
     "output_type": "stream",
     "text": [
      "                   all       2043      72123      0.834      0.687      0.758      0.487\n",
      "\n",
      "      Epoch    GPU_mem   box_loss   cls_loss   dfl_loss  Instances       Size\n"
     ]
    },
    {
     "name": "stderr",
     "output_type": "stream",
     "text": [
      "      18/50      6.53G      1.109     0.7074     0.9413         21        640: 100%|██████████| 384/384 [01:26<00:00,  4.46it/s]\n",
      "                 Class     Images  Instances      Box(P          R      mAP50  mAP50-95): 100%|██████████| 64/64 [00:28<00:00,  2.23it/s]\n"
     ]
    },
    {
     "name": "stdout",
     "output_type": "stream",
     "text": [
      "                   all       2043      72123      0.828      0.693      0.761      0.483\n",
      "\n",
      "      Epoch    GPU_mem   box_loss   cls_loss   dfl_loss  Instances       Size\n"
     ]
    },
    {
     "name": "stderr",
     "output_type": "stream",
     "text": [
      "      19/50       7.6G      1.108     0.7074     0.9411         21        640: 100%|██████████| 384/384 [01:25<00:00,  4.51it/s]\n",
      "                 Class     Images  Instances      Box(P          R      mAP50  mAP50-95): 100%|██████████| 64/64 [00:18<00:00,  3.39it/s]\n"
     ]
    },
    {
     "name": "stdout",
     "output_type": "stream",
     "text": [
      "                   all       2043      72123      0.791      0.689      0.743       0.46\n",
      "\n",
      "      Epoch    GPU_mem   box_loss   cls_loss   dfl_loss  Instances       Size\n"
     ]
    },
    {
     "name": "stderr",
     "output_type": "stream",
     "text": [
      "      20/50      7.21G      1.107      0.709     0.9415         30        640: 100%|██████████| 384/384 [01:24<00:00,  4.53it/s]\n",
      "                 Class     Images  Instances      Box(P          R      mAP50  mAP50-95): 100%|██████████| 64/64 [00:17<00:00,  3.65it/s]\n"
     ]
    },
    {
     "name": "stdout",
     "output_type": "stream",
     "text": [
      "                   all       2043      72123      0.828      0.696      0.763      0.488\n",
      "\n",
      "      Epoch    GPU_mem   box_loss   cls_loss   dfl_loss  Instances       Size\n"
     ]
    },
    {
     "name": "stderr",
     "output_type": "stream",
     "text": [
      "      21/50      6.99G      1.095     0.6988     0.9384         66        640: 100%|██████████| 384/384 [01:24<00:00,  4.53it/s]\n",
      "                 Class     Images  Instances      Box(P          R      mAP50  mAP50-95): 100%|██████████| 64/64 [00:16<00:00,  3.89it/s]\n"
     ]
    },
    {
     "name": "stdout",
     "output_type": "stream",
     "text": [
      "                   all       2043      72123      0.835      0.698      0.767      0.492\n",
      "\n",
      "      Epoch    GPU_mem   box_loss   cls_loss   dfl_loss  Instances       Size\n"
     ]
    },
    {
     "name": "stderr",
     "output_type": "stream",
     "text": [
      "      22/50      8.71G      1.085     0.6934     0.9348         23        640: 100%|██████████| 384/384 [01:27<00:00,  4.41it/s]\n",
      "                 Class     Images  Instances      Box(P          R      mAP50  mAP50-95): 100%|██████████| 64/64 [00:20<00:00,  3.10it/s]\n"
     ]
    },
    {
     "name": "stdout",
     "output_type": "stream",
     "text": [
      "                   all       2043      72123      0.838      0.699      0.769      0.495\n",
      "\n",
      "      Epoch    GPU_mem   box_loss   cls_loss   dfl_loss  Instances       Size\n"
     ]
    },
    {
     "name": "stderr",
     "output_type": "stream",
     "text": [
      "      23/50      7.14G      1.082     0.6903     0.9346         51        640: 100%|██████████| 384/384 [01:24<00:00,  4.52it/s]\n",
      "                 Class     Images  Instances      Box(P          R      mAP50  mAP50-95): 100%|██████████| 64/64 [00:17<00:00,  3.61it/s]\n"
     ]
    },
    {
     "name": "stdout",
     "output_type": "stream",
     "text": [
      "                   all       2043      72123      0.828      0.699      0.766      0.493\n",
      "\n",
      "      Epoch    GPU_mem   box_loss   cls_loss   dfl_loss  Instances       Size\n"
     ]
    },
    {
     "name": "stderr",
     "output_type": "stream",
     "text": [
      "      24/50      7.72G      1.075     0.6873      0.935         55        640: 100%|██████████| 384/384 [01:24<00:00,  4.54it/s]\n",
      "                 Class     Images  Instances      Box(P          R      mAP50  mAP50-95): 100%|██████████| 64/64 [00:19<00:00,  3.33it/s]\n"
     ]
    },
    {
     "name": "stdout",
     "output_type": "stream",
     "text": [
      "                   all       2043      72123      0.842      0.703      0.774      0.504\n",
      "\n",
      "      Epoch    GPU_mem   box_loss   cls_loss   dfl_loss  Instances       Size\n"
     ]
    },
    {
     "name": "stderr",
     "output_type": "stream",
     "text": [
      "      25/50      6.71G      1.079     0.6907     0.9358         46        640: 100%|██████████| 384/384 [01:25<00:00,  4.51it/s]\n",
      "                 Class     Images  Instances      Box(P          R      mAP50  mAP50-95): 100%|██████████| 64/64 [00:16<00:00,  3.98it/s]\n"
     ]
    },
    {
     "name": "stdout",
     "output_type": "stream",
     "text": [
      "                   all       2043      72123      0.827      0.699      0.766       0.49\n",
      "\n",
      "      Epoch    GPU_mem   box_loss   cls_loss   dfl_loss  Instances       Size\n"
     ]
    },
    {
     "name": "stderr",
     "output_type": "stream",
     "text": [
      "      26/50      5.95G       1.07     0.6852     0.9343         31        640: 100%|██████████| 384/384 [01:24<00:00,  4.53it/s]\n",
      "                 Class     Images  Instances      Box(P          R      mAP50  mAP50-95): 100%|██████████| 64/64 [00:14<00:00,  4.37it/s]\n"
     ]
    },
    {
     "name": "stdout",
     "output_type": "stream",
     "text": [
      "                   all       2043      72123      0.841      0.705      0.774      0.501\n",
      "\n",
      "      Epoch    GPU_mem   box_loss   cls_loss   dfl_loss  Instances       Size\n"
     ]
    },
    {
     "name": "stderr",
     "output_type": "stream",
     "text": [
      "      27/50      7.43G      1.067     0.6789     0.9318         43        640: 100%|██████████| 384/384 [01:24<00:00,  4.54it/s]\n",
      "                 Class     Images  Instances      Box(P          R      mAP50  mAP50-95): 100%|██████████| 64/64 [00:18<00:00,  3.55it/s]\n"
     ]
    },
    {
     "name": "stdout",
     "output_type": "stream",
     "text": [
      "                   all       2043      72123      0.836      0.703      0.771      0.498\n",
      "\n",
      "      Epoch    GPU_mem   box_loss   cls_loss   dfl_loss  Instances       Size\n"
     ]
    },
    {
     "name": "stderr",
     "output_type": "stream",
     "text": [
      "      28/50       6.3G      1.059     0.6731     0.9304         47        640: 100%|██████████| 384/384 [01:24<00:00,  4.55it/s]\n",
      "                 Class     Images  Instances      Box(P          R      mAP50  mAP50-95): 100%|██████████| 64/64 [00:14<00:00,  4.39it/s]\n"
     ]
    },
    {
     "name": "stdout",
     "output_type": "stream",
     "text": [
      "                   all       2043      72123      0.846      0.708      0.779       0.51\n",
      "\n",
      "      Epoch    GPU_mem   box_loss   cls_loss   dfl_loss  Instances       Size\n"
     ]
    },
    {
     "name": "stderr",
     "output_type": "stream",
     "text": [
      "      29/50      7.09G      1.058      0.673     0.9287         33        640: 100%|██████████| 384/384 [01:24<00:00,  4.53it/s]\n",
      "                 Class     Images  Instances      Box(P          R      mAP50  mAP50-95): 100%|██████████| 64/64 [00:17<00:00,  3.66it/s]\n"
     ]
    },
    {
     "name": "stdout",
     "output_type": "stream",
     "text": [
      "                   all       2043      72123      0.841      0.707      0.775       0.51\n",
      "\n",
      "      Epoch    GPU_mem   box_loss   cls_loss   dfl_loss  Instances       Size\n"
     ]
    },
    {
     "name": "stderr",
     "output_type": "stream",
     "text": [
      "      30/50      6.51G      1.056     0.6697     0.9294         49        640: 100%|██████████| 384/384 [01:24<00:00,  4.53it/s]\n",
      "                 Class     Images  Instances      Box(P          R      mAP50  mAP50-95): 100%|██████████| 64/64 [00:15<00:00,  4.25it/s]\n"
     ]
    },
    {
     "name": "stdout",
     "output_type": "stream",
     "text": [
      "                   all       2043      72123      0.842      0.711      0.779      0.508\n",
      "\n",
      "      Epoch    GPU_mem   box_loss   cls_loss   dfl_loss  Instances       Size\n"
     ]
    },
    {
     "name": "stderr",
     "output_type": "stream",
     "text": [
      "      31/50      6.18G      1.055     0.6715     0.9289         16        640: 100%|██████████| 384/384 [01:24<00:00,  4.54it/s]\n",
      "                 Class     Images  Instances      Box(P          R      mAP50  mAP50-95): 100%|██████████| 64/64 [00:15<00:00,  4.18it/s]\n"
     ]
    },
    {
     "name": "stdout",
     "output_type": "stream",
     "text": [
      "                   all       2043      72123      0.833      0.708      0.775        0.5\n",
      "\n",
      "      Epoch    GPU_mem   box_loss   cls_loss   dfl_loss  Instances       Size\n"
     ]
    },
    {
     "name": "stderr",
     "output_type": "stream",
     "text": [
      "      32/50      6.96G      1.054     0.6703      0.929         35        640: 100%|██████████| 384/384 [01:24<00:00,  4.53it/s]\n",
      "                 Class     Images  Instances      Box(P          R      mAP50  mAP50-95): 100%|██████████| 64/64 [00:16<00:00,  3.96it/s]\n"
     ]
    },
    {
     "name": "stdout",
     "output_type": "stream",
     "text": [
      "                   all       2043      72123      0.838      0.712       0.78      0.511\n",
      "\n",
      "      Epoch    GPU_mem   box_loss   cls_loss   dfl_loss  Instances       Size\n"
     ]
    },
    {
     "name": "stderr",
     "output_type": "stream",
     "text": [
      "      33/50      7.33G      1.038     0.6572     0.9257         24        640: 100%|██████████| 384/384 [01:24<00:00,  4.54it/s]\n",
      "                 Class     Images  Instances      Box(P          R      mAP50  mAP50-95): 100%|██████████| 64/64 [00:17<00:00,  3.57it/s]\n"
     ]
    },
    {
     "name": "stdout",
     "output_type": "stream",
     "text": [
      "                   all       2043      72123      0.841      0.712      0.781      0.514\n",
      "\n",
      "      Epoch    GPU_mem   box_loss   cls_loss   dfl_loss  Instances       Size\n"
     ]
    },
    {
     "name": "stderr",
     "output_type": "stream",
     "text": [
      "      34/50      8.41G       1.04     0.6603     0.9248         14        640: 100%|██████████| 384/384 [01:26<00:00,  4.45it/s]\n",
      "                 Class     Images  Instances      Box(P          R      mAP50  mAP50-95): 100%|██████████| 64/64 [00:21<00:00,  2.99it/s]\n"
     ]
    },
    {
     "name": "stdout",
     "output_type": "stream",
     "text": [
      "                   all       2043      72123      0.838      0.705      0.776      0.506\n",
      "\n",
      "      Epoch    GPU_mem   box_loss   cls_loss   dfl_loss  Instances       Size\n"
     ]
    },
    {
     "name": "stderr",
     "output_type": "stream",
     "text": [
      "      35/50      8.41G      1.041     0.6576     0.9238         14        640: 100%|██████████| 384/384 [01:26<00:00,  4.46it/s]\n",
      "                 Class     Images  Instances      Box(P          R      mAP50  mAP50-95): 100%|██████████| 64/64 [00:18<00:00,  3.45it/s]\n"
     ]
    },
    {
     "name": "stdout",
     "output_type": "stream",
     "text": [
      "                   all       2043      72123      0.839      0.713      0.781      0.512\n",
      "\n",
      "      Epoch    GPU_mem   box_loss   cls_loss   dfl_loss  Instances       Size\n"
     ]
    },
    {
     "name": "stderr",
     "output_type": "stream",
     "text": [
      "      36/50      6.06G      1.032     0.6525     0.9249         23        640: 100%|██████████| 384/384 [01:24<00:00,  4.52it/s]\n",
      "                 Class     Images  Instances      Box(P          R      mAP50  mAP50-95): 100%|██████████| 64/64 [00:14<00:00,  4.27it/s]\n"
     ]
    },
    {
     "name": "stdout",
     "output_type": "stream",
     "text": [
      "                   all       2043      72123      0.846      0.713      0.781      0.519\n",
      "\n",
      "      Epoch    GPU_mem   box_loss   cls_loss   dfl_loss  Instances       Size\n"
     ]
    },
    {
     "name": "stderr",
     "output_type": "stream",
     "text": [
      "      37/50      7.18G      1.032     0.6512      0.922         15        640: 100%|██████████| 384/384 [01:24<00:00,  4.53it/s]\n",
      "                 Class     Images  Instances      Box(P          R      mAP50  mAP50-95): 100%|██████████| 64/64 [00:17<00:00,  3.74it/s]\n"
     ]
    },
    {
     "name": "stdout",
     "output_type": "stream",
     "text": [
      "                   all       2043      72123      0.845      0.713      0.784       0.52\n",
      "\n",
      "      Epoch    GPU_mem   box_loss   cls_loss   dfl_loss  Instances       Size\n"
     ]
    },
    {
     "name": "stderr",
     "output_type": "stream",
     "text": [
      "      38/50      6.14G      1.026     0.6476     0.9225         38        640: 100%|██████████| 384/384 [01:24<00:00,  4.53it/s]\n",
      "                 Class     Images  Instances      Box(P          R      mAP50  mAP50-95): 100%|██████████| 64/64 [00:15<00:00,  4.24it/s]\n"
     ]
    },
    {
     "name": "stdout",
     "output_type": "stream",
     "text": [
      "                   all       2043      72123      0.847      0.718      0.786      0.521\n",
      "\n",
      "      Epoch    GPU_mem   box_loss   cls_loss   dfl_loss  Instances       Size\n"
     ]
    },
    {
     "name": "stderr",
     "output_type": "stream",
     "text": [
      "      39/50      7.83G      1.018     0.6439       0.92         20        640: 100%|██████████| 384/384 [01:24<00:00,  4.53it/s]\n",
      "                 Class     Images  Instances      Box(P          R      mAP50  mAP50-95): 100%|██████████| 64/64 [00:46<00:00,  1.37it/s]\n"
     ]
    },
    {
     "name": "stdout",
     "output_type": "stream",
     "text": [
      "                   all       2043      72123      0.845      0.714      0.784      0.519\n",
      "\n",
      "      Epoch    GPU_mem   box_loss   cls_loss   dfl_loss  Instances       Size\n"
     ]
    },
    {
     "name": "stderr",
     "output_type": "stream",
     "text": [
      "      40/50      6.99G      1.017     0.6412     0.9187         21        640: 100%|██████████| 384/384 [01:24<00:00,  4.52it/s]\n",
      "                 Class     Images  Instances      Box(P          R      mAP50  mAP50-95): 100%|██████████| 64/64 [00:16<00:00,  3.84it/s]\n"
     ]
    },
    {
     "name": "stdout",
     "output_type": "stream",
     "text": [
      "                   all       2043      72123      0.846      0.715      0.785      0.521\n",
      "Closing dataloader mosaic\n",
      "\n",
      "      Epoch    GPU_mem   box_loss   cls_loss   dfl_loss  Instances       Size\n"
     ]
    },
    {
     "name": "stderr",
     "output_type": "stream",
     "text": [
      "      41/50       8.2G       1.01     0.6382     0.9261         29        640: 100%|██████████| 384/384 [01:21<00:00,  4.70it/s]\n",
      "                 Class     Images  Instances      Box(P          R      mAP50  mAP50-95): 100%|██████████| 64/64 [00:20<00:00,  3.06it/s]\n"
     ]
    },
    {
     "name": "stdout",
     "output_type": "stream",
     "text": [
      "                   all       2043      72123      0.849      0.714      0.786      0.527\n",
      "\n",
      "      Epoch    GPU_mem   box_loss   cls_loss   dfl_loss  Instances       Size\n"
     ]
    },
    {
     "name": "stderr",
     "output_type": "stream",
     "text": [
      "      42/50      5.84G      1.002     0.6352     0.9245         30        640: 100%|██████████| 384/384 [01:21<00:00,  4.70it/s]\n",
      "                 Class     Images  Instances      Box(P          R      mAP50  mAP50-95): 100%|██████████| 64/64 [00:14<00:00,  4.41it/s]\n"
     ]
    },
    {
     "name": "stdout",
     "output_type": "stream",
     "text": [
      "                   all       2043      72123      0.844      0.719      0.788      0.526\n",
      "\n",
      "      Epoch    GPU_mem   box_loss   cls_loss   dfl_loss  Instances       Size\n"
     ]
    },
    {
     "name": "stderr",
     "output_type": "stream",
     "text": [
      "      43/50      6.34G     0.9996     0.6319     0.9232         40        640: 100%|██████████| 384/384 [01:26<00:00,  4.46it/s]\n",
      "                 Class     Images  Instances      Box(P          R      mAP50  mAP50-95): 100%|██████████| 64/64 [00:27<00:00,  2.35it/s]\n"
     ]
    },
    {
     "name": "stdout",
     "output_type": "stream",
     "text": [
      "                   all       2043      72123      0.844       0.72      0.788      0.527\n",
      "\n",
      "      Epoch    GPU_mem   box_loss   cls_loss   dfl_loss  Instances       Size\n"
     ]
    },
    {
     "name": "stderr",
     "output_type": "stream",
     "text": [
      "      44/50       6.1G     0.9981     0.6296      0.924         25        640: 100%|██████████| 384/384 [01:20<00:00,  4.78it/s]\n",
      "                 Class     Images  Instances      Box(P          R      mAP50  mAP50-95): 100%|██████████| 64/64 [00:14<00:00,  4.35it/s]\n"
     ]
    },
    {
     "name": "stdout",
     "output_type": "stream",
     "text": [
      "                   all       2043      72123      0.851       0.72      0.789       0.53\n",
      "\n",
      "      Epoch    GPU_mem   box_loss   cls_loss   dfl_loss  Instances       Size\n"
     ]
    },
    {
     "name": "stderr",
     "output_type": "stream",
     "text": [
      "      45/50      6.31G     0.9942     0.6248     0.9199         27        640: 100%|██████████| 384/384 [01:20<00:00,  4.78it/s]\n",
      "                 Class     Images  Instances      Box(P          R      mAP50  mAP50-95): 100%|██████████| 64/64 [00:14<00:00,  4.37it/s]\n"
     ]
    },
    {
     "name": "stdout",
     "output_type": "stream",
     "text": [
      "                   all       2043      72123      0.847      0.723       0.79      0.529\n",
      "\n",
      "      Epoch    GPU_mem   box_loss   cls_loss   dfl_loss  Instances       Size\n"
     ]
    },
    {
     "name": "stderr",
     "output_type": "stream",
     "text": [
      "      46/50      5.98G      0.989     0.6181     0.9196         15        640: 100%|██████████| 384/384 [01:20<00:00,  4.76it/s]\n",
      "                 Class     Images  Instances      Box(P          R      mAP50  mAP50-95): 100%|██████████| 64/64 [00:14<00:00,  4.37it/s]\n"
     ]
    },
    {
     "name": "stdout",
     "output_type": "stream",
     "text": [
      "                   all       2043      72123       0.85      0.719       0.79      0.532\n",
      "\n",
      "      Epoch    GPU_mem   box_loss   cls_loss   dfl_loss  Instances       Size\n"
     ]
    },
    {
     "name": "stderr",
     "output_type": "stream",
     "text": [
      "      47/50      6.14G     0.9825     0.6152     0.9191         25        640: 100%|██████████| 384/384 [01:21<00:00,  4.73it/s]\n",
      "                 Class     Images  Instances      Box(P          R      mAP50  mAP50-95): 100%|██████████| 64/64 [00:14<00:00,  4.32it/s]\n"
     ]
    },
    {
     "name": "stdout",
     "output_type": "stream",
     "text": [
      "                   all       2043      72123       0.85      0.723      0.791      0.532\n",
      "\n",
      "      Epoch    GPU_mem   box_loss   cls_loss   dfl_loss  Instances       Size\n"
     ]
    },
    {
     "name": "stderr",
     "output_type": "stream",
     "text": [
      "      48/50      5.44G     0.9768     0.6128     0.9168         34        640: 100%|██████████| 384/384 [01:20<00:00,  4.77it/s]\n",
      "                 Class     Images  Instances      Box(P          R      mAP50  mAP50-95): 100%|██████████| 64/64 [00:14<00:00,  4.37it/s]\n"
     ]
    },
    {
     "name": "stdout",
     "output_type": "stream",
     "text": [
      "                   all       2043      72123      0.853       0.72      0.791      0.532\n",
      "\n",
      "      Epoch    GPU_mem   box_loss   cls_loss   dfl_loss  Instances       Size\n"
     ]
    },
    {
     "name": "stderr",
     "output_type": "stream",
     "text": [
      "      49/50      6.88G     0.9747     0.6096     0.9178         17        640: 100%|██████████| 384/384 [01:20<00:00,  4.77it/s]\n",
      "                 Class     Images  Instances      Box(P          R      mAP50  mAP50-95): 100%|██████████| 64/64 [00:16<00:00,  3.82it/s]\n"
     ]
    },
    {
     "name": "stdout",
     "output_type": "stream",
     "text": [
      "                   all       2043      72123      0.853      0.721      0.792      0.534\n",
      "\n",
      "      Epoch    GPU_mem   box_loss   cls_loss   dfl_loss  Instances       Size\n"
     ]
    },
    {
     "name": "stderr",
     "output_type": "stream",
     "text": [
      "      50/50      6.22G     0.9717     0.6065     0.9161         21        640: 100%|██████████| 384/384 [01:20<00:00,  4.77it/s]\n",
      "                 Class     Images  Instances      Box(P          R      mAP50  mAP50-95): 100%|██████████| 64/64 [00:14<00:00,  4.36it/s]\n"
     ]
    },
    {
     "name": "stdout",
     "output_type": "stream",
     "text": [
      "                   all       2043      72123      0.854       0.72      0.792      0.534\n",
      "\n",
      "50 epochs completed in 1.475 hours.\n",
      "Optimizer stripped from runs\\detect\\yolov11_run1\\weights\\last.pt, 19.2MB\n",
      "Optimizer stripped from runs\\detect\\yolov11_run1\\weights\\best.pt, 19.2MB\n",
      "\n",
      "Validating runs\\detect\\yolov11_run1\\weights\\best.pt...\n",
      "Ultralytics 8.3.25  Python-3.12.5 torch-2.5.1+cu121 CUDA:0 (NVIDIA GeForce RTX 4060 Laptop GPU, 8188MiB)\n",
      "YOLO11s summary (fused): 238 layers, 9,413,187 parameters, 0 gradients, 21.3 GFLOPs\n"
     ]
    },
    {
     "name": "stderr",
     "output_type": "stream",
     "text": [
      "                 Class     Images  Instances      Box(P          R      mAP50  mAP50-95): 100%|██████████| 64/64 [00:20<00:00,  3.14it/s]\n"
     ]
    },
    {
     "name": "stdout",
     "output_type": "stream",
     "text": [
      "                   all       2043      72123      0.853       0.72      0.792      0.534\n",
      "Speed: 0.2ms preprocess, 2.9ms inference, 0.0ms loss, 0.6ms postprocess per image\n",
      "Results saved to \u001b[1mruns\\detect\\yolov11_run1\u001b[0m\n"
     ]
    },
    {
     "data": {
      "text/plain": [
       "ultralytics.utils.metrics.DetMetrics object with attributes:\n",
       "\n",
       "ap_class_index: array([0])\n",
       "box: ultralytics.utils.metrics.Metric object\n",
       "confusion_matrix: <ultralytics.utils.metrics.ConfusionMatrix object at 0x00000234B942ECC0>\n",
       "curves: ['Precision-Recall(B)', 'F1-Confidence(B)', 'Precision-Confidence(B)', 'Recall-Confidence(B)']\n",
       "curves_results: [[array([          0,    0.001001,    0.002002,    0.003003,    0.004004,    0.005005,    0.006006,    0.007007,    0.008008,    0.009009,     0.01001,    0.011011,    0.012012,    0.013013,    0.014014,    0.015015,    0.016016,    0.017017,    0.018018,    0.019019,     0.02002,    0.021021,    0.022022,    0.023023,\n",
       "          0.024024,    0.025025,    0.026026,    0.027027,    0.028028,    0.029029,     0.03003,    0.031031,    0.032032,    0.033033,    0.034034,    0.035035,    0.036036,    0.037037,    0.038038,    0.039039,     0.04004,    0.041041,    0.042042,    0.043043,    0.044044,    0.045045,    0.046046,    0.047047,\n",
       "          0.048048,    0.049049,     0.05005,    0.051051,    0.052052,    0.053053,    0.054054,    0.055055,    0.056056,    0.057057,    0.058058,    0.059059,     0.06006,    0.061061,    0.062062,    0.063063,    0.064064,    0.065065,    0.066066,    0.067067,    0.068068,    0.069069,     0.07007,    0.071071,\n",
       "          0.072072,    0.073073,    0.074074,    0.075075,    0.076076,    0.077077,    0.078078,    0.079079,     0.08008,    0.081081,    0.082082,    0.083083,    0.084084,    0.085085,    0.086086,    0.087087,    0.088088,    0.089089,     0.09009,    0.091091,    0.092092,    0.093093,    0.094094,    0.095095,\n",
       "          0.096096,    0.097097,    0.098098,    0.099099,      0.1001,      0.1011,      0.1021,      0.1031,      0.1041,     0.10511,     0.10611,     0.10711,     0.10811,     0.10911,     0.11011,     0.11111,     0.11211,     0.11311,     0.11411,     0.11512,     0.11612,     0.11712,     0.11812,     0.11912,\n",
       "           0.12012,     0.12112,     0.12212,     0.12312,     0.12412,     0.12513,     0.12613,     0.12713,     0.12813,     0.12913,     0.13013,     0.13113,     0.13213,     0.13313,     0.13413,     0.13514,     0.13614,     0.13714,     0.13814,     0.13914,     0.14014,     0.14114,     0.14214,     0.14314,\n",
       "           0.14414,     0.14515,     0.14615,     0.14715,     0.14815,     0.14915,     0.15015,     0.15115,     0.15215,     0.15315,     0.15415,     0.15516,     0.15616,     0.15716,     0.15816,     0.15916,     0.16016,     0.16116,     0.16216,     0.16316,     0.16416,     0.16517,     0.16617,     0.16717,\n",
       "           0.16817,     0.16917,     0.17017,     0.17117,     0.17217,     0.17317,     0.17417,     0.17518,     0.17618,     0.17718,     0.17818,     0.17918,     0.18018,     0.18118,     0.18218,     0.18318,     0.18418,     0.18519,     0.18619,     0.18719,     0.18819,     0.18919,     0.19019,     0.19119,\n",
       "           0.19219,     0.19319,     0.19419,      0.1952,      0.1962,      0.1972,      0.1982,      0.1992,      0.2002,      0.2012,      0.2022,      0.2032,      0.2042,     0.20521,     0.20621,     0.20721,     0.20821,     0.20921,     0.21021,     0.21121,     0.21221,     0.21321,     0.21421,     0.21522,\n",
       "           0.21622,     0.21722,     0.21822,     0.21922,     0.22022,     0.22122,     0.22222,     0.22322,     0.22422,     0.22523,     0.22623,     0.22723,     0.22823,     0.22923,     0.23023,     0.23123,     0.23223,     0.23323,     0.23423,     0.23524,     0.23624,     0.23724,     0.23824,     0.23924,\n",
       "           0.24024,     0.24124,     0.24224,     0.24324,     0.24424,     0.24525,     0.24625,     0.24725,     0.24825,     0.24925,     0.25025,     0.25125,     0.25225,     0.25325,     0.25425,     0.25526,     0.25626,     0.25726,     0.25826,     0.25926,     0.26026,     0.26126,     0.26226,     0.26326,\n",
       "           0.26426,     0.26527,     0.26627,     0.26727,     0.26827,     0.26927,     0.27027,     0.27127,     0.27227,     0.27327,     0.27427,     0.27528,     0.27628,     0.27728,     0.27828,     0.27928,     0.28028,     0.28128,     0.28228,     0.28328,     0.28428,     0.28529,     0.28629,     0.28729,\n",
       "           0.28829,     0.28929,     0.29029,     0.29129,     0.29229,     0.29329,     0.29429,      0.2953,      0.2963,      0.2973,      0.2983,      0.2993,      0.3003,      0.3013,      0.3023,      0.3033,      0.3043,     0.30531,     0.30631,     0.30731,     0.30831,     0.30931,     0.31031,     0.31131,\n",
       "           0.31231,     0.31331,     0.31431,     0.31532,     0.31632,     0.31732,     0.31832,     0.31932,     0.32032,     0.32132,     0.32232,     0.32332,     0.32432,     0.32533,     0.32633,     0.32733,     0.32833,     0.32933,     0.33033,     0.33133,     0.33233,     0.33333,     0.33433,     0.33534,\n",
       "           0.33634,     0.33734,     0.33834,     0.33934,     0.34034,     0.34134,     0.34234,     0.34334,     0.34434,     0.34535,     0.34635,     0.34735,     0.34835,     0.34935,     0.35035,     0.35135,     0.35235,     0.35335,     0.35435,     0.35536,     0.35636,     0.35736,     0.35836,     0.35936,\n",
       "           0.36036,     0.36136,     0.36236,     0.36336,     0.36436,     0.36537,     0.36637,     0.36737,     0.36837,     0.36937,     0.37037,     0.37137,     0.37237,     0.37337,     0.37437,     0.37538,     0.37638,     0.37738,     0.37838,     0.37938,     0.38038,     0.38138,     0.38238,     0.38338,\n",
       "           0.38438,     0.38539,     0.38639,     0.38739,     0.38839,     0.38939,     0.39039,     0.39139,     0.39239,     0.39339,     0.39439,      0.3954,      0.3964,      0.3974,      0.3984,      0.3994,      0.4004,      0.4014,      0.4024,      0.4034,      0.4044,     0.40541,     0.40641,     0.40741,\n",
       "           0.40841,     0.40941,     0.41041,     0.41141,     0.41241,     0.41341,     0.41441,     0.41542,     0.41642,     0.41742,     0.41842,     0.41942,     0.42042,     0.42142,     0.42242,     0.42342,     0.42442,     0.42543,     0.42643,     0.42743,     0.42843,     0.42943,     0.43043,     0.43143,\n",
       "           0.43243,     0.43343,     0.43443,     0.43544,     0.43644,     0.43744,     0.43844,     0.43944,     0.44044,     0.44144,     0.44244,     0.44344,     0.44444,     0.44545,     0.44645,     0.44745,     0.44845,     0.44945,     0.45045,     0.45145,     0.45245,     0.45345,     0.45445,     0.45546,\n",
       "           0.45646,     0.45746,     0.45846,     0.45946,     0.46046,     0.46146,     0.46246,     0.46346,     0.46446,     0.46547,     0.46647,     0.46747,     0.46847,     0.46947,     0.47047,     0.47147,     0.47247,     0.47347,     0.47447,     0.47548,     0.47648,     0.47748,     0.47848,     0.47948,\n",
       "           0.48048,     0.48148,     0.48248,     0.48348,     0.48448,     0.48549,     0.48649,     0.48749,     0.48849,     0.48949,     0.49049,     0.49149,     0.49249,     0.49349,     0.49449,      0.4955,      0.4965,      0.4975,      0.4985,      0.4995,      0.5005,      0.5015,      0.5025,      0.5035,\n",
       "            0.5045,     0.50551,     0.50651,     0.50751,     0.50851,     0.50951,     0.51051,     0.51151,     0.51251,     0.51351,     0.51451,     0.51552,     0.51652,     0.51752,     0.51852,     0.51952,     0.52052,     0.52152,     0.52252,     0.52352,     0.52452,     0.52553,     0.52653,     0.52753,\n",
       "           0.52853,     0.52953,     0.53053,     0.53153,     0.53253,     0.53353,     0.53453,     0.53554,     0.53654,     0.53754,     0.53854,     0.53954,     0.54054,     0.54154,     0.54254,     0.54354,     0.54454,     0.54555,     0.54655,     0.54755,     0.54855,     0.54955,     0.55055,     0.55155,\n",
       "           0.55255,     0.55355,     0.55455,     0.55556,     0.55656,     0.55756,     0.55856,     0.55956,     0.56056,     0.56156,     0.56256,     0.56356,     0.56456,     0.56557,     0.56657,     0.56757,     0.56857,     0.56957,     0.57057,     0.57157,     0.57257,     0.57357,     0.57457,     0.57558,\n",
       "           0.57658,     0.57758,     0.57858,     0.57958,     0.58058,     0.58158,     0.58258,     0.58358,     0.58458,     0.58559,     0.58659,     0.58759,     0.58859,     0.58959,     0.59059,     0.59159,     0.59259,     0.59359,     0.59459,      0.5956,      0.5966,      0.5976,      0.5986,      0.5996,\n",
       "            0.6006,      0.6016,      0.6026,      0.6036,      0.6046,     0.60561,     0.60661,     0.60761,     0.60861,     0.60961,     0.61061,     0.61161,     0.61261,     0.61361,     0.61461,     0.61562,     0.61662,     0.61762,     0.61862,     0.61962,     0.62062,     0.62162,     0.62262,     0.62362,\n",
       "           0.62462,     0.62563,     0.62663,     0.62763,     0.62863,     0.62963,     0.63063,     0.63163,     0.63263,     0.63363,     0.63463,     0.63564,     0.63664,     0.63764,     0.63864,     0.63964,     0.64064,     0.64164,     0.64264,     0.64364,     0.64464,     0.64565,     0.64665,     0.64765,\n",
       "           0.64865,     0.64965,     0.65065,     0.65165,     0.65265,     0.65365,     0.65465,     0.65566,     0.65666,     0.65766,     0.65866,     0.65966,     0.66066,     0.66166,     0.66266,     0.66366,     0.66466,     0.66567,     0.66667,     0.66767,     0.66867,     0.66967,     0.67067,     0.67167,\n",
       "           0.67267,     0.67367,     0.67467,     0.67568,     0.67668,     0.67768,     0.67868,     0.67968,     0.68068,     0.68168,     0.68268,     0.68368,     0.68468,     0.68569,     0.68669,     0.68769,     0.68869,     0.68969,     0.69069,     0.69169,     0.69269,     0.69369,     0.69469,      0.6957,\n",
       "            0.6967,      0.6977,      0.6987,      0.6997,      0.7007,      0.7017,      0.7027,      0.7037,      0.7047,     0.70571,     0.70671,     0.70771,     0.70871,     0.70971,     0.71071,     0.71171,     0.71271,     0.71371,     0.71471,     0.71572,     0.71672,     0.71772,     0.71872,     0.71972,\n",
       "           0.72072,     0.72172,     0.72272,     0.72372,     0.72472,     0.72573,     0.72673,     0.72773,     0.72873,     0.72973,     0.73073,     0.73173,     0.73273,     0.73373,     0.73473,     0.73574,     0.73674,     0.73774,     0.73874,     0.73974,     0.74074,     0.74174,     0.74274,     0.74374,\n",
       "           0.74474,     0.74575,     0.74675,     0.74775,     0.74875,     0.74975,     0.75075,     0.75175,     0.75275,     0.75375,     0.75475,     0.75576,     0.75676,     0.75776,     0.75876,     0.75976,     0.76076,     0.76176,     0.76276,     0.76376,     0.76476,     0.76577,     0.76677,     0.76777,\n",
       "           0.76877,     0.76977,     0.77077,     0.77177,     0.77277,     0.77377,     0.77477,     0.77578,     0.77678,     0.77778,     0.77878,     0.77978,     0.78078,     0.78178,     0.78278,     0.78378,     0.78478,     0.78579,     0.78679,     0.78779,     0.78879,     0.78979,     0.79079,     0.79179,\n",
       "           0.79279,     0.79379,     0.79479,      0.7958,      0.7968,      0.7978,      0.7988,      0.7998,      0.8008,      0.8018,      0.8028,      0.8038,      0.8048,     0.80581,     0.80681,     0.80781,     0.80881,     0.80981,     0.81081,     0.81181,     0.81281,     0.81381,     0.81481,     0.81582,\n",
       "           0.81682,     0.81782,     0.81882,     0.81982,     0.82082,     0.82182,     0.82282,     0.82382,     0.82482,     0.82583,     0.82683,     0.82783,     0.82883,     0.82983,     0.83083,     0.83183,     0.83283,     0.83383,     0.83483,     0.83584,     0.83684,     0.83784,     0.83884,     0.83984,\n",
       "           0.84084,     0.84184,     0.84284,     0.84384,     0.84484,     0.84585,     0.84685,     0.84785,     0.84885,     0.84985,     0.85085,     0.85185,     0.85285,     0.85385,     0.85485,     0.85586,     0.85686,     0.85786,     0.85886,     0.85986,     0.86086,     0.86186,     0.86286,     0.86386,\n",
       "           0.86486,     0.86587,     0.86687,     0.86787,     0.86887,     0.86987,     0.87087,     0.87187,     0.87287,     0.87387,     0.87487,     0.87588,     0.87688,     0.87788,     0.87888,     0.87988,     0.88088,     0.88188,     0.88288,     0.88388,     0.88488,     0.88589,     0.88689,     0.88789,\n",
       "           0.88889,     0.88989,     0.89089,     0.89189,     0.89289,     0.89389,     0.89489,      0.8959,      0.8969,      0.8979,      0.8989,      0.8999,      0.9009,      0.9019,      0.9029,      0.9039,      0.9049,     0.90591,     0.90691,     0.90791,     0.90891,     0.90991,     0.91091,     0.91191,\n",
       "           0.91291,     0.91391,     0.91491,     0.91592,     0.91692,     0.91792,     0.91892,     0.91992,     0.92092,     0.92192,     0.92292,     0.92392,     0.92492,     0.92593,     0.92693,     0.92793,     0.92893,     0.92993,     0.93093,     0.93193,     0.93293,     0.93393,     0.93493,     0.93594,\n",
       "           0.93694,     0.93794,     0.93894,     0.93994,     0.94094,     0.94194,     0.94294,     0.94394,     0.94494,     0.94595,     0.94695,     0.94795,     0.94895,     0.94995,     0.95095,     0.95195,     0.95295,     0.95395,     0.95495,     0.95596,     0.95696,     0.95796,     0.95896,     0.95996,\n",
       "           0.96096,     0.96196,     0.96296,     0.96396,     0.96496,     0.96597,     0.96697,     0.96797,     0.96897,     0.96997,     0.97097,     0.97197,     0.97297,     0.97397,     0.97497,     0.97598,     0.97698,     0.97798,     0.97898,     0.97998,     0.98098,     0.98198,     0.98298,     0.98398,\n",
       "           0.98498,     0.98599,     0.98699,     0.98799,     0.98899,     0.98999,     0.99099,     0.99199,     0.99299,     0.99399,     0.99499,       0.996,       0.997,       0.998,       0.999,           1]), array([[          1,           1,     0.99925,     0.99925,     0.99925,     0.99925,     0.99925,     0.99925,     0.99925,     0.99925,     0.99925,     0.99925,     0.99925,     0.99925,     0.99925,     0.99925,     0.99925,     0.99925,     0.99925,     0.99925,     0.99925,     0.99925,     0.99925,\n",
       "            0.99925,     0.99925,     0.99925,     0.99925,     0.99925,     0.99925,     0.99925,     0.99925,     0.99925,     0.99925,     0.99925,     0.99925,     0.99925,     0.99925,     0.99925,     0.99925,     0.99925,     0.99925,     0.99925,     0.99925,     0.99925,     0.99925,     0.99925,\n",
       "            0.99925,     0.99925,     0.99925,     0.99925,     0.99925,     0.99925,     0.99925,     0.99925,     0.99925,     0.99925,     0.99907,     0.99907,     0.99907,     0.99907,      0.9989,      0.9989,      0.9989,     0.99882,     0.99882,     0.99882,     0.99882,     0.99882,     0.99882,\n",
       "            0.99882,     0.99882,     0.99855,     0.99855,     0.99855,     0.99855,     0.99855,     0.99855,     0.99855,     0.99855,     0.99855,     0.99855,     0.99855,     0.99855,     0.99855,     0.99855,     0.99855,     0.99845,     0.99845,     0.99845,     0.99845,     0.99832,     0.99832,\n",
       "            0.99832,     0.99832,     0.99832,     0.99832,     0.99832,     0.99832,     0.99832,     0.99828,     0.99828,     0.99828,     0.99828,     0.99828,     0.99828,     0.99826,     0.99826,     0.99826,     0.99826,     0.99826,     0.99826,     0.99826,     0.99816,     0.99805,     0.99796,\n",
       "            0.99796,     0.99787,     0.99776,     0.99776,     0.99776,     0.99776,     0.99776,     0.99776,     0.99776,     0.99757,     0.99757,     0.99757,     0.99757,     0.99757,     0.99757,     0.99757,     0.99749,     0.99749,     0.99743,     0.99743,     0.99736,     0.99736,     0.99736,\n",
       "            0.99736,     0.99736,     0.99736,     0.99736,     0.99719,     0.99706,     0.99706,     0.99706,      0.9969,     0.99681,     0.99676,     0.99668,     0.99663,     0.99663,     0.99638,     0.99623,     0.99616,     0.99609,     0.99593,     0.99572,     0.99564,     0.99549,     0.99544,\n",
       "            0.99539,     0.99527,     0.99527,     0.99515,     0.99502,     0.99502,     0.99496,     0.99496,     0.99496,     0.99482,     0.99482,     0.99482,     0.99482,     0.99454,     0.99434,     0.99423,     0.99419,     0.99406,       0.994,     0.99381,     0.99349,     0.99345,     0.99332,\n",
       "             0.9932,     0.99289,     0.99286,      0.9928,     0.99265,     0.99265,     0.99256,     0.99246,     0.99234,     0.99232,     0.99221,     0.99218,      0.9921,     0.99205,     0.99204,     0.99199,      0.9917,     0.99148,     0.99138,     0.99137,     0.99132,      0.9913,     0.99118,\n",
       "            0.99113,     0.99098,     0.99095,     0.99074,     0.99074,     0.99068,     0.99043,     0.99042,     0.99042,     0.99042,     0.99035,      0.9901,     0.99006,      0.9899,     0.98967,     0.98952,     0.98929,     0.98921,      0.9891,     0.98873,      0.9886,     0.98843,     0.98836,\n",
       "            0.98799,     0.98786,     0.98759,     0.98753,     0.98738,     0.98734,     0.98733,     0.98732,     0.98728,     0.98719,     0.98708,     0.98708,     0.98684,     0.98679,     0.98662,     0.98628,     0.98596,     0.98596,     0.98569,     0.98552,     0.98543,     0.98539,     0.98539,\n",
       "            0.98523,     0.98513,     0.98507,     0.98503,     0.98494,     0.98479,      0.9847,     0.98453,     0.98444,     0.98439,     0.98435,     0.98428,     0.98406,     0.98388,     0.98358,     0.98356,      0.9833,     0.98296,     0.98273,     0.98255,     0.98242,     0.98227,     0.98201,\n",
       "            0.98188,     0.98163,     0.98152,     0.98123,     0.98121,     0.98106,     0.98102,     0.98071,     0.98038,     0.98038,     0.98026,     0.98014,     0.97994,      0.9799,     0.97974,     0.97967,     0.97939,     0.97924,     0.97921,      0.9791,      0.9788,     0.97862,     0.97856,\n",
       "            0.97849,     0.97815,     0.97804,     0.97798,      0.9777,     0.97734,      0.9771,     0.97706,     0.97694,     0.97673,     0.97669,     0.97661,     0.97631,     0.97598,     0.97592,     0.97587,      0.9758,      0.9758,     0.97579,     0.97557,     0.97523,     0.97506,     0.97477,\n",
       "            0.97469,     0.97446,     0.97439,     0.97402,     0.97367,     0.97349,     0.97343,     0.97329,     0.97295,      0.9728,     0.97277,     0.97254,     0.97226,      0.9722,     0.97204,      0.9718,      0.9717,     0.97156,     0.97143,     0.97142,      0.9713,     0.97119,       0.971,\n",
       "            0.97077,     0.97049,     0.97046,     0.97034,     0.97031,     0.97009,     0.96993,     0.96971,     0.96937,     0.96937,     0.96937,     0.96919,     0.96902,     0.96883,     0.96862,     0.96848,     0.96821,       0.968,     0.96777,      0.9676,      0.9673,     0.96725,     0.96725,\n",
       "            0.96702,     0.96693,     0.96676,     0.96645,     0.96634,     0.96627,      0.9662,     0.96611,     0.96607,     0.96571,     0.96564,     0.96543,      0.9653,     0.96524,     0.96488,     0.96465,     0.96458,     0.96441,      0.9643,     0.96394,     0.96392,     0.96384,     0.96375,\n",
       "            0.96375,     0.96372,     0.96367,     0.96362,     0.96352,     0.96337,     0.96317,     0.96304,     0.96288,     0.96281,     0.96266,     0.96256,     0.96236,     0.96215,     0.96191,     0.96184,     0.96165,      0.9613,     0.96109,     0.96106,     0.96073,     0.96064,     0.96059,\n",
       "            0.96048,     0.96036,     0.96021,     0.96001,      0.9599,     0.95959,     0.95944,     0.95918,     0.95908,     0.95895,     0.95869,     0.95843,     0.95834,     0.95817,     0.95803,     0.95788,     0.95777,      0.9576,     0.95752,     0.95729,     0.95697,     0.95688,     0.95679,\n",
       "            0.95662,     0.95656,     0.95635,     0.95635,      0.9563,     0.95623,     0.95619,      0.9559,     0.95565,     0.95551,     0.95533,     0.95514,     0.95483,     0.95477,     0.95462,     0.95442,     0.95431,     0.95408,     0.95403,      0.9539,     0.95367,     0.95344,     0.95315,\n",
       "            0.95302,     0.95299,     0.95267,     0.95258,     0.95224,     0.95215,     0.95207,     0.95203,     0.95177,     0.95165,     0.95152,      0.9514,     0.95119,     0.95097,     0.95074,     0.95065,     0.95053,     0.95047,     0.95011,     0.94993,     0.94978,     0.94958,      0.9495,\n",
       "            0.94926,     0.94903,     0.94894,     0.94881,     0.94834,     0.94805,     0.94794,     0.94776,      0.9476,     0.94735,     0.94726,     0.94708,     0.94699,     0.94676,     0.94662,      0.9464,     0.94637,     0.94621,     0.94606,     0.94597,     0.94586,     0.94576,     0.94559,\n",
       "            0.94532,     0.94501,     0.94467,     0.94447,      0.9443,     0.94411,     0.94397,     0.94376,     0.94361,     0.94358,     0.94348,     0.94325,     0.94306,     0.94276,     0.94253,     0.94229,     0.94212,     0.94197,     0.94177,      0.9416,     0.94126,      0.9412,     0.94103,\n",
       "            0.94083,     0.94059,     0.94038,     0.94014,     0.94001,     0.93968,     0.93951,     0.93941,     0.93918,     0.93899,     0.93876,     0.93869,     0.93854,     0.93833,     0.93794,     0.93775,     0.93764,     0.93744,     0.93723,     0.93698,      0.9368,     0.93665,     0.93638,\n",
       "            0.93614,     0.93604,     0.93579,     0.93556,      0.9353,       0.935,     0.93473,     0.93458,     0.93438,     0.93429,     0.93412,     0.93394,     0.93377,     0.93361,      0.9335,     0.93325,     0.93315,      0.9329,     0.93264,     0.93253,     0.93232,     0.93196,     0.93181,\n",
       "            0.93154,     0.93122,     0.93103,     0.93084,     0.93045,     0.93029,     0.93007,     0.92979,     0.92965,     0.92951,     0.92921,     0.92891,     0.92874,     0.92869,     0.92844,     0.92816,     0.92777,     0.92756,     0.92725,     0.92699,     0.92672,     0.92656,     0.92618,\n",
       "            0.92601,     0.92576,     0.92534,     0.92513,     0.92494,     0.92463,     0.92455,     0.92427,     0.92399,     0.92372,     0.92342,     0.92319,     0.92275,     0.92241,     0.92215,     0.92185,     0.92156,     0.92132,     0.92116,     0.92099,     0.92074,     0.92049,     0.91987,\n",
       "            0.91962,     0.91919,     0.91879,     0.91846,     0.91836,     0.91809,      0.9178,      0.9175,     0.91712,     0.91652,     0.91612,      0.9158,     0.91545,     0.91506,     0.91478,     0.91427,     0.91388,     0.91356,     0.91319,     0.91284,     0.91244,     0.91195,     0.91146,\n",
       "            0.91117,     0.91063,     0.90978,     0.90938,     0.90894,     0.90828,     0.90782,     0.90732,     0.90684,     0.90636,     0.90598,     0.90556,     0.90519,     0.90439,     0.90381,     0.90344,     0.90281,     0.90256,     0.90179,      0.9015,     0.90099,      0.9004,     0.89975,\n",
       "            0.89915,     0.89862,     0.89792,     0.89728,     0.89668,     0.89602,      0.8956,     0.89502,     0.89442,     0.89372,     0.89321,     0.89247,     0.89198,     0.89127,     0.89061,     0.88983,     0.88945,      0.8886,     0.88807,     0.88752,     0.88692,     0.88625,     0.88544,\n",
       "            0.88482,     0.88423,     0.88292,     0.88215,     0.88156,     0.88061,     0.87965,     0.87894,     0.87813,     0.87714,     0.87615,     0.87548,     0.87442,     0.87307,     0.87228,      0.8709,     0.86969,     0.86866,     0.86735,     0.86674,     0.86574,     0.86444,     0.86274,\n",
       "            0.86141,     0.86041,     0.85911,     0.85792,     0.85634,     0.85534,     0.85412,     0.85276,      0.8513,      0.8501,     0.84821,      0.8464,     0.84488,     0.84341,     0.84189,     0.84027,     0.83857,     0.83682,     0.83551,      0.8343,     0.83187,     0.82995,     0.82853,\n",
       "            0.82668,     0.82478,     0.82291,     0.82149,     0.82021,     0.81854,     0.81651,     0.81434,     0.81264,     0.81086,     0.80963,     0.80748,     0.80532,     0.80323,     0.80148,     0.79978,       0.798,     0.79569,     0.79279,     0.78978,     0.78729,     0.78454,      0.7821,\n",
       "            0.77976,     0.77759,     0.77519,     0.77299,     0.77048,     0.76705,     0.76379,     0.76052,     0.75784,     0.75546,     0.75238,     0.75035,     0.74726,     0.74345,     0.73977,     0.73573,     0.73236,     0.72891,     0.72554,     0.72231,     0.71832,     0.71451,     0.71143,\n",
       "            0.70817,     0.70446,      0.7005,     0.69637,     0.69294,     0.69004,     0.68646,     0.68151,     0.67638,     0.67166,     0.66575,     0.66175,     0.65728,     0.65181,     0.64751,     0.64304,     0.63881,     0.63448,     0.62983,     0.62457,     0.61986,     0.61445,     0.60964,\n",
       "            0.60345,     0.59904,     0.59435,     0.58975,      0.5854,     0.58101,     0.57476,     0.56868,     0.56342,     0.55671,     0.54948,     0.54422,      0.5388,     0.53432,     0.52771,     0.52121,      0.5151,     0.51006,     0.50492,     0.49881,     0.49231,     0.48613,     0.48079,\n",
       "            0.47445,     0.46707,     0.46071,     0.45573,     0.45088,     0.44526,     0.43916,      0.4322,     0.42681,     0.42064,     0.41452,     0.40805,     0.40104,     0.39278,     0.38616,     0.37877,     0.37205,     0.36529,     0.35808,     0.35172,     0.34568,     0.33847,     0.33109,\n",
       "            0.32418,     0.31846,     0.31055,     0.30345,     0.29733,     0.29052,     0.28508,     0.27822,      0.2722,     0.26422,     0.25754,     0.25042,     0.24242,     0.23503,      0.2271,     0.21998,     0.21319,     0.20426,       0.196,       0.188,     0.17768,     0.16913,     0.16067,\n",
       "            0.15205,     0.14026,     0.12937,     0.11803,     0.11706,      0.1161,     0.11513,     0.11416,     0.11319,     0.11223,     0.11126,     0.11029,     0.10932,     0.10836,     0.10739,     0.10642,     0.10545,     0.10449,     0.10352,     0.10255,     0.10158,     0.10062,    0.099649,\n",
       "           0.098681,    0.097714,    0.096746,    0.095779,    0.094811,    0.093844,    0.092877,    0.091909,    0.090942,    0.089974,    0.089007,    0.088039,    0.087072,    0.086104,    0.085137,    0.084169,    0.083202,    0.082234,    0.081267,      0.0803,    0.079332,    0.078365,    0.077397,\n",
       "            0.07643,    0.075462,    0.074495,    0.073527,     0.07256,    0.071592,    0.070625,    0.069657,     0.06869,    0.067722,    0.066755,    0.065788,     0.06482,    0.063853,    0.062885,    0.061918,     0.06095,    0.059983,    0.059015,    0.058048,     0.05708,    0.056113,    0.055145,\n",
       "           0.054178,    0.053211,    0.052243,    0.051276,    0.050308,    0.049341,    0.048373,    0.047406,    0.046438,    0.045471,    0.044503,    0.043536,    0.042568,    0.041601,    0.040633,    0.039666,    0.038699,    0.037731,    0.036764,    0.035796,    0.034829,    0.033861,    0.032894,\n",
       "           0.031926,    0.030959,    0.029991,    0.029024,    0.028056,    0.027089,    0.026122,    0.025154,    0.024187,    0.023219,    0.022252,    0.021284,    0.020317,    0.019349,    0.018382,    0.017414,    0.016447,    0.015479,    0.014512,    0.013544,    0.012577,     0.01161,    0.010642,\n",
       "          0.0096746,   0.0087072,   0.0077397,   0.0067722,   0.0058048,   0.0048373,   0.0038699,   0.0029024,   0.0019349,  0.00096746,           0]]), 'Recall', 'Precision'], [array([          0,    0.001001,    0.002002,    0.003003,    0.004004,    0.005005,    0.006006,    0.007007,    0.008008,    0.009009,     0.01001,    0.011011,    0.012012,    0.013013,    0.014014,    0.015015,    0.016016,    0.017017,    0.018018,    0.019019,     0.02002,    0.021021,    0.022022,    0.023023,\n",
       "          0.024024,    0.025025,    0.026026,    0.027027,    0.028028,    0.029029,     0.03003,    0.031031,    0.032032,    0.033033,    0.034034,    0.035035,    0.036036,    0.037037,    0.038038,    0.039039,     0.04004,    0.041041,    0.042042,    0.043043,    0.044044,    0.045045,    0.046046,    0.047047,\n",
       "          0.048048,    0.049049,     0.05005,    0.051051,    0.052052,    0.053053,    0.054054,    0.055055,    0.056056,    0.057057,    0.058058,    0.059059,     0.06006,    0.061061,    0.062062,    0.063063,    0.064064,    0.065065,    0.066066,    0.067067,    0.068068,    0.069069,     0.07007,    0.071071,\n",
       "          0.072072,    0.073073,    0.074074,    0.075075,    0.076076,    0.077077,    0.078078,    0.079079,     0.08008,    0.081081,    0.082082,    0.083083,    0.084084,    0.085085,    0.086086,    0.087087,    0.088088,    0.089089,     0.09009,    0.091091,    0.092092,    0.093093,    0.094094,    0.095095,\n",
       "          0.096096,    0.097097,    0.098098,    0.099099,      0.1001,      0.1011,      0.1021,      0.1031,      0.1041,     0.10511,     0.10611,     0.10711,     0.10811,     0.10911,     0.11011,     0.11111,     0.11211,     0.11311,     0.11411,     0.11512,     0.11612,     0.11712,     0.11812,     0.11912,\n",
       "           0.12012,     0.12112,     0.12212,     0.12312,     0.12412,     0.12513,     0.12613,     0.12713,     0.12813,     0.12913,     0.13013,     0.13113,     0.13213,     0.13313,     0.13413,     0.13514,     0.13614,     0.13714,     0.13814,     0.13914,     0.14014,     0.14114,     0.14214,     0.14314,\n",
       "           0.14414,     0.14515,     0.14615,     0.14715,     0.14815,     0.14915,     0.15015,     0.15115,     0.15215,     0.15315,     0.15415,     0.15516,     0.15616,     0.15716,     0.15816,     0.15916,     0.16016,     0.16116,     0.16216,     0.16316,     0.16416,     0.16517,     0.16617,     0.16717,\n",
       "           0.16817,     0.16917,     0.17017,     0.17117,     0.17217,     0.17317,     0.17417,     0.17518,     0.17618,     0.17718,     0.17818,     0.17918,     0.18018,     0.18118,     0.18218,     0.18318,     0.18418,     0.18519,     0.18619,     0.18719,     0.18819,     0.18919,     0.19019,     0.19119,\n",
       "           0.19219,     0.19319,     0.19419,      0.1952,      0.1962,      0.1972,      0.1982,      0.1992,      0.2002,      0.2012,      0.2022,      0.2032,      0.2042,     0.20521,     0.20621,     0.20721,     0.20821,     0.20921,     0.21021,     0.21121,     0.21221,     0.21321,     0.21421,     0.21522,\n",
       "           0.21622,     0.21722,     0.21822,     0.21922,     0.22022,     0.22122,     0.22222,     0.22322,     0.22422,     0.22523,     0.22623,     0.22723,     0.22823,     0.22923,     0.23023,     0.23123,     0.23223,     0.23323,     0.23423,     0.23524,     0.23624,     0.23724,     0.23824,     0.23924,\n",
       "           0.24024,     0.24124,     0.24224,     0.24324,     0.24424,     0.24525,     0.24625,     0.24725,     0.24825,     0.24925,     0.25025,     0.25125,     0.25225,     0.25325,     0.25425,     0.25526,     0.25626,     0.25726,     0.25826,     0.25926,     0.26026,     0.26126,     0.26226,     0.26326,\n",
       "           0.26426,     0.26527,     0.26627,     0.26727,     0.26827,     0.26927,     0.27027,     0.27127,     0.27227,     0.27327,     0.27427,     0.27528,     0.27628,     0.27728,     0.27828,     0.27928,     0.28028,     0.28128,     0.28228,     0.28328,     0.28428,     0.28529,     0.28629,     0.28729,\n",
       "           0.28829,     0.28929,     0.29029,     0.29129,     0.29229,     0.29329,     0.29429,      0.2953,      0.2963,      0.2973,      0.2983,      0.2993,      0.3003,      0.3013,      0.3023,      0.3033,      0.3043,     0.30531,     0.30631,     0.30731,     0.30831,     0.30931,     0.31031,     0.31131,\n",
       "           0.31231,     0.31331,     0.31431,     0.31532,     0.31632,     0.31732,     0.31832,     0.31932,     0.32032,     0.32132,     0.32232,     0.32332,     0.32432,     0.32533,     0.32633,     0.32733,     0.32833,     0.32933,     0.33033,     0.33133,     0.33233,     0.33333,     0.33433,     0.33534,\n",
       "           0.33634,     0.33734,     0.33834,     0.33934,     0.34034,     0.34134,     0.34234,     0.34334,     0.34434,     0.34535,     0.34635,     0.34735,     0.34835,     0.34935,     0.35035,     0.35135,     0.35235,     0.35335,     0.35435,     0.35536,     0.35636,     0.35736,     0.35836,     0.35936,\n",
       "           0.36036,     0.36136,     0.36236,     0.36336,     0.36436,     0.36537,     0.36637,     0.36737,     0.36837,     0.36937,     0.37037,     0.37137,     0.37237,     0.37337,     0.37437,     0.37538,     0.37638,     0.37738,     0.37838,     0.37938,     0.38038,     0.38138,     0.38238,     0.38338,\n",
       "           0.38438,     0.38539,     0.38639,     0.38739,     0.38839,     0.38939,     0.39039,     0.39139,     0.39239,     0.39339,     0.39439,      0.3954,      0.3964,      0.3974,      0.3984,      0.3994,      0.4004,      0.4014,      0.4024,      0.4034,      0.4044,     0.40541,     0.40641,     0.40741,\n",
       "           0.40841,     0.40941,     0.41041,     0.41141,     0.41241,     0.41341,     0.41441,     0.41542,     0.41642,     0.41742,     0.41842,     0.41942,     0.42042,     0.42142,     0.42242,     0.42342,     0.42442,     0.42543,     0.42643,     0.42743,     0.42843,     0.42943,     0.43043,     0.43143,\n",
       "           0.43243,     0.43343,     0.43443,     0.43544,     0.43644,     0.43744,     0.43844,     0.43944,     0.44044,     0.44144,     0.44244,     0.44344,     0.44444,     0.44545,     0.44645,     0.44745,     0.44845,     0.44945,     0.45045,     0.45145,     0.45245,     0.45345,     0.45445,     0.45546,\n",
       "           0.45646,     0.45746,     0.45846,     0.45946,     0.46046,     0.46146,     0.46246,     0.46346,     0.46446,     0.46547,     0.46647,     0.46747,     0.46847,     0.46947,     0.47047,     0.47147,     0.47247,     0.47347,     0.47447,     0.47548,     0.47648,     0.47748,     0.47848,     0.47948,\n",
       "           0.48048,     0.48148,     0.48248,     0.48348,     0.48448,     0.48549,     0.48649,     0.48749,     0.48849,     0.48949,     0.49049,     0.49149,     0.49249,     0.49349,     0.49449,      0.4955,      0.4965,      0.4975,      0.4985,      0.4995,      0.5005,      0.5015,      0.5025,      0.5035,\n",
       "            0.5045,     0.50551,     0.50651,     0.50751,     0.50851,     0.50951,     0.51051,     0.51151,     0.51251,     0.51351,     0.51451,     0.51552,     0.51652,     0.51752,     0.51852,     0.51952,     0.52052,     0.52152,     0.52252,     0.52352,     0.52452,     0.52553,     0.52653,     0.52753,\n",
       "           0.52853,     0.52953,     0.53053,     0.53153,     0.53253,     0.53353,     0.53453,     0.53554,     0.53654,     0.53754,     0.53854,     0.53954,     0.54054,     0.54154,     0.54254,     0.54354,     0.54454,     0.54555,     0.54655,     0.54755,     0.54855,     0.54955,     0.55055,     0.55155,\n",
       "           0.55255,     0.55355,     0.55455,     0.55556,     0.55656,     0.55756,     0.55856,     0.55956,     0.56056,     0.56156,     0.56256,     0.56356,     0.56456,     0.56557,     0.56657,     0.56757,     0.56857,     0.56957,     0.57057,     0.57157,     0.57257,     0.57357,     0.57457,     0.57558,\n",
       "           0.57658,     0.57758,     0.57858,     0.57958,     0.58058,     0.58158,     0.58258,     0.58358,     0.58458,     0.58559,     0.58659,     0.58759,     0.58859,     0.58959,     0.59059,     0.59159,     0.59259,     0.59359,     0.59459,      0.5956,      0.5966,      0.5976,      0.5986,      0.5996,\n",
       "            0.6006,      0.6016,      0.6026,      0.6036,      0.6046,     0.60561,     0.60661,     0.60761,     0.60861,     0.60961,     0.61061,     0.61161,     0.61261,     0.61361,     0.61461,     0.61562,     0.61662,     0.61762,     0.61862,     0.61962,     0.62062,     0.62162,     0.62262,     0.62362,\n",
       "           0.62462,     0.62563,     0.62663,     0.62763,     0.62863,     0.62963,     0.63063,     0.63163,     0.63263,     0.63363,     0.63463,     0.63564,     0.63664,     0.63764,     0.63864,     0.63964,     0.64064,     0.64164,     0.64264,     0.64364,     0.64464,     0.64565,     0.64665,     0.64765,\n",
       "           0.64865,     0.64965,     0.65065,     0.65165,     0.65265,     0.65365,     0.65465,     0.65566,     0.65666,     0.65766,     0.65866,     0.65966,     0.66066,     0.66166,     0.66266,     0.66366,     0.66466,     0.66567,     0.66667,     0.66767,     0.66867,     0.66967,     0.67067,     0.67167,\n",
       "           0.67267,     0.67367,     0.67467,     0.67568,     0.67668,     0.67768,     0.67868,     0.67968,     0.68068,     0.68168,     0.68268,     0.68368,     0.68468,     0.68569,     0.68669,     0.68769,     0.68869,     0.68969,     0.69069,     0.69169,     0.69269,     0.69369,     0.69469,      0.6957,\n",
       "            0.6967,      0.6977,      0.6987,      0.6997,      0.7007,      0.7017,      0.7027,      0.7037,      0.7047,     0.70571,     0.70671,     0.70771,     0.70871,     0.70971,     0.71071,     0.71171,     0.71271,     0.71371,     0.71471,     0.71572,     0.71672,     0.71772,     0.71872,     0.71972,\n",
       "           0.72072,     0.72172,     0.72272,     0.72372,     0.72472,     0.72573,     0.72673,     0.72773,     0.72873,     0.72973,     0.73073,     0.73173,     0.73273,     0.73373,     0.73473,     0.73574,     0.73674,     0.73774,     0.73874,     0.73974,     0.74074,     0.74174,     0.74274,     0.74374,\n",
       "           0.74474,     0.74575,     0.74675,     0.74775,     0.74875,     0.74975,     0.75075,     0.75175,     0.75275,     0.75375,     0.75475,     0.75576,     0.75676,     0.75776,     0.75876,     0.75976,     0.76076,     0.76176,     0.76276,     0.76376,     0.76476,     0.76577,     0.76677,     0.76777,\n",
       "           0.76877,     0.76977,     0.77077,     0.77177,     0.77277,     0.77377,     0.77477,     0.77578,     0.77678,     0.77778,     0.77878,     0.77978,     0.78078,     0.78178,     0.78278,     0.78378,     0.78478,     0.78579,     0.78679,     0.78779,     0.78879,     0.78979,     0.79079,     0.79179,\n",
       "           0.79279,     0.79379,     0.79479,      0.7958,      0.7968,      0.7978,      0.7988,      0.7998,      0.8008,      0.8018,      0.8028,      0.8038,      0.8048,     0.80581,     0.80681,     0.80781,     0.80881,     0.80981,     0.81081,     0.81181,     0.81281,     0.81381,     0.81481,     0.81582,\n",
       "           0.81682,     0.81782,     0.81882,     0.81982,     0.82082,     0.82182,     0.82282,     0.82382,     0.82482,     0.82583,     0.82683,     0.82783,     0.82883,     0.82983,     0.83083,     0.83183,     0.83283,     0.83383,     0.83483,     0.83584,     0.83684,     0.83784,     0.83884,     0.83984,\n",
       "           0.84084,     0.84184,     0.84284,     0.84384,     0.84484,     0.84585,     0.84685,     0.84785,     0.84885,     0.84985,     0.85085,     0.85185,     0.85285,     0.85385,     0.85485,     0.85586,     0.85686,     0.85786,     0.85886,     0.85986,     0.86086,     0.86186,     0.86286,     0.86386,\n",
       "           0.86486,     0.86587,     0.86687,     0.86787,     0.86887,     0.86987,     0.87087,     0.87187,     0.87287,     0.87387,     0.87487,     0.87588,     0.87688,     0.87788,     0.87888,     0.87988,     0.88088,     0.88188,     0.88288,     0.88388,     0.88488,     0.88589,     0.88689,     0.88789,\n",
       "           0.88889,     0.88989,     0.89089,     0.89189,     0.89289,     0.89389,     0.89489,      0.8959,      0.8969,      0.8979,      0.8989,      0.8999,      0.9009,      0.9019,      0.9029,      0.9039,      0.9049,     0.90591,     0.90691,     0.90791,     0.90891,     0.90991,     0.91091,     0.91191,\n",
       "           0.91291,     0.91391,     0.91491,     0.91592,     0.91692,     0.91792,     0.91892,     0.91992,     0.92092,     0.92192,     0.92292,     0.92392,     0.92492,     0.92593,     0.92693,     0.92793,     0.92893,     0.92993,     0.93093,     0.93193,     0.93293,     0.93393,     0.93493,     0.93594,\n",
       "           0.93694,     0.93794,     0.93894,     0.93994,     0.94094,     0.94194,     0.94294,     0.94394,     0.94494,     0.94595,     0.94695,     0.94795,     0.94895,     0.94995,     0.95095,     0.95195,     0.95295,     0.95395,     0.95495,     0.95596,     0.95696,     0.95796,     0.95896,     0.95996,\n",
       "           0.96096,     0.96196,     0.96296,     0.96396,     0.96496,     0.96597,     0.96697,     0.96797,     0.96897,     0.96997,     0.97097,     0.97197,     0.97297,     0.97397,     0.97497,     0.97598,     0.97698,     0.97798,     0.97898,     0.97998,     0.98098,     0.98198,     0.98298,     0.98398,\n",
       "           0.98498,     0.98599,     0.98699,     0.98799,     0.98899,     0.98999,     0.99099,     0.99199,     0.99299,     0.99399,     0.99499,       0.996,       0.997,       0.998,       0.999,           1]), array([[    0.20817,     0.20817,     0.24787,     0.28118,     0.30911,     0.33255,     0.35288,     0.37074,      0.3877,     0.40277,     0.41768,     0.43058,     0.44341,     0.45512,     0.46732,     0.47841,     0.48845,     0.49854,     0.50844,     0.51821,      0.5274,     0.53604,     0.54437,\n",
       "            0.55222,     0.55995,     0.56728,     0.57444,      0.5814,     0.58768,     0.59351,     0.59944,     0.60543,     0.61052,     0.61618,     0.62132,      0.6261,     0.63074,     0.63486,     0.63942,     0.64346,     0.64762,     0.65155,     0.65506,     0.65896,     0.66224,     0.66574,\n",
       "            0.66882,     0.67175,      0.6749,     0.67785,     0.68039,     0.68272,     0.68547,     0.68783,     0.68999,     0.69238,     0.69464,     0.69652,     0.69883,       0.701,     0.70279,     0.70498,     0.70663,     0.70856,     0.70998,     0.71168,     0.71309,     0.71457,     0.71637,\n",
       "            0.71782,     0.71942,     0.72083,     0.72191,     0.72323,     0.72455,      0.7259,     0.72708,     0.72829,     0.72976,     0.73082,     0.73203,     0.73309,       0.734,     0.73504,     0.73591,     0.73677,     0.73746,     0.73837,     0.73924,     0.74016,     0.74114,     0.74193,\n",
       "            0.74267,     0.74341,     0.74408,     0.74472,     0.74542,     0.74597,     0.74672,     0.74723,     0.74787,     0.74849,     0.74917,     0.74977,     0.75015,     0.75085,     0.75137,     0.75191,     0.75238,     0.75295,     0.75353,     0.75389,     0.75438,      0.7548,     0.75536,\n",
       "            0.75583,      0.7564,     0.75697,     0.75745,     0.75789,     0.75832,     0.75887,     0.75926,     0.75966,     0.76004,     0.76049,     0.76084,     0.76099,     0.76154,     0.76189,     0.76216,     0.76239,     0.76281,     0.76313,     0.76336,     0.76365,     0.76409,     0.76436,\n",
       "            0.76473,     0.76512,     0.76539,     0.76563,     0.76595,     0.76628,     0.76656,     0.76711,     0.76733,     0.76771,     0.76784,       0.768,      0.7683,     0.76843,     0.76859,     0.76886,     0.76909,     0.76924,     0.76953,     0.76965,     0.76976,     0.76999,     0.77021,\n",
       "            0.77043,     0.77064,     0.77092,     0.77117,     0.77148,     0.77172,     0.77181,     0.77197,     0.77224,     0.77246,     0.77274,     0.77292,     0.77302,      0.7733,     0.77358,     0.77379,     0.77389,     0.77418,     0.77432,     0.77451,     0.77458,     0.77473,     0.77488,\n",
       "            0.77495,     0.77512,     0.77521,     0.77528,     0.77529,     0.77546,     0.77558,     0.77559,      0.7757,     0.77589,     0.77601,     0.77614,     0.77632,     0.77636,     0.77663,     0.77671,     0.77678,     0.77691,     0.77685,     0.77691,     0.77694,     0.77692,     0.77695,\n",
       "            0.77712,     0.77727,     0.77733,     0.77745,      0.7775,     0.77771,     0.77775,     0.77784,     0.77788,     0.77808,     0.77815,     0.77823,     0.77825,     0.77832,      0.7783,     0.77839,     0.77844,     0.77851,     0.77846,     0.77847,     0.77855,     0.77855,     0.77862,\n",
       "            0.77879,      0.7788,     0.77887,     0.77887,     0.77893,     0.77903,     0.77904,     0.77921,     0.77931,     0.77928,     0.77938,     0.77943,     0.77946,     0.77947,     0.77945,      0.7795,     0.77957,     0.77966,     0.77973,     0.77977,      0.7799,        0.78,     0.78006,\n",
       "             0.7802,     0.78019,     0.78017,     0.78017,     0.78016,     0.78011,     0.78021,     0.78026,     0.78036,     0.78036,     0.78038,      0.7804,     0.78051,     0.78048,     0.78054,      0.7806,     0.78066,     0.78072,     0.78066,     0.78073,      0.7807,     0.78071,     0.78077,\n",
       "            0.78071,     0.78074,     0.78068,     0.78082,     0.78088,     0.78082,     0.78093,     0.78084,     0.78092,     0.78098,     0.78102,     0.78101,     0.78102,     0.78108,     0.78114,     0.78126,     0.78129,     0.78129,     0.78118,     0.78118,     0.78116,     0.78124,      0.7812,\n",
       "            0.78118,     0.78117,     0.78108,     0.78117,     0.78109,     0.78112,     0.78109,      0.7811,     0.78104,     0.78089,     0.78092,     0.78092,     0.78098,     0.78097,     0.78098,      0.7809,     0.78087,     0.78095,     0.78095,     0.78085,      0.7809,     0.78085,     0.78082,\n",
       "            0.78069,     0.78064,     0.78063,     0.78061,     0.78058,     0.78056,     0.78055,     0.78058,      0.7807,     0.78064,     0.78068,     0.78067,     0.78075,     0.78073,     0.78071,     0.78059,     0.78059,     0.78052,     0.78042,     0.78038,     0.78032,      0.7801,     0.78006,\n",
       "            0.78001,     0.78006,     0.78002,     0.78001,     0.77999,      0.7799,     0.77978,     0.77982,     0.77974,     0.77966,     0.77961,     0.77963,      0.7797,     0.77978,     0.77965,     0.77953,      0.7794,     0.77929,      0.7793,     0.77929,      0.7792,     0.77921,     0.77921,\n",
       "            0.77914,     0.77907,       0.779,     0.77895,     0.77886,     0.77874,     0.77862,     0.77845,      0.7784,     0.77843,     0.77843,     0.77833,     0.77814,     0.77813,     0.77798,     0.77792,     0.77777,     0.77765,     0.77755,     0.77747,     0.77742,     0.77735,     0.77728,\n",
       "            0.77716,     0.77704,     0.77696,     0.77679,     0.77657,     0.77652,     0.77643,     0.77634,     0.77629,     0.77624,     0.77627,     0.77619,     0.77615,     0.77605,     0.77588,     0.77563,     0.77547,     0.77535,     0.77528,     0.77523,     0.77516,       0.775,     0.77481,\n",
       "            0.77477,     0.77461,     0.77449,     0.77437,     0.77424,     0.77403,     0.77389,      0.7737,     0.77356,     0.77328,     0.77317,     0.77312,     0.77298,     0.77289,     0.77268,     0.77264,     0.77247,     0.77233,     0.77225,     0.77214,     0.77199,     0.77181,     0.77176,\n",
       "            0.77161,     0.77146,     0.77124,     0.77115,     0.77097,      0.7709,     0.77068,     0.77058,      0.7704,     0.77023,     0.77009,        0.77,     0.76995,     0.76954,     0.76943,     0.76935,     0.76924,     0.76911,     0.76889,     0.76867,     0.76842,     0.76831,     0.76818,\n",
       "            0.76806,     0.76799,      0.7678,     0.76763,     0.76741,      0.7673,     0.76721,     0.76708,     0.76697,     0.76678,     0.76657,     0.76643,     0.76625,     0.76615,     0.76596,     0.76583,     0.76566,     0.76548,     0.76536,     0.76521,     0.76481,     0.76469,     0.76449,\n",
       "            0.76419,     0.76392,     0.76378,     0.76364,     0.76335,     0.76304,     0.76288,     0.76273,     0.76259,     0.76241,     0.76224,     0.76196,     0.76178,     0.76159,     0.76145,     0.76136,     0.76119,     0.76099,     0.76075,     0.76047,      0.7603,     0.76015,     0.75997,\n",
       "            0.75974,     0.75943,     0.75919,     0.75904,     0.75886,     0.75866,     0.75846,     0.75826,       0.758,     0.75766,     0.75755,     0.75728,      0.7571,     0.75696,      0.7565,     0.75618,     0.75596,     0.75587,      0.7557,     0.75552,     0.75525,     0.75496,      0.7547,\n",
       "            0.75441,     0.75411,     0.75389,     0.75363,     0.75343,     0.75322,     0.75306,     0.75271,     0.75245,      0.7522,     0.75176,     0.75148,     0.75129,     0.75102,     0.75071,     0.75055,      0.7503,     0.74992,     0.74954,     0.74917,     0.74898,     0.74867,     0.74832,\n",
       "            0.74796,     0.74773,     0.74744,      0.7471,      0.7468,     0.74629,     0.74589,     0.74555,     0.74522,     0.74474,     0.74442,      0.7441,     0.74371,     0.74339,     0.74301,     0.74266,      0.7423,     0.74202,     0.74172,     0.74131,     0.74103,     0.74077,     0.74037,\n",
       "            0.74001,      0.7395,     0.73902,     0.73863,      0.7382,     0.73731,     0.73681,     0.73652,     0.73608,     0.73572,     0.73533,     0.73484,     0.73441,     0.73402,     0.73348,     0.73305,     0.73268,     0.73237,     0.73192,      0.7315,     0.73102,     0.72996,     0.72954,\n",
       "            0.72893,     0.72837,     0.72804,     0.72765,     0.72722,     0.72668,     0.72621,     0.72574,     0.72534,     0.72438,     0.72388,     0.72342,      0.7229,     0.72246,     0.72188,     0.72136,     0.72073,     0.72018,     0.71949,     0.71888,     0.71846,     0.71804,     0.71675,\n",
       "            0.71606,     0.71567,     0.71503,     0.71448,     0.71395,     0.71334,     0.71282,     0.71225,     0.71174,      0.7112,     0.71064,     0.70961,     0.70906,     0.70835,     0.70774,      0.7072,     0.70648,     0.70578,     0.70506,     0.70374,     0.70318,     0.70243,     0.70184,\n",
       "            0.70109,     0.70052,     0.69994,     0.69936,     0.69875,     0.69735,     0.69671,     0.69604,     0.69547,     0.69469,     0.69412,     0.69329,     0.69249,     0.69178,     0.69041,     0.68971,      0.6888,     0.68812,     0.68664,      0.6858,     0.68499,     0.68411,     0.68342,\n",
       "            0.68244,      0.6815,     0.68066,     0.67877,      0.6779,     0.67695,       0.676,     0.67515,     0.67432,     0.67324,      0.6716,     0.67079,        0.67,     0.66817,     0.66727,     0.66625,     0.66537,     0.66447,     0.66345,     0.66255,     0.66059,     0.65978,     0.65892,\n",
       "            0.65794,     0.65694,     0.65591,      0.6537,     0.65273,     0.65163,     0.65069,     0.64952,     0.64741,     0.64642,     0.64469,     0.64266,     0.64248,     0.64023,     0.63998,     0.63791,     0.63591,     0.63564,     0.63361,     0.63338,     0.63109,     0.62906,     0.62876,\n",
       "            0.62648,     0.62623,     0.62384,     0.62177,      0.6216,     0.61914,     0.61695,     0.61664,     0.61406,     0.61208,     0.61189,     0.60979,     0.60743,     0.60714,     0.60487,     0.60206,     0.60182,     0.59946,     0.59906,     0.59668,     0.59413,     0.59381,     0.59133,\n",
       "            0.58844,      0.5882,     0.58548,     0.58298,     0.57993,      0.5795,     0.57708,     0.57688,     0.57381,     0.57128,     0.57094,     0.56804,     0.56559,     0.56537,      0.5626,     0.56003,      0.5598,     0.55662,     0.55366,     0.55326,     0.55026,     0.54761,     0.54441,\n",
       "              0.544,     0.54101,       0.538,     0.53483,     0.53446,     0.53105,     0.52849,     0.52816,     0.52529,     0.52237,     0.51892,     0.51866,     0.51576,     0.51238,     0.51214,     0.50907,     0.50586,      0.5056,     0.50241,     0.49908,     0.49555,     0.49242,     0.49203,\n",
       "            0.48864,     0.48578,     0.48229,     0.48198,     0.47864,     0.47597,     0.47269,     0.47234,     0.46899,     0.46612,     0.46281,     0.46256,     0.45884,     0.45558,     0.45224,     0.44908,     0.44875,     0.44522,      0.4418,     0.43864,     0.43546,     0.43229,     0.43203,\n",
       "            0.42867,     0.42526,     0.42243,     0.41919,     0.41893,     0.41582,     0.41242,     0.40919,     0.40566,     0.40213,     0.40184,     0.39873,     0.39516,       0.392,     0.38878,     0.38529,     0.38215,     0.37901,     0.37605,     0.37567,     0.37283,     0.36945,     0.36614,\n",
       "            0.36326,     0.35998,     0.35679,     0.35383,     0.35356,     0.35105,     0.34761,     0.34468,     0.34156,     0.33874,      0.3356,     0.33263,     0.32939,     0.32673,     0.32389,     0.32119,     0.31847,     0.31577,     0.31319,     0.30991,     0.30715,     0.30487,     0.30218,\n",
       "            0.29955,     0.29666,     0.29402,     0.29149,     0.28826,      0.2857,      0.2831,     0.28029,     0.27734,     0.27168,     0.26908,     0.26672,     0.26368,     0.26126,     0.25867,      0.2561,     0.25345,     0.25097,     0.24845,     0.24582,     0.24332,     0.23864,     0.23626,\n",
       "             0.2336,     0.23064,     0.22781,     0.22506,     0.22217,     0.21786,     0.21525,     0.21032,     0.20776,     0.20533,     0.20212,     0.19952,     0.19465,     0.19177,     0.18864,     0.18563,     0.18085,     0.17789,     0.17498,     0.16994,     0.16689,     0.16388,     0.15833,\n",
       "             0.1555,     0.15271,     0.14673,     0.14105,     0.13809,     0.13359,      0.1303,     0.12539,     0.12215,     0.11953,     0.11525,     0.11123,     0.10605,     0.10161,    0.097727,    0.093679,      0.0907,    0.086622,      0.0825,     0.07731,    0.073097,    0.069434,    0.064486,\n",
       "           0.058362,    0.055587,    0.051567,    0.048376,    0.044406,    0.041883,    0.038233,    0.034784,    0.031592,    0.029358,    0.026418,    0.023604,    0.021109,    0.018689,    0.016453,    0.014541,    0.012296,    0.011006,   0.0097699,   0.0085321,   0.0069623,   0.0056383,   0.0046714,\n",
       "          0.0039797,   0.0032047,   0.0025121,    0.001985,   0.0014853,   0.0011793,  0.00095631,  0.00070556,  0.00067088,  0.00064248,  0.00047968,   0.0003397,  0.00029393,  0.00023779,  0.00011375,  8.3909e-05,  6.4721e-05,  4.8194e-05,  3.3982e-05,           0,           0,           0,           0,\n",
       "                  0,           0,           0,           0,           0,           0,           0,           0,           0,           0,           0,           0,           0,           0,           0,           0,           0,           0,           0,           0,           0,           0,           0,\n",
       "                  0,           0,           0,           0,           0,           0,           0,           0,           0,           0,           0]]), 'Confidence', 'F1'], [array([          0,    0.001001,    0.002002,    0.003003,    0.004004,    0.005005,    0.006006,    0.007007,    0.008008,    0.009009,     0.01001,    0.011011,    0.012012,    0.013013,    0.014014,    0.015015,    0.016016,    0.017017,    0.018018,    0.019019,     0.02002,    0.021021,    0.022022,    0.023023,\n",
       "          0.024024,    0.025025,    0.026026,    0.027027,    0.028028,    0.029029,     0.03003,    0.031031,    0.032032,    0.033033,    0.034034,    0.035035,    0.036036,    0.037037,    0.038038,    0.039039,     0.04004,    0.041041,    0.042042,    0.043043,    0.044044,    0.045045,    0.046046,    0.047047,\n",
       "          0.048048,    0.049049,     0.05005,    0.051051,    0.052052,    0.053053,    0.054054,    0.055055,    0.056056,    0.057057,    0.058058,    0.059059,     0.06006,    0.061061,    0.062062,    0.063063,    0.064064,    0.065065,    0.066066,    0.067067,    0.068068,    0.069069,     0.07007,    0.071071,\n",
       "          0.072072,    0.073073,    0.074074,    0.075075,    0.076076,    0.077077,    0.078078,    0.079079,     0.08008,    0.081081,    0.082082,    0.083083,    0.084084,    0.085085,    0.086086,    0.087087,    0.088088,    0.089089,     0.09009,    0.091091,    0.092092,    0.093093,    0.094094,    0.095095,\n",
       "          0.096096,    0.097097,    0.098098,    0.099099,      0.1001,      0.1011,      0.1021,      0.1031,      0.1041,     0.10511,     0.10611,     0.10711,     0.10811,     0.10911,     0.11011,     0.11111,     0.11211,     0.11311,     0.11411,     0.11512,     0.11612,     0.11712,     0.11812,     0.11912,\n",
       "           0.12012,     0.12112,     0.12212,     0.12312,     0.12412,     0.12513,     0.12613,     0.12713,     0.12813,     0.12913,     0.13013,     0.13113,     0.13213,     0.13313,     0.13413,     0.13514,     0.13614,     0.13714,     0.13814,     0.13914,     0.14014,     0.14114,     0.14214,     0.14314,\n",
       "           0.14414,     0.14515,     0.14615,     0.14715,     0.14815,     0.14915,     0.15015,     0.15115,     0.15215,     0.15315,     0.15415,     0.15516,     0.15616,     0.15716,     0.15816,     0.15916,     0.16016,     0.16116,     0.16216,     0.16316,     0.16416,     0.16517,     0.16617,     0.16717,\n",
       "           0.16817,     0.16917,     0.17017,     0.17117,     0.17217,     0.17317,     0.17417,     0.17518,     0.17618,     0.17718,     0.17818,     0.17918,     0.18018,     0.18118,     0.18218,     0.18318,     0.18418,     0.18519,     0.18619,     0.18719,     0.18819,     0.18919,     0.19019,     0.19119,\n",
       "           0.19219,     0.19319,     0.19419,      0.1952,      0.1962,      0.1972,      0.1982,      0.1992,      0.2002,      0.2012,      0.2022,      0.2032,      0.2042,     0.20521,     0.20621,     0.20721,     0.20821,     0.20921,     0.21021,     0.21121,     0.21221,     0.21321,     0.21421,     0.21522,\n",
       "           0.21622,     0.21722,     0.21822,     0.21922,     0.22022,     0.22122,     0.22222,     0.22322,     0.22422,     0.22523,     0.22623,     0.22723,     0.22823,     0.22923,     0.23023,     0.23123,     0.23223,     0.23323,     0.23423,     0.23524,     0.23624,     0.23724,     0.23824,     0.23924,\n",
       "           0.24024,     0.24124,     0.24224,     0.24324,     0.24424,     0.24525,     0.24625,     0.24725,     0.24825,     0.24925,     0.25025,     0.25125,     0.25225,     0.25325,     0.25425,     0.25526,     0.25626,     0.25726,     0.25826,     0.25926,     0.26026,     0.26126,     0.26226,     0.26326,\n",
       "           0.26426,     0.26527,     0.26627,     0.26727,     0.26827,     0.26927,     0.27027,     0.27127,     0.27227,     0.27327,     0.27427,     0.27528,     0.27628,     0.27728,     0.27828,     0.27928,     0.28028,     0.28128,     0.28228,     0.28328,     0.28428,     0.28529,     0.28629,     0.28729,\n",
       "           0.28829,     0.28929,     0.29029,     0.29129,     0.29229,     0.29329,     0.29429,      0.2953,      0.2963,      0.2973,      0.2983,      0.2993,      0.3003,      0.3013,      0.3023,      0.3033,      0.3043,     0.30531,     0.30631,     0.30731,     0.30831,     0.30931,     0.31031,     0.31131,\n",
       "           0.31231,     0.31331,     0.31431,     0.31532,     0.31632,     0.31732,     0.31832,     0.31932,     0.32032,     0.32132,     0.32232,     0.32332,     0.32432,     0.32533,     0.32633,     0.32733,     0.32833,     0.32933,     0.33033,     0.33133,     0.33233,     0.33333,     0.33433,     0.33534,\n",
       "           0.33634,     0.33734,     0.33834,     0.33934,     0.34034,     0.34134,     0.34234,     0.34334,     0.34434,     0.34535,     0.34635,     0.34735,     0.34835,     0.34935,     0.35035,     0.35135,     0.35235,     0.35335,     0.35435,     0.35536,     0.35636,     0.35736,     0.35836,     0.35936,\n",
       "           0.36036,     0.36136,     0.36236,     0.36336,     0.36436,     0.36537,     0.36637,     0.36737,     0.36837,     0.36937,     0.37037,     0.37137,     0.37237,     0.37337,     0.37437,     0.37538,     0.37638,     0.37738,     0.37838,     0.37938,     0.38038,     0.38138,     0.38238,     0.38338,\n",
       "           0.38438,     0.38539,     0.38639,     0.38739,     0.38839,     0.38939,     0.39039,     0.39139,     0.39239,     0.39339,     0.39439,      0.3954,      0.3964,      0.3974,      0.3984,      0.3994,      0.4004,      0.4014,      0.4024,      0.4034,      0.4044,     0.40541,     0.40641,     0.40741,\n",
       "           0.40841,     0.40941,     0.41041,     0.41141,     0.41241,     0.41341,     0.41441,     0.41542,     0.41642,     0.41742,     0.41842,     0.41942,     0.42042,     0.42142,     0.42242,     0.42342,     0.42442,     0.42543,     0.42643,     0.42743,     0.42843,     0.42943,     0.43043,     0.43143,\n",
       "           0.43243,     0.43343,     0.43443,     0.43544,     0.43644,     0.43744,     0.43844,     0.43944,     0.44044,     0.44144,     0.44244,     0.44344,     0.44444,     0.44545,     0.44645,     0.44745,     0.44845,     0.44945,     0.45045,     0.45145,     0.45245,     0.45345,     0.45445,     0.45546,\n",
       "           0.45646,     0.45746,     0.45846,     0.45946,     0.46046,     0.46146,     0.46246,     0.46346,     0.46446,     0.46547,     0.46647,     0.46747,     0.46847,     0.46947,     0.47047,     0.47147,     0.47247,     0.47347,     0.47447,     0.47548,     0.47648,     0.47748,     0.47848,     0.47948,\n",
       "           0.48048,     0.48148,     0.48248,     0.48348,     0.48448,     0.48549,     0.48649,     0.48749,     0.48849,     0.48949,     0.49049,     0.49149,     0.49249,     0.49349,     0.49449,      0.4955,      0.4965,      0.4975,      0.4985,      0.4995,      0.5005,      0.5015,      0.5025,      0.5035,\n",
       "            0.5045,     0.50551,     0.50651,     0.50751,     0.50851,     0.50951,     0.51051,     0.51151,     0.51251,     0.51351,     0.51451,     0.51552,     0.51652,     0.51752,     0.51852,     0.51952,     0.52052,     0.52152,     0.52252,     0.52352,     0.52452,     0.52553,     0.52653,     0.52753,\n",
       "           0.52853,     0.52953,     0.53053,     0.53153,     0.53253,     0.53353,     0.53453,     0.53554,     0.53654,     0.53754,     0.53854,     0.53954,     0.54054,     0.54154,     0.54254,     0.54354,     0.54454,     0.54555,     0.54655,     0.54755,     0.54855,     0.54955,     0.55055,     0.55155,\n",
       "           0.55255,     0.55355,     0.55455,     0.55556,     0.55656,     0.55756,     0.55856,     0.55956,     0.56056,     0.56156,     0.56256,     0.56356,     0.56456,     0.56557,     0.56657,     0.56757,     0.56857,     0.56957,     0.57057,     0.57157,     0.57257,     0.57357,     0.57457,     0.57558,\n",
       "           0.57658,     0.57758,     0.57858,     0.57958,     0.58058,     0.58158,     0.58258,     0.58358,     0.58458,     0.58559,     0.58659,     0.58759,     0.58859,     0.58959,     0.59059,     0.59159,     0.59259,     0.59359,     0.59459,      0.5956,      0.5966,      0.5976,      0.5986,      0.5996,\n",
       "            0.6006,      0.6016,      0.6026,      0.6036,      0.6046,     0.60561,     0.60661,     0.60761,     0.60861,     0.60961,     0.61061,     0.61161,     0.61261,     0.61361,     0.61461,     0.61562,     0.61662,     0.61762,     0.61862,     0.61962,     0.62062,     0.62162,     0.62262,     0.62362,\n",
       "           0.62462,     0.62563,     0.62663,     0.62763,     0.62863,     0.62963,     0.63063,     0.63163,     0.63263,     0.63363,     0.63463,     0.63564,     0.63664,     0.63764,     0.63864,     0.63964,     0.64064,     0.64164,     0.64264,     0.64364,     0.64464,     0.64565,     0.64665,     0.64765,\n",
       "           0.64865,     0.64965,     0.65065,     0.65165,     0.65265,     0.65365,     0.65465,     0.65566,     0.65666,     0.65766,     0.65866,     0.65966,     0.66066,     0.66166,     0.66266,     0.66366,     0.66466,     0.66567,     0.66667,     0.66767,     0.66867,     0.66967,     0.67067,     0.67167,\n",
       "           0.67267,     0.67367,     0.67467,     0.67568,     0.67668,     0.67768,     0.67868,     0.67968,     0.68068,     0.68168,     0.68268,     0.68368,     0.68468,     0.68569,     0.68669,     0.68769,     0.68869,     0.68969,     0.69069,     0.69169,     0.69269,     0.69369,     0.69469,      0.6957,\n",
       "            0.6967,      0.6977,      0.6987,      0.6997,      0.7007,      0.7017,      0.7027,      0.7037,      0.7047,     0.70571,     0.70671,     0.70771,     0.70871,     0.70971,     0.71071,     0.71171,     0.71271,     0.71371,     0.71471,     0.71572,     0.71672,     0.71772,     0.71872,     0.71972,\n",
       "           0.72072,     0.72172,     0.72272,     0.72372,     0.72472,     0.72573,     0.72673,     0.72773,     0.72873,     0.72973,     0.73073,     0.73173,     0.73273,     0.73373,     0.73473,     0.73574,     0.73674,     0.73774,     0.73874,     0.73974,     0.74074,     0.74174,     0.74274,     0.74374,\n",
       "           0.74474,     0.74575,     0.74675,     0.74775,     0.74875,     0.74975,     0.75075,     0.75175,     0.75275,     0.75375,     0.75475,     0.75576,     0.75676,     0.75776,     0.75876,     0.75976,     0.76076,     0.76176,     0.76276,     0.76376,     0.76476,     0.76577,     0.76677,     0.76777,\n",
       "           0.76877,     0.76977,     0.77077,     0.77177,     0.77277,     0.77377,     0.77477,     0.77578,     0.77678,     0.77778,     0.77878,     0.77978,     0.78078,     0.78178,     0.78278,     0.78378,     0.78478,     0.78579,     0.78679,     0.78779,     0.78879,     0.78979,     0.79079,     0.79179,\n",
       "           0.79279,     0.79379,     0.79479,      0.7958,      0.7968,      0.7978,      0.7988,      0.7998,      0.8008,      0.8018,      0.8028,      0.8038,      0.8048,     0.80581,     0.80681,     0.80781,     0.80881,     0.80981,     0.81081,     0.81181,     0.81281,     0.81381,     0.81481,     0.81582,\n",
       "           0.81682,     0.81782,     0.81882,     0.81982,     0.82082,     0.82182,     0.82282,     0.82382,     0.82482,     0.82583,     0.82683,     0.82783,     0.82883,     0.82983,     0.83083,     0.83183,     0.83283,     0.83383,     0.83483,     0.83584,     0.83684,     0.83784,     0.83884,     0.83984,\n",
       "           0.84084,     0.84184,     0.84284,     0.84384,     0.84484,     0.84585,     0.84685,     0.84785,     0.84885,     0.84985,     0.85085,     0.85185,     0.85285,     0.85385,     0.85485,     0.85586,     0.85686,     0.85786,     0.85886,     0.85986,     0.86086,     0.86186,     0.86286,     0.86386,\n",
       "           0.86486,     0.86587,     0.86687,     0.86787,     0.86887,     0.86987,     0.87087,     0.87187,     0.87287,     0.87387,     0.87487,     0.87588,     0.87688,     0.87788,     0.87888,     0.87988,     0.88088,     0.88188,     0.88288,     0.88388,     0.88488,     0.88589,     0.88689,     0.88789,\n",
       "           0.88889,     0.88989,     0.89089,     0.89189,     0.89289,     0.89389,     0.89489,      0.8959,      0.8969,      0.8979,      0.8989,      0.8999,      0.9009,      0.9019,      0.9029,      0.9039,      0.9049,     0.90591,     0.90691,     0.90791,     0.90891,     0.90991,     0.91091,     0.91191,\n",
       "           0.91291,     0.91391,     0.91491,     0.91592,     0.91692,     0.91792,     0.91892,     0.91992,     0.92092,     0.92192,     0.92292,     0.92392,     0.92492,     0.92593,     0.92693,     0.92793,     0.92893,     0.92993,     0.93093,     0.93193,     0.93293,     0.93393,     0.93493,     0.93594,\n",
       "           0.93694,     0.93794,     0.93894,     0.93994,     0.94094,     0.94194,     0.94294,     0.94394,     0.94494,     0.94595,     0.94695,     0.94795,     0.94895,     0.94995,     0.95095,     0.95195,     0.95295,     0.95395,     0.95495,     0.95596,     0.95696,     0.95796,     0.95896,     0.95996,\n",
       "           0.96096,     0.96196,     0.96296,     0.96396,     0.96496,     0.96597,     0.96697,     0.96797,     0.96897,     0.96997,     0.97097,     0.97197,     0.97297,     0.97397,     0.97497,     0.97598,     0.97698,     0.97798,     0.97898,     0.97998,     0.98098,     0.98198,     0.98298,     0.98398,\n",
       "           0.98498,     0.98599,     0.98699,     0.98799,     0.98899,     0.98999,     0.99099,     0.99199,     0.99299,     0.99399,     0.99499,       0.996,       0.997,       0.998,       0.999,           1]), array([[    0.11809,     0.11809,     0.14437,     0.16758,      0.1879,     0.20563,     0.22155,     0.23595,     0.25001,     0.26287,     0.27589,     0.28748,     0.29925,     0.31023,     0.32193,     0.33279,     0.34281,     0.35311,     0.36342,     0.37376,     0.38373,     0.39322,     0.40252,\n",
       "            0.41146,     0.42048,     0.42912,     0.43781,     0.44634,     0.45422,     0.46172,     0.46928,     0.47705,     0.48377,     0.49137,     0.49834,     0.50492,     0.51144,     0.51735,     0.52385,     0.52966,     0.53576,     0.54174,       0.547,     0.55292,      0.5579,     0.56325,\n",
       "            0.56812,     0.57275,     0.57781,     0.58253,     0.58685,      0.5908,     0.59543,     0.59949,     0.60325,     0.60733,     0.61124,     0.61451,     0.61851,     0.62248,     0.62572,      0.6296,     0.63264,     0.63624,     0.63895,     0.64213,     0.64488,     0.64779,     0.65129,\n",
       "            0.65411,     0.65709,     0.65989,     0.66199,      0.6647,      0.6673,     0.66995,     0.67225,     0.67473,     0.67767,      0.6798,     0.68221,     0.68438,     0.68625,     0.68857,     0.69056,     0.69262,     0.69436,     0.69631,     0.69825,     0.70026,     0.70249,      0.7043,\n",
       "            0.70602,     0.70763,     0.70928,     0.71088,     0.71261,     0.71405,     0.71578,     0.71697,     0.71846,     0.71999,     0.72159,     0.72309,      0.7242,     0.72578,     0.72711,     0.72853,     0.72969,     0.73113,     0.73257,     0.73341,      0.7347,     0.73584,     0.73727,\n",
       "            0.73839,      0.7398,     0.74117,     0.74247,     0.74364,     0.74488,     0.74612,     0.74708,     0.74824,     0.74922,     0.75058,     0.75165,     0.75242,     0.75393,     0.75493,     0.75597,     0.75672,     0.75794,     0.75884,     0.75966,     0.76056,     0.76186,     0.76272,\n",
       "            0.76365,     0.76468,      0.7656,     0.76638,     0.76725,      0.7682,     0.76902,     0.77052,     0.77129,     0.77219,      0.7729,     0.77374,     0.77465,     0.77533,     0.77595,     0.77691,     0.77767,     0.77842,     0.77927,     0.77986,     0.78029,     0.78112,     0.78192,\n",
       "            0.78274,     0.78362,     0.78456,     0.78556,     0.78645,     0.78737,     0.78774,     0.78838,     0.78929,     0.78999,     0.79089,     0.79159,     0.79195,     0.79278,     0.79371,     0.79454,     0.79491,      0.7958,     0.79654,     0.79727,     0.79764,     0.79833,      0.7991,\n",
       "            0.79947,     0.80024,     0.80086,     0.80143,     0.80172,     0.80246,     0.80323,     0.80354,     0.80421,     0.80491,     0.80534,     0.80605,     0.80683,     0.80711,     0.80793,     0.80827,     0.80887,     0.80962,      0.8098,     0.81043,     0.81066,     0.81113,     0.81144,\n",
       "            0.81225,     0.81304,     0.81334,     0.81409,      0.8145,     0.81529,     0.81558,     0.81624,      0.8165,     0.81723,     0.81758,     0.81817,      0.8184,      0.8191,     0.81931,     0.81997,     0.82035,       0.821,     0.82126,     0.82171,     0.82212,     0.82275,     0.82316,\n",
       "            0.82386,     0.82419,     0.82454,     0.82506,     0.82544,     0.82606,     0.82643,      0.8272,     0.82758,     0.82781,     0.82847,     0.82893,     0.82951,     0.82974,     0.82991,      0.8306,     0.83094,     0.83136,     0.83196,     0.83228,     0.83306,     0.83344,      0.8338,\n",
       "            0.83454,     0.83484,     0.83517,     0.83574,     0.83605,     0.83629,     0.83706,     0.83741,     0.83803,     0.83833,     0.83856,     0.83881,     0.83956,     0.83975,     0.84006,     0.84057,     0.84096,     0.84141,     0.84181,      0.8422,     0.84246,     0.84278,     0.84352,\n",
       "            0.84371,     0.84409,     0.84427,     0.84501,     0.84537,     0.84557,     0.84622,     0.84649,     0.84687,     0.84723,     0.84788,     0.84809,     0.84846,     0.84884,     0.84958,     0.85015,     0.85048,     0.85076,     0.85117,     0.85161,     0.85195,     0.85233,     0.85256,\n",
       "            0.85312,     0.85345,     0.85369,     0.85406,     0.85456,     0.85486,     0.85511,     0.85538,     0.85561,     0.85612,     0.85644,     0.85671,     0.85701,     0.85762,     0.85793,     0.85817,      0.8584,     0.85878,     0.85902,     0.85918,     0.85979,     0.86008,     0.86041,\n",
       "            0.86058,     0.86077,     0.86138,     0.86162,     0.86192,     0.86219,      0.8625,     0.86279,     0.86355,     0.86384,     0.86419,     0.86443,     0.86481,     0.86501,      0.8652,     0.86559,     0.86593,     0.86618,     0.86648,     0.86675,     0.86694,     0.86725,     0.86756,\n",
       "            0.86785,     0.86821,     0.86859,     0.86885,     0.86915,     0.86956,     0.86972,     0.87012,     0.87036,      0.8706,     0.87074,     0.87107,     0.87156,      0.8719,     0.87205,     0.87259,     0.87282,     0.87309,     0.87347,     0.87373,     0.87393,     0.87427,     0.87456,\n",
       "            0.87478,     0.87505,     0.87548,     0.87563,     0.87586,     0.87607,     0.87629,     0.87647,     0.87671,     0.87719,     0.87758,     0.87776,     0.87832,     0.87865,     0.87883,      0.8791,     0.87929,     0.87944,     0.87973,     0.88007,     0.88032,     0.88053,     0.88115,\n",
       "            0.88141,     0.88158,     0.88189,     0.88209,     0.88227,     0.88246,      0.8826,     0.88284,     0.88309,      0.8834,     0.88367,     0.88395,     0.88428,     0.88465,     0.88482,     0.88494,     0.88538,     0.88557,     0.88578,     0.88601,      0.8862,     0.88632,     0.88652,\n",
       "            0.88676,     0.88701,     0.88727,     0.88737,     0.88754,     0.88776,     0.88803,      0.8882,     0.88841,     0.88886,     0.88907,     0.88931,     0.88948,     0.88964,     0.88972,     0.88997,     0.89016,     0.89037,     0.89064,     0.89097,     0.89115,     0.89137,     0.89158,\n",
       "            0.89182,     0.89199,     0.89212,     0.89239,     0.89257,     0.89292,     0.89305,     0.89334,     0.89344,     0.89364,     0.89382,     0.89407,     0.89432,     0.89462,     0.89487,     0.89505,     0.89537,     0.89557,     0.89575,     0.89587,     0.89604,     0.89622,     0.89642,\n",
       "            0.89662,     0.89685,     0.89704,     0.89723,     0.89747,     0.89772,     0.89792,     0.89812,     0.89834,     0.89857,     0.89879,     0.89903,     0.89923,     0.89948,     0.89963,     0.89987,     0.90008,     0.90034,     0.90055,     0.90082,     0.90113,     0.90136,     0.90151,\n",
       "            0.90165,     0.90185,     0.90222,     0.90242,     0.90261,     0.90278,     0.90299,     0.90317,     0.90335,     0.90357,     0.90369,      0.9038,      0.9041,     0.90429,     0.90456,     0.90487,     0.90515,     0.90527,     0.90545,     0.90554,     0.90572,     0.90592,      0.9062,\n",
       "            0.90634,      0.9064,     0.90647,     0.90684,     0.90697,     0.90719,     0.90736,     0.90766,     0.90783,     0.90805,     0.90821,     0.90851,     0.90878,     0.90905,     0.90944,     0.90965,     0.90981,     0.91023,     0.91052,     0.91072,     0.91099,     0.91118,     0.91135,\n",
       "            0.91147,     0.91174,     0.91199,      0.9122,     0.91246,     0.91265,      0.9128,     0.91292,     0.91308,     0.91336,     0.91355,     0.91367,     0.91378,     0.91392,     0.91419,     0.91439,     0.91459,     0.91487,     0.91503,     0.91513,     0.91542,      0.9156,     0.91578,\n",
       "             0.9159,     0.91607,     0.91632,     0.91663,     0.91691,     0.91741,     0.91763,     0.91776,      0.9179,     0.91809,     0.91823,     0.91834,     0.91844,     0.91858,     0.91875,     0.91896,     0.91923,      0.9195,     0.91971,     0.91986,      0.9201,     0.92042,     0.92063,\n",
       "            0.92075,     0.92088,     0.92112,      0.9212,      0.9213,     0.92165,     0.92185,     0.92197,     0.92219,     0.92234,     0.92257,     0.92276,     0.92301,     0.92337,     0.92343,      0.9237,     0.92389,       0.924,     0.92416,     0.92445,     0.92455,     0.92484,     0.92504,\n",
       "            0.92522,     0.92531,      0.9255,     0.92587,     0.92599,     0.92612,      0.9263,     0.92655,     0.92671,     0.92704,     0.92718,     0.92746,     0.92765,     0.92784,     0.92808,     0.92832,     0.92848,     0.92869,     0.92879,     0.92897,     0.92921,     0.92938,     0.92971,\n",
       "            0.92989,     0.93003,     0.93027,     0.93033,     0.93068,     0.93089,     0.93106,     0.93122,     0.93143,     0.93169,     0.93184,     0.93228,     0.93239,     0.93255,     0.93269,      0.9329,     0.93317,     0.93334,     0.93351,     0.93376,     0.93391,     0.93403,     0.93422,\n",
       "            0.93431,     0.93436,     0.93459,     0.93468,     0.93491,      0.9354,     0.93573,     0.93581,     0.93605,     0.93616,     0.93653,     0.93666,     0.93685,     0.93704,     0.93746,     0.93763,     0.93775,     0.93801,     0.93856,     0.93873,     0.93891,     0.93902,     0.93927,\n",
       "            0.93947,     0.93966,        0.94,     0.94054,     0.94077,     0.94099,     0.94125,     0.94135,     0.94166,     0.94184,     0.94223,     0.94243,     0.94268,     0.94329,     0.94358,     0.94359,     0.94367,     0.94394,      0.9441,      0.9443,     0.94489,     0.94529,     0.94555,\n",
       "            0.94575,     0.94589,     0.94602,     0.94634,     0.94642,     0.94676,     0.94696,     0.94707,     0.94756,     0.94777,     0.94811,     0.94888,     0.94891,     0.94938,     0.94949,     0.94981,     0.95036,     0.95046,     0.95065,     0.95065,     0.95128,     0.95156,     0.95163,\n",
       "            0.95204,     0.95204,     0.95248,     0.95298,     0.95301,     0.95343,     0.95396,     0.95397,     0.95437,     0.95474,     0.95478,     0.95517,     0.95568,     0.95574,     0.95624,     0.95638,     0.95639,     0.95678,      0.9568,     0.95737,     0.95766,     0.95775,     0.95815,\n",
       "            0.95867,     0.95882,     0.95916,     0.95983,     0.96035,     0.96037,     0.96063,     0.96067,      0.9611,     0.96183,      0.9618,     0.96241,     0.96279,     0.96281,     0.96316,     0.96348,     0.96356,     0.96374,     0.96393,      0.9639,      0.9644,     0.96487,     0.96555,\n",
       "            0.96553,     0.96609,     0.96629,     0.96692,     0.96689,     0.96724,     0.96774,     0.96775,     0.96848,     0.96896,     0.96931,     0.96929,     0.96991,     0.97035,     0.97037,     0.97089,     0.97141,     0.97139,     0.97165,     0.97214,      0.9727,     0.97322,     0.97328,\n",
       "            0.97364,     0.97444,     0.97506,     0.97504,     0.97577,     0.97567,     0.97613,     0.97619,     0.97661,     0.97707,     0.97773,     0.97772,     0.97845,     0.97866,     0.97922,     0.97962,     0.97965,     0.97995,     0.98036,     0.98093,     0.98114,     0.98163,     0.98176,\n",
       "            0.98231,     0.98273,     0.98337,     0.98387,      0.9839,     0.98431,     0.98447,     0.98477,     0.98503,     0.98524,     0.98538,     0.98551,     0.98595,     0.98647,     0.98683,     0.98713,     0.98729,     0.98733,     0.98756,     0.98754,     0.98825,      0.9886,     0.98919,\n",
       "            0.98952,     0.98989,     0.99034,     0.99037,     0.99036,     0.99041,     0.99068,     0.99098,     0.99114,     0.99132,     0.99143,     0.99174,     0.99199,     0.99212,     0.99226,     0.99246,      0.9926,     0.99274,     0.99289,     0.99325,     0.99348,     0.99388,     0.99404,\n",
       "            0.99422,     0.99446,      0.9948,     0.99475,     0.99493,     0.99487,     0.99498,     0.99526,     0.99537,      0.9957,       0.996,     0.99614,     0.99636,      0.9966,     0.99675,      0.9969,     0.99705,     0.99701,     0.99717,     0.99734,     0.99731,     0.99735,     0.99742,\n",
       "            0.99739,     0.99756,     0.99753,     0.99749,     0.99746,     0.99774,     0.99771,     0.99765,     0.99785,     0.99794,     0.99815,     0.99825,      0.9982,     0.99817,     0.99827,     0.99824,     0.99819,      0.9983,     0.99827,     0.99821,     0.99818,     0.99829,     0.99839,\n",
       "            0.99852,     0.99849,     0.99843,     0.99836,     0.99832,     0.99845,     0.99881,     0.99876,     0.99872,     0.99869,     0.99887,     0.99906,     0.99901,     0.99922,     0.99919,     0.99915,     0.99913,     0.99908,     0.99903,     0.99897,      0.9989,     0.99884,     0.99917,\n",
       "            0.99908,     0.99903,     0.99895,     0.99888,     0.99878,     0.99871,     0.99858,     0.99844,     0.99828,     0.99814,     0.99793,     0.99768,      0.9987,     0.99853,     0.99833,     0.99811,     0.99776,      0.9975,     0.99718,     0.99677,     0.99605,     0.99512,     0.99411,\n",
       "            0.99309,     0.99143,           1,           1,           1,           1,           1,           1,           1,           1,           1,           1,           1,           1,           1,           1,           1,           1,           1,           1,           1,           1,           1,\n",
       "                  1,           1,           1,           1,           1,           1,           1,           1,           1,           1,           1,           1,           1,           1,           1,           1,           1,           1,           1,           1,           1,           1,           1,\n",
       "                  1,           1,           1,           1,           1,           1,           1,           1,           1,           1,           1]]), 'Confidence', 'Precision'], [array([          0,    0.001001,    0.002002,    0.003003,    0.004004,    0.005005,    0.006006,    0.007007,    0.008008,    0.009009,     0.01001,    0.011011,    0.012012,    0.013013,    0.014014,    0.015015,    0.016016,    0.017017,    0.018018,    0.019019,     0.02002,    0.021021,    0.022022,    0.023023,\n",
       "          0.024024,    0.025025,    0.026026,    0.027027,    0.028028,    0.029029,     0.03003,    0.031031,    0.032032,    0.033033,    0.034034,    0.035035,    0.036036,    0.037037,    0.038038,    0.039039,     0.04004,    0.041041,    0.042042,    0.043043,    0.044044,    0.045045,    0.046046,    0.047047,\n",
       "          0.048048,    0.049049,     0.05005,    0.051051,    0.052052,    0.053053,    0.054054,    0.055055,    0.056056,    0.057057,    0.058058,    0.059059,     0.06006,    0.061061,    0.062062,    0.063063,    0.064064,    0.065065,    0.066066,    0.067067,    0.068068,    0.069069,     0.07007,    0.071071,\n",
       "          0.072072,    0.073073,    0.074074,    0.075075,    0.076076,    0.077077,    0.078078,    0.079079,     0.08008,    0.081081,    0.082082,    0.083083,    0.084084,    0.085085,    0.086086,    0.087087,    0.088088,    0.089089,     0.09009,    0.091091,    0.092092,    0.093093,    0.094094,    0.095095,\n",
       "          0.096096,    0.097097,    0.098098,    0.099099,      0.1001,      0.1011,      0.1021,      0.1031,      0.1041,     0.10511,     0.10611,     0.10711,     0.10811,     0.10911,     0.11011,     0.11111,     0.11211,     0.11311,     0.11411,     0.11512,     0.11612,     0.11712,     0.11812,     0.11912,\n",
       "           0.12012,     0.12112,     0.12212,     0.12312,     0.12412,     0.12513,     0.12613,     0.12713,     0.12813,     0.12913,     0.13013,     0.13113,     0.13213,     0.13313,     0.13413,     0.13514,     0.13614,     0.13714,     0.13814,     0.13914,     0.14014,     0.14114,     0.14214,     0.14314,\n",
       "           0.14414,     0.14515,     0.14615,     0.14715,     0.14815,     0.14915,     0.15015,     0.15115,     0.15215,     0.15315,     0.15415,     0.15516,     0.15616,     0.15716,     0.15816,     0.15916,     0.16016,     0.16116,     0.16216,     0.16316,     0.16416,     0.16517,     0.16617,     0.16717,\n",
       "           0.16817,     0.16917,     0.17017,     0.17117,     0.17217,     0.17317,     0.17417,     0.17518,     0.17618,     0.17718,     0.17818,     0.17918,     0.18018,     0.18118,     0.18218,     0.18318,     0.18418,     0.18519,     0.18619,     0.18719,     0.18819,     0.18919,     0.19019,     0.19119,\n",
       "           0.19219,     0.19319,     0.19419,      0.1952,      0.1962,      0.1972,      0.1982,      0.1992,      0.2002,      0.2012,      0.2022,      0.2032,      0.2042,     0.20521,     0.20621,     0.20721,     0.20821,     0.20921,     0.21021,     0.21121,     0.21221,     0.21321,     0.21421,     0.21522,\n",
       "           0.21622,     0.21722,     0.21822,     0.21922,     0.22022,     0.22122,     0.22222,     0.22322,     0.22422,     0.22523,     0.22623,     0.22723,     0.22823,     0.22923,     0.23023,     0.23123,     0.23223,     0.23323,     0.23423,     0.23524,     0.23624,     0.23724,     0.23824,     0.23924,\n",
       "           0.24024,     0.24124,     0.24224,     0.24324,     0.24424,     0.24525,     0.24625,     0.24725,     0.24825,     0.24925,     0.25025,     0.25125,     0.25225,     0.25325,     0.25425,     0.25526,     0.25626,     0.25726,     0.25826,     0.25926,     0.26026,     0.26126,     0.26226,     0.26326,\n",
       "           0.26426,     0.26527,     0.26627,     0.26727,     0.26827,     0.26927,     0.27027,     0.27127,     0.27227,     0.27327,     0.27427,     0.27528,     0.27628,     0.27728,     0.27828,     0.27928,     0.28028,     0.28128,     0.28228,     0.28328,     0.28428,     0.28529,     0.28629,     0.28729,\n",
       "           0.28829,     0.28929,     0.29029,     0.29129,     0.29229,     0.29329,     0.29429,      0.2953,      0.2963,      0.2973,      0.2983,      0.2993,      0.3003,      0.3013,      0.3023,      0.3033,      0.3043,     0.30531,     0.30631,     0.30731,     0.30831,     0.30931,     0.31031,     0.31131,\n",
       "           0.31231,     0.31331,     0.31431,     0.31532,     0.31632,     0.31732,     0.31832,     0.31932,     0.32032,     0.32132,     0.32232,     0.32332,     0.32432,     0.32533,     0.32633,     0.32733,     0.32833,     0.32933,     0.33033,     0.33133,     0.33233,     0.33333,     0.33433,     0.33534,\n",
       "           0.33634,     0.33734,     0.33834,     0.33934,     0.34034,     0.34134,     0.34234,     0.34334,     0.34434,     0.34535,     0.34635,     0.34735,     0.34835,     0.34935,     0.35035,     0.35135,     0.35235,     0.35335,     0.35435,     0.35536,     0.35636,     0.35736,     0.35836,     0.35936,\n",
       "           0.36036,     0.36136,     0.36236,     0.36336,     0.36436,     0.36537,     0.36637,     0.36737,     0.36837,     0.36937,     0.37037,     0.37137,     0.37237,     0.37337,     0.37437,     0.37538,     0.37638,     0.37738,     0.37838,     0.37938,     0.38038,     0.38138,     0.38238,     0.38338,\n",
       "           0.38438,     0.38539,     0.38639,     0.38739,     0.38839,     0.38939,     0.39039,     0.39139,     0.39239,     0.39339,     0.39439,      0.3954,      0.3964,      0.3974,      0.3984,      0.3994,      0.4004,      0.4014,      0.4024,      0.4034,      0.4044,     0.40541,     0.40641,     0.40741,\n",
       "           0.40841,     0.40941,     0.41041,     0.41141,     0.41241,     0.41341,     0.41441,     0.41542,     0.41642,     0.41742,     0.41842,     0.41942,     0.42042,     0.42142,     0.42242,     0.42342,     0.42442,     0.42543,     0.42643,     0.42743,     0.42843,     0.42943,     0.43043,     0.43143,\n",
       "           0.43243,     0.43343,     0.43443,     0.43544,     0.43644,     0.43744,     0.43844,     0.43944,     0.44044,     0.44144,     0.44244,     0.44344,     0.44444,     0.44545,     0.44645,     0.44745,     0.44845,     0.44945,     0.45045,     0.45145,     0.45245,     0.45345,     0.45445,     0.45546,\n",
       "           0.45646,     0.45746,     0.45846,     0.45946,     0.46046,     0.46146,     0.46246,     0.46346,     0.46446,     0.46547,     0.46647,     0.46747,     0.46847,     0.46947,     0.47047,     0.47147,     0.47247,     0.47347,     0.47447,     0.47548,     0.47648,     0.47748,     0.47848,     0.47948,\n",
       "           0.48048,     0.48148,     0.48248,     0.48348,     0.48448,     0.48549,     0.48649,     0.48749,     0.48849,     0.48949,     0.49049,     0.49149,     0.49249,     0.49349,     0.49449,      0.4955,      0.4965,      0.4975,      0.4985,      0.4995,      0.5005,      0.5015,      0.5025,      0.5035,\n",
       "            0.5045,     0.50551,     0.50651,     0.50751,     0.50851,     0.50951,     0.51051,     0.51151,     0.51251,     0.51351,     0.51451,     0.51552,     0.51652,     0.51752,     0.51852,     0.51952,     0.52052,     0.52152,     0.52252,     0.52352,     0.52452,     0.52553,     0.52653,     0.52753,\n",
       "           0.52853,     0.52953,     0.53053,     0.53153,     0.53253,     0.53353,     0.53453,     0.53554,     0.53654,     0.53754,     0.53854,     0.53954,     0.54054,     0.54154,     0.54254,     0.54354,     0.54454,     0.54555,     0.54655,     0.54755,     0.54855,     0.54955,     0.55055,     0.55155,\n",
       "           0.55255,     0.55355,     0.55455,     0.55556,     0.55656,     0.55756,     0.55856,     0.55956,     0.56056,     0.56156,     0.56256,     0.56356,     0.56456,     0.56557,     0.56657,     0.56757,     0.56857,     0.56957,     0.57057,     0.57157,     0.57257,     0.57357,     0.57457,     0.57558,\n",
       "           0.57658,     0.57758,     0.57858,     0.57958,     0.58058,     0.58158,     0.58258,     0.58358,     0.58458,     0.58559,     0.58659,     0.58759,     0.58859,     0.58959,     0.59059,     0.59159,     0.59259,     0.59359,     0.59459,      0.5956,      0.5966,      0.5976,      0.5986,      0.5996,\n",
       "            0.6006,      0.6016,      0.6026,      0.6036,      0.6046,     0.60561,     0.60661,     0.60761,     0.60861,     0.60961,     0.61061,     0.61161,     0.61261,     0.61361,     0.61461,     0.61562,     0.61662,     0.61762,     0.61862,     0.61962,     0.62062,     0.62162,     0.62262,     0.62362,\n",
       "           0.62462,     0.62563,     0.62663,     0.62763,     0.62863,     0.62963,     0.63063,     0.63163,     0.63263,     0.63363,     0.63463,     0.63564,     0.63664,     0.63764,     0.63864,     0.63964,     0.64064,     0.64164,     0.64264,     0.64364,     0.64464,     0.64565,     0.64665,     0.64765,\n",
       "           0.64865,     0.64965,     0.65065,     0.65165,     0.65265,     0.65365,     0.65465,     0.65566,     0.65666,     0.65766,     0.65866,     0.65966,     0.66066,     0.66166,     0.66266,     0.66366,     0.66466,     0.66567,     0.66667,     0.66767,     0.66867,     0.66967,     0.67067,     0.67167,\n",
       "           0.67267,     0.67367,     0.67467,     0.67568,     0.67668,     0.67768,     0.67868,     0.67968,     0.68068,     0.68168,     0.68268,     0.68368,     0.68468,     0.68569,     0.68669,     0.68769,     0.68869,     0.68969,     0.69069,     0.69169,     0.69269,     0.69369,     0.69469,      0.6957,\n",
       "            0.6967,      0.6977,      0.6987,      0.6997,      0.7007,      0.7017,      0.7027,      0.7037,      0.7047,     0.70571,     0.70671,     0.70771,     0.70871,     0.70971,     0.71071,     0.71171,     0.71271,     0.71371,     0.71471,     0.71572,     0.71672,     0.71772,     0.71872,     0.71972,\n",
       "           0.72072,     0.72172,     0.72272,     0.72372,     0.72472,     0.72573,     0.72673,     0.72773,     0.72873,     0.72973,     0.73073,     0.73173,     0.73273,     0.73373,     0.73473,     0.73574,     0.73674,     0.73774,     0.73874,     0.73974,     0.74074,     0.74174,     0.74274,     0.74374,\n",
       "           0.74474,     0.74575,     0.74675,     0.74775,     0.74875,     0.74975,     0.75075,     0.75175,     0.75275,     0.75375,     0.75475,     0.75576,     0.75676,     0.75776,     0.75876,     0.75976,     0.76076,     0.76176,     0.76276,     0.76376,     0.76476,     0.76577,     0.76677,     0.76777,\n",
       "           0.76877,     0.76977,     0.77077,     0.77177,     0.77277,     0.77377,     0.77477,     0.77578,     0.77678,     0.77778,     0.77878,     0.77978,     0.78078,     0.78178,     0.78278,     0.78378,     0.78478,     0.78579,     0.78679,     0.78779,     0.78879,     0.78979,     0.79079,     0.79179,\n",
       "           0.79279,     0.79379,     0.79479,      0.7958,      0.7968,      0.7978,      0.7988,      0.7998,      0.8008,      0.8018,      0.8028,      0.8038,      0.8048,     0.80581,     0.80681,     0.80781,     0.80881,     0.80981,     0.81081,     0.81181,     0.81281,     0.81381,     0.81481,     0.81582,\n",
       "           0.81682,     0.81782,     0.81882,     0.81982,     0.82082,     0.82182,     0.82282,     0.82382,     0.82482,     0.82583,     0.82683,     0.82783,     0.82883,     0.82983,     0.83083,     0.83183,     0.83283,     0.83383,     0.83483,     0.83584,     0.83684,     0.83784,     0.83884,     0.83984,\n",
       "           0.84084,     0.84184,     0.84284,     0.84384,     0.84484,     0.84585,     0.84685,     0.84785,     0.84885,     0.84985,     0.85085,     0.85185,     0.85285,     0.85385,     0.85485,     0.85586,     0.85686,     0.85786,     0.85886,     0.85986,     0.86086,     0.86186,     0.86286,     0.86386,\n",
       "           0.86486,     0.86587,     0.86687,     0.86787,     0.86887,     0.86987,     0.87087,     0.87187,     0.87287,     0.87387,     0.87487,     0.87588,     0.87688,     0.87788,     0.87888,     0.87988,     0.88088,     0.88188,     0.88288,     0.88388,     0.88488,     0.88589,     0.88689,     0.88789,\n",
       "           0.88889,     0.88989,     0.89089,     0.89189,     0.89289,     0.89389,     0.89489,      0.8959,      0.8969,      0.8979,      0.8989,      0.8999,      0.9009,      0.9019,      0.9029,      0.9039,      0.9049,     0.90591,     0.90691,     0.90791,     0.90891,     0.90991,     0.91091,     0.91191,\n",
       "           0.91291,     0.91391,     0.91491,     0.91592,     0.91692,     0.91792,     0.91892,     0.91992,     0.92092,     0.92192,     0.92292,     0.92392,     0.92492,     0.92593,     0.92693,     0.92793,     0.92893,     0.92993,     0.93093,     0.93193,     0.93293,     0.93393,     0.93493,     0.93594,\n",
       "           0.93694,     0.93794,     0.93894,     0.93994,     0.94094,     0.94194,     0.94294,     0.94394,     0.94494,     0.94595,     0.94695,     0.94795,     0.94895,     0.94995,     0.95095,     0.95195,     0.95295,     0.95395,     0.95495,     0.95596,     0.95696,     0.95796,     0.95896,     0.95996,\n",
       "           0.96096,     0.96196,     0.96296,     0.96396,     0.96496,     0.96597,     0.96697,     0.96797,     0.96897,     0.96997,     0.97097,     0.97197,     0.97297,     0.97397,     0.97497,     0.97598,     0.97698,     0.97798,     0.97898,     0.97998,     0.98098,     0.98198,     0.98298,     0.98398,\n",
       "           0.98498,     0.98599,     0.98699,     0.98799,     0.98899,     0.98999,     0.99099,     0.99199,     0.99299,     0.99399,     0.99499,       0.996,       0.997,       0.998,       0.999,           1]), array([[    0.87782,     0.87782,     0.87559,     0.87302,     0.87087,     0.86875,      0.8666,     0.86473,     0.86293,     0.86102,     0.85925,     0.85735,     0.85557,     0.85393,     0.85222,     0.85062,     0.84923,     0.84766,      0.8461,     0.84463,     0.84303,     0.84178,     0.84061,\n",
       "            0.83939,     0.83786,     0.83663,     0.83502,     0.83366,     0.83218,     0.83061,     0.82951,     0.82836,     0.82727,     0.82598,     0.82488,     0.82383,     0.82262,     0.82146,     0.82042,     0.81953,     0.81852,     0.81717,     0.81633,     0.81534,     0.81459,     0.81382,\n",
       "            0.81292,     0.81213,     0.81123,     0.81046,      0.8094,     0.80852,     0.80761,     0.80672,     0.80587,     0.80512,      0.8044,     0.80378,     0.80311,     0.80219,     0.80151,     0.80085,     0.80022,     0.79943,     0.79877,     0.79814,     0.79743,     0.79671,      0.7959,\n",
       "            0.79529,     0.79481,     0.79417,     0.79376,     0.79308,     0.79253,     0.79205,     0.79165,     0.79108,     0.79052,     0.79011,     0.78969,     0.78928,     0.78889,     0.78822,     0.78764,     0.78692,     0.78627,     0.78584,     0.78534,     0.78488,     0.78429,      0.7838,\n",
       "            0.78334,       0.783,     0.78248,     0.78194,      0.7814,     0.78087,     0.78046,     0.78015,     0.77978,     0.77934,     0.77895,     0.77849,     0.77803,     0.77773,      0.7773,     0.77684,     0.77652,     0.77612,     0.77572,     0.77554,     0.77513,     0.77477,     0.77436,\n",
       "            0.77412,     0.77376,     0.77346,     0.77305,      0.7727,     0.77226,     0.77206,     0.77185,     0.77145,     0.77117,     0.77066,     0.77027,     0.76977,     0.76931,     0.76898,     0.76846,     0.76815,     0.76774,     0.76747,     0.76709,     0.76676,     0.76633,     0.76601,\n",
       "             0.7658,     0.76555,     0.76519,     0.76489,     0.76467,     0.76437,     0.76413,     0.76374,     0.76342,     0.76328,     0.76285,     0.76235,     0.76206,     0.76164,     0.76137,     0.76098,     0.76069,     0.76027,     0.76003,      0.7597,     0.75951,     0.75918,     0.75884,\n",
       "            0.75851,     0.75808,     0.75775,      0.7573,     0.75707,     0.75668,     0.75652,     0.75623,      0.7559,      0.7557,     0.75542,      0.7551,     0.75498,     0.75474,     0.75443,      0.7541,     0.75395,      0.7537,     0.75331,     0.75301,     0.75283,     0.75249,     0.75208,\n",
       "             0.7519,     0.75154,     0.75116,     0.75079,     0.75055,     0.75022,     0.74977,     0.74953,     0.74914,     0.74889,     0.74874,     0.74837,     0.74803,     0.74788,     0.74766,     0.74752,     0.74714,     0.74674,     0.74647,     0.74604,     0.74592,     0.74548,     0.74528,\n",
       "            0.74491,     0.74452,     0.74438,     0.74396,     0.74372,     0.74344,     0.74327,      0.7429,     0.74275,     0.74251,     0.74234,     0.74201,     0.74185,     0.74141,     0.74119,     0.74082,      0.7406,     0.74021,      0.7399,     0.73954,     0.73936,     0.73885,     0.73865,\n",
       "            0.73839,     0.73815,     0.73799,     0.73757,     0.73738,     0.73707,      0.7368,     0.73648,     0.73635,     0.73612,     0.73578,     0.73552,     0.73511,     0.73495,     0.73478,     0.73433,     0.73418,     0.73402,     0.73367,      0.7335,     0.73312,     0.73301,     0.73283,\n",
       "            0.73249,     0.73225,     0.73197,     0.73153,     0.73128,       0.731,     0.73059,     0.73041,     0.73013,     0.72989,     0.72975,     0.72959,     0.72923,     0.72903,     0.72889,     0.72862,     0.72844,      0.7282,      0.7278,     0.72762,     0.72738,     0.72715,      0.7267,\n",
       "            0.72647,     0.72623,       0.726,     0.72569,     0.72554,     0.72527,     0.72498,     0.72464,      0.7245,     0.72433,     0.72393,     0.72376,     0.72351,     0.72333,      0.7229,      0.7227,     0.72252,     0.72231,     0.72182,     0.72152,     0.72123,     0.72109,     0.72087,\n",
       "            0.72042,     0.72019,     0.71985,     0.71974,     0.71926,     0.71909,     0.71886,     0.71869,     0.71843,     0.71782,     0.71764,     0.71745,     0.71734,      0.7169,     0.71669,      0.7164,     0.71618,     0.71605,     0.71589,     0.71561,     0.71526,     0.71498,     0.71472,\n",
       "            0.71438,     0.71415,     0.71373,     0.71352,     0.71327,     0.71306,     0.71283,     0.71267,     0.71235,     0.71206,     0.71188,     0.71171,     0.71158,     0.71141,     0.71124,     0.71078,     0.71056,     0.71027,     0.70992,     0.70967,     0.70943,     0.70887,     0.70859,\n",
       "            0.70832,     0.70815,     0.70785,     0.70765,     0.70742,       0.707,      0.7067,      0.7065,     0.70621,     0.70591,     0.70575,     0.70556,     0.70535,     0.70527,     0.70496,     0.70441,     0.70404,     0.70368,     0.70346,     0.70327,       0.703,      0.7028,     0.70261,\n",
       "            0.70236,     0.70206,     0.70167,      0.7015,      0.7012,     0.70087,     0.70054,     0.70015,     0.69992,     0.69967,     0.69942,     0.69914,     0.69847,     0.69825,      0.6979,     0.69763,     0.69727,     0.69698,     0.69663,      0.6963,     0.69606,     0.69581,     0.69531,\n",
       "            0.69497,     0.69466,     0.69434,     0.69394,     0.69349,     0.69329,     0.69305,     0.69277,     0.69254,     0.69227,     0.69215,     0.69185,     0.69158,      0.6912,     0.69083,     0.69036,     0.68983,     0.68953,     0.68929,     0.68907,     0.68885,     0.68853,     0.68811,\n",
       "            0.68789,     0.68749,     0.68715,      0.6869,     0.68659,     0.68613,     0.68575,     0.68535,       0.685,      0.6843,       0.684,     0.68377,     0.68347,     0.68322,     0.68286,     0.68264,     0.68226,     0.68192,     0.68164,     0.68128,     0.68094,     0.68053,     0.68033,\n",
       "            0.67995,     0.67963,     0.67922,     0.67891,     0.67852,     0.67822,      0.6778,     0.67748,     0.67715,     0.67676,     0.67646,     0.67616,     0.67594,     0.67515,     0.67483,     0.67461,     0.67426,     0.67394,      0.6735,     0.67311,     0.67263,     0.67235,     0.67203,\n",
       "            0.67175,     0.67151,      0.6711,     0.67075,     0.67028,     0.66997,     0.66972,     0.66942,     0.66912,      0.6687,     0.66826,     0.66792,     0.66754,     0.66725,     0.66688,     0.66654,     0.66618,     0.66575,     0.66546,     0.66509,     0.66431,       0.664,     0.66363,\n",
       "             0.6631,     0.66259,     0.66217,     0.66186,     0.66131,     0.66076,     0.66041,     0.66008,     0.65979,      0.6594,     0.65907,     0.65861,     0.65818,     0.65779,     0.65744,     0.65715,     0.65674,     0.65639,     0.65593,     0.65546,     0.65511,     0.65478,     0.65437,\n",
       "            0.65396,     0.65347,     0.65308,     0.65267,     0.65233,     0.65193,     0.65154,      0.6511,     0.65062,        0.65,     0.64976,     0.64921,     0.64881,     0.64846,     0.64759,     0.64702,     0.64662,     0.64627,     0.64588,     0.64552,     0.64498,     0.64447,     0.64401,\n",
       "            0.64352,     0.64295,      0.6425,     0.64203,     0.64161,     0.64121,      0.6409,     0.64033,     0.63987,     0.63937,     0.63865,     0.63819,     0.63786,      0.6374,     0.63683,      0.6365,     0.63604,     0.63537,     0.63474,     0.63417,     0.63375,     0.63323,     0.63264,\n",
       "            0.63206,     0.63166,     0.63112,     0.63049,     0.62993,     0.62897,      0.6283,     0.62775,     0.62723,     0.62645,     0.62594,     0.62544,     0.62484,     0.62431,     0.62371,     0.62312,     0.62248,     0.62197,     0.62146,      0.6208,      0.6203,     0.61979,     0.61914,\n",
       "            0.61858,     0.61781,     0.61703,     0.61646,     0.61581,     0.61442,     0.61363,     0.61318,     0.61247,      0.6119,     0.61127,     0.61052,     0.60981,     0.60912,     0.60834,     0.60763,     0.60705,     0.60656,     0.60588,     0.60519,      0.6045,     0.60292,     0.60225,\n",
       "            0.60135,     0.60055,     0.60002,     0.59934,     0.59871,     0.59791,     0.59721,     0.59647,     0.59586,     0.59443,      0.5937,     0.59297,     0.59219,     0.59152,     0.59065,     0.58985,     0.58895,     0.58813,     0.58718,     0.58629,     0.58564,     0.58501,     0.58317,\n",
       "            0.58219,     0.58162,     0.58067,     0.57992,      0.5791,     0.57821,     0.57746,     0.57666,     0.57591,      0.5751,     0.57431,      0.5728,     0.57204,     0.57106,     0.57021,     0.56944,     0.56841,     0.56743,     0.56644,     0.56465,     0.56387,     0.56286,     0.56204,\n",
       "            0.56105,      0.5603,     0.55947,      0.5587,     0.55784,     0.55588,     0.55495,     0.55408,     0.55327,     0.55224,     0.55139,     0.55031,     0.54923,     0.54827,     0.54641,     0.54548,      0.5443,     0.54337,     0.54134,     0.54024,     0.53917,     0.53805,     0.53711,\n",
       "            0.53584,     0.53462,     0.53348,     0.53099,     0.52985,     0.52862,     0.52738,     0.52631,     0.52522,     0.52384,     0.52174,      0.5207,     0.51967,      0.5173,     0.51613,     0.51491,     0.51383,     0.51269,     0.51142,      0.5103,      0.5078,     0.50673,     0.50564,\n",
       "            0.50443,     0.50321,     0.50198,      0.4993,     0.49814,     0.49678,     0.49563,     0.49424,     0.49167,     0.49047,     0.48839,     0.48586,     0.48565,     0.48297,     0.48265,     0.48022,     0.47781,     0.47748,     0.47515,     0.47489,     0.47216,     0.46983,     0.46948,\n",
       "            0.46684,     0.46657,     0.46381,     0.46141,     0.46121,     0.45841,     0.45589,     0.45556,     0.45266,     0.45042,     0.45021,     0.44785,      0.4452,     0.44487,     0.44233,      0.4393,     0.43905,     0.43646,     0.43604,     0.43339,     0.43065,     0.43029,     0.42762,\n",
       "            0.42451,     0.42422,     0.42134,     0.41862,     0.41539,     0.41494,     0.41241,      0.4122,       0.409,      0.4063,     0.40596,     0.40293,     0.40041,     0.40018,     0.39735,     0.39473,      0.3945,     0.39131,     0.38836,     0.38798,     0.38496,     0.38229,     0.37907,\n",
       "            0.37867,      0.3757,     0.37277,     0.36965,      0.3693,       0.366,      0.3635,     0.36319,     0.36038,     0.35756,     0.35429,     0.35405,     0.35128,      0.3481,     0.34787,     0.34497,     0.34197,     0.34174,      0.3388,     0.33572,     0.33246,     0.32959,     0.32924,\n",
       "            0.32617,     0.32354,     0.32038,     0.32011,     0.31709,     0.31476,     0.31185,     0.31154,     0.30859,     0.30606,     0.30315,     0.30294,     0.29969,      0.2969,     0.29401,     0.29132,     0.29103,     0.28804,     0.28515,     0.28248,     0.27983,     0.27718,     0.27695,\n",
       "            0.27415,     0.27134,     0.26899,     0.26633,     0.26612,     0.26358,     0.26085,     0.25824,     0.25543,     0.25262,     0.25238,     0.24992,      0.2471,      0.2446,     0.24207,     0.23935,     0.23693,     0.23451,     0.23224,     0.23196,     0.22976,     0.22718,     0.22464,\n",
       "            0.22246,     0.21999,     0.21759,     0.21539,     0.21519,     0.21333,     0.21078,     0.20862,     0.20633,     0.20427,     0.20199,     0.19983,     0.19748,     0.19557,     0.19353,      0.1916,     0.18966,     0.18775,     0.18591,      0.1836,     0.18166,     0.18005,     0.17817,\n",
       "            0.17634,     0.17433,      0.1725,     0.17077,     0.16855,      0.1668,     0.16503,     0.16311,     0.16111,      0.1573,     0.15555,     0.15397,     0.15195,     0.15034,     0.14862,     0.14692,     0.14518,     0.14355,      0.1419,     0.14018,     0.13856,     0.13554,       0.134,\n",
       "            0.13229,     0.13039,     0.12859,     0.12684,     0.12501,     0.12228,     0.12064,     0.11755,     0.11595,     0.11444,     0.11244,     0.11083,     0.10784,     0.10608,     0.10416,     0.10233,    0.099434,    0.097644,    0.095897,    0.092873,    0.091056,    0.089267,     0.08598,\n",
       "           0.084316,    0.082679,    0.079184,    0.075884,    0.074178,    0.071584,    0.069698,    0.066896,    0.065051,    0.063567,    0.061154,    0.058893,    0.055995,    0.053526,    0.051376,    0.049143,    0.047506,    0.045273,    0.043027,    0.040211,    0.037937,    0.035967,    0.033318,\n",
       "           0.030059,    0.028589,    0.026467,    0.024788,    0.022708,     0.02139,     0.01949,      0.0177,     0.01605,    0.014898,    0.013386,    0.011944,    0.010667,   0.0094325,   0.0082949,   0.0073236,    0.006186,   0.0055336,    0.004909,   0.0042844,   0.0034934,   0.0028272,   0.0023412,\n",
       "          0.0019939,   0.0016049,   0.0012576,  0.00099348,  0.00074321,     0.00059,  0.00047838,   0.0003529,  0.00033555,  0.00032134,   0.0002399,  0.00016988,  0.00014699,  0.00011891,  5.6876e-05,  4.1956e-05,  3.2361e-05,  2.4098e-05,  1.6991e-05,           0,           0,           0,           0,\n",
       "                  0,           0,           0,           0,           0,           0,           0,           0,           0,           0,           0,           0,           0,           0,           0,           0,           0,           0,           0,           0,           0,           0,           0,\n",
       "                  0,           0,           0,           0,           0,           0,           0,           0,           0,           0,           0]]), 'Confidence', 'Recall']]\n",
       "fitness: 0.5601768962655107\n",
       "keys: ['metrics/precision(B)', 'metrics/recall(B)', 'metrics/mAP50(B)', 'metrics/mAP50-95(B)']\n",
       "maps: array([    0.53442])\n",
       "names: {0: 'human'}\n",
       "plot: True\n",
       "results_dict: {'metrics/precision(B)': 0.8534460440632827, 'metrics/recall(B)': 0.7201863483216172, 'metrics/mAP50(B)': 0.7920306394330617, 'metrics/mAP50-95(B)': 0.5344153692468939, 'fitness': 0.5601768962655107}\n",
       "save_dir: WindowsPath('runs/detect/yolov11_run1')\n",
       "speed: {'preprocess': 0.249790083352573, 'inference': 2.923467260800444, 'loss': 0.003443240419183359, 'postprocess': 0.6477528206577385}\n",
       "task: 'detect'"
      ]
     },
     "execution_count": 2,
     "metadata": {},
     "output_type": "execute_result"
    }
   ],
   "source": [
    "from ultralytics import YOLO\n",
    "\n",
    "# Create a YOLOv8 Nano model\n",
    "model = YOLO('yolo11s.pt')  # YOLOv11 Nano pretrained weights\n",
    "\n",
    "# Train the model\n",
    "model.train(\n",
    "    data='./C2A_Dataset/new_dataset3/data.yaml',     # Dataset path and configuration\n",
    "    epochs=50,            # Number of training epochs\n",
    "    batch=16,             # Batch size\n",
    "    imgsz=640,            # Image size for training\n",
    "    name=\"yolov11_run1\" # Experiment name\n",
    ")"
   ]
  },
  {
   "cell_type": "code",
   "execution_count": 3,
   "metadata": {},
   "outputs": [
    {
     "name": "stdout",
     "output_type": "stream",
     "text": [
      "Ultralytics 8.3.25  Python-3.12.5 torch-2.5.1+cu121 CUDA:0 (NVIDIA GeForce RTX 4060 Laptop GPU, 8188MiB)\n",
      "YOLO11s summary (fused): 238 layers, 9,413,187 parameters, 0 gradients, 21.3 GFLOPs\n"
     ]
    },
    {
     "name": "stderr",
     "output_type": "stream",
     "text": [
      "\u001b[34m\u001b[1mval: \u001b[0mScanning C:\\Users\\Karee\\OneDrive\\Desktop\\Fall 2024 AUS\\COE49413\\Project\\Code\\C2A_Dataset\\new_dataset3\\test\\labels... 2043 images, 0 backgrounds, 0 corrupt: 100%|██████████| 2043/2043 [00:03<00:00, 622.29it/s]\n"
     ]
    },
    {
     "name": "stdout",
     "output_type": "stream",
     "text": [
      "\u001b[34m\u001b[1mval: \u001b[0mNew cache created: C:\\Users\\Karee\\OneDrive\\Desktop\\Fall 2024 AUS\\COE49413\\Project\\Code\\C2A_Dataset\\new_dataset3\\test\\labels.cache\n"
     ]
    },
    {
     "name": "stderr",
     "output_type": "stream",
     "text": [
      "                 Class     Images  Instances      Box(P          R      mAP50  mAP50-95): 100%|██████████| 128/128 [00:34<00:00,  3.74it/s]\n"
     ]
    },
    {
     "name": "stdout",
     "output_type": "stream",
     "text": [
      "                   all       2043      72523      0.858      0.728        0.8      0.548\n",
      "Speed: 0.4ms preprocess, 5.5ms inference, 0.0ms loss, 1.2ms postprocess per image\n",
      "Results saved to \u001b[1mruns\\detect\\val3\u001b[0m\n",
      "ultralytics.utils.metrics.DetMetrics object with attributes:\n",
      "\n",
      "ap_class_index: array([0])\n",
      "box: ultralytics.utils.metrics.Metric object\n",
      "confusion_matrix: <ultralytics.utils.metrics.ConfusionMatrix object at 0x00000234A16AACF0>\n",
      "curves: ['Precision-Recall(B)', 'F1-Confidence(B)', 'Precision-Confidence(B)', 'Recall-Confidence(B)']\n",
      "curves_results: [[array([          0,    0.001001,    0.002002,    0.003003,    0.004004,    0.005005,    0.006006,    0.007007,    0.008008,    0.009009,     0.01001,    0.011011,    0.012012,    0.013013,    0.014014,    0.015015,    0.016016,    0.017017,    0.018018,    0.019019,     0.02002,    0.021021,    0.022022,    0.023023,\n",
      "          0.024024,    0.025025,    0.026026,    0.027027,    0.028028,    0.029029,     0.03003,    0.031031,    0.032032,    0.033033,    0.034034,    0.035035,    0.036036,    0.037037,    0.038038,    0.039039,     0.04004,    0.041041,    0.042042,    0.043043,    0.044044,    0.045045,    0.046046,    0.047047,\n",
      "          0.048048,    0.049049,     0.05005,    0.051051,    0.052052,    0.053053,    0.054054,    0.055055,    0.056056,    0.057057,    0.058058,    0.059059,     0.06006,    0.061061,    0.062062,    0.063063,    0.064064,    0.065065,    0.066066,    0.067067,    0.068068,    0.069069,     0.07007,    0.071071,\n",
      "          0.072072,    0.073073,    0.074074,    0.075075,    0.076076,    0.077077,    0.078078,    0.079079,     0.08008,    0.081081,    0.082082,    0.083083,    0.084084,    0.085085,    0.086086,    0.087087,    0.088088,    0.089089,     0.09009,    0.091091,    0.092092,    0.093093,    0.094094,    0.095095,\n",
      "          0.096096,    0.097097,    0.098098,    0.099099,      0.1001,      0.1011,      0.1021,      0.1031,      0.1041,     0.10511,     0.10611,     0.10711,     0.10811,     0.10911,     0.11011,     0.11111,     0.11211,     0.11311,     0.11411,     0.11512,     0.11612,     0.11712,     0.11812,     0.11912,\n",
      "           0.12012,     0.12112,     0.12212,     0.12312,     0.12412,     0.12513,     0.12613,     0.12713,     0.12813,     0.12913,     0.13013,     0.13113,     0.13213,     0.13313,     0.13413,     0.13514,     0.13614,     0.13714,     0.13814,     0.13914,     0.14014,     0.14114,     0.14214,     0.14314,\n",
      "           0.14414,     0.14515,     0.14615,     0.14715,     0.14815,     0.14915,     0.15015,     0.15115,     0.15215,     0.15315,     0.15415,     0.15516,     0.15616,     0.15716,     0.15816,     0.15916,     0.16016,     0.16116,     0.16216,     0.16316,     0.16416,     0.16517,     0.16617,     0.16717,\n",
      "           0.16817,     0.16917,     0.17017,     0.17117,     0.17217,     0.17317,     0.17417,     0.17518,     0.17618,     0.17718,     0.17818,     0.17918,     0.18018,     0.18118,     0.18218,     0.18318,     0.18418,     0.18519,     0.18619,     0.18719,     0.18819,     0.18919,     0.19019,     0.19119,\n",
      "           0.19219,     0.19319,     0.19419,      0.1952,      0.1962,      0.1972,      0.1982,      0.1992,      0.2002,      0.2012,      0.2022,      0.2032,      0.2042,     0.20521,     0.20621,     0.20721,     0.20821,     0.20921,     0.21021,     0.21121,     0.21221,     0.21321,     0.21421,     0.21522,\n",
      "           0.21622,     0.21722,     0.21822,     0.21922,     0.22022,     0.22122,     0.22222,     0.22322,     0.22422,     0.22523,     0.22623,     0.22723,     0.22823,     0.22923,     0.23023,     0.23123,     0.23223,     0.23323,     0.23423,     0.23524,     0.23624,     0.23724,     0.23824,     0.23924,\n",
      "           0.24024,     0.24124,     0.24224,     0.24324,     0.24424,     0.24525,     0.24625,     0.24725,     0.24825,     0.24925,     0.25025,     0.25125,     0.25225,     0.25325,     0.25425,     0.25526,     0.25626,     0.25726,     0.25826,     0.25926,     0.26026,     0.26126,     0.26226,     0.26326,\n",
      "           0.26426,     0.26527,     0.26627,     0.26727,     0.26827,     0.26927,     0.27027,     0.27127,     0.27227,     0.27327,     0.27427,     0.27528,     0.27628,     0.27728,     0.27828,     0.27928,     0.28028,     0.28128,     0.28228,     0.28328,     0.28428,     0.28529,     0.28629,     0.28729,\n",
      "           0.28829,     0.28929,     0.29029,     0.29129,     0.29229,     0.29329,     0.29429,      0.2953,      0.2963,      0.2973,      0.2983,      0.2993,      0.3003,      0.3013,      0.3023,      0.3033,      0.3043,     0.30531,     0.30631,     0.30731,     0.30831,     0.30931,     0.31031,     0.31131,\n",
      "           0.31231,     0.31331,     0.31431,     0.31532,     0.31632,     0.31732,     0.31832,     0.31932,     0.32032,     0.32132,     0.32232,     0.32332,     0.32432,     0.32533,     0.32633,     0.32733,     0.32833,     0.32933,     0.33033,     0.33133,     0.33233,     0.33333,     0.33433,     0.33534,\n",
      "           0.33634,     0.33734,     0.33834,     0.33934,     0.34034,     0.34134,     0.34234,     0.34334,     0.34434,     0.34535,     0.34635,     0.34735,     0.34835,     0.34935,     0.35035,     0.35135,     0.35235,     0.35335,     0.35435,     0.35536,     0.35636,     0.35736,     0.35836,     0.35936,\n",
      "           0.36036,     0.36136,     0.36236,     0.36336,     0.36436,     0.36537,     0.36637,     0.36737,     0.36837,     0.36937,     0.37037,     0.37137,     0.37237,     0.37337,     0.37437,     0.37538,     0.37638,     0.37738,     0.37838,     0.37938,     0.38038,     0.38138,     0.38238,     0.38338,\n",
      "           0.38438,     0.38539,     0.38639,     0.38739,     0.38839,     0.38939,     0.39039,     0.39139,     0.39239,     0.39339,     0.39439,      0.3954,      0.3964,      0.3974,      0.3984,      0.3994,      0.4004,      0.4014,      0.4024,      0.4034,      0.4044,     0.40541,     0.40641,     0.40741,\n",
      "           0.40841,     0.40941,     0.41041,     0.41141,     0.41241,     0.41341,     0.41441,     0.41542,     0.41642,     0.41742,     0.41842,     0.41942,     0.42042,     0.42142,     0.42242,     0.42342,     0.42442,     0.42543,     0.42643,     0.42743,     0.42843,     0.42943,     0.43043,     0.43143,\n",
      "           0.43243,     0.43343,     0.43443,     0.43544,     0.43644,     0.43744,     0.43844,     0.43944,     0.44044,     0.44144,     0.44244,     0.44344,     0.44444,     0.44545,     0.44645,     0.44745,     0.44845,     0.44945,     0.45045,     0.45145,     0.45245,     0.45345,     0.45445,     0.45546,\n",
      "           0.45646,     0.45746,     0.45846,     0.45946,     0.46046,     0.46146,     0.46246,     0.46346,     0.46446,     0.46547,     0.46647,     0.46747,     0.46847,     0.46947,     0.47047,     0.47147,     0.47247,     0.47347,     0.47447,     0.47548,     0.47648,     0.47748,     0.47848,     0.47948,\n",
      "           0.48048,     0.48148,     0.48248,     0.48348,     0.48448,     0.48549,     0.48649,     0.48749,     0.48849,     0.48949,     0.49049,     0.49149,     0.49249,     0.49349,     0.49449,      0.4955,      0.4965,      0.4975,      0.4985,      0.4995,      0.5005,      0.5015,      0.5025,      0.5035,\n",
      "            0.5045,     0.50551,     0.50651,     0.50751,     0.50851,     0.50951,     0.51051,     0.51151,     0.51251,     0.51351,     0.51451,     0.51552,     0.51652,     0.51752,     0.51852,     0.51952,     0.52052,     0.52152,     0.52252,     0.52352,     0.52452,     0.52553,     0.52653,     0.52753,\n",
      "           0.52853,     0.52953,     0.53053,     0.53153,     0.53253,     0.53353,     0.53453,     0.53554,     0.53654,     0.53754,     0.53854,     0.53954,     0.54054,     0.54154,     0.54254,     0.54354,     0.54454,     0.54555,     0.54655,     0.54755,     0.54855,     0.54955,     0.55055,     0.55155,\n",
      "           0.55255,     0.55355,     0.55455,     0.55556,     0.55656,     0.55756,     0.55856,     0.55956,     0.56056,     0.56156,     0.56256,     0.56356,     0.56456,     0.56557,     0.56657,     0.56757,     0.56857,     0.56957,     0.57057,     0.57157,     0.57257,     0.57357,     0.57457,     0.57558,\n",
      "           0.57658,     0.57758,     0.57858,     0.57958,     0.58058,     0.58158,     0.58258,     0.58358,     0.58458,     0.58559,     0.58659,     0.58759,     0.58859,     0.58959,     0.59059,     0.59159,     0.59259,     0.59359,     0.59459,      0.5956,      0.5966,      0.5976,      0.5986,      0.5996,\n",
      "            0.6006,      0.6016,      0.6026,      0.6036,      0.6046,     0.60561,     0.60661,     0.60761,     0.60861,     0.60961,     0.61061,     0.61161,     0.61261,     0.61361,     0.61461,     0.61562,     0.61662,     0.61762,     0.61862,     0.61962,     0.62062,     0.62162,     0.62262,     0.62362,\n",
      "           0.62462,     0.62563,     0.62663,     0.62763,     0.62863,     0.62963,     0.63063,     0.63163,     0.63263,     0.63363,     0.63463,     0.63564,     0.63664,     0.63764,     0.63864,     0.63964,     0.64064,     0.64164,     0.64264,     0.64364,     0.64464,     0.64565,     0.64665,     0.64765,\n",
      "           0.64865,     0.64965,     0.65065,     0.65165,     0.65265,     0.65365,     0.65465,     0.65566,     0.65666,     0.65766,     0.65866,     0.65966,     0.66066,     0.66166,     0.66266,     0.66366,     0.66466,     0.66567,     0.66667,     0.66767,     0.66867,     0.66967,     0.67067,     0.67167,\n",
      "           0.67267,     0.67367,     0.67467,     0.67568,     0.67668,     0.67768,     0.67868,     0.67968,     0.68068,     0.68168,     0.68268,     0.68368,     0.68468,     0.68569,     0.68669,     0.68769,     0.68869,     0.68969,     0.69069,     0.69169,     0.69269,     0.69369,     0.69469,      0.6957,\n",
      "            0.6967,      0.6977,      0.6987,      0.6997,      0.7007,      0.7017,      0.7027,      0.7037,      0.7047,     0.70571,     0.70671,     0.70771,     0.70871,     0.70971,     0.71071,     0.71171,     0.71271,     0.71371,     0.71471,     0.71572,     0.71672,     0.71772,     0.71872,     0.71972,\n",
      "           0.72072,     0.72172,     0.72272,     0.72372,     0.72472,     0.72573,     0.72673,     0.72773,     0.72873,     0.72973,     0.73073,     0.73173,     0.73273,     0.73373,     0.73473,     0.73574,     0.73674,     0.73774,     0.73874,     0.73974,     0.74074,     0.74174,     0.74274,     0.74374,\n",
      "           0.74474,     0.74575,     0.74675,     0.74775,     0.74875,     0.74975,     0.75075,     0.75175,     0.75275,     0.75375,     0.75475,     0.75576,     0.75676,     0.75776,     0.75876,     0.75976,     0.76076,     0.76176,     0.76276,     0.76376,     0.76476,     0.76577,     0.76677,     0.76777,\n",
      "           0.76877,     0.76977,     0.77077,     0.77177,     0.77277,     0.77377,     0.77477,     0.77578,     0.77678,     0.77778,     0.77878,     0.77978,     0.78078,     0.78178,     0.78278,     0.78378,     0.78478,     0.78579,     0.78679,     0.78779,     0.78879,     0.78979,     0.79079,     0.79179,\n",
      "           0.79279,     0.79379,     0.79479,      0.7958,      0.7968,      0.7978,      0.7988,      0.7998,      0.8008,      0.8018,      0.8028,      0.8038,      0.8048,     0.80581,     0.80681,     0.80781,     0.80881,     0.80981,     0.81081,     0.81181,     0.81281,     0.81381,     0.81481,     0.81582,\n",
      "           0.81682,     0.81782,     0.81882,     0.81982,     0.82082,     0.82182,     0.82282,     0.82382,     0.82482,     0.82583,     0.82683,     0.82783,     0.82883,     0.82983,     0.83083,     0.83183,     0.83283,     0.83383,     0.83483,     0.83584,     0.83684,     0.83784,     0.83884,     0.83984,\n",
      "           0.84084,     0.84184,     0.84284,     0.84384,     0.84484,     0.84585,     0.84685,     0.84785,     0.84885,     0.84985,     0.85085,     0.85185,     0.85285,     0.85385,     0.85485,     0.85586,     0.85686,     0.85786,     0.85886,     0.85986,     0.86086,     0.86186,     0.86286,     0.86386,\n",
      "           0.86486,     0.86587,     0.86687,     0.86787,     0.86887,     0.86987,     0.87087,     0.87187,     0.87287,     0.87387,     0.87487,     0.87588,     0.87688,     0.87788,     0.87888,     0.87988,     0.88088,     0.88188,     0.88288,     0.88388,     0.88488,     0.88589,     0.88689,     0.88789,\n",
      "           0.88889,     0.88989,     0.89089,     0.89189,     0.89289,     0.89389,     0.89489,      0.8959,      0.8969,      0.8979,      0.8989,      0.8999,      0.9009,      0.9019,      0.9029,      0.9039,      0.9049,     0.90591,     0.90691,     0.90791,     0.90891,     0.90991,     0.91091,     0.91191,\n",
      "           0.91291,     0.91391,     0.91491,     0.91592,     0.91692,     0.91792,     0.91892,     0.91992,     0.92092,     0.92192,     0.92292,     0.92392,     0.92492,     0.92593,     0.92693,     0.92793,     0.92893,     0.92993,     0.93093,     0.93193,     0.93293,     0.93393,     0.93493,     0.93594,\n",
      "           0.93694,     0.93794,     0.93894,     0.93994,     0.94094,     0.94194,     0.94294,     0.94394,     0.94494,     0.94595,     0.94695,     0.94795,     0.94895,     0.94995,     0.95095,     0.95195,     0.95295,     0.95395,     0.95495,     0.95596,     0.95696,     0.95796,     0.95896,     0.95996,\n",
      "           0.96096,     0.96196,     0.96296,     0.96396,     0.96496,     0.96597,     0.96697,     0.96797,     0.96897,     0.96997,     0.97097,     0.97197,     0.97297,     0.97397,     0.97497,     0.97598,     0.97698,     0.97798,     0.97898,     0.97998,     0.98098,     0.98198,     0.98298,     0.98398,\n",
      "           0.98498,     0.98599,     0.98699,     0.98799,     0.98899,     0.98999,     0.99099,     0.99199,     0.99299,     0.99399,     0.99499,       0.996,       0.997,       0.998,       0.999,           1]), array([[          1,           1,           1,           1,           1,           1,           1,           1,           1,           1,           1,           1,           1,           1,           1,           1,           1,           1,     0.99932,     0.99932,     0.99932,     0.99887,     0.99887,\n",
      "            0.99887,     0.99887,     0.99887,     0.99887,     0.99887,     0.99887,     0.99887,     0.99887,     0.99887,     0.99887,     0.99887,     0.99887,     0.99887,     0.99887,     0.99887,     0.99887,     0.99887,     0.99887,     0.99887,     0.99887,     0.99887,     0.99887,     0.99887,\n",
      "            0.99887,     0.99887,     0.99887,     0.99867,     0.99867,     0.99867,      0.9985,      0.9985,      0.9985,      0.9985,      0.9985,      0.9985,      0.9985,      0.9985,      0.9985,      0.9985,      0.9985,      0.9985,      0.9985,      0.9985,      0.9985,      0.9985,      0.9985,\n",
      "             0.9985,      0.9985,      0.9985,      0.9985,      0.9985,      0.9985,      0.9985,      0.9985,      0.9985,      0.9985,      0.9985,      0.9985,      0.9985,      0.9985,     0.99845,     0.99845,     0.99845,     0.99845,     0.99845,     0.99845,     0.99831,     0.99823,     0.99823,\n",
      "            0.99823,     0.99823,     0.99814,     0.99814,     0.99814,     0.99802,     0.99801,     0.99801,     0.99801,     0.99801,     0.99801,     0.99801,     0.99793,     0.99793,     0.99793,     0.99776,     0.99776,     0.99776,     0.99776,     0.99768,     0.99768,     0.99758,     0.99756,\n",
      "            0.99756,     0.99756,     0.99756,     0.99756,     0.99747,     0.99742,     0.99742,     0.99742,     0.99732,     0.99713,     0.99694,     0.99685,     0.99678,     0.99678,     0.99673,     0.99664,     0.99655,     0.99647,     0.99626,     0.99626,     0.99626,      0.9962,      0.9962,\n",
      "            0.99602,     0.99602,     0.99602,     0.99602,     0.99585,     0.99581,     0.99581,     0.99578,     0.99578,     0.99564,     0.99548,     0.99548,     0.99548,     0.99548,     0.99548,     0.99548,     0.99548,     0.99533,     0.99525,     0.99513,     0.99509,     0.99509,     0.99496,\n",
      "             0.9949,     0.99485,     0.99479,     0.99466,     0.99449,     0.99449,     0.99445,     0.99438,     0.99433,      0.9942,     0.99401,     0.99387,     0.99383,     0.99372,     0.99353,     0.99348,     0.99343,     0.99332,      0.9933,     0.99326,     0.99322,     0.99304,     0.99292,\n",
      "            0.99287,     0.99286,     0.99281,     0.99275,     0.99275,     0.99266,     0.99266,     0.99263,     0.99263,     0.99263,     0.99263,     0.99259,     0.99226,     0.99222,     0.99222,     0.99214,     0.99213,     0.99213,     0.99209,     0.99204,     0.99204,     0.99195,     0.99185,\n",
      "            0.99176,      0.9916,     0.99144,     0.99136,      0.9912,      0.9908,     0.99059,     0.99058,     0.99058,     0.99041,     0.99014,        0.99,     0.98991,     0.98984,     0.98977,     0.98969,     0.98951,     0.98951,     0.98941,     0.98939,     0.98935,     0.98925,     0.98925,\n",
      "            0.98916,     0.98905,     0.98896,      0.9887,     0.98868,     0.98856,     0.98847,     0.98829,     0.98801,       0.988,     0.98793,     0.98781,     0.98771,     0.98764,     0.98751,     0.98736,     0.98724,     0.98712,     0.98696,     0.98692,     0.98671,     0.98658,     0.98647,\n",
      "            0.98641,     0.98639,     0.98627,     0.98595,     0.98576,     0.98576,     0.98569,     0.98519,     0.98504,     0.98475,     0.98459,     0.98429,     0.98421,     0.98392,     0.98386,     0.98378,     0.98317,     0.98296,     0.98285,     0.98281,     0.98281,     0.98257,      0.9825,\n",
      "            0.98237,     0.98233,     0.98221,     0.98213,     0.98213,     0.98191,     0.98188,      0.9818,     0.98159,     0.98145,     0.98134,     0.98112,     0.98086,     0.98081,     0.98076,     0.98057,     0.98051,     0.98037,     0.98014,     0.97987,     0.97954,     0.97947,     0.97921,\n",
      "            0.97908,      0.9787,      0.9787,      0.9784,     0.97817,     0.97807,     0.97793,      0.9778,     0.97765,     0.97759,     0.97738,     0.97738,     0.97738,     0.97714,     0.97704,     0.97704,      0.9769,     0.97676,      0.9766,     0.97653,     0.97633,     0.97633,      0.9761,\n",
      "              0.976,     0.97581,     0.97564,     0.97557,     0.97544,     0.97523,     0.97507,     0.97507,     0.97507,     0.97495,     0.97481,     0.97468,     0.97432,     0.97405,     0.97381,     0.97375,     0.97375,     0.97364,     0.97347,     0.97323,      0.9732,     0.97304,     0.97287,\n",
      "            0.97277,      0.9725,     0.97245,     0.97227,     0.97197,     0.97189,     0.97175,      0.9716,     0.97157,     0.97144,     0.97142,     0.97121,     0.97111,     0.97091,      0.9707,     0.97053,     0.97029,     0.97014,     0.96997,     0.96977,     0.96963,     0.96927,     0.96926,\n",
      "            0.96916,     0.96909,     0.96905,     0.96878,     0.96855,     0.96836,     0.96825,     0.96801,     0.96782,     0.96761,     0.96743,      0.9672,     0.96678,      0.9667,      0.9666,      0.9665,     0.96638,     0.96613,     0.96613,     0.96597,     0.96582,     0.96558,     0.96554,\n",
      "            0.96548,     0.96518,     0.96494,     0.96475,     0.96452,     0.96441,     0.96425,     0.96423,     0.96414,     0.96405,     0.96389,     0.96387,     0.96361,     0.96342,     0.96335,     0.96324,     0.96305,     0.96292,     0.96284,     0.96269,     0.96247,     0.96228,     0.96205,\n",
      "            0.96198,     0.96184,     0.96179,     0.96166,     0.96142,     0.96129,       0.961,     0.96077,     0.96044,     0.96022,     0.96014,     0.95997,     0.95973,     0.95961,     0.95949,     0.95931,     0.95899,     0.95893,     0.95873,     0.95845,      0.9583,     0.95809,     0.95803,\n",
      "            0.95786,     0.95773,     0.95754,     0.95737,     0.95723,     0.95716,     0.95706,     0.95698,     0.95686,     0.95673,     0.95658,     0.95625,     0.95615,     0.95605,     0.95587,      0.9557,     0.95557,     0.95528,     0.95504,       0.955,     0.95491,     0.95469,     0.95451,\n",
      "            0.95442,     0.95428,     0.95413,     0.95405,     0.95379,     0.95364,     0.95345,     0.95325,     0.95313,     0.95305,       0.953,      0.9527,     0.95258,     0.95248,     0.95232,     0.95221,     0.95201,     0.95192,     0.95168,      0.9515,     0.95135,     0.95125,     0.95109,\n",
      "             0.9509,     0.95088,     0.95075,     0.95053,     0.95047,     0.95047,     0.95026,     0.95017,     0.95008,      0.9499,     0.94973,     0.94956,     0.94914,     0.94898,     0.94884,     0.94871,     0.94859,      0.9485,     0.94825,     0.94812,     0.94788,     0.94768,      0.9476,\n",
      "             0.9476,     0.94746,     0.94733,      0.9471,     0.94702,     0.94691,     0.94681,     0.94663,     0.94638,      0.9462,     0.94604,     0.94587,     0.94561,     0.94542,     0.94527,     0.94518,     0.94516,     0.94504,     0.94486,     0.94468,     0.94459,     0.94429,     0.94414,\n",
      "            0.94394,     0.94355,     0.94348,     0.94336,     0.94309,     0.94284,     0.94258,     0.94227,     0.94217,     0.94206,     0.94174,     0.94145,     0.94121,     0.94101,     0.94094,     0.94087,      0.9407,     0.94046,     0.94026,     0.93991,     0.93976,     0.93961,     0.93946,\n",
      "            0.93919,     0.93912,     0.93899,     0.93871,     0.93856,     0.93835,      0.9381,      0.9378,     0.93747,       0.937,     0.93677,      0.9366,     0.93658,     0.93646,     0.93621,     0.93603,     0.93581,     0.93555,     0.93536,      0.9352,     0.93506,     0.93487,     0.93472,\n",
      "             0.9345,     0.93442,     0.93423,     0.93411,     0.93384,     0.93353,     0.93323,      0.9328,     0.93248,     0.93224,     0.93202,      0.9318,     0.93159,      0.9312,     0.93071,      0.9306,     0.93032,     0.93016,     0.93001,     0.92976,     0.92947,     0.92924,      0.9291,\n",
      "            0.92894,     0.92871,     0.92841,     0.92815,     0.92784,     0.92746,     0.92722,     0.92707,     0.92683,     0.92665,     0.92642,     0.92624,     0.92602,     0.92568,     0.92541,     0.92533,     0.92506,     0.92475,      0.9245,     0.92439,     0.92403,     0.92396,     0.92375,\n",
      "            0.92362,     0.92346,     0.92316,     0.92297,     0.92279,     0.92246,     0.92213,     0.92176,     0.92139,     0.92106,     0.92092,     0.92066,     0.92016,     0.91983,     0.91965,     0.91947,     0.91894,     0.91868,     0.91842,     0.91826,     0.91801,     0.91763,     0.91725,\n",
      "            0.91704,     0.91671,     0.91637,     0.91585,     0.91566,     0.91512,     0.91482,     0.91443,     0.91417,     0.91361,     0.91306,     0.91255,     0.91204,     0.91169,     0.91098,      0.9105,     0.91008,     0.90974,     0.90935,     0.90899,     0.90864,     0.90808,     0.90757,\n",
      "             0.9071,      0.9067,     0.90614,     0.90544,     0.90511,     0.90435,     0.90377,     0.90313,     0.90252,      0.9022,     0.90172,     0.90115,     0.90057,      0.9003,     0.89958,     0.89904,     0.89849,     0.89801,     0.89749,     0.89674,     0.89589,     0.89541,     0.89484,\n",
      "            0.89418,     0.89347,     0.89271,     0.89208,     0.89128,     0.89069,     0.88992,     0.88908,     0.88845,      0.8878,     0.88673,     0.88595,     0.88504,      0.8844,     0.88366,     0.88279,     0.88151,     0.88069,     0.87956,     0.87875,     0.87791,     0.87686,     0.87549,\n",
      "            0.87452,     0.87323,     0.87245,     0.87158,     0.87054,     0.86962,     0.86839,     0.86722,     0.86582,     0.86444,     0.86329,     0.86204,     0.86096,     0.85975,     0.85833,     0.85711,     0.85553,     0.85396,      0.8525,     0.85083,     0.84937,     0.84777,     0.84591,\n",
      "            0.84455,     0.84274,     0.84124,     0.83972,     0.83723,     0.83541,     0.83321,     0.83175,     0.83026,     0.82828,     0.82599,     0.82404,     0.82201,     0.81971,     0.81805,     0.81655,     0.81487,     0.81301,     0.81089,     0.80916,     0.80712,     0.80477,     0.80264,\n",
      "            0.80067,     0.79872,     0.79674,     0.79471,     0.79243,     0.79054,     0.78786,      0.7852,     0.78227,     0.77996,     0.77745,     0.77477,     0.77241,     0.77047,     0.76795,     0.76577,     0.76271,     0.76005,     0.75738,     0.75485,     0.75241,     0.74921,     0.74699,\n",
      "            0.74347,     0.74087,     0.73855,     0.73462,      0.7309,     0.72828,     0.72437,     0.72091,      0.7182,     0.71522,     0.71012,     0.70637,     0.70225,     0.69806,     0.69413,      0.6902,     0.68591,     0.68252,     0.67733,     0.67321,     0.66923,     0.66541,     0.66168,\n",
      "            0.65595,     0.65095,      0.6453,     0.64002,     0.63578,     0.63113,     0.62651,     0.62149,     0.61584,     0.61002,     0.60409,     0.59804,     0.59278,      0.5861,     0.58121,     0.57547,     0.57038,     0.56527,     0.55922,     0.55361,     0.54711,     0.54183,     0.53655,\n",
      "            0.53105,       0.526,     0.51887,     0.51158,      0.5045,     0.49813,     0.49183,     0.48439,     0.47861,     0.47159,     0.46488,     0.45744,     0.44952,     0.44359,     0.43667,     0.42908,     0.42199,     0.41532,     0.40903,     0.40154,     0.39431,     0.38685,      0.3782,\n",
      "            0.37179,     0.36534,     0.35721,     0.34852,     0.34271,     0.33597,     0.32896,      0.3209,     0.31346,     0.30681,      0.2991,     0.29267,      0.2871,     0.28021,     0.27349,     0.26569,     0.25646,     0.24896,     0.24119,     0.23295,     0.22406,       0.215,     0.20777,\n",
      "            0.19899,     0.18869,     0.17817,     0.16733,     0.15681,      0.1466,     0.13523,     0.12238,       0.119,     0.11799,     0.11697,     0.11595,     0.11494,     0.11392,      0.1129,     0.11188,     0.11087,     0.10985,     0.10883,     0.10782,      0.1068,     0.10578,     0.10476,\n",
      "            0.10375,     0.10273,     0.10171,      0.1007,    0.099679,    0.098662,    0.097645,    0.096628,     0.09561,    0.094593,    0.093576,    0.092559,    0.091542,    0.090525,    0.089508,     0.08849,    0.087473,    0.086456,    0.085439,    0.084422,    0.083405,    0.082388,    0.081371,\n",
      "           0.080353,    0.079336,    0.078319,    0.077302,    0.076285,    0.075268,    0.074251,    0.073234,    0.072216,    0.071199,    0.070182,    0.069165,    0.068148,    0.067131,    0.066114,    0.065096,    0.064079,    0.063062,    0.062045,    0.061028,    0.060011,    0.058994,    0.057977,\n",
      "           0.056959,    0.055942,    0.054925,    0.053908,    0.052891,    0.051874,    0.050857,    0.049839,    0.048822,    0.047805,    0.046788,    0.045771,    0.044754,    0.043737,     0.04272,    0.041702,    0.040685,    0.039668,    0.038651,    0.037634,    0.036617,      0.0356,    0.034582,\n",
      "           0.033565,    0.032548,    0.031531,    0.030514,    0.029497,     0.02848,    0.027463,    0.026445,    0.025428,    0.024411,    0.023394,    0.022377,     0.02136,    0.020343,    0.019326,    0.018308,    0.017291,    0.016274,    0.015257,     0.01424,    0.013223,    0.012206,    0.011188,\n",
      "           0.010171,   0.0091542,   0.0081371,   0.0071199,   0.0061028,   0.0050857,   0.0040685,   0.0030514,   0.0020343,   0.0010171,           0]]), 'Recall', 'Precision'], [array([          0,    0.001001,    0.002002,    0.003003,    0.004004,    0.005005,    0.006006,    0.007007,    0.008008,    0.009009,     0.01001,    0.011011,    0.012012,    0.013013,    0.014014,    0.015015,    0.016016,    0.017017,    0.018018,    0.019019,     0.02002,    0.021021,    0.022022,    0.023023,\n",
      "          0.024024,    0.025025,    0.026026,    0.027027,    0.028028,    0.029029,     0.03003,    0.031031,    0.032032,    0.033033,    0.034034,    0.035035,    0.036036,    0.037037,    0.038038,    0.039039,     0.04004,    0.041041,    0.042042,    0.043043,    0.044044,    0.045045,    0.046046,    0.047047,\n",
      "          0.048048,    0.049049,     0.05005,    0.051051,    0.052052,    0.053053,    0.054054,    0.055055,    0.056056,    0.057057,    0.058058,    0.059059,     0.06006,    0.061061,    0.062062,    0.063063,    0.064064,    0.065065,    0.066066,    0.067067,    0.068068,    0.069069,     0.07007,    0.071071,\n",
      "          0.072072,    0.073073,    0.074074,    0.075075,    0.076076,    0.077077,    0.078078,    0.079079,     0.08008,    0.081081,    0.082082,    0.083083,    0.084084,    0.085085,    0.086086,    0.087087,    0.088088,    0.089089,     0.09009,    0.091091,    0.092092,    0.093093,    0.094094,    0.095095,\n",
      "          0.096096,    0.097097,    0.098098,    0.099099,      0.1001,      0.1011,      0.1021,      0.1031,      0.1041,     0.10511,     0.10611,     0.10711,     0.10811,     0.10911,     0.11011,     0.11111,     0.11211,     0.11311,     0.11411,     0.11512,     0.11612,     0.11712,     0.11812,     0.11912,\n",
      "           0.12012,     0.12112,     0.12212,     0.12312,     0.12412,     0.12513,     0.12613,     0.12713,     0.12813,     0.12913,     0.13013,     0.13113,     0.13213,     0.13313,     0.13413,     0.13514,     0.13614,     0.13714,     0.13814,     0.13914,     0.14014,     0.14114,     0.14214,     0.14314,\n",
      "           0.14414,     0.14515,     0.14615,     0.14715,     0.14815,     0.14915,     0.15015,     0.15115,     0.15215,     0.15315,     0.15415,     0.15516,     0.15616,     0.15716,     0.15816,     0.15916,     0.16016,     0.16116,     0.16216,     0.16316,     0.16416,     0.16517,     0.16617,     0.16717,\n",
      "           0.16817,     0.16917,     0.17017,     0.17117,     0.17217,     0.17317,     0.17417,     0.17518,     0.17618,     0.17718,     0.17818,     0.17918,     0.18018,     0.18118,     0.18218,     0.18318,     0.18418,     0.18519,     0.18619,     0.18719,     0.18819,     0.18919,     0.19019,     0.19119,\n",
      "           0.19219,     0.19319,     0.19419,      0.1952,      0.1962,      0.1972,      0.1982,      0.1992,      0.2002,      0.2012,      0.2022,      0.2032,      0.2042,     0.20521,     0.20621,     0.20721,     0.20821,     0.20921,     0.21021,     0.21121,     0.21221,     0.21321,     0.21421,     0.21522,\n",
      "           0.21622,     0.21722,     0.21822,     0.21922,     0.22022,     0.22122,     0.22222,     0.22322,     0.22422,     0.22523,     0.22623,     0.22723,     0.22823,     0.22923,     0.23023,     0.23123,     0.23223,     0.23323,     0.23423,     0.23524,     0.23624,     0.23724,     0.23824,     0.23924,\n",
      "           0.24024,     0.24124,     0.24224,     0.24324,     0.24424,     0.24525,     0.24625,     0.24725,     0.24825,     0.24925,     0.25025,     0.25125,     0.25225,     0.25325,     0.25425,     0.25526,     0.25626,     0.25726,     0.25826,     0.25926,     0.26026,     0.26126,     0.26226,     0.26326,\n",
      "           0.26426,     0.26527,     0.26627,     0.26727,     0.26827,     0.26927,     0.27027,     0.27127,     0.27227,     0.27327,     0.27427,     0.27528,     0.27628,     0.27728,     0.27828,     0.27928,     0.28028,     0.28128,     0.28228,     0.28328,     0.28428,     0.28529,     0.28629,     0.28729,\n",
      "           0.28829,     0.28929,     0.29029,     0.29129,     0.29229,     0.29329,     0.29429,      0.2953,      0.2963,      0.2973,      0.2983,      0.2993,      0.3003,      0.3013,      0.3023,      0.3033,      0.3043,     0.30531,     0.30631,     0.30731,     0.30831,     0.30931,     0.31031,     0.31131,\n",
      "           0.31231,     0.31331,     0.31431,     0.31532,     0.31632,     0.31732,     0.31832,     0.31932,     0.32032,     0.32132,     0.32232,     0.32332,     0.32432,     0.32533,     0.32633,     0.32733,     0.32833,     0.32933,     0.33033,     0.33133,     0.33233,     0.33333,     0.33433,     0.33534,\n",
      "           0.33634,     0.33734,     0.33834,     0.33934,     0.34034,     0.34134,     0.34234,     0.34334,     0.34434,     0.34535,     0.34635,     0.34735,     0.34835,     0.34935,     0.35035,     0.35135,     0.35235,     0.35335,     0.35435,     0.35536,     0.35636,     0.35736,     0.35836,     0.35936,\n",
      "           0.36036,     0.36136,     0.36236,     0.36336,     0.36436,     0.36537,     0.36637,     0.36737,     0.36837,     0.36937,     0.37037,     0.37137,     0.37237,     0.37337,     0.37437,     0.37538,     0.37638,     0.37738,     0.37838,     0.37938,     0.38038,     0.38138,     0.38238,     0.38338,\n",
      "           0.38438,     0.38539,     0.38639,     0.38739,     0.38839,     0.38939,     0.39039,     0.39139,     0.39239,     0.39339,     0.39439,      0.3954,      0.3964,      0.3974,      0.3984,      0.3994,      0.4004,      0.4014,      0.4024,      0.4034,      0.4044,     0.40541,     0.40641,     0.40741,\n",
      "           0.40841,     0.40941,     0.41041,     0.41141,     0.41241,     0.41341,     0.41441,     0.41542,     0.41642,     0.41742,     0.41842,     0.41942,     0.42042,     0.42142,     0.42242,     0.42342,     0.42442,     0.42543,     0.42643,     0.42743,     0.42843,     0.42943,     0.43043,     0.43143,\n",
      "           0.43243,     0.43343,     0.43443,     0.43544,     0.43644,     0.43744,     0.43844,     0.43944,     0.44044,     0.44144,     0.44244,     0.44344,     0.44444,     0.44545,     0.44645,     0.44745,     0.44845,     0.44945,     0.45045,     0.45145,     0.45245,     0.45345,     0.45445,     0.45546,\n",
      "           0.45646,     0.45746,     0.45846,     0.45946,     0.46046,     0.46146,     0.46246,     0.46346,     0.46446,     0.46547,     0.46647,     0.46747,     0.46847,     0.46947,     0.47047,     0.47147,     0.47247,     0.47347,     0.47447,     0.47548,     0.47648,     0.47748,     0.47848,     0.47948,\n",
      "           0.48048,     0.48148,     0.48248,     0.48348,     0.48448,     0.48549,     0.48649,     0.48749,     0.48849,     0.48949,     0.49049,     0.49149,     0.49249,     0.49349,     0.49449,      0.4955,      0.4965,      0.4975,      0.4985,      0.4995,      0.5005,      0.5015,      0.5025,      0.5035,\n",
      "            0.5045,     0.50551,     0.50651,     0.50751,     0.50851,     0.50951,     0.51051,     0.51151,     0.51251,     0.51351,     0.51451,     0.51552,     0.51652,     0.51752,     0.51852,     0.51952,     0.52052,     0.52152,     0.52252,     0.52352,     0.52452,     0.52553,     0.52653,     0.52753,\n",
      "           0.52853,     0.52953,     0.53053,     0.53153,     0.53253,     0.53353,     0.53453,     0.53554,     0.53654,     0.53754,     0.53854,     0.53954,     0.54054,     0.54154,     0.54254,     0.54354,     0.54454,     0.54555,     0.54655,     0.54755,     0.54855,     0.54955,     0.55055,     0.55155,\n",
      "           0.55255,     0.55355,     0.55455,     0.55556,     0.55656,     0.55756,     0.55856,     0.55956,     0.56056,     0.56156,     0.56256,     0.56356,     0.56456,     0.56557,     0.56657,     0.56757,     0.56857,     0.56957,     0.57057,     0.57157,     0.57257,     0.57357,     0.57457,     0.57558,\n",
      "           0.57658,     0.57758,     0.57858,     0.57958,     0.58058,     0.58158,     0.58258,     0.58358,     0.58458,     0.58559,     0.58659,     0.58759,     0.58859,     0.58959,     0.59059,     0.59159,     0.59259,     0.59359,     0.59459,      0.5956,      0.5966,      0.5976,      0.5986,      0.5996,\n",
      "            0.6006,      0.6016,      0.6026,      0.6036,      0.6046,     0.60561,     0.60661,     0.60761,     0.60861,     0.60961,     0.61061,     0.61161,     0.61261,     0.61361,     0.61461,     0.61562,     0.61662,     0.61762,     0.61862,     0.61962,     0.62062,     0.62162,     0.62262,     0.62362,\n",
      "           0.62462,     0.62563,     0.62663,     0.62763,     0.62863,     0.62963,     0.63063,     0.63163,     0.63263,     0.63363,     0.63463,     0.63564,     0.63664,     0.63764,     0.63864,     0.63964,     0.64064,     0.64164,     0.64264,     0.64364,     0.64464,     0.64565,     0.64665,     0.64765,\n",
      "           0.64865,     0.64965,     0.65065,     0.65165,     0.65265,     0.65365,     0.65465,     0.65566,     0.65666,     0.65766,     0.65866,     0.65966,     0.66066,     0.66166,     0.66266,     0.66366,     0.66466,     0.66567,     0.66667,     0.66767,     0.66867,     0.66967,     0.67067,     0.67167,\n",
      "           0.67267,     0.67367,     0.67467,     0.67568,     0.67668,     0.67768,     0.67868,     0.67968,     0.68068,     0.68168,     0.68268,     0.68368,     0.68468,     0.68569,     0.68669,     0.68769,     0.68869,     0.68969,     0.69069,     0.69169,     0.69269,     0.69369,     0.69469,      0.6957,\n",
      "            0.6967,      0.6977,      0.6987,      0.6997,      0.7007,      0.7017,      0.7027,      0.7037,      0.7047,     0.70571,     0.70671,     0.70771,     0.70871,     0.70971,     0.71071,     0.71171,     0.71271,     0.71371,     0.71471,     0.71572,     0.71672,     0.71772,     0.71872,     0.71972,\n",
      "           0.72072,     0.72172,     0.72272,     0.72372,     0.72472,     0.72573,     0.72673,     0.72773,     0.72873,     0.72973,     0.73073,     0.73173,     0.73273,     0.73373,     0.73473,     0.73574,     0.73674,     0.73774,     0.73874,     0.73974,     0.74074,     0.74174,     0.74274,     0.74374,\n",
      "           0.74474,     0.74575,     0.74675,     0.74775,     0.74875,     0.74975,     0.75075,     0.75175,     0.75275,     0.75375,     0.75475,     0.75576,     0.75676,     0.75776,     0.75876,     0.75976,     0.76076,     0.76176,     0.76276,     0.76376,     0.76476,     0.76577,     0.76677,     0.76777,\n",
      "           0.76877,     0.76977,     0.77077,     0.77177,     0.77277,     0.77377,     0.77477,     0.77578,     0.77678,     0.77778,     0.77878,     0.77978,     0.78078,     0.78178,     0.78278,     0.78378,     0.78478,     0.78579,     0.78679,     0.78779,     0.78879,     0.78979,     0.79079,     0.79179,\n",
      "           0.79279,     0.79379,     0.79479,      0.7958,      0.7968,      0.7978,      0.7988,      0.7998,      0.8008,      0.8018,      0.8028,      0.8038,      0.8048,     0.80581,     0.80681,     0.80781,     0.80881,     0.80981,     0.81081,     0.81181,     0.81281,     0.81381,     0.81481,     0.81582,\n",
      "           0.81682,     0.81782,     0.81882,     0.81982,     0.82082,     0.82182,     0.82282,     0.82382,     0.82482,     0.82583,     0.82683,     0.82783,     0.82883,     0.82983,     0.83083,     0.83183,     0.83283,     0.83383,     0.83483,     0.83584,     0.83684,     0.83784,     0.83884,     0.83984,\n",
      "           0.84084,     0.84184,     0.84284,     0.84384,     0.84484,     0.84585,     0.84685,     0.84785,     0.84885,     0.84985,     0.85085,     0.85185,     0.85285,     0.85385,     0.85485,     0.85586,     0.85686,     0.85786,     0.85886,     0.85986,     0.86086,     0.86186,     0.86286,     0.86386,\n",
      "           0.86486,     0.86587,     0.86687,     0.86787,     0.86887,     0.86987,     0.87087,     0.87187,     0.87287,     0.87387,     0.87487,     0.87588,     0.87688,     0.87788,     0.87888,     0.87988,     0.88088,     0.88188,     0.88288,     0.88388,     0.88488,     0.88589,     0.88689,     0.88789,\n",
      "           0.88889,     0.88989,     0.89089,     0.89189,     0.89289,     0.89389,     0.89489,      0.8959,      0.8969,      0.8979,      0.8989,      0.8999,      0.9009,      0.9019,      0.9029,      0.9039,      0.9049,     0.90591,     0.90691,     0.90791,     0.90891,     0.90991,     0.91091,     0.91191,\n",
      "           0.91291,     0.91391,     0.91491,     0.91592,     0.91692,     0.91792,     0.91892,     0.91992,     0.92092,     0.92192,     0.92292,     0.92392,     0.92492,     0.92593,     0.92693,     0.92793,     0.92893,     0.92993,     0.93093,     0.93193,     0.93293,     0.93393,     0.93493,     0.93594,\n",
      "           0.93694,     0.93794,     0.93894,     0.93994,     0.94094,     0.94194,     0.94294,     0.94394,     0.94494,     0.94595,     0.94695,     0.94795,     0.94895,     0.94995,     0.95095,     0.95195,     0.95295,     0.95395,     0.95495,     0.95596,     0.95696,     0.95796,     0.95896,     0.95996,\n",
      "           0.96096,     0.96196,     0.96296,     0.96396,     0.96496,     0.96597,     0.96697,     0.96797,     0.96897,     0.96997,     0.97097,     0.97197,     0.97297,     0.97397,     0.97497,     0.97598,     0.97698,     0.97798,     0.97898,     0.97998,     0.98098,     0.98198,     0.98298,     0.98398,\n",
      "           0.98498,     0.98599,     0.98699,     0.98799,     0.98899,     0.98999,     0.99099,     0.99199,     0.99299,     0.99399,     0.99499,       0.996,       0.997,       0.998,       0.999,           1]), array([[      0.211,     0.21104,     0.25141,     0.28609,     0.31486,     0.33879,     0.35961,     0.37831,     0.39523,     0.41102,      0.4254,      0.4387,     0.45176,     0.46403,     0.47607,     0.48749,      0.4982,     0.50888,     0.51858,     0.52816,      0.5374,     0.54627,     0.55457,\n",
      "            0.56255,     0.57028,     0.57776,     0.58503,     0.59185,     0.59866,     0.60486,     0.61078,     0.61626,     0.62165,     0.62684,     0.63194,      0.6369,     0.64162,     0.64621,     0.65018,     0.65433,     0.65821,     0.66208,     0.66583,     0.66939,     0.67262,      0.6759,\n",
      "            0.67887,     0.68184,      0.6847,     0.68761,     0.69036,     0.69317,     0.69551,     0.69812,      0.7004,     0.70278,     0.70502,     0.70707,     0.70899,     0.71089,     0.71263,     0.71441,     0.71605,     0.71784,     0.71961,     0.72125,     0.72288,     0.72456,     0.72619,\n",
      "            0.72747,      0.7288,     0.72999,     0.73115,      0.7322,     0.73342,     0.73459,     0.73573,     0.73681,     0.73791,     0.73879,     0.73978,     0.74082,     0.74181,     0.74268,     0.74372,     0.74468,      0.7456,     0.74641,     0.74729,     0.74798,     0.74873,      0.7496,\n",
      "             0.7506,     0.75144,     0.75203,     0.75267,     0.75325,     0.75382,     0.75432,     0.75498,     0.75561,     0.75633,     0.75691,     0.75745,     0.75798,     0.75859,     0.75915,     0.75969,     0.76026,     0.76089,     0.76122,     0.76155,      0.7619,     0.76226,     0.76275,\n",
      "            0.76318,     0.76372,     0.76415,     0.76454,     0.76483,     0.76532,     0.76569,      0.7661,     0.76638,     0.76664,     0.76697,     0.76729,     0.76768,     0.76801,     0.76829,      0.7687,     0.76899,     0.76918,     0.76958,     0.76996,     0.77022,     0.77039,     0.77058,\n",
      "            0.77087,     0.77128,     0.77152,      0.7717,      0.7719,     0.77208,     0.77232,     0.77254,     0.77278,     0.77311,     0.77335,     0.77357,     0.77389,     0.77408,     0.77431,     0.77454,     0.77472,     0.77495,     0.77515,     0.77537,     0.77559,     0.77578,     0.77602,\n",
      "            0.77623,      0.7765,     0.77667,     0.77697,     0.77721,     0.77738,     0.77755,     0.77774,     0.77785,     0.77799,     0.77813,     0.77832,     0.77847,     0.77868,      0.7788,     0.77884,     0.77894,     0.77911,      0.7793,     0.77943,     0.77942,     0.77964,     0.77969,\n",
      "            0.77994,     0.77998,     0.78007,     0.78019,     0.78032,     0.78047,     0.78062,     0.78071,     0.78082,     0.78105,     0.78115,     0.78122,     0.78135,     0.78145,     0.78159,     0.78162,     0.78172,     0.78182,     0.78193,     0.78207,     0.78225,     0.78237,     0.78243,\n",
      "            0.78248,     0.78259,     0.78261,      0.7827,     0.78281,     0.78282,      0.7829,     0.78294,     0.78296,     0.78302,     0.78309,      0.7832,      0.7833,     0.78334,     0.78347,     0.78361,      0.7837,     0.78376,     0.78394,     0.78397,     0.78402,     0.78409,     0.78419,\n",
      "            0.78426,     0.78435,     0.78439,     0.78449,     0.78468,     0.78475,     0.78482,     0.78492,     0.78501,     0.78509,     0.78515,     0.78523,     0.78528,     0.78529,     0.78527,     0.78533,     0.78536,      0.7854,     0.78553,     0.78559,     0.78568,     0.78578,     0.78586,\n",
      "             0.7859,     0.78595,     0.78602,     0.78613,     0.78626,     0.78631,     0.78648,     0.78659,     0.78672,     0.78668,     0.78668,     0.78669,     0.78679,     0.78672,     0.78676,     0.78675,     0.78682,     0.78685,     0.78688,     0.78697,     0.78691,     0.78694,     0.78704,\n",
      "            0.78698,     0.78702,     0.78707,      0.7872,     0.78722,     0.78721,     0.78724,     0.78731,     0.78735,      0.7873,     0.78732,     0.78736,     0.78736,     0.78742,     0.78746,     0.78751,     0.78754,     0.78756,      0.7875,     0.78751,     0.78755,     0.78755,     0.78758,\n",
      "            0.78764,     0.78766,     0.78763,     0.78763,     0.78765,     0.78769,     0.78777,     0.78772,     0.78771,     0.78765,     0.78755,     0.78759,     0.78763,     0.78765,     0.78761,     0.78759,     0.78759,     0.78755,     0.78752,     0.78749,     0.78741,     0.78736,     0.78731,\n",
      "            0.78737,     0.78737,     0.78737,     0.78736,     0.78733,     0.78729,     0.78728,     0.78726,     0.78722,     0.78718,     0.78721,     0.78718,     0.78715,     0.78722,     0.78713,     0.78709,     0.78712,     0.78709,     0.78704,     0.78693,       0.787,     0.78697,     0.78693,\n",
      "            0.78687,     0.78678,     0.78673,      0.7867,      0.7866,     0.78657,     0.78647,     0.78641,     0.78628,     0.78618,     0.78608,     0.78602,     0.78597,     0.78601,     0.78597,      0.7859,     0.78586,     0.78576,     0.78571,      0.7857,     0.78573,     0.78568,     0.78569,\n",
      "            0.78569,     0.78567,     0.78552,     0.78546,     0.78538,     0.78523,     0.78519,     0.78503,     0.78495,     0.78487,     0.78489,     0.78483,      0.7848,     0.78468,     0.78457,     0.78454,     0.78449,     0.78446,     0.78442,     0.78441,     0.78427,     0.78424,     0.78412,\n",
      "             0.7841,     0.78396,     0.78385,     0.78374,     0.78363,     0.78351,     0.78338,     0.78328,     0.78318,     0.78309,     0.78302,     0.78293,     0.78279,     0.78271,     0.78271,     0.78261,      0.7825,     0.78233,     0.78219,     0.78202,     0.78191,     0.78181,     0.78165,\n",
      "            0.78159,     0.78156,      0.7814,     0.78135,     0.78121,     0.78112,     0.78098,     0.78088,     0.78074,     0.78065,     0.78059,     0.78045,     0.78034,      0.7802,     0.78007,     0.77995,     0.77984,     0.77976,     0.77966,     0.77955,     0.77941,     0.77927,     0.77918,\n",
      "            0.77902,      0.7789,     0.77874,     0.77859,     0.77842,     0.77824,     0.77808,     0.77799,     0.77788,     0.77774,     0.77762,     0.77748,      0.7774,     0.77717,     0.77703,     0.77689,     0.77669,      0.7765,     0.77638,     0.77616,     0.77598,     0.77585,     0.77566,\n",
      "            0.77559,     0.77539,     0.77526,     0.77508,     0.77491,     0.77461,     0.77447,     0.77432,     0.77412,     0.77392,     0.77377,     0.77351,     0.77334,     0.77304,     0.77286,     0.77267,     0.77249,     0.77235,     0.77221,     0.77203,     0.77191,     0.77177,     0.77158,\n",
      "            0.77135,     0.77113,     0.77111,     0.77082,     0.77059,     0.77048,      0.7703,     0.77019,     0.76993,     0.76979,      0.7696,     0.76936,     0.76911,     0.76888,     0.76862,     0.76845,     0.76817,     0.76788,      0.7678,     0.76758,      0.7674,     0.76713,     0.76693,\n",
      "            0.76671,     0.76643,     0.76618,     0.76586,     0.76572,     0.76549,     0.76526,     0.76504,     0.76484,     0.76462,      0.7644,     0.76422,     0.76394,      0.7637,     0.76347,     0.76333,     0.76309,      0.7629,     0.76266,     0.76245,     0.76215,     0.76197,     0.76179,\n",
      "             0.7615,     0.76115,     0.76094,     0.76071,     0.76042,     0.76009,      0.7598,     0.75947,     0.75927,     0.75892,     0.75863,     0.75836,     0.75804,     0.75778,     0.75751,     0.75722,     0.75684,     0.75642,      0.7561,     0.75587,     0.75556,     0.75525,     0.75488,\n",
      "            0.75459,     0.75419,      0.7538,     0.75347,     0.75309,     0.75279,     0.75248,      0.7521,     0.75168,     0.75125,     0.75085,      0.7505,     0.75022,     0.74996,     0.74955,     0.74915,     0.74872,      0.7484,       0.748,      0.7477,      0.7473,     0.74689,     0.74647,\n",
      "            0.74613,     0.74572,     0.74522,     0.74478,     0.74427,     0.74393,     0.74339,     0.74285,     0.74232,     0.74192,     0.74138,     0.74102,     0.74058,     0.74021,     0.73972,      0.7393,     0.73889,     0.73847,     0.73806,     0.73744,     0.73701,     0.73653,     0.73608,\n",
      "            0.73541,     0.73488,     0.73441,     0.73389,     0.73334,     0.73293,      0.7323,     0.73185,     0.73135,     0.73075,     0.73026,     0.72972,     0.72923,     0.72885,     0.72821,     0.72766,     0.72705,     0.72647,     0.72587,     0.72533,      0.7248,     0.72419,     0.72371,\n",
      "            0.72303,      0.7224,     0.72173,     0.72125,     0.72078,     0.72013,     0.71945,     0.71892,     0.71825,     0.71751,     0.71688,     0.71643,     0.71587,     0.71518,     0.71443,     0.71378,     0.71298,     0.71224,     0.71162,     0.71089,     0.71015,     0.70932,     0.70851,\n",
      "            0.70784,     0.70731,     0.70672,     0.70599,     0.70515,     0.70446,     0.70348,     0.70273,     0.70206,      0.7014,     0.70066,     0.69994,     0.69913,     0.69829,      0.6975,     0.69663,     0.69566,      0.6948,     0.69393,     0.69304,     0.69226,     0.69137,     0.69064,\n",
      "            0.68979,     0.68883,     0.68785,     0.68694,     0.68621,     0.68545,     0.68453,     0.68354,     0.68264,     0.68187,     0.68107,     0.68017,     0.67916,     0.67817,     0.67724,     0.67623,     0.67498,     0.67402,     0.67289,     0.67182,     0.67082,     0.66983,     0.66863,\n",
      "            0.66756,     0.66655,     0.66557,     0.66447,     0.66316,     0.66204,     0.66097,     0.65941,     0.65795,     0.65684,     0.65539,     0.65377,     0.65239,      0.6511,      0.6499,     0.64863,     0.64728,     0.64584,     0.64443,      0.6433,     0.64192,     0.64048,     0.63903,\n",
      "            0.63766,     0.63634,     0.63471,     0.63343,     0.63169,      0.6301,     0.62863,     0.62693,     0.62528,      0.6239,     0.62199,      0.6203,     0.61876,     0.61681,     0.61522,     0.61345,     0.61183,     0.61012,     0.60852,     0.60661,     0.60447,     0.60257,      0.6007,\n",
      "            0.59865,     0.59706,     0.59548,     0.59341,     0.59145,     0.58963,     0.58758,     0.58585,     0.58394,     0.58219,     0.57984,     0.57778,     0.57603,     0.57402,     0.57212,     0.56982,     0.56762,     0.56545,     0.56306,     0.56095,     0.55895,     0.55697,     0.55471,\n",
      "             0.5524,     0.55032,     0.54788,     0.54552,     0.54322,     0.54106,      0.5387,     0.53661,     0.53394,     0.53112,     0.52881,     0.52633,     0.52398,     0.52124,     0.51853,     0.51609,     0.51341,     0.51065,     0.50842,     0.50581,     0.50338,     0.50078,     0.49821,\n",
      "             0.4958,     0.49318,     0.49046,     0.48818,     0.48519,      0.4825,     0.47996,     0.47765,     0.47517,      0.4726,     0.46989,     0.46689,     0.46394,     0.46149,     0.45859,     0.45591,     0.45346,     0.45088,     0.44821,     0.44518,     0.44235,     0.43966,     0.43704,\n",
      "            0.43419,     0.43155,     0.42884,     0.42622,     0.42343,     0.42101,     0.41835,     0.41545,     0.41254,     0.41004,     0.40722,     0.40453,     0.40187,     0.39897,     0.39646,     0.39357,     0.39058,     0.38791,     0.38547,     0.38261,     0.37976,     0.37684,      0.3743,\n",
      "            0.37137,     0.36831,     0.36562,     0.36235,       0.359,     0.35598,     0.35311,     0.35042,      0.3479,      0.3453,     0.34279,      0.3399,     0.33676,     0.33377,     0.33031,     0.32757,     0.32455,     0.32156,      0.3188,      0.3159,     0.31274,     0.31021,     0.30756,\n",
      "             0.3048,     0.30209,     0.29907,     0.29611,     0.29322,     0.29018,      0.2872,      0.2839,     0.28102,     0.27856,     0.27579,     0.27303,     0.27009,     0.26704,     0.26405,     0.26105,     0.25811,     0.25567,     0.25315,     0.25028,     0.24718,     0.24445,     0.24101,\n",
      "            0.23837,     0.23498,     0.23217,     0.22929,      0.2258,     0.22291,     0.21951,     0.21628,     0.21332,     0.21025,     0.20749,     0.20409,     0.20076,     0.19763,     0.19434,     0.19094,     0.18793,     0.18431,     0.18063,     0.17688,     0.17323,      0.1695,     0.16511,\n",
      "            0.16127,     0.15751,     0.15363,     0.14974,     0.14553,     0.14148,     0.13732,     0.13313,     0.12872,     0.12436,     0.12036,     0.11616,      0.1118,     0.10797,     0.10326,    0.098613,    0.094023,    0.089639,    0.085438,    0.081178,    0.077266,      0.0733,    0.069207,\n",
      "           0.065363,    0.061006,    0.056723,    0.052664,    0.048723,    0.045173,    0.041852,    0.038141,    0.034791,    0.031266,     0.02769,    0.024873,    0.022078,    0.019678,    0.016965,    0.014768,    0.012987,    0.011218,   0.0098749,   0.0086367,   0.0071835,   0.0061695,   0.0050657,\n",
      "          0.0039126,   0.0030832,   0.0024688,    0.001937,   0.0015705,   0.0013577,   0.0010251,  0.00078587,  0.00057352,  0.00038576,  0.00035791,  0.00031705,  0.00026661,  0.00021825,  0.00017999,  0.00010875,  7.7627e-05,  6.1847e-05,  4.1418e-05,           0,           0,           0,           0,\n",
      "                  0,           0,           0,           0,           0,           0,           0,           0,           0,           0,           0,           0,           0,           0,           0,           0,           0,           0,           0,           0,           0,           0,           0,\n",
      "                  0,           0,           0,           0,           0,           0,           0,           0,           0,           0,           0]]), 'Confidence', 'F1'], [array([          0,    0.001001,    0.002002,    0.003003,    0.004004,    0.005005,    0.006006,    0.007007,    0.008008,    0.009009,     0.01001,    0.011011,    0.012012,    0.013013,    0.014014,    0.015015,    0.016016,    0.017017,    0.018018,    0.019019,     0.02002,    0.021021,    0.022022,    0.023023,\n",
      "          0.024024,    0.025025,    0.026026,    0.027027,    0.028028,    0.029029,     0.03003,    0.031031,    0.032032,    0.033033,    0.034034,    0.035035,    0.036036,    0.037037,    0.038038,    0.039039,     0.04004,    0.041041,    0.042042,    0.043043,    0.044044,    0.045045,    0.046046,    0.047047,\n",
      "          0.048048,    0.049049,     0.05005,    0.051051,    0.052052,    0.053053,    0.054054,    0.055055,    0.056056,    0.057057,    0.058058,    0.059059,     0.06006,    0.061061,    0.062062,    0.063063,    0.064064,    0.065065,    0.066066,    0.067067,    0.068068,    0.069069,     0.07007,    0.071071,\n",
      "          0.072072,    0.073073,    0.074074,    0.075075,    0.076076,    0.077077,    0.078078,    0.079079,     0.08008,    0.081081,    0.082082,    0.083083,    0.084084,    0.085085,    0.086086,    0.087087,    0.088088,    0.089089,     0.09009,    0.091091,    0.092092,    0.093093,    0.094094,    0.095095,\n",
      "          0.096096,    0.097097,    0.098098,    0.099099,      0.1001,      0.1011,      0.1021,      0.1031,      0.1041,     0.10511,     0.10611,     0.10711,     0.10811,     0.10911,     0.11011,     0.11111,     0.11211,     0.11311,     0.11411,     0.11512,     0.11612,     0.11712,     0.11812,     0.11912,\n",
      "           0.12012,     0.12112,     0.12212,     0.12312,     0.12412,     0.12513,     0.12613,     0.12713,     0.12813,     0.12913,     0.13013,     0.13113,     0.13213,     0.13313,     0.13413,     0.13514,     0.13614,     0.13714,     0.13814,     0.13914,     0.14014,     0.14114,     0.14214,     0.14314,\n",
      "           0.14414,     0.14515,     0.14615,     0.14715,     0.14815,     0.14915,     0.15015,     0.15115,     0.15215,     0.15315,     0.15415,     0.15516,     0.15616,     0.15716,     0.15816,     0.15916,     0.16016,     0.16116,     0.16216,     0.16316,     0.16416,     0.16517,     0.16617,     0.16717,\n",
      "           0.16817,     0.16917,     0.17017,     0.17117,     0.17217,     0.17317,     0.17417,     0.17518,     0.17618,     0.17718,     0.17818,     0.17918,     0.18018,     0.18118,     0.18218,     0.18318,     0.18418,     0.18519,     0.18619,     0.18719,     0.18819,     0.18919,     0.19019,     0.19119,\n",
      "           0.19219,     0.19319,     0.19419,      0.1952,      0.1962,      0.1972,      0.1982,      0.1992,      0.2002,      0.2012,      0.2022,      0.2032,      0.2042,     0.20521,     0.20621,     0.20721,     0.20821,     0.20921,     0.21021,     0.21121,     0.21221,     0.21321,     0.21421,     0.21522,\n",
      "           0.21622,     0.21722,     0.21822,     0.21922,     0.22022,     0.22122,     0.22222,     0.22322,     0.22422,     0.22523,     0.22623,     0.22723,     0.22823,     0.22923,     0.23023,     0.23123,     0.23223,     0.23323,     0.23423,     0.23524,     0.23624,     0.23724,     0.23824,     0.23924,\n",
      "           0.24024,     0.24124,     0.24224,     0.24324,     0.24424,     0.24525,     0.24625,     0.24725,     0.24825,     0.24925,     0.25025,     0.25125,     0.25225,     0.25325,     0.25425,     0.25526,     0.25626,     0.25726,     0.25826,     0.25926,     0.26026,     0.26126,     0.26226,     0.26326,\n",
      "           0.26426,     0.26527,     0.26627,     0.26727,     0.26827,     0.26927,     0.27027,     0.27127,     0.27227,     0.27327,     0.27427,     0.27528,     0.27628,     0.27728,     0.27828,     0.27928,     0.28028,     0.28128,     0.28228,     0.28328,     0.28428,     0.28529,     0.28629,     0.28729,\n",
      "           0.28829,     0.28929,     0.29029,     0.29129,     0.29229,     0.29329,     0.29429,      0.2953,      0.2963,      0.2973,      0.2983,      0.2993,      0.3003,      0.3013,      0.3023,      0.3033,      0.3043,     0.30531,     0.30631,     0.30731,     0.30831,     0.30931,     0.31031,     0.31131,\n",
      "           0.31231,     0.31331,     0.31431,     0.31532,     0.31632,     0.31732,     0.31832,     0.31932,     0.32032,     0.32132,     0.32232,     0.32332,     0.32432,     0.32533,     0.32633,     0.32733,     0.32833,     0.32933,     0.33033,     0.33133,     0.33233,     0.33333,     0.33433,     0.33534,\n",
      "           0.33634,     0.33734,     0.33834,     0.33934,     0.34034,     0.34134,     0.34234,     0.34334,     0.34434,     0.34535,     0.34635,     0.34735,     0.34835,     0.34935,     0.35035,     0.35135,     0.35235,     0.35335,     0.35435,     0.35536,     0.35636,     0.35736,     0.35836,     0.35936,\n",
      "           0.36036,     0.36136,     0.36236,     0.36336,     0.36436,     0.36537,     0.36637,     0.36737,     0.36837,     0.36937,     0.37037,     0.37137,     0.37237,     0.37337,     0.37437,     0.37538,     0.37638,     0.37738,     0.37838,     0.37938,     0.38038,     0.38138,     0.38238,     0.38338,\n",
      "           0.38438,     0.38539,     0.38639,     0.38739,     0.38839,     0.38939,     0.39039,     0.39139,     0.39239,     0.39339,     0.39439,      0.3954,      0.3964,      0.3974,      0.3984,      0.3994,      0.4004,      0.4014,      0.4024,      0.4034,      0.4044,     0.40541,     0.40641,     0.40741,\n",
      "           0.40841,     0.40941,     0.41041,     0.41141,     0.41241,     0.41341,     0.41441,     0.41542,     0.41642,     0.41742,     0.41842,     0.41942,     0.42042,     0.42142,     0.42242,     0.42342,     0.42442,     0.42543,     0.42643,     0.42743,     0.42843,     0.42943,     0.43043,     0.43143,\n",
      "           0.43243,     0.43343,     0.43443,     0.43544,     0.43644,     0.43744,     0.43844,     0.43944,     0.44044,     0.44144,     0.44244,     0.44344,     0.44444,     0.44545,     0.44645,     0.44745,     0.44845,     0.44945,     0.45045,     0.45145,     0.45245,     0.45345,     0.45445,     0.45546,\n",
      "           0.45646,     0.45746,     0.45846,     0.45946,     0.46046,     0.46146,     0.46246,     0.46346,     0.46446,     0.46547,     0.46647,     0.46747,     0.46847,     0.46947,     0.47047,     0.47147,     0.47247,     0.47347,     0.47447,     0.47548,     0.47648,     0.47748,     0.47848,     0.47948,\n",
      "           0.48048,     0.48148,     0.48248,     0.48348,     0.48448,     0.48549,     0.48649,     0.48749,     0.48849,     0.48949,     0.49049,     0.49149,     0.49249,     0.49349,     0.49449,      0.4955,      0.4965,      0.4975,      0.4985,      0.4995,      0.5005,      0.5015,      0.5025,      0.5035,\n",
      "            0.5045,     0.50551,     0.50651,     0.50751,     0.50851,     0.50951,     0.51051,     0.51151,     0.51251,     0.51351,     0.51451,     0.51552,     0.51652,     0.51752,     0.51852,     0.51952,     0.52052,     0.52152,     0.52252,     0.52352,     0.52452,     0.52553,     0.52653,     0.52753,\n",
      "           0.52853,     0.52953,     0.53053,     0.53153,     0.53253,     0.53353,     0.53453,     0.53554,     0.53654,     0.53754,     0.53854,     0.53954,     0.54054,     0.54154,     0.54254,     0.54354,     0.54454,     0.54555,     0.54655,     0.54755,     0.54855,     0.54955,     0.55055,     0.55155,\n",
      "           0.55255,     0.55355,     0.55455,     0.55556,     0.55656,     0.55756,     0.55856,     0.55956,     0.56056,     0.56156,     0.56256,     0.56356,     0.56456,     0.56557,     0.56657,     0.56757,     0.56857,     0.56957,     0.57057,     0.57157,     0.57257,     0.57357,     0.57457,     0.57558,\n",
      "           0.57658,     0.57758,     0.57858,     0.57958,     0.58058,     0.58158,     0.58258,     0.58358,     0.58458,     0.58559,     0.58659,     0.58759,     0.58859,     0.58959,     0.59059,     0.59159,     0.59259,     0.59359,     0.59459,      0.5956,      0.5966,      0.5976,      0.5986,      0.5996,\n",
      "            0.6006,      0.6016,      0.6026,      0.6036,      0.6046,     0.60561,     0.60661,     0.60761,     0.60861,     0.60961,     0.61061,     0.61161,     0.61261,     0.61361,     0.61461,     0.61562,     0.61662,     0.61762,     0.61862,     0.61962,     0.62062,     0.62162,     0.62262,     0.62362,\n",
      "           0.62462,     0.62563,     0.62663,     0.62763,     0.62863,     0.62963,     0.63063,     0.63163,     0.63263,     0.63363,     0.63463,     0.63564,     0.63664,     0.63764,     0.63864,     0.63964,     0.64064,     0.64164,     0.64264,     0.64364,     0.64464,     0.64565,     0.64665,     0.64765,\n",
      "           0.64865,     0.64965,     0.65065,     0.65165,     0.65265,     0.65365,     0.65465,     0.65566,     0.65666,     0.65766,     0.65866,     0.65966,     0.66066,     0.66166,     0.66266,     0.66366,     0.66466,     0.66567,     0.66667,     0.66767,     0.66867,     0.66967,     0.67067,     0.67167,\n",
      "           0.67267,     0.67367,     0.67467,     0.67568,     0.67668,     0.67768,     0.67868,     0.67968,     0.68068,     0.68168,     0.68268,     0.68368,     0.68468,     0.68569,     0.68669,     0.68769,     0.68869,     0.68969,     0.69069,     0.69169,     0.69269,     0.69369,     0.69469,      0.6957,\n",
      "            0.6967,      0.6977,      0.6987,      0.6997,      0.7007,      0.7017,      0.7027,      0.7037,      0.7047,     0.70571,     0.70671,     0.70771,     0.70871,     0.70971,     0.71071,     0.71171,     0.71271,     0.71371,     0.71471,     0.71572,     0.71672,     0.71772,     0.71872,     0.71972,\n",
      "           0.72072,     0.72172,     0.72272,     0.72372,     0.72472,     0.72573,     0.72673,     0.72773,     0.72873,     0.72973,     0.73073,     0.73173,     0.73273,     0.73373,     0.73473,     0.73574,     0.73674,     0.73774,     0.73874,     0.73974,     0.74074,     0.74174,     0.74274,     0.74374,\n",
      "           0.74474,     0.74575,     0.74675,     0.74775,     0.74875,     0.74975,     0.75075,     0.75175,     0.75275,     0.75375,     0.75475,     0.75576,     0.75676,     0.75776,     0.75876,     0.75976,     0.76076,     0.76176,     0.76276,     0.76376,     0.76476,     0.76577,     0.76677,     0.76777,\n",
      "           0.76877,     0.76977,     0.77077,     0.77177,     0.77277,     0.77377,     0.77477,     0.77578,     0.77678,     0.77778,     0.77878,     0.77978,     0.78078,     0.78178,     0.78278,     0.78378,     0.78478,     0.78579,     0.78679,     0.78779,     0.78879,     0.78979,     0.79079,     0.79179,\n",
      "           0.79279,     0.79379,     0.79479,      0.7958,      0.7968,      0.7978,      0.7988,      0.7998,      0.8008,      0.8018,      0.8028,      0.8038,      0.8048,     0.80581,     0.80681,     0.80781,     0.80881,     0.80981,     0.81081,     0.81181,     0.81281,     0.81381,     0.81481,     0.81582,\n",
      "           0.81682,     0.81782,     0.81882,     0.81982,     0.82082,     0.82182,     0.82282,     0.82382,     0.82482,     0.82583,     0.82683,     0.82783,     0.82883,     0.82983,     0.83083,     0.83183,     0.83283,     0.83383,     0.83483,     0.83584,     0.83684,     0.83784,     0.83884,     0.83984,\n",
      "           0.84084,     0.84184,     0.84284,     0.84384,     0.84484,     0.84585,     0.84685,     0.84785,     0.84885,     0.84985,     0.85085,     0.85185,     0.85285,     0.85385,     0.85485,     0.85586,     0.85686,     0.85786,     0.85886,     0.85986,     0.86086,     0.86186,     0.86286,     0.86386,\n",
      "           0.86486,     0.86587,     0.86687,     0.86787,     0.86887,     0.86987,     0.87087,     0.87187,     0.87287,     0.87387,     0.87487,     0.87588,     0.87688,     0.87788,     0.87888,     0.87988,     0.88088,     0.88188,     0.88288,     0.88388,     0.88488,     0.88589,     0.88689,     0.88789,\n",
      "           0.88889,     0.88989,     0.89089,     0.89189,     0.89289,     0.89389,     0.89489,      0.8959,      0.8969,      0.8979,      0.8989,      0.8999,      0.9009,      0.9019,      0.9029,      0.9039,      0.9049,     0.90591,     0.90691,     0.90791,     0.90891,     0.90991,     0.91091,     0.91191,\n",
      "           0.91291,     0.91391,     0.91491,     0.91592,     0.91692,     0.91792,     0.91892,     0.91992,     0.92092,     0.92192,     0.92292,     0.92392,     0.92492,     0.92593,     0.92693,     0.92793,     0.92893,     0.92993,     0.93093,     0.93193,     0.93293,     0.93393,     0.93493,     0.93594,\n",
      "           0.93694,     0.93794,     0.93894,     0.93994,     0.94094,     0.94194,     0.94294,     0.94394,     0.94494,     0.94595,     0.94695,     0.94795,     0.94895,     0.94995,     0.95095,     0.95195,     0.95295,     0.95395,     0.95495,     0.95596,     0.95696,     0.95796,     0.95896,     0.95996,\n",
      "           0.96096,     0.96196,     0.96296,     0.96396,     0.96496,     0.96597,     0.96697,     0.96797,     0.96897,     0.96997,     0.97097,     0.97197,     0.97297,     0.97397,     0.97497,     0.97598,     0.97698,     0.97798,     0.97898,     0.97998,     0.98098,     0.98198,     0.98298,     0.98398,\n",
      "           0.98498,     0.98599,     0.98699,     0.98799,     0.98899,     0.98999,     0.99099,     0.99199,     0.99299,     0.99399,     0.99499,       0.996,       0.997,       0.998,       0.999,           1]), array([[    0.11984,     0.11986,     0.14666,      0.1709,     0.19194,     0.21015,     0.22654,     0.24172,     0.25587,     0.26942,     0.28209,     0.29414,     0.30622,     0.31784,     0.32946,     0.34075,      0.3516,     0.36257,     0.37278,     0.38305,     0.39311,       0.403,     0.41241,\n",
      "            0.42164,      0.4307,     0.43963,     0.44852,     0.45692,     0.46542,     0.47336,     0.48097,      0.4882,     0.49539,     0.50242,      0.5094,     0.51622,     0.52283,     0.52935,     0.53519,     0.54133,     0.54716,     0.55291,     0.55863,     0.56411,     0.56907,     0.57434,\n",
      "            0.57912,     0.58389,      0.5885,     0.59319,     0.59778,     0.60242,     0.60641,     0.61071,     0.61463,     0.61872,     0.62258,     0.62623,     0.62971,     0.63317,     0.63637,      0.6397,     0.64276,     0.64595,     0.64924,     0.65238,     0.65537,     0.65853,     0.66155,\n",
      "            0.66423,     0.66679,     0.66929,     0.67162,     0.67387,     0.67629,     0.67869,     0.68093,     0.68322,     0.68548,     0.68744,     0.68956,     0.69175,     0.69387,     0.69588,     0.69802,      0.7001,     0.70214,     0.70387,     0.70576,     0.70741,     0.70911,     0.71106,\n",
      "            0.71314,     0.71494,     0.71643,     0.71799,     0.71947,       0.721,     0.72231,      0.7238,     0.72528,     0.72699,     0.72841,     0.72984,     0.73133,     0.73285,     0.73419,     0.73549,     0.73687,     0.73827,     0.73931,     0.74033,     0.74148,      0.7426,     0.74378,\n",
      "            0.74494,     0.74627,     0.74742,     0.74861,     0.74967,     0.75094,       0.752,     0.75313,     0.75402,     0.75496,     0.75597,     0.75694,      0.7581,     0.75903,     0.75996,     0.76101,     0.76197,     0.76269,     0.76378,     0.76484,      0.7657,     0.76644,     0.76722,\n",
      "              0.768,     0.76907,     0.76992,     0.77079,     0.77164,     0.77236,     0.77315,     0.77405,     0.77484,     0.77581,     0.77671,     0.77747,     0.77834,     0.77914,     0.77992,     0.78068,     0.78131,     0.78211,     0.78284,      0.7836,     0.78422,      0.7849,     0.78566,\n",
      "            0.78648,     0.78731,     0.78802,      0.7889,     0.78971,     0.79033,     0.79104,     0.79181,     0.79243,     0.79312,     0.79373,     0.79431,     0.79495,     0.79573,     0.79631,     0.79683,     0.79741,     0.79806,     0.79882,     0.79939,     0.79971,     0.80039,     0.80081,\n",
      "            0.80161,     0.80215,     0.80266,     0.80321,      0.8038,     0.80442,     0.80498,      0.8055,     0.80614,      0.8068,      0.8073,     0.80779,     0.80839,     0.80884,      0.8093,     0.80973,     0.81026,     0.81076,      0.8114,     0.81206,     0.81273,     0.81333,     0.81384,\n",
      "            0.81438,     0.81485,     0.81525,     0.81566,     0.81618,     0.81666,     0.81713,      0.8176,     0.81806,     0.81854,     0.81907,      0.8197,     0.82023,     0.82059,      0.8212,     0.82174,     0.82221,     0.82252,      0.8231,     0.82352,     0.82396,     0.82438,     0.82494,\n",
      "            0.82538,     0.82579,     0.82616,     0.82667,     0.82732,     0.82775,     0.82821,     0.82868,     0.82914,      0.8297,     0.83011,     0.83058,     0.83105,     0.83154,     0.83196,     0.83237,     0.83282,     0.83333,     0.83377,     0.83418,      0.8347,     0.83517,     0.83571,\n",
      "            0.83618,      0.8366,     0.83716,     0.83772,     0.83828,     0.83874,      0.8393,     0.83983,     0.84041,     0.84072,      0.8411,     0.84144,     0.84191,     0.84218,     0.84258,     0.84285,     0.84335,     0.84373,     0.84411,     0.84462,     0.84485,     0.84527,     0.84572,\n",
      "            0.84605,     0.84641,     0.84685,     0.84737,     0.84777,     0.84814,     0.84852,     0.84894,     0.84927,     0.84959,     0.85011,     0.85053,     0.85091,     0.85132,     0.85172,     0.85219,     0.85268,     0.85304,     0.85325,     0.85359,     0.85397,     0.85432,     0.85471,\n",
      "            0.85512,     0.85552,     0.85574,     0.85611,     0.85646,     0.85681,     0.85729,     0.85758,     0.85802,     0.85835,     0.85859,     0.85897,     0.85942,     0.85977,     0.86012,     0.86049,     0.86082,     0.86118,     0.86152,     0.86188,     0.86211,      0.8624,     0.86265,\n",
      "            0.86297,     0.86335,     0.86361,     0.86388,     0.86414,     0.86438,     0.86466,     0.86501,     0.86525,     0.86555,     0.86599,     0.86641,     0.86663,      0.8671,     0.86744,     0.86772,     0.86808,     0.86844,     0.86878,     0.86901,      0.8695,     0.86975,     0.87009,\n",
      "            0.87033,     0.87055,     0.87087,     0.87115,     0.87144,     0.87185,     0.87214,     0.87243,     0.87261,     0.87285,     0.87315,     0.87347,     0.87383,     0.87421,     0.87447,     0.87475,     0.87516,     0.87538,     0.87568,     0.87598,     0.87637,     0.87665,     0.87702,\n",
      "            0.87734,     0.87761,     0.87784,     0.87815,     0.87844,     0.87865,     0.87887,      0.8791,     0.87936,     0.87965,     0.88006,     0.88037,     0.88068,     0.88098,      0.8812,     0.88141,     0.88172,     0.88196,     0.88235,     0.88266,     0.88285,     0.88317,     0.88346,\n",
      "            0.88368,     0.88393,     0.88416,      0.8844,     0.88463,     0.88487,     0.88513,     0.88551,     0.88581,     0.88608,     0.88645,     0.88667,     0.88694,     0.88717,     0.88755,     0.88784,     0.88805,     0.88829,     0.88847,     0.88874,     0.88891,     0.88918,     0.88938,\n",
      "            0.88962,     0.88988,     0.89011,     0.89034,      0.8905,     0.89079,      0.8909,     0.89119,     0.89135,     0.89156,     0.89189,     0.89209,     0.89237,     0.89248,      0.8927,     0.89296,     0.89309,     0.89333,      0.8935,     0.89386,     0.89417,     0.89436,     0.89463,\n",
      "            0.89479,       0.895,     0.89519,     0.89535,     0.89555,     0.89575,     0.89599,     0.89627,     0.89646,     0.89677,     0.89702,     0.89731,      0.8976,      0.8978,     0.89795,     0.89815,     0.89834,      0.8985,      0.8987,     0.89892,     0.89908,     0.89933,     0.89951,\n",
      "            0.89977,     0.90004,     0.90024,     0.90043,     0.90055,     0.90068,     0.90088,     0.90112,      0.9013,     0.90155,     0.90177,     0.90189,     0.90212,     0.90231,      0.9025,     0.90266,     0.90283,     0.90313,     0.90331,      0.9036,     0.90386,     0.90415,     0.90432,\n",
      "            0.90457,     0.90474,     0.90511,     0.90527,     0.90542,     0.90564,     0.90584,     0.90609,     0.90631,     0.90665,     0.90683,     0.90701,     0.90721,     0.90746,     0.90766,     0.90797,     0.90813,     0.90827,     0.90856,     0.90874,      0.9089,     0.90903,      0.9092,\n",
      "            0.90934,     0.90944,     0.90965,     0.90974,     0.90999,     0.91008,      0.9103,     0.91054,     0.91072,     0.91097,     0.91127,     0.91158,     0.91177,     0.91192,     0.91214,     0.91238,     0.91255,      0.9129,     0.91302,     0.91328,     0.91355,      0.9137,     0.91395,\n",
      "            0.91417,     0.91428,     0.91448,     0.91469,     0.91491,     0.91499,     0.91524,     0.91539,     0.91564,     0.91579,     0.91606,     0.91627,     0.91651,      0.9167,     0.91696,     0.91703,      0.9171,     0.91723,      0.9173,     0.91765,     0.91784,     0.91802,     0.91817,\n",
      "            0.91829,     0.91841,     0.91849,     0.91868,     0.91886,     0.91902,     0.91933,     0.91955,     0.91964,     0.91976,     0.91998,     0.92015,     0.92047,     0.92065,     0.92076,     0.92094,     0.92103,     0.92124,     0.92138,     0.92168,      0.9219,     0.92212,     0.92233,\n",
      "             0.9226,     0.92278,      0.9229,     0.92301,     0.92321,     0.92342,     0.92352,     0.92369,     0.92375,     0.92393,     0.92403,     0.92416,     0.92429,      0.9244,     0.92451,     0.92472,      0.9248,     0.92509,      0.9253,     0.92535,     0.92547,     0.92575,       0.926,\n",
      "            0.92618,     0.92629,     0.92653,     0.92672,     0.92682,     0.92702,     0.92708,     0.92726,     0.92745,     0.92772,     0.92804,     0.92825,     0.92846,     0.92861,     0.92883,     0.92903,     0.92917,      0.9293,     0.92954,     0.92975,     0.92993,     0.93007,     0.93027,\n",
      "            0.93044,      0.9306,     0.93079,     0.93123,     0.93156,     0.93172,     0.93194,      0.9321,     0.93238,     0.93264,     0.93297,     0.93327,     0.93356,     0.93384,     0.93415,     0.93428,     0.93439,     0.93454,     0.93474,      0.9349,     0.93509,     0.93524,     0.93541,\n",
      "            0.93562,     0.93581,       0.936,     0.93621,     0.93645,     0.93657,     0.93665,     0.93686,     0.93715,     0.93756,     0.93783,     0.93815,     0.93842,     0.93865,      0.9389,      0.9391,     0.93924,     0.93949,     0.93968,     0.93986,     0.94016,     0.94045,     0.94066,\n",
      "            0.94086,     0.94094,     0.94117,     0.94143,     0.94171,     0.94192,     0.94215,     0.94238,     0.94268,     0.94295,     0.94333,     0.94342,     0.94356,     0.94399,     0.94426,     0.94458,      0.9447,     0.94495,     0.94517,     0.94522,     0.94541,     0.94559,     0.94587,\n",
      "            0.94619,     0.94641,     0.94671,     0.94691,     0.94705,     0.94727,     0.94744,     0.94755,     0.94774,     0.94814,     0.94844,     0.94867,     0.94888,     0.94913,     0.94964,     0.94989,     0.95016,     0.95031,      0.9504,     0.95059,     0.95088,     0.95108,      0.9512,\n",
      "            0.95149,     0.95186,      0.9521,     0.95232,     0.95253,      0.9529,     0.95306,     0.95341,     0.95364,     0.95405,     0.95425,     0.95451,     0.95486,     0.95504,     0.95553,     0.95579,      0.9561,     0.95638,     0.95671,     0.95697,     0.95721,     0.95753,     0.95783,\n",
      "            0.95808,      0.9584,     0.95891,     0.95921,      0.9596,     0.95996,     0.96024,     0.96077,     0.96128,     0.96163,     0.96184,     0.96208,      0.9626,     0.96292,     0.96315,     0.96342,     0.96385,     0.96405,     0.96419,     0.96449,     0.96493,     0.96551,     0.96561,\n",
      "            0.96602,     0.96627,     0.96658,     0.96708,      0.9676,     0.96801,     0.96837,     0.96879,     0.96914,     0.96945,      0.9699,     0.97032,     0.97086,     0.97127,     0.97144,     0.97174,     0.97214,     0.97254,     0.97287,     0.97318,     0.97362,     0.97371,     0.97426,\n",
      "            0.97477,     0.97499,     0.97513,      0.9755,     0.97583,     0.97631,     0.97655,     0.97678,       0.977,     0.97722,     0.97734,      0.9778,     0.97809,     0.97853,     0.97904,      0.9795,     0.98007,     0.98047,     0.98073,     0.98093,     0.98133,     0.98179,     0.98194,\n",
      "            0.98221,     0.98236,     0.98256,     0.98277,     0.98312,     0.98379,     0.98404,     0.98458,     0.98511,     0.98572,     0.98588,     0.98637,     0.98647,     0.98677,     0.98694,     0.98732,     0.98762,      0.9877,       0.988,     0.98828,     0.98863,     0.98875,     0.98901,\n",
      "             0.9892,     0.98939,     0.98947,     0.98972,     0.98985,     0.99018,     0.99053,     0.99063,     0.99119,     0.99143,     0.99175,       0.992,     0.99204,     0.99209,      0.9922,     0.99226,     0.99259,     0.99258,     0.99265,     0.99271,     0.99285,     0.99285,     0.99311,\n",
      "            0.99323,     0.99331,     0.99346,      0.9937,     0.99394,     0.99419,     0.99444,     0.99445,     0.99464,     0.99483,     0.99494,     0.99506,     0.99508,     0.99546,      0.9954,     0.99534,     0.99537,     0.99569,     0.99574,     0.99578,     0.99601,     0.99596,     0.99619,\n",
      "            0.99625,     0.99618,     0.99646,     0.99671,     0.99676,     0.99693,      0.9971,     0.99739,     0.99747,     0.99754,     0.99751,     0.99758,     0.99766,     0.99774,      0.9977,     0.99791,     0.99801,     0.99797,     0.99792,     0.99801,     0.99811,     0.99822,     0.99816,\n",
      "            0.99843,     0.99839,     0.99835,     0.99847,     0.99842,     0.99837,     0.99832,     0.99826,      0.9982,     0.99813,     0.99828,     0.99821,     0.99814,     0.99807,     0.99823,     0.99867,      0.9986,     0.99883,     0.99877,      0.9987,     0.99863,     0.99855,     0.99846,\n",
      "            0.99837,     0.99869,     0.99858,     0.99847,     0.99835,     0.99881,     0.99871,     0.99929,           1,           1,           1,           1,           1,           1,           1,           1,           1,           1,           1,           1,           1,           1,           1,\n",
      "                  1,           1,           1,           1,           1,           1,           1,           1,           1,           1,           1,           1,           1,           1,           1,           1,           1,           1,           1,           1,           1,           1,           1,\n",
      "                  1,           1,           1,           1,           1,           1,           1,           1,           1,           1,           1,           1,           1,           1,           1,           1,           1,           1,           1,           1,           1,           1,           1,\n",
      "                  1,           1,           1,           1,           1,           1,           1,           1,           1,           1,           1]]), 'Confidence', 'Precision'], [array([          0,    0.001001,    0.002002,    0.003003,    0.004004,    0.005005,    0.006006,    0.007007,    0.008008,    0.009009,     0.01001,    0.011011,    0.012012,    0.013013,    0.014014,    0.015015,    0.016016,    0.017017,    0.018018,    0.019019,     0.02002,    0.021021,    0.022022,    0.023023,\n",
      "          0.024024,    0.025025,    0.026026,    0.027027,    0.028028,    0.029029,     0.03003,    0.031031,    0.032032,    0.033033,    0.034034,    0.035035,    0.036036,    0.037037,    0.038038,    0.039039,     0.04004,    0.041041,    0.042042,    0.043043,    0.044044,    0.045045,    0.046046,    0.047047,\n",
      "          0.048048,    0.049049,     0.05005,    0.051051,    0.052052,    0.053053,    0.054054,    0.055055,    0.056056,    0.057057,    0.058058,    0.059059,     0.06006,    0.061061,    0.062062,    0.063063,    0.064064,    0.065065,    0.066066,    0.067067,    0.068068,    0.069069,     0.07007,    0.071071,\n",
      "          0.072072,    0.073073,    0.074074,    0.075075,    0.076076,    0.077077,    0.078078,    0.079079,     0.08008,    0.081081,    0.082082,    0.083083,    0.084084,    0.085085,    0.086086,    0.087087,    0.088088,    0.089089,     0.09009,    0.091091,    0.092092,    0.093093,    0.094094,    0.095095,\n",
      "          0.096096,    0.097097,    0.098098,    0.099099,      0.1001,      0.1011,      0.1021,      0.1031,      0.1041,     0.10511,     0.10611,     0.10711,     0.10811,     0.10911,     0.11011,     0.11111,     0.11211,     0.11311,     0.11411,     0.11512,     0.11612,     0.11712,     0.11812,     0.11912,\n",
      "           0.12012,     0.12112,     0.12212,     0.12312,     0.12412,     0.12513,     0.12613,     0.12713,     0.12813,     0.12913,     0.13013,     0.13113,     0.13213,     0.13313,     0.13413,     0.13514,     0.13614,     0.13714,     0.13814,     0.13914,     0.14014,     0.14114,     0.14214,     0.14314,\n",
      "           0.14414,     0.14515,     0.14615,     0.14715,     0.14815,     0.14915,     0.15015,     0.15115,     0.15215,     0.15315,     0.15415,     0.15516,     0.15616,     0.15716,     0.15816,     0.15916,     0.16016,     0.16116,     0.16216,     0.16316,     0.16416,     0.16517,     0.16617,     0.16717,\n",
      "           0.16817,     0.16917,     0.17017,     0.17117,     0.17217,     0.17317,     0.17417,     0.17518,     0.17618,     0.17718,     0.17818,     0.17918,     0.18018,     0.18118,     0.18218,     0.18318,     0.18418,     0.18519,     0.18619,     0.18719,     0.18819,     0.18919,     0.19019,     0.19119,\n",
      "           0.19219,     0.19319,     0.19419,      0.1952,      0.1962,      0.1972,      0.1982,      0.1992,      0.2002,      0.2012,      0.2022,      0.2032,      0.2042,     0.20521,     0.20621,     0.20721,     0.20821,     0.20921,     0.21021,     0.21121,     0.21221,     0.21321,     0.21421,     0.21522,\n",
      "           0.21622,     0.21722,     0.21822,     0.21922,     0.22022,     0.22122,     0.22222,     0.22322,     0.22422,     0.22523,     0.22623,     0.22723,     0.22823,     0.22923,     0.23023,     0.23123,     0.23223,     0.23323,     0.23423,     0.23524,     0.23624,     0.23724,     0.23824,     0.23924,\n",
      "           0.24024,     0.24124,     0.24224,     0.24324,     0.24424,     0.24525,     0.24625,     0.24725,     0.24825,     0.24925,     0.25025,     0.25125,     0.25225,     0.25325,     0.25425,     0.25526,     0.25626,     0.25726,     0.25826,     0.25926,     0.26026,     0.26126,     0.26226,     0.26326,\n",
      "           0.26426,     0.26527,     0.26627,     0.26727,     0.26827,     0.26927,     0.27027,     0.27127,     0.27227,     0.27327,     0.27427,     0.27528,     0.27628,     0.27728,     0.27828,     0.27928,     0.28028,     0.28128,     0.28228,     0.28328,     0.28428,     0.28529,     0.28629,     0.28729,\n",
      "           0.28829,     0.28929,     0.29029,     0.29129,     0.29229,     0.29329,     0.29429,      0.2953,      0.2963,      0.2973,      0.2983,      0.2993,      0.3003,      0.3013,      0.3023,      0.3033,      0.3043,     0.30531,     0.30631,     0.30731,     0.30831,     0.30931,     0.31031,     0.31131,\n",
      "           0.31231,     0.31331,     0.31431,     0.31532,     0.31632,     0.31732,     0.31832,     0.31932,     0.32032,     0.32132,     0.32232,     0.32332,     0.32432,     0.32533,     0.32633,     0.32733,     0.32833,     0.32933,     0.33033,     0.33133,     0.33233,     0.33333,     0.33433,     0.33534,\n",
      "           0.33634,     0.33734,     0.33834,     0.33934,     0.34034,     0.34134,     0.34234,     0.34334,     0.34434,     0.34535,     0.34635,     0.34735,     0.34835,     0.34935,     0.35035,     0.35135,     0.35235,     0.35335,     0.35435,     0.35536,     0.35636,     0.35736,     0.35836,     0.35936,\n",
      "           0.36036,     0.36136,     0.36236,     0.36336,     0.36436,     0.36537,     0.36637,     0.36737,     0.36837,     0.36937,     0.37037,     0.37137,     0.37237,     0.37337,     0.37437,     0.37538,     0.37638,     0.37738,     0.37838,     0.37938,     0.38038,     0.38138,     0.38238,     0.38338,\n",
      "           0.38438,     0.38539,     0.38639,     0.38739,     0.38839,     0.38939,     0.39039,     0.39139,     0.39239,     0.39339,     0.39439,      0.3954,      0.3964,      0.3974,      0.3984,      0.3994,      0.4004,      0.4014,      0.4024,      0.4034,      0.4044,     0.40541,     0.40641,     0.40741,\n",
      "           0.40841,     0.40941,     0.41041,     0.41141,     0.41241,     0.41341,     0.41441,     0.41542,     0.41642,     0.41742,     0.41842,     0.41942,     0.42042,     0.42142,     0.42242,     0.42342,     0.42442,     0.42543,     0.42643,     0.42743,     0.42843,     0.42943,     0.43043,     0.43143,\n",
      "           0.43243,     0.43343,     0.43443,     0.43544,     0.43644,     0.43744,     0.43844,     0.43944,     0.44044,     0.44144,     0.44244,     0.44344,     0.44444,     0.44545,     0.44645,     0.44745,     0.44845,     0.44945,     0.45045,     0.45145,     0.45245,     0.45345,     0.45445,     0.45546,\n",
      "           0.45646,     0.45746,     0.45846,     0.45946,     0.46046,     0.46146,     0.46246,     0.46346,     0.46446,     0.46547,     0.46647,     0.46747,     0.46847,     0.46947,     0.47047,     0.47147,     0.47247,     0.47347,     0.47447,     0.47548,     0.47648,     0.47748,     0.47848,     0.47948,\n",
      "           0.48048,     0.48148,     0.48248,     0.48348,     0.48448,     0.48549,     0.48649,     0.48749,     0.48849,     0.48949,     0.49049,     0.49149,     0.49249,     0.49349,     0.49449,      0.4955,      0.4965,      0.4975,      0.4985,      0.4995,      0.5005,      0.5015,      0.5025,      0.5035,\n",
      "            0.5045,     0.50551,     0.50651,     0.50751,     0.50851,     0.50951,     0.51051,     0.51151,     0.51251,     0.51351,     0.51451,     0.51552,     0.51652,     0.51752,     0.51852,     0.51952,     0.52052,     0.52152,     0.52252,     0.52352,     0.52452,     0.52553,     0.52653,     0.52753,\n",
      "           0.52853,     0.52953,     0.53053,     0.53153,     0.53253,     0.53353,     0.53453,     0.53554,     0.53654,     0.53754,     0.53854,     0.53954,     0.54054,     0.54154,     0.54254,     0.54354,     0.54454,     0.54555,     0.54655,     0.54755,     0.54855,     0.54955,     0.55055,     0.55155,\n",
      "           0.55255,     0.55355,     0.55455,     0.55556,     0.55656,     0.55756,     0.55856,     0.55956,     0.56056,     0.56156,     0.56256,     0.56356,     0.56456,     0.56557,     0.56657,     0.56757,     0.56857,     0.56957,     0.57057,     0.57157,     0.57257,     0.57357,     0.57457,     0.57558,\n",
      "           0.57658,     0.57758,     0.57858,     0.57958,     0.58058,     0.58158,     0.58258,     0.58358,     0.58458,     0.58559,     0.58659,     0.58759,     0.58859,     0.58959,     0.59059,     0.59159,     0.59259,     0.59359,     0.59459,      0.5956,      0.5966,      0.5976,      0.5986,      0.5996,\n",
      "            0.6006,      0.6016,      0.6026,      0.6036,      0.6046,     0.60561,     0.60661,     0.60761,     0.60861,     0.60961,     0.61061,     0.61161,     0.61261,     0.61361,     0.61461,     0.61562,     0.61662,     0.61762,     0.61862,     0.61962,     0.62062,     0.62162,     0.62262,     0.62362,\n",
      "           0.62462,     0.62563,     0.62663,     0.62763,     0.62863,     0.62963,     0.63063,     0.63163,     0.63263,     0.63363,     0.63463,     0.63564,     0.63664,     0.63764,     0.63864,     0.63964,     0.64064,     0.64164,     0.64264,     0.64364,     0.64464,     0.64565,     0.64665,     0.64765,\n",
      "           0.64865,     0.64965,     0.65065,     0.65165,     0.65265,     0.65365,     0.65465,     0.65566,     0.65666,     0.65766,     0.65866,     0.65966,     0.66066,     0.66166,     0.66266,     0.66366,     0.66466,     0.66567,     0.66667,     0.66767,     0.66867,     0.66967,     0.67067,     0.67167,\n",
      "           0.67267,     0.67367,     0.67467,     0.67568,     0.67668,     0.67768,     0.67868,     0.67968,     0.68068,     0.68168,     0.68268,     0.68368,     0.68468,     0.68569,     0.68669,     0.68769,     0.68869,     0.68969,     0.69069,     0.69169,     0.69269,     0.69369,     0.69469,      0.6957,\n",
      "            0.6967,      0.6977,      0.6987,      0.6997,      0.7007,      0.7017,      0.7027,      0.7037,      0.7047,     0.70571,     0.70671,     0.70771,     0.70871,     0.70971,     0.71071,     0.71171,     0.71271,     0.71371,     0.71471,     0.71572,     0.71672,     0.71772,     0.71872,     0.71972,\n",
      "           0.72072,     0.72172,     0.72272,     0.72372,     0.72472,     0.72573,     0.72673,     0.72773,     0.72873,     0.72973,     0.73073,     0.73173,     0.73273,     0.73373,     0.73473,     0.73574,     0.73674,     0.73774,     0.73874,     0.73974,     0.74074,     0.74174,     0.74274,     0.74374,\n",
      "           0.74474,     0.74575,     0.74675,     0.74775,     0.74875,     0.74975,     0.75075,     0.75175,     0.75275,     0.75375,     0.75475,     0.75576,     0.75676,     0.75776,     0.75876,     0.75976,     0.76076,     0.76176,     0.76276,     0.76376,     0.76476,     0.76577,     0.76677,     0.76777,\n",
      "           0.76877,     0.76977,     0.77077,     0.77177,     0.77277,     0.77377,     0.77477,     0.77578,     0.77678,     0.77778,     0.77878,     0.77978,     0.78078,     0.78178,     0.78278,     0.78378,     0.78478,     0.78579,     0.78679,     0.78779,     0.78879,     0.78979,     0.79079,     0.79179,\n",
      "           0.79279,     0.79379,     0.79479,      0.7958,      0.7968,      0.7978,      0.7988,      0.7998,      0.8008,      0.8018,      0.8028,      0.8038,      0.8048,     0.80581,     0.80681,     0.80781,     0.80881,     0.80981,     0.81081,     0.81181,     0.81281,     0.81381,     0.81481,     0.81582,\n",
      "           0.81682,     0.81782,     0.81882,     0.81982,     0.82082,     0.82182,     0.82282,     0.82382,     0.82482,     0.82583,     0.82683,     0.82783,     0.82883,     0.82983,     0.83083,     0.83183,     0.83283,     0.83383,     0.83483,     0.83584,     0.83684,     0.83784,     0.83884,     0.83984,\n",
      "           0.84084,     0.84184,     0.84284,     0.84384,     0.84484,     0.84585,     0.84685,     0.84785,     0.84885,     0.84985,     0.85085,     0.85185,     0.85285,     0.85385,     0.85485,     0.85586,     0.85686,     0.85786,     0.85886,     0.85986,     0.86086,     0.86186,     0.86286,     0.86386,\n",
      "           0.86486,     0.86587,     0.86687,     0.86787,     0.86887,     0.86987,     0.87087,     0.87187,     0.87287,     0.87387,     0.87487,     0.87588,     0.87688,     0.87788,     0.87888,     0.87988,     0.88088,     0.88188,     0.88288,     0.88388,     0.88488,     0.88589,     0.88689,     0.88789,\n",
      "           0.88889,     0.88989,     0.89089,     0.89189,     0.89289,     0.89389,     0.89489,      0.8959,      0.8969,      0.8979,      0.8989,      0.8999,      0.9009,      0.9019,      0.9029,      0.9039,      0.9049,     0.90591,     0.90691,     0.90791,     0.90891,     0.90991,     0.91091,     0.91191,\n",
      "           0.91291,     0.91391,     0.91491,     0.91592,     0.91692,     0.91792,     0.91892,     0.91992,     0.92092,     0.92192,     0.92292,     0.92392,     0.92492,     0.92593,     0.92693,     0.92793,     0.92893,     0.92993,     0.93093,     0.93193,     0.93293,     0.93393,     0.93493,     0.93594,\n",
      "           0.93694,     0.93794,     0.93894,     0.93994,     0.94094,     0.94194,     0.94294,     0.94394,     0.94494,     0.94595,     0.94695,     0.94795,     0.94895,     0.94995,     0.95095,     0.95195,     0.95295,     0.95395,     0.95495,     0.95596,     0.95696,     0.95796,     0.95896,     0.95996,\n",
      "           0.96096,     0.96196,     0.96296,     0.96396,     0.96496,     0.96597,     0.96697,     0.96797,     0.96897,     0.96997,     0.97097,     0.97197,     0.97297,     0.97397,     0.97497,     0.97598,     0.97698,     0.97798,     0.97898,     0.97998,     0.98098,     0.98198,     0.98298,     0.98398,\n",
      "           0.98498,     0.98599,     0.98699,     0.98799,     0.98899,     0.98999,     0.99099,     0.99199,     0.99299,     0.99399,     0.99499,       0.996,       0.997,       0.998,       0.999,           1]), array([[    0.88207,     0.88207,     0.87987,      0.8775,     0.87556,     0.87356,     0.87156,     0.86979,     0.86793,     0.86636,     0.86462,     0.86266,      0.8609,     0.85924,      0.8578,     0.85617,      0.8545,     0.85321,      0.8517,     0.85027,     0.84905,     0.84761,      0.8463,\n",
      "            0.84492,      0.8437,     0.84244,       0.841,     0.83989,     0.83878,     0.83753,     0.83656,      0.8354,     0.83429,     0.83317,     0.83211,     0.83123,     0.83027,     0.82928,      0.8281,     0.82695,     0.82582,     0.82495,     0.82396,     0.82301,     0.82224,     0.82108,\n",
      "            0.82014,     0.81926,      0.8185,     0.81777,     0.81689,     0.81611,     0.81531,     0.81473,     0.81398,     0.81329,     0.81262,     0.81187,     0.81111,     0.81036,     0.80966,     0.80887,      0.8082,     0.80773,     0.80708,     0.80636,     0.80588,      0.8053,     0.80482,\n",
      "            0.80402,     0.80354,     0.80279,     0.80226,     0.80158,      0.8011,     0.80053,     0.80012,     0.79954,     0.79903,     0.79842,      0.7979,     0.79739,     0.79686,     0.79622,     0.79582,     0.79532,      0.7948,     0.79442,     0.79401,     0.79348,     0.79304,     0.79255,\n",
      "            0.79222,     0.79186,     0.79135,     0.79087,     0.79036,     0.78976,     0.78931,     0.78898,     0.78858,     0.78812,     0.78774,     0.78724,     0.78665,     0.78621,     0.78587,     0.78554,     0.78519,     0.78493,     0.78447,     0.78403,     0.78349,     0.78299,     0.78271,\n",
      "            0.78234,       0.782,     0.78164,     0.78116,     0.78061,     0.78026,     0.77988,     0.77953,     0.77915,     0.77869,     0.77829,     0.77793,     0.77751,      0.7772,     0.77682,     0.77655,     0.77614,     0.77578,     0.77546,     0.77515,     0.77479,     0.77439,     0.77396,\n",
      "            0.77377,     0.77349,     0.77313,     0.77261,     0.77215,      0.7718,     0.77149,     0.77104,     0.77073,     0.77043,     0.77002,     0.76971,     0.76948,     0.76909,     0.76878,      0.7685,     0.76825,     0.76792,      0.7676,     0.76732,     0.76714,     0.76687,     0.76661,\n",
      "            0.76625,     0.76599,     0.76565,      0.7654,      0.7651,     0.76485,      0.7645,     0.76416,      0.7638,     0.76343,     0.76314,     0.76296,     0.76265,     0.76235,     0.76205,     0.76165,      0.7613,     0.76104,     0.76071,     0.76043,     0.76013,     0.75994,     0.75965,\n",
      "            0.75941,       0.759,     0.75871,     0.75844,     0.75817,      0.7579,     0.75769,     0.75739,     0.75704,     0.75689,     0.75663,     0.75634,     0.75607,     0.75586,     0.75572,     0.75539,     0.75512,     0.75488,     0.75453,     0.75422,     0.75396,     0.75368,     0.75334,\n",
      "            0.75299,     0.75279,     0.75248,      0.7523,     0.75206,     0.75168,     0.75142,      0.7511,     0.75074,     0.75045,     0.75013,     0.74981,     0.74956,     0.74932,     0.74906,     0.74887,     0.74865,     0.74849,     0.74833,     0.74805,     0.74778,     0.74756,     0.74728,\n",
      "            0.74705,     0.74687,     0.74664,      0.7464,     0.74622,       0.746,     0.74575,     0.74556,     0.74534,     0.74503,     0.74482,     0.74458,     0.74429,     0.74392,     0.74354,     0.74332,     0.74302,     0.74269,     0.74256,     0.74236,     0.74209,      0.7419,     0.74161,\n",
      "            0.74132,     0.74108,     0.74077,     0.74052,     0.74032,     0.74005,     0.73991,     0.73969,     0.73949,     0.73917,     0.73887,     0.73862,     0.73844,     0.73811,     0.73788,     0.73764,     0.73739,     0.73716,     0.73692,     0.73669,     0.73641,     0.73615,     0.73597,\n",
      "            0.73563,     0.73542,     0.73518,       0.735,     0.73473,     0.73446,     0.73421,     0.73402,     0.73384,     0.73351,     0.73316,     0.73292,     0.73265,     0.73244,     0.73222,     0.73195,     0.73164,     0.73142,     0.73116,     0.73092,     0.73072,     0.73046,     0.73023,\n",
      "            0.73003,     0.72977,     0.72956,     0.72931,     0.72907,     0.72888,     0.72868,     0.72838,     0.72804,      0.7277,     0.72737,     0.72716,     0.72691,      0.7267,     0.72638,     0.72607,     0.72584,     0.72552,     0.72523,     0.72491,     0.72463,     0.72434,     0.72407,\n",
      "            0.72395,     0.72369,     0.72349,     0.72329,     0.72305,     0.72282,     0.72262,     0.72233,     0.72211,     0.72183,     0.72157,     0.72123,     0.72103,     0.72081,     0.72043,     0.72017,     0.71997,     0.71968,     0.71936,     0.71901,     0.71879,     0.71857,     0.71829,\n",
      "            0.71802,     0.71772,     0.71741,     0.71718,     0.71681,     0.71649,     0.71613,     0.71582,      0.7155,     0.71517,     0.71481,     0.71449,     0.71417,     0.71398,     0.71373,     0.71344,     0.71309,     0.71279,     0.71251,      0.7123,     0.71209,     0.71182,     0.71158,\n",
      "            0.71137,     0.71117,     0.71077,     0.71046,     0.71014,     0.70976,     0.70955,     0.70914,     0.70884,     0.70852,      0.7083,     0.70799,     0.70775,     0.70736,     0.70703,     0.70685,     0.70657,     0.70637,     0.70607,     0.70585,     0.70549,     0.70524,     0.70485,\n",
      "            0.70469,      0.7043,     0.70398,     0.70364,     0.70332,     0.70299,     0.70262,     0.70222,     0.70186,     0.70155,     0.70121,     0.70092,     0.70053,     0.70026,     0.70001,     0.69968,     0.69938,     0.69896,     0.69862,     0.69818,      0.6979,     0.69759,      0.6972,\n",
      "            0.69695,     0.69674,     0.69636,     0.69613,     0.69581,      0.6955,      0.6952,     0.69487,     0.69455,     0.69428,     0.69399,     0.69364,      0.6933,     0.69301,     0.69268,     0.69233,     0.69207,     0.69181,     0.69155,     0.69116,     0.69076,     0.69042,     0.69012,\n",
      "            0.68977,     0.68946,     0.68909,     0.68877,     0.68838,     0.68798,     0.68759,     0.68729,       0.687,     0.68661,     0.68628,     0.68588,     0.68559,     0.68512,     0.68481,     0.68448,     0.68405,     0.68366,     0.68337,     0.68291,     0.68253,     0.68219,     0.68179,\n",
      "            0.68153,     0.68107,     0.68075,     0.68036,     0.68003,     0.67949,     0.67916,      0.6788,     0.67839,     0.67794,      0.6776,     0.67712,     0.67673,     0.67617,     0.67579,      0.6754,     0.67503,     0.67465,     0.67434,     0.67391,     0.67358,      0.6732,     0.67282,\n",
      "            0.67234,      0.6719,     0.67167,     0.67113,     0.67072,     0.67043,     0.67004,     0.66974,     0.66923,     0.66883,     0.66844,     0.66799,      0.6675,     0.66702,     0.66652,     0.66609,     0.66559,     0.66508,     0.66481,     0.66438,     0.66402,     0.66356,     0.66316,\n",
      "            0.66276,     0.66229,      0.6618,     0.66127,     0.66094,     0.66055,     0.66009,     0.65963,     0.65924,     0.65878,      0.6583,     0.65788,     0.65735,     0.65692,     0.65647,     0.65615,     0.65569,     0.65524,     0.65482,     0.65437,      0.6538,     0.65345,     0.65306,\n",
      "            0.65252,     0.65195,     0.65155,      0.6511,     0.65057,     0.65005,     0.64949,     0.64894,     0.64851,     0.64793,     0.64738,     0.64688,     0.64629,     0.64582,      0.6453,     0.64484,     0.64426,     0.64358,     0.64309,     0.64259,     0.64205,     0.64151,      0.6409,\n",
      "            0.64043,     0.63979,     0.63919,     0.63863,       0.638,     0.63749,     0.63689,     0.63625,      0.6356,     0.63492,     0.63425,     0.63366,     0.63312,     0.63265,     0.63203,     0.63137,     0.63072,     0.63017,     0.62954,     0.62898,     0.62831,     0.62762,     0.62693,\n",
      "            0.62634,     0.62566,     0.62491,     0.62423,     0.62343,     0.62286,     0.62206,     0.62122,     0.62046,     0.61982,     0.61902,     0.61846,      0.6178,     0.61722,      0.6165,     0.61582,     0.61522,      0.6145,     0.61384,     0.61297,     0.61232,     0.61153,     0.61081,\n",
      "            0.60981,     0.60903,     0.60828,     0.60749,     0.60669,     0.60604,     0.60516,     0.60446,      0.6037,     0.60277,     0.60196,     0.60115,      0.6004,     0.59982,     0.59886,     0.59804,     0.59715,     0.59632,     0.59541,     0.59459,     0.59381,     0.59293,     0.59221,\n",
      "            0.59123,     0.59033,     0.58936,     0.58854,     0.58779,     0.58686,     0.58587,      0.5851,      0.5841,     0.58303,     0.58207,     0.58136,     0.58051,     0.57949,     0.57838,     0.57749,     0.57639,     0.57538,     0.57449,     0.57348,     0.57245,     0.57131,     0.57019,\n",
      "            0.56926,      0.5685,     0.56767,     0.56665,     0.56548,     0.56455,     0.56327,     0.56223,     0.56126,     0.56027,     0.55923,     0.55821,     0.55708,     0.55593,     0.55484,     0.55368,      0.5524,     0.55123,     0.55008,      0.5489,     0.54781,     0.54661,     0.54561,\n",
      "            0.54449,     0.54327,     0.54198,     0.54076,     0.53976,     0.53875,     0.53754,     0.53626,     0.53504,     0.53402,     0.53292,     0.53178,     0.53051,     0.52916,     0.52795,     0.52663,     0.52507,     0.52383,      0.5224,     0.52109,     0.51983,     0.51859,     0.51708,\n",
      "             0.5157,     0.51443,     0.51318,     0.51181,     0.51021,     0.50882,     0.50751,     0.50565,     0.50388,     0.50247,     0.50069,     0.49873,     0.49707,     0.49551,     0.49398,     0.49245,     0.49083,     0.48913,     0.48749,     0.48615,     0.48449,     0.48281,     0.48113,\n",
      "             0.4795,     0.47792,     0.47603,     0.47453,     0.47253,     0.47066,     0.46898,     0.46701,     0.46513,      0.4635,     0.46135,     0.45944,     0.45766,     0.45549,     0.45365,     0.45168,     0.44985,     0.44794,     0.44614,     0.44404,      0.4417,     0.43961,     0.43755,\n",
      "            0.43534,     0.43359,     0.43182,     0.42959,     0.42746,     0.42549,     0.42331,      0.4214,     0.41933,     0.41747,     0.41502,     0.41286,     0.41099,     0.40888,     0.40692,     0.40454,     0.40225,     0.40004,     0.39764,     0.39548,     0.39343,     0.39136,     0.38913,\n",
      "            0.38679,     0.38472,     0.38228,     0.37991,     0.37761,     0.37546,     0.37314,     0.37108,     0.36847,     0.36575,      0.3635,      0.3611,     0.35881,      0.3562,     0.35365,     0.35134,     0.34882,     0.34622,     0.34413,     0.34171,     0.33944,     0.33706,     0.33468,\n",
      "            0.33244,     0.33007,     0.32762,     0.32555,     0.32286,     0.32043,     0.31816,     0.31611,     0.31392,     0.31167,      0.3093,     0.30666,     0.30409,     0.30195,     0.29942,      0.2971,     0.29497,     0.29276,     0.29048,     0.28792,     0.28553,     0.28325,     0.28107,\n",
      "            0.27869,     0.27651,     0.27427,     0.27212,     0.26982,     0.26781,     0.26564,     0.26327,      0.2609,     0.25886,     0.25661,     0.25444,     0.25233,     0.25003,     0.24805,     0.24577,     0.24343,     0.24135,     0.23945,     0.23723,     0.23502,     0.23278,     0.23083,\n",
      "             0.2286,     0.22627,     0.22424,     0.22177,     0.21926,       0.217,     0.21485,     0.21286,     0.21097,     0.20905,      0.2072,     0.20509,      0.2028,     0.20063,     0.19813,     0.19617,     0.19399,     0.19185,     0.18989,     0.18784,      0.1856,     0.18383,     0.18196,\n",
      "            0.18002,     0.17813,     0.17603,     0.17398,     0.17198,     0.16988,     0.16784,     0.16558,     0.16362,     0.16195,     0.16008,     0.15822,     0.15625,      0.1542,     0.15221,     0.15022,     0.14828,     0.14666,     0.14501,     0.14312,      0.1411,     0.13932,     0.13709,\n",
      "            0.13538,      0.1332,     0.13139,     0.12955,     0.12732,     0.12549,     0.12333,     0.12129,     0.11943,     0.11751,     0.11579,     0.11367,     0.11161,     0.10967,     0.10765,     0.10557,     0.10373,     0.10153,      0.0993,    0.097037,    0.094844,    0.092611,    0.089999,\n",
      "           0.087721,    0.085501,    0.083218,     0.08094,    0.078487,    0.076134,    0.073728,    0.071322,    0.068795,    0.066312,    0.064042,     0.06167,    0.059215,    0.057072,    0.054445,    0.051867,    0.049334,    0.046925,    0.044628,    0.042309,    0.040188,    0.038046,    0.035846,\n",
      "           0.033788,    0.031464,     0.02919,    0.027045,    0.024971,    0.023109,    0.021374,    0.019441,    0.017704,    0.015881,     0.01404,    0.012593,    0.011162,   0.0099367,    0.008555,   0.0074389,   0.0065359,   0.0056408,   0.0049619,   0.0043371,   0.0036047,   0.0030943,   0.0025393,\n",
      "          0.0019601,    0.001544,   0.0012359,  0.00096943,  0.00078584,  0.00067932,  0.00051283,  0.00039309,  0.00028684,  0.00019292,  0.00017899,  0.00015855,  0.00013333,  0.00010914,  9.0002e-05,  5.4377e-05,  3.8815e-05,  3.0924e-05,   2.071e-05,           0,           0,           0,           0,\n",
      "                  0,           0,           0,           0,           0,           0,           0,           0,           0,           0,           0,           0,           0,           0,           0,           0,           0,           0,           0,           0,           0,           0,           0,\n",
      "                  0,           0,           0,           0,           0,           0,           0,           0,           0,           0,           0]]), 'Confidence', 'Recall']]\n",
      "fitness: 0.5734873586523485\n",
      "keys: ['metrics/precision(B)', 'metrics/recall(B)', 'metrics/mAP50(B)', 'metrics/mAP50-95(B)']\n",
      "maps: array([    0.54834])\n",
      "names: {0: 'human'}\n",
      "plot: True\n",
      "results_dict: {'metrics/precision(B)': 0.8575752553804572, 'metrics/recall(B)': 0.7283819254951007, 'metrics/mAP50(B)': 0.7998558878604312, 'metrics/mAP50-95(B)': 0.5483352998514504, 'fitness': 0.5734873586523485}\n",
      "save_dir: WindowsPath('runs/detect/val3')\n",
      "speed: {'preprocess': 0.3628766950998479, 'inference': 5.458015118868283, 'loss': 0.0, 'postprocess': 1.1932451936233528}\n",
      "task: 'detect'\n"
     ]
    }
   ],
   "source": [
    "from ultralytics import YOLO\n",
    "\n",
    "# Load the trained model\n",
    "model = YOLO('./runs/detect/yolov11_run1/weights/best.pt')  # Path to the best weights after training\n",
    "\n",
    "# Evaluate the model on the test dataset\n",
    "metrics = model.val(\n",
    "    data='./C2A_Dataset/new_dataset3/data.yaml',  # Path to your dataset configuration\n",
    "    split='test',                                # Specify the test split\n",
    "    imgsz=640,                                   # Image size for evaluation\n",
    "    batch=16                                     # Batch size for evaluation\n",
    ")\n",
    "\n",
    "# Print evaluation metrics\n",
    "print(metrics)"
   ]
  },
  {
   "cell_type": "markdown",
   "metadata": {},
   "source": [
    "## Yolo v11s cont."
   ]
  },
  {
   "cell_type": "code",
   "execution_count": 1,
   "metadata": {},
   "outputs": [
    {
     "name": "stdout",
     "output_type": "stream",
     "text": [
      "New https://pypi.org/project/ultralytics/8.3.36 available  Update with 'pip install -U ultralytics'\n",
      "Ultralytics 8.3.25  Python-3.12.5 torch-2.5.1+cu121 CUDA:0 (NVIDIA GeForce RTX 4060 Laptop GPU, 8188MiB)\n",
      "\u001b[34m\u001b[1mengine\\trainer: \u001b[0mtask=detect, mode=train, model=./runs/detect/yolov11_run1/weights/last.pt, data=./C2A_Dataset/new_dataset3/data.yaml, epochs=50, time=None, patience=100, batch=16, imgsz=640, save=True, save_period=-1, cache=False, device=None, workers=8, project=None, name=yolov11_run1_14, exist_ok=False, pretrained=True, optimizer=auto, verbose=True, seed=0, deterministic=True, single_cls=False, rect=False, cos_lr=False, close_mosaic=10, resume=False, amp=True, fraction=1.0, profile=False, freeze=None, multi_scale=False, overlap_mask=True, mask_ratio=4, dropout=0.0, val=True, split=val, save_json=False, save_hybrid=False, conf=None, iou=0.7, max_det=300, half=False, dnn=False, plots=True, source=None, vid_stride=1, stream_buffer=False, visualize=False, augment=False, agnostic_nms=False, classes=None, retina_masks=False, embed=None, show=False, save_frames=False, save_txt=False, save_conf=False, save_crop=False, show_labels=True, show_conf=True, show_boxes=True, line_width=None, format=torchscript, keras=False, optimize=False, int8=False, dynamic=False, simplify=True, opset=None, workspace=4, nms=False, lr0=0.01, lrf=0.01, momentum=0.937, weight_decay=0.0005, warmup_epochs=3.0, warmup_momentum=0.8, warmup_bias_lr=0.1, box=7.5, cls=0.5, dfl=1.5, pose=12.0, kobj=1.0, label_smoothing=0.0, nbs=64, hsv_h=0.015, hsv_s=0.7, hsv_v=0.4, degrees=0.0, translate=0.1, scale=0.5, shear=0.0, perspective=0.0, flipud=0.0, fliplr=0.5, bgr=0.0, mosaic=1.0, mixup=0.0, copy_paste=0.0, copy_paste_mode=flip, auto_augment=randaugment, erasing=0.4, crop_fraction=1.0, cfg=None, tracker=botsort.yaml, save_dir=runs\\detect\\yolov11_run1_14\n"
     ]
    },
    {
     "name": "stderr",
     "output_type": "stream",
     "text": [
      "c:\\Users\\Karee\\AppData\\Local\\Programs\\Python\\Python312\\Lib\\site-packages\\tqdm\\auto.py:21: TqdmWarning: IProgress not found. Please update jupyter and ipywidgets. See https://ipywidgets.readthedocs.io/en/stable/user_install.html\n",
      "  from .autonotebook import tqdm as notebook_tqdm\n",
      "2024-11-24 22:41:16,424\tINFO util.py:154 -- Missing packages: ['ipywidgets']. Run `pip install -U ipywidgets`, then restart the notebook server for rich notebook output.\n",
      "2024-11-24 22:41:17,239\tINFO util.py:154 -- Missing packages: ['ipywidgets']. Run `pip install -U ipywidgets`, then restart the notebook server for rich notebook output.\n"
     ]
    },
    {
     "name": "stdout",
     "output_type": "stream",
     "text": [
      "\n",
      "                   from  n    params  module                                       arguments                     \n",
      "  0                  -1  1       928  ultralytics.nn.modules.conv.Conv             [3, 32, 3, 2]                 \n",
      "  1                  -1  1     18560  ultralytics.nn.modules.conv.Conv             [32, 64, 3, 2]                \n",
      "  2                  -1  1     26080  ultralytics.nn.modules.block.C3k2            [64, 128, 1, False, 0.25]     \n",
      "  3                  -1  1    147712  ultralytics.nn.modules.conv.Conv             [128, 128, 3, 2]              \n",
      "  4                  -1  1    103360  ultralytics.nn.modules.block.C3k2            [128, 256, 1, False, 0.25]    \n",
      "  5                  -1  1    590336  ultralytics.nn.modules.conv.Conv             [256, 256, 3, 2]              \n",
      "  6                  -1  1    346112  ultralytics.nn.modules.block.C3k2            [256, 256, 1, True]           \n",
      "  7                  -1  1   1180672  ultralytics.nn.modules.conv.Conv             [256, 512, 3, 2]              \n",
      "  8                  -1  1   1380352  ultralytics.nn.modules.block.C3k2            [512, 512, 1, True]           \n",
      "  9                  -1  1    656896  ultralytics.nn.modules.block.SPPF            [512, 512, 5]                 \n",
      " 10                  -1  1    990976  ultralytics.nn.modules.block.C2PSA           [512, 512, 1]                 \n",
      " 11                  -1  1         0  torch.nn.modules.upsampling.Upsample         [None, 2, 'nearest']          \n",
      " 12             [-1, 6]  1         0  ultralytics.nn.modules.conv.Concat           [1]                           \n",
      " 13                  -1  1    443776  ultralytics.nn.modules.block.C3k2            [768, 256, 1, False]          \n",
      " 14                  -1  1         0  torch.nn.modules.upsampling.Upsample         [None, 2, 'nearest']          \n",
      " 15             [-1, 4]  1         0  ultralytics.nn.modules.conv.Concat           [1]                           \n",
      " 16                  -1  1    127680  ultralytics.nn.modules.block.C3k2            [512, 128, 1, False]          \n",
      " 17                  -1  1    147712  ultralytics.nn.modules.conv.Conv             [128, 128, 3, 2]              \n",
      " 18            [-1, 13]  1         0  ultralytics.nn.modules.conv.Concat           [1]                           \n",
      " 19                  -1  1    345472  ultralytics.nn.modules.block.C3k2            [384, 256, 1, False]          \n",
      " 20                  -1  1    590336  ultralytics.nn.modules.conv.Conv             [256, 256, 3, 2]              \n",
      " 21            [-1, 10]  1         0  ultralytics.nn.modules.conv.Concat           [1]                           \n",
      " 22                  -1  1   1511424  ultralytics.nn.modules.block.C3k2            [768, 512, 1, True]           \n",
      " 23        [16, 19, 22]  1    819795  ultralytics.nn.modules.head.Detect           [1, [128, 256, 512]]          \n",
      "YOLO11s summary: 319 layers, 9,428,179 parameters, 9,428,163 gradients, 21.5 GFLOPs\n",
      "\n",
      "Transferred 499/499 items from pretrained weights\n",
      "\u001b[34m\u001b[1mTensorBoard: \u001b[0mStart with 'tensorboard --logdir runs\\detect\\yolov11_run1_14', view at http://localhost:6006/\n",
      "Freezing layer 'model.23.dfl.conv.weight'\n",
      "\u001b[34m\u001b[1mAMP: \u001b[0mrunning Automatic Mixed Precision (AMP) checks...\n",
      "\u001b[34m\u001b[1mAMP: \u001b[0mchecks passed \n"
     ]
    },
    {
     "name": "stderr",
     "output_type": "stream",
     "text": [
      "\u001b[34m\u001b[1mtrain: \u001b[0mScanning C:\\Users\\Karee\\OneDrive\\Desktop\\Fall 2024 AUS\\COE49413\\Project\\Code\\C2A_Dataset\\new_dataset3\\train\\labels.cache... 6129 images, 0 backgrounds, 0 corrupt: 100%|██████████| 6129/6129 [00:00<?, ?it/s]"
     ]
    },
    {
     "name": "stdout",
     "output_type": "stream",
     "text": [
      "\u001b[34m\u001b[1mtrain: \u001b[0mWARNING  C:\\Users\\Karee\\OneDrive\\Desktop\\Fall 2024 AUS\\COE49413\\Project\\Code\\C2A_Dataset\\new_dataset3\\train\\images\\flood_image0407_3.png: 1 duplicate labels removed\n"
     ]
    },
    {
     "name": "stderr",
     "output_type": "stream",
     "text": [
      "\n",
      "\u001b[34m\u001b[1mval: \u001b[0mScanning C:\\Users\\Karee\\OneDrive\\Desktop\\Fall 2024 AUS\\COE49413\\Project\\Code\\C2A_Dataset\\new_dataset3\\val\\labels.cache... 2043 images, 0 backgrounds, 0 corrupt: 100%|██████████| 2043/2043 [00:00<?, ?it/s]\n"
     ]
    },
    {
     "name": "stdout",
     "output_type": "stream",
     "text": [
      "Plotting labels to runs\\detect\\yolov11_run1_14\\labels.jpg... \n",
      "\u001b[34m\u001b[1moptimizer:\u001b[0m 'optimizer=auto' found, ignoring 'lr0=0.01' and 'momentum=0.937' and determining best 'optimizer', 'lr0' and 'momentum' automatically... \n",
      "\u001b[34m\u001b[1moptimizer:\u001b[0m AdamW(lr=0.002, momentum=0.9) with parameter groups 81 weight(decay=0.0), 88 weight(decay=0.0005), 87 bias(decay=0.0)\n",
      "\u001b[34m\u001b[1mTensorBoard: \u001b[0mmodel graph visualization added \n",
      "Image sizes 640 train, 640 val\n",
      "Using 8 dataloader workers\n",
      "Logging results to \u001b[1mruns\\detect\\yolov11_run1_14\u001b[0m\n",
      "Starting training for 50 epochs...\n",
      "\n",
      "      Epoch    GPU_mem   box_loss   cls_loss   dfl_loss  Instances       Size\n"
     ]
    },
    {
     "name": "stderr",
     "output_type": "stream",
     "text": [
      "       1/50      8.68G      1.016     0.6357     0.9164         73        640: 100%|██████████| 384/384 [01:32<00:00,  4.16it/s]\n",
      "                 Class     Images  Instances      Box(P          R      mAP50  mAP50-95): 100%|██████████| 64/64 [00:20<00:00,  3.13it/s]\n"
     ]
    },
    {
     "name": "stdout",
     "output_type": "stream",
     "text": [
      "                   all       2043      72123      0.843      0.708      0.775      0.503\n",
      "\n",
      "      Epoch    GPU_mem   box_loss   cls_loss   dfl_loss  Instances       Size\n"
     ]
    },
    {
     "name": "stderr",
     "output_type": "stream",
     "text": [
      "       2/50      7.88G       1.05     0.6671     0.9229         59        640: 100%|██████████| 384/384 [01:27<00:00,  4.40it/s]\n",
      "                 Class     Images  Instances      Box(P          R      mAP50  mAP50-95): 100%|██████████| 64/64 [00:18<00:00,  3.37it/s]\n"
     ]
    },
    {
     "name": "stdout",
     "output_type": "stream",
     "text": [
      "                   all       2043      72123      0.831      0.701      0.762      0.489\n",
      "\n",
      "      Epoch    GPU_mem   box_loss   cls_loss   dfl_loss  Instances       Size\n"
     ]
    },
    {
     "name": "stderr",
     "output_type": "stream",
     "text": [
      "       3/50      5.96G      1.076     0.6894     0.9351        641        640:  89%|████████▉ | 341/384 [01:16<00:09,  4.44it/s]\n"
     ]
    },
    {
     "ename": "KeyboardInterrupt",
     "evalue": "",
     "output_type": "error",
     "traceback": [
      "\u001b[1;31m---------------------------------------------------------------------------\u001b[0m",
      "\u001b[1;31mKeyboardInterrupt\u001b[0m                         Traceback (most recent call last)",
      "Cell \u001b[1;32mIn[1], line 6\u001b[0m\n\u001b[0;32m      3\u001b[0m \u001b[38;5;66;03m# Load the model from the last checkpoint\u001b[39;00m\n\u001b[0;32m      4\u001b[0m model \u001b[38;5;241m=\u001b[39m YOLO(\u001b[38;5;124m'\u001b[39m\u001b[38;5;124m./runs/detect/yolov11_run1/weights/last.pt\u001b[39m\u001b[38;5;124m'\u001b[39m)  \u001b[38;5;66;03m# Path to last trained weights\u001b[39;00m\n\u001b[1;32m----> 6\u001b[0m \u001b[43mmodel\u001b[49m\u001b[38;5;241;43m.\u001b[39;49m\u001b[43mtrain\u001b[49m\u001b[43m(\u001b[49m\n\u001b[0;32m      7\u001b[0m \u001b[43m    \u001b[49m\u001b[43mdata\u001b[49m\u001b[38;5;241;43m=\u001b[39;49m\u001b[38;5;124;43m'\u001b[39;49m\u001b[38;5;124;43m./C2A_Dataset/new_dataset3/data.yaml\u001b[39;49m\u001b[38;5;124;43m'\u001b[39;49m\u001b[43m,\u001b[49m\u001b[43m  \u001b[49m\u001b[38;5;66;43;03m# Dataset path and configuration\u001b[39;49;00m\n\u001b[0;32m      8\u001b[0m \u001b[43m    \u001b[49m\u001b[43mepochs\u001b[49m\u001b[38;5;241;43m=\u001b[39;49m\u001b[38;5;241;43m50\u001b[39;49m\u001b[43m,\u001b[49m\u001b[43m           \u001b[49m\u001b[38;5;66;43;03m# Additional training epochs\u001b[39;49;00m\n\u001b[0;32m      9\u001b[0m \u001b[43m    \u001b[49m\u001b[43mbatch\u001b[49m\u001b[38;5;241;43m=\u001b[39;49m\u001b[38;5;241;43m16\u001b[39;49m\u001b[43m,\u001b[49m\u001b[43m            \u001b[49m\u001b[38;5;66;43;03m# Batch size\u001b[39;49;00m\n\u001b[0;32m     10\u001b[0m \u001b[43m    \u001b[49m\u001b[43mimgsz\u001b[49m\u001b[38;5;241;43m=\u001b[39;49m\u001b[38;5;241;43m640\u001b[39;49m\u001b[43m,\u001b[49m\u001b[43m           \u001b[49m\u001b[38;5;66;43;03m# Image size for training\u001b[39;49;00m\n\u001b[0;32m     11\u001b[0m \u001b[43m    \u001b[49m\u001b[43mname\u001b[49m\u001b[38;5;241;43m=\u001b[39;49m\u001b[38;5;124;43m\"\u001b[39;49m\u001b[38;5;124;43myolov11_run1_1\u001b[39;49m\u001b[38;5;124;43m\"\u001b[39;49m\u001b[43m  \u001b[49m\u001b[38;5;66;43;03m# New experiment name\u001b[39;49;00m\n\u001b[0;32m     12\u001b[0m \u001b[43m)\u001b[49m\n",
      "File \u001b[1;32mc:\\Users\\Karee\\AppData\\Local\\Programs\\Python\\Python312\\Lib\\site-packages\\ultralytics\\engine\\model.py:802\u001b[0m, in \u001b[0;36mModel.train\u001b[1;34m(self, trainer, **kwargs)\u001b[0m\n\u001b[0;32m    799\u001b[0m     \u001b[38;5;28mself\u001b[39m\u001b[38;5;241m.\u001b[39mmodel \u001b[38;5;241m=\u001b[39m \u001b[38;5;28mself\u001b[39m\u001b[38;5;241m.\u001b[39mtrainer\u001b[38;5;241m.\u001b[39mmodel\n\u001b[0;32m    801\u001b[0m \u001b[38;5;28mself\u001b[39m\u001b[38;5;241m.\u001b[39mtrainer\u001b[38;5;241m.\u001b[39mhub_session \u001b[38;5;241m=\u001b[39m \u001b[38;5;28mself\u001b[39m\u001b[38;5;241m.\u001b[39msession  \u001b[38;5;66;03m# attach optional HUB session\u001b[39;00m\n\u001b[1;32m--> 802\u001b[0m \u001b[38;5;28;43mself\u001b[39;49m\u001b[38;5;241;43m.\u001b[39;49m\u001b[43mtrainer\u001b[49m\u001b[38;5;241;43m.\u001b[39;49m\u001b[43mtrain\u001b[49m\u001b[43m(\u001b[49m\u001b[43m)\u001b[49m\n\u001b[0;32m    803\u001b[0m \u001b[38;5;66;03m# Update model and cfg after training\u001b[39;00m\n\u001b[0;32m    804\u001b[0m \u001b[38;5;28;01mif\u001b[39;00m RANK \u001b[38;5;129;01min\u001b[39;00m {\u001b[38;5;241m-\u001b[39m\u001b[38;5;241m1\u001b[39m, \u001b[38;5;241m0\u001b[39m}:\n",
      "File \u001b[1;32mc:\\Users\\Karee\\AppData\\Local\\Programs\\Python\\Python312\\Lib\\site-packages\\ultralytics\\engine\\trainer.py:207\u001b[0m, in \u001b[0;36mBaseTrainer.train\u001b[1;34m(self)\u001b[0m\n\u001b[0;32m    204\u001b[0m         ddp_cleanup(\u001b[38;5;28mself\u001b[39m, \u001b[38;5;28mstr\u001b[39m(file))\n\u001b[0;32m    206\u001b[0m \u001b[38;5;28;01melse\u001b[39;00m:\n\u001b[1;32m--> 207\u001b[0m     \u001b[38;5;28;43mself\u001b[39;49m\u001b[38;5;241;43m.\u001b[39;49m\u001b[43m_do_train\u001b[49m\u001b[43m(\u001b[49m\u001b[43mworld_size\u001b[49m\u001b[43m)\u001b[49m\n",
      "File \u001b[1;32mc:\\Users\\Karee\\AppData\\Local\\Programs\\Python\\Python312\\Lib\\site-packages\\ultralytics\\engine\\trainer.py:385\u001b[0m, in \u001b[0;36mBaseTrainer._do_train\u001b[1;34m(self, world_size)\u001b[0m\n\u001b[0;32m    383\u001b[0m \u001b[38;5;28;01mwith\u001b[39;00m autocast(\u001b[38;5;28mself\u001b[39m\u001b[38;5;241m.\u001b[39mamp):\n\u001b[0;32m    384\u001b[0m     batch \u001b[38;5;241m=\u001b[39m \u001b[38;5;28mself\u001b[39m\u001b[38;5;241m.\u001b[39mpreprocess_batch(batch)\n\u001b[1;32m--> 385\u001b[0m     \u001b[38;5;28mself\u001b[39m\u001b[38;5;241m.\u001b[39mloss, \u001b[38;5;28mself\u001b[39m\u001b[38;5;241m.\u001b[39mloss_items \u001b[38;5;241m=\u001b[39m \u001b[38;5;28;43mself\u001b[39;49m\u001b[38;5;241;43m.\u001b[39;49m\u001b[43mmodel\u001b[49m\u001b[43m(\u001b[49m\u001b[43mbatch\u001b[49m\u001b[43m)\u001b[49m\n\u001b[0;32m    386\u001b[0m     \u001b[38;5;28;01mif\u001b[39;00m RANK \u001b[38;5;241m!=\u001b[39m \u001b[38;5;241m-\u001b[39m\u001b[38;5;241m1\u001b[39m:\n\u001b[0;32m    387\u001b[0m         \u001b[38;5;28mself\u001b[39m\u001b[38;5;241m.\u001b[39mloss \u001b[38;5;241m*\u001b[39m\u001b[38;5;241m=\u001b[39m world_size\n",
      "File \u001b[1;32mc:\\Users\\Karee\\AppData\\Local\\Programs\\Python\\Python312\\Lib\\site-packages\\torch\\nn\\modules\\module.py:1736\u001b[0m, in \u001b[0;36mModule._wrapped_call_impl\u001b[1;34m(self, *args, **kwargs)\u001b[0m\n\u001b[0;32m   1734\u001b[0m     \u001b[38;5;28;01mreturn\u001b[39;00m \u001b[38;5;28mself\u001b[39m\u001b[38;5;241m.\u001b[39m_compiled_call_impl(\u001b[38;5;241m*\u001b[39margs, \u001b[38;5;241m*\u001b[39m\u001b[38;5;241m*\u001b[39mkwargs)  \u001b[38;5;66;03m# type: ignore[misc]\u001b[39;00m\n\u001b[0;32m   1735\u001b[0m \u001b[38;5;28;01melse\u001b[39;00m:\n\u001b[1;32m-> 1736\u001b[0m     \u001b[38;5;28;01mreturn\u001b[39;00m \u001b[38;5;28;43mself\u001b[39;49m\u001b[38;5;241;43m.\u001b[39;49m\u001b[43m_call_impl\u001b[49m\u001b[43m(\u001b[49m\u001b[38;5;241;43m*\u001b[39;49m\u001b[43margs\u001b[49m\u001b[43m,\u001b[49m\u001b[43m \u001b[49m\u001b[38;5;241;43m*\u001b[39;49m\u001b[38;5;241;43m*\u001b[39;49m\u001b[43mkwargs\u001b[49m\u001b[43m)\u001b[49m\n",
      "File \u001b[1;32mc:\\Users\\Karee\\AppData\\Local\\Programs\\Python\\Python312\\Lib\\site-packages\\torch\\nn\\modules\\module.py:1747\u001b[0m, in \u001b[0;36mModule._call_impl\u001b[1;34m(self, *args, **kwargs)\u001b[0m\n\u001b[0;32m   1742\u001b[0m \u001b[38;5;66;03m# If we don't have any hooks, we want to skip the rest of the logic in\u001b[39;00m\n\u001b[0;32m   1743\u001b[0m \u001b[38;5;66;03m# this function, and just call forward.\u001b[39;00m\n\u001b[0;32m   1744\u001b[0m \u001b[38;5;28;01mif\u001b[39;00m \u001b[38;5;129;01mnot\u001b[39;00m (\u001b[38;5;28mself\u001b[39m\u001b[38;5;241m.\u001b[39m_backward_hooks \u001b[38;5;129;01mor\u001b[39;00m \u001b[38;5;28mself\u001b[39m\u001b[38;5;241m.\u001b[39m_backward_pre_hooks \u001b[38;5;129;01mor\u001b[39;00m \u001b[38;5;28mself\u001b[39m\u001b[38;5;241m.\u001b[39m_forward_hooks \u001b[38;5;129;01mor\u001b[39;00m \u001b[38;5;28mself\u001b[39m\u001b[38;5;241m.\u001b[39m_forward_pre_hooks\n\u001b[0;32m   1745\u001b[0m         \u001b[38;5;129;01mor\u001b[39;00m _global_backward_pre_hooks \u001b[38;5;129;01mor\u001b[39;00m _global_backward_hooks\n\u001b[0;32m   1746\u001b[0m         \u001b[38;5;129;01mor\u001b[39;00m _global_forward_hooks \u001b[38;5;129;01mor\u001b[39;00m _global_forward_pre_hooks):\n\u001b[1;32m-> 1747\u001b[0m     \u001b[38;5;28;01mreturn\u001b[39;00m \u001b[43mforward_call\u001b[49m\u001b[43m(\u001b[49m\u001b[38;5;241;43m*\u001b[39;49m\u001b[43margs\u001b[49m\u001b[43m,\u001b[49m\u001b[43m \u001b[49m\u001b[38;5;241;43m*\u001b[39;49m\u001b[38;5;241;43m*\u001b[39;49m\u001b[43mkwargs\u001b[49m\u001b[43m)\u001b[49m\n\u001b[0;32m   1749\u001b[0m result \u001b[38;5;241m=\u001b[39m \u001b[38;5;28;01mNone\u001b[39;00m\n\u001b[0;32m   1750\u001b[0m called_always_called_hooks \u001b[38;5;241m=\u001b[39m \u001b[38;5;28mset\u001b[39m()\n",
      "File \u001b[1;32mc:\\Users\\Karee\\AppData\\Local\\Programs\\Python\\Python312\\Lib\\site-packages\\ultralytics\\nn\\tasks.py:111\u001b[0m, in \u001b[0;36mBaseModel.forward\u001b[1;34m(self, x, *args, **kwargs)\u001b[0m\n\u001b[0;32m     97\u001b[0m \u001b[38;5;250m\u001b[39m\u001b[38;5;124;03m\"\"\"\u001b[39;00m\n\u001b[0;32m     98\u001b[0m \u001b[38;5;124;03mPerform forward pass of the model for either training or inference.\u001b[39;00m\n\u001b[0;32m     99\u001b[0m \n\u001b[1;32m   (...)\u001b[0m\n\u001b[0;32m    108\u001b[0m \u001b[38;5;124;03m    (torch.Tensor): Loss if x is a dict (training), or network predictions (inference).\u001b[39;00m\n\u001b[0;32m    109\u001b[0m \u001b[38;5;124;03m\"\"\"\u001b[39;00m\n\u001b[0;32m    110\u001b[0m \u001b[38;5;28;01mif\u001b[39;00m \u001b[38;5;28misinstance\u001b[39m(x, \u001b[38;5;28mdict\u001b[39m):  \u001b[38;5;66;03m# for cases of training and validating while training.\u001b[39;00m\n\u001b[1;32m--> 111\u001b[0m     \u001b[38;5;28;01mreturn\u001b[39;00m \u001b[38;5;28;43mself\u001b[39;49m\u001b[38;5;241;43m.\u001b[39;49m\u001b[43mloss\u001b[49m\u001b[43m(\u001b[49m\u001b[43mx\u001b[49m\u001b[43m,\u001b[49m\u001b[43m \u001b[49m\u001b[38;5;241;43m*\u001b[39;49m\u001b[43margs\u001b[49m\u001b[43m,\u001b[49m\u001b[43m \u001b[49m\u001b[38;5;241;43m*\u001b[39;49m\u001b[38;5;241;43m*\u001b[39;49m\u001b[43mkwargs\u001b[49m\u001b[43m)\u001b[49m\n\u001b[0;32m    112\u001b[0m \u001b[38;5;28;01mreturn\u001b[39;00m \u001b[38;5;28mself\u001b[39m\u001b[38;5;241m.\u001b[39mpredict(x, \u001b[38;5;241m*\u001b[39margs, \u001b[38;5;241m*\u001b[39m\u001b[38;5;241m*\u001b[39mkwargs)\n",
      "File \u001b[1;32mc:\\Users\\Karee\\AppData\\Local\\Programs\\Python\\Python312\\Lib\\site-packages\\ultralytics\\nn\\tasks.py:293\u001b[0m, in \u001b[0;36mBaseModel.loss\u001b[1;34m(self, batch, preds)\u001b[0m\n\u001b[0;32m    290\u001b[0m     \u001b[38;5;28mself\u001b[39m\u001b[38;5;241m.\u001b[39mcriterion \u001b[38;5;241m=\u001b[39m \u001b[38;5;28mself\u001b[39m\u001b[38;5;241m.\u001b[39minit_criterion()\n\u001b[0;32m    292\u001b[0m preds \u001b[38;5;241m=\u001b[39m \u001b[38;5;28mself\u001b[39m\u001b[38;5;241m.\u001b[39mforward(batch[\u001b[38;5;124m\"\u001b[39m\u001b[38;5;124mimg\u001b[39m\u001b[38;5;124m\"\u001b[39m]) \u001b[38;5;28;01mif\u001b[39;00m preds \u001b[38;5;129;01mis\u001b[39;00m \u001b[38;5;28;01mNone\u001b[39;00m \u001b[38;5;28;01melse\u001b[39;00m preds\n\u001b[1;32m--> 293\u001b[0m \u001b[38;5;28;01mreturn\u001b[39;00m \u001b[38;5;28;43mself\u001b[39;49m\u001b[38;5;241;43m.\u001b[39;49m\u001b[43mcriterion\u001b[49m\u001b[43m(\u001b[49m\u001b[43mpreds\u001b[49m\u001b[43m,\u001b[49m\u001b[43m \u001b[49m\u001b[43mbatch\u001b[49m\u001b[43m)\u001b[49m\n",
      "File \u001b[1;32mc:\\Users\\Karee\\AppData\\Local\\Programs\\Python\\Python312\\Lib\\site-packages\\ultralytics\\utils\\loss.py:234\u001b[0m, in \u001b[0;36mv8DetectionLoss.__call__\u001b[1;34m(self, preds, batch)\u001b[0m\n\u001b[0;32m    230\u001b[0m pred_bboxes \u001b[38;5;241m=\u001b[39m \u001b[38;5;28mself\u001b[39m\u001b[38;5;241m.\u001b[39mbbox_decode(anchor_points, pred_distri)  \u001b[38;5;66;03m# xyxy, (b, h*w, 4)\u001b[39;00m\n\u001b[0;32m    231\u001b[0m \u001b[38;5;66;03m# dfl_conf = pred_distri.view(batch_size, -1, 4, self.reg_max).detach().softmax(-1)\u001b[39;00m\n\u001b[0;32m    232\u001b[0m \u001b[38;5;66;03m# dfl_conf = (dfl_conf.amax(-1).mean(-1) + dfl_conf.amax(-1).amin(-1)) / 2\u001b[39;00m\n\u001b[1;32m--> 234\u001b[0m _, target_bboxes, target_scores, fg_mask, _ \u001b[38;5;241m=\u001b[39m \u001b[38;5;28;43mself\u001b[39;49m\u001b[38;5;241;43m.\u001b[39;49m\u001b[43massigner\u001b[49m\u001b[43m(\u001b[49m\n\u001b[0;32m    235\u001b[0m \u001b[43m    \u001b[49m\u001b[38;5;66;43;03m# pred_scores.detach().sigmoid() * 0.8 + dfl_conf.unsqueeze(-1) * 0.2,\u001b[39;49;00m\n\u001b[0;32m    236\u001b[0m \u001b[43m    \u001b[49m\u001b[43mpred_scores\u001b[49m\u001b[38;5;241;43m.\u001b[39;49m\u001b[43mdetach\u001b[49m\u001b[43m(\u001b[49m\u001b[43m)\u001b[49m\u001b[38;5;241;43m.\u001b[39;49m\u001b[43msigmoid\u001b[49m\u001b[43m(\u001b[49m\u001b[43m)\u001b[49m\u001b[43m,\u001b[49m\n\u001b[0;32m    237\u001b[0m \u001b[43m    \u001b[49m\u001b[43m(\u001b[49m\u001b[43mpred_bboxes\u001b[49m\u001b[38;5;241;43m.\u001b[39;49m\u001b[43mdetach\u001b[49m\u001b[43m(\u001b[49m\u001b[43m)\u001b[49m\u001b[43m \u001b[49m\u001b[38;5;241;43m*\u001b[39;49m\u001b[43m \u001b[49m\u001b[43mstride_tensor\u001b[49m\u001b[43m)\u001b[49m\u001b[38;5;241;43m.\u001b[39;49m\u001b[43mtype\u001b[49m\u001b[43m(\u001b[49m\u001b[43mgt_bboxes\u001b[49m\u001b[38;5;241;43m.\u001b[39;49m\u001b[43mdtype\u001b[49m\u001b[43m)\u001b[49m\u001b[43m,\u001b[49m\n\u001b[0;32m    238\u001b[0m \u001b[43m    \u001b[49m\u001b[43manchor_points\u001b[49m\u001b[43m \u001b[49m\u001b[38;5;241;43m*\u001b[39;49m\u001b[43m \u001b[49m\u001b[43mstride_tensor\u001b[49m\u001b[43m,\u001b[49m\n\u001b[0;32m    239\u001b[0m \u001b[43m    \u001b[49m\u001b[43mgt_labels\u001b[49m\u001b[43m,\u001b[49m\n\u001b[0;32m    240\u001b[0m \u001b[43m    \u001b[49m\u001b[43mgt_bboxes\u001b[49m\u001b[43m,\u001b[49m\n\u001b[0;32m    241\u001b[0m \u001b[43m    \u001b[49m\u001b[43mmask_gt\u001b[49m\u001b[43m,\u001b[49m\n\u001b[0;32m    242\u001b[0m \u001b[43m\u001b[49m\u001b[43m)\u001b[49m\n\u001b[0;32m    244\u001b[0m target_scores_sum \u001b[38;5;241m=\u001b[39m \u001b[38;5;28mmax\u001b[39m(target_scores\u001b[38;5;241m.\u001b[39msum(), \u001b[38;5;241m1\u001b[39m)\n\u001b[0;32m    246\u001b[0m \u001b[38;5;66;03m# Cls loss\u001b[39;00m\n\u001b[0;32m    247\u001b[0m \u001b[38;5;66;03m# loss[1] = self.varifocal_loss(pred_scores, target_scores, target_labels) / target_scores_sum  # VFL way\u001b[39;00m\n",
      "File \u001b[1;32mc:\\Users\\Karee\\AppData\\Local\\Programs\\Python\\Python312\\Lib\\site-packages\\torch\\nn\\modules\\module.py:1736\u001b[0m, in \u001b[0;36mModule._wrapped_call_impl\u001b[1;34m(self, *args, **kwargs)\u001b[0m\n\u001b[0;32m   1734\u001b[0m     \u001b[38;5;28;01mreturn\u001b[39;00m \u001b[38;5;28mself\u001b[39m\u001b[38;5;241m.\u001b[39m_compiled_call_impl(\u001b[38;5;241m*\u001b[39margs, \u001b[38;5;241m*\u001b[39m\u001b[38;5;241m*\u001b[39mkwargs)  \u001b[38;5;66;03m# type: ignore[misc]\u001b[39;00m\n\u001b[0;32m   1735\u001b[0m \u001b[38;5;28;01melse\u001b[39;00m:\n\u001b[1;32m-> 1736\u001b[0m     \u001b[38;5;28;01mreturn\u001b[39;00m \u001b[38;5;28;43mself\u001b[39;49m\u001b[38;5;241;43m.\u001b[39;49m\u001b[43m_call_impl\u001b[49m\u001b[43m(\u001b[49m\u001b[38;5;241;43m*\u001b[39;49m\u001b[43margs\u001b[49m\u001b[43m,\u001b[49m\u001b[43m \u001b[49m\u001b[38;5;241;43m*\u001b[39;49m\u001b[38;5;241;43m*\u001b[39;49m\u001b[43mkwargs\u001b[49m\u001b[43m)\u001b[49m\n",
      "File \u001b[1;32mc:\\Users\\Karee\\AppData\\Local\\Programs\\Python\\Python312\\Lib\\site-packages\\torch\\nn\\modules\\module.py:1747\u001b[0m, in \u001b[0;36mModule._call_impl\u001b[1;34m(self, *args, **kwargs)\u001b[0m\n\u001b[0;32m   1742\u001b[0m \u001b[38;5;66;03m# If we don't have any hooks, we want to skip the rest of the logic in\u001b[39;00m\n\u001b[0;32m   1743\u001b[0m \u001b[38;5;66;03m# this function, and just call forward.\u001b[39;00m\n\u001b[0;32m   1744\u001b[0m \u001b[38;5;28;01mif\u001b[39;00m \u001b[38;5;129;01mnot\u001b[39;00m (\u001b[38;5;28mself\u001b[39m\u001b[38;5;241m.\u001b[39m_backward_hooks \u001b[38;5;129;01mor\u001b[39;00m \u001b[38;5;28mself\u001b[39m\u001b[38;5;241m.\u001b[39m_backward_pre_hooks \u001b[38;5;129;01mor\u001b[39;00m \u001b[38;5;28mself\u001b[39m\u001b[38;5;241m.\u001b[39m_forward_hooks \u001b[38;5;129;01mor\u001b[39;00m \u001b[38;5;28mself\u001b[39m\u001b[38;5;241m.\u001b[39m_forward_pre_hooks\n\u001b[0;32m   1745\u001b[0m         \u001b[38;5;129;01mor\u001b[39;00m _global_backward_pre_hooks \u001b[38;5;129;01mor\u001b[39;00m _global_backward_hooks\n\u001b[0;32m   1746\u001b[0m         \u001b[38;5;129;01mor\u001b[39;00m _global_forward_hooks \u001b[38;5;129;01mor\u001b[39;00m _global_forward_pre_hooks):\n\u001b[1;32m-> 1747\u001b[0m     \u001b[38;5;28;01mreturn\u001b[39;00m \u001b[43mforward_call\u001b[49m\u001b[43m(\u001b[49m\u001b[38;5;241;43m*\u001b[39;49m\u001b[43margs\u001b[49m\u001b[43m,\u001b[49m\u001b[43m \u001b[49m\u001b[38;5;241;43m*\u001b[39;49m\u001b[38;5;241;43m*\u001b[39;49m\u001b[43mkwargs\u001b[49m\u001b[43m)\u001b[49m\n\u001b[0;32m   1749\u001b[0m result \u001b[38;5;241m=\u001b[39m \u001b[38;5;28;01mNone\u001b[39;00m\n\u001b[0;32m   1750\u001b[0m called_always_called_hooks \u001b[38;5;241m=\u001b[39m \u001b[38;5;28mset\u001b[39m()\n",
      "File \u001b[1;32mc:\\Users\\Karee\\AppData\\Local\\Programs\\Python\\Python312\\Lib\\site-packages\\torch\\utils\\_contextlib.py:116\u001b[0m, in \u001b[0;36mcontext_decorator.<locals>.decorate_context\u001b[1;34m(*args, **kwargs)\u001b[0m\n\u001b[0;32m    113\u001b[0m \u001b[38;5;129m@functools\u001b[39m\u001b[38;5;241m.\u001b[39mwraps(func)\n\u001b[0;32m    114\u001b[0m \u001b[38;5;28;01mdef\u001b[39;00m \u001b[38;5;21mdecorate_context\u001b[39m(\u001b[38;5;241m*\u001b[39margs, \u001b[38;5;241m*\u001b[39m\u001b[38;5;241m*\u001b[39mkwargs):\n\u001b[0;32m    115\u001b[0m     \u001b[38;5;28;01mwith\u001b[39;00m ctx_factory():\n\u001b[1;32m--> 116\u001b[0m         \u001b[38;5;28;01mreturn\u001b[39;00m \u001b[43mfunc\u001b[49m\u001b[43m(\u001b[49m\u001b[38;5;241;43m*\u001b[39;49m\u001b[43margs\u001b[49m\u001b[43m,\u001b[49m\u001b[43m \u001b[49m\u001b[38;5;241;43m*\u001b[39;49m\u001b[38;5;241;43m*\u001b[39;49m\u001b[43mkwargs\u001b[49m\u001b[43m)\u001b[49m\n",
      "File \u001b[1;32mc:\\Users\\Karee\\AppData\\Local\\Programs\\Python\\Python312\\Lib\\site-packages\\ultralytics\\utils\\tal.py:72\u001b[0m, in \u001b[0;36mTaskAlignedAssigner.forward\u001b[1;34m(self, pd_scores, pd_bboxes, anc_points, gt_labels, gt_bboxes, mask_gt)\u001b[0m\n\u001b[0;32m     63\u001b[0m     device \u001b[38;5;241m=\u001b[39m gt_bboxes\u001b[38;5;241m.\u001b[39mdevice\n\u001b[0;32m     64\u001b[0m     \u001b[38;5;28;01mreturn\u001b[39;00m (\n\u001b[0;32m     65\u001b[0m         torch\u001b[38;5;241m.\u001b[39mfull_like(pd_scores[\u001b[38;5;241m.\u001b[39m\u001b[38;5;241m.\u001b[39m\u001b[38;5;241m.\u001b[39m, \u001b[38;5;241m0\u001b[39m], \u001b[38;5;28mself\u001b[39m\u001b[38;5;241m.\u001b[39mbg_idx)\u001b[38;5;241m.\u001b[39mto(device),\n\u001b[0;32m     66\u001b[0m         torch\u001b[38;5;241m.\u001b[39mzeros_like(pd_bboxes)\u001b[38;5;241m.\u001b[39mto(device),\n\u001b[1;32m   (...)\u001b[0m\n\u001b[0;32m     69\u001b[0m         torch\u001b[38;5;241m.\u001b[39mzeros_like(pd_scores[\u001b[38;5;241m.\u001b[39m\u001b[38;5;241m.\u001b[39m\u001b[38;5;241m.\u001b[39m, \u001b[38;5;241m0\u001b[39m])\u001b[38;5;241m.\u001b[39mto(device),\n\u001b[0;32m     70\u001b[0m     )\n\u001b[1;32m---> 72\u001b[0m mask_pos, align_metric, overlaps \u001b[38;5;241m=\u001b[39m \u001b[38;5;28;43mself\u001b[39;49m\u001b[38;5;241;43m.\u001b[39;49m\u001b[43mget_pos_mask\u001b[49m\u001b[43m(\u001b[49m\n\u001b[0;32m     73\u001b[0m \u001b[43m    \u001b[49m\u001b[43mpd_scores\u001b[49m\u001b[43m,\u001b[49m\u001b[43m \u001b[49m\u001b[43mpd_bboxes\u001b[49m\u001b[43m,\u001b[49m\u001b[43m \u001b[49m\u001b[43mgt_labels\u001b[49m\u001b[43m,\u001b[49m\u001b[43m \u001b[49m\u001b[43mgt_bboxes\u001b[49m\u001b[43m,\u001b[49m\u001b[43m \u001b[49m\u001b[43manc_points\u001b[49m\u001b[43m,\u001b[49m\u001b[43m \u001b[49m\u001b[43mmask_gt\u001b[49m\n\u001b[0;32m     74\u001b[0m \u001b[43m\u001b[49m\u001b[43m)\u001b[49m\n\u001b[0;32m     76\u001b[0m target_gt_idx, fg_mask, mask_pos \u001b[38;5;241m=\u001b[39m \u001b[38;5;28mself\u001b[39m\u001b[38;5;241m.\u001b[39mselect_highest_overlaps(mask_pos, overlaps, \u001b[38;5;28mself\u001b[39m\u001b[38;5;241m.\u001b[39mn_max_boxes)\n\u001b[0;32m     78\u001b[0m \u001b[38;5;66;03m# Assigned target\u001b[39;00m\n",
      "File \u001b[1;32mc:\\Users\\Karee\\AppData\\Local\\Programs\\Python\\Python312\\Lib\\site-packages\\ultralytics\\utils\\tal.py:96\u001b[0m, in \u001b[0;36mTaskAlignedAssigner.get_pos_mask\u001b[1;34m(self, pd_scores, pd_bboxes, gt_labels, gt_bboxes, anc_points, mask_gt)\u001b[0m\n\u001b[0;32m     94\u001b[0m align_metric, overlaps \u001b[38;5;241m=\u001b[39m \u001b[38;5;28mself\u001b[39m\u001b[38;5;241m.\u001b[39mget_box_metrics(pd_scores, pd_bboxes, gt_labels, gt_bboxes, mask_in_gts \u001b[38;5;241m*\u001b[39m mask_gt)\n\u001b[0;32m     95\u001b[0m \u001b[38;5;66;03m# Get topk_metric mask, (b, max_num_obj, h*w)\u001b[39;00m\n\u001b[1;32m---> 96\u001b[0m mask_topk \u001b[38;5;241m=\u001b[39m \u001b[38;5;28;43mself\u001b[39;49m\u001b[38;5;241;43m.\u001b[39;49m\u001b[43mselect_topk_candidates\u001b[49m\u001b[43m(\u001b[49m\u001b[43malign_metric\u001b[49m\u001b[43m,\u001b[49m\u001b[43m \u001b[49m\u001b[43mtopk_mask\u001b[49m\u001b[38;5;241;43m=\u001b[39;49m\u001b[43mmask_gt\u001b[49m\u001b[38;5;241;43m.\u001b[39;49m\u001b[43mexpand\u001b[49m\u001b[43m(\u001b[49m\u001b[38;5;241;43m-\u001b[39;49m\u001b[38;5;241;43m1\u001b[39;49m\u001b[43m,\u001b[49m\u001b[43m \u001b[49m\u001b[38;5;241;43m-\u001b[39;49m\u001b[38;5;241;43m1\u001b[39;49m\u001b[43m,\u001b[49m\u001b[43m \u001b[49m\u001b[38;5;28;43mself\u001b[39;49m\u001b[38;5;241;43m.\u001b[39;49m\u001b[43mtopk\u001b[49m\u001b[43m)\u001b[49m\u001b[38;5;241;43m.\u001b[39;49m\u001b[43mbool\u001b[49m\u001b[43m(\u001b[49m\u001b[43m)\u001b[49m\u001b[43m)\u001b[49m\n\u001b[0;32m     97\u001b[0m \u001b[38;5;66;03m# Merge all mask to a final mask, (b, max_num_obj, h*w)\u001b[39;00m\n\u001b[0;32m     98\u001b[0m mask_pos \u001b[38;5;241m=\u001b[39m mask_topk \u001b[38;5;241m*\u001b[39m mask_in_gts \u001b[38;5;241m*\u001b[39m mask_gt\n",
      "File \u001b[1;32mc:\\Users\\Karee\\AppData\\Local\\Programs\\Python\\Python312\\Lib\\site-packages\\ultralytics\\utils\\tal.py:155\u001b[0m, in \u001b[0;36mTaskAlignedAssigner.select_topk_candidates\u001b[1;34m(self, metrics, largest, topk_mask)\u001b[0m\n\u001b[0;32m    152\u001b[0m ones \u001b[38;5;241m=\u001b[39m torch\u001b[38;5;241m.\u001b[39mones_like(topk_idxs[:, :, :\u001b[38;5;241m1\u001b[39m], dtype\u001b[38;5;241m=\u001b[39mtorch\u001b[38;5;241m.\u001b[39mint8, device\u001b[38;5;241m=\u001b[39mtopk_idxs\u001b[38;5;241m.\u001b[39mdevice)\n\u001b[0;32m    153\u001b[0m \u001b[38;5;28;01mfor\u001b[39;00m k \u001b[38;5;129;01min\u001b[39;00m \u001b[38;5;28mrange\u001b[39m(\u001b[38;5;28mself\u001b[39m\u001b[38;5;241m.\u001b[39mtopk):\n\u001b[0;32m    154\u001b[0m     \u001b[38;5;66;03m# Expand topk_idxs for each value of k and add 1 at the specified positions\u001b[39;00m\n\u001b[1;32m--> 155\u001b[0m     \u001b[43mcount_tensor\u001b[49m\u001b[38;5;241;43m.\u001b[39;49m\u001b[43mscatter_add_\u001b[49m\u001b[43m(\u001b[49m\u001b[38;5;241;43m-\u001b[39;49m\u001b[38;5;241;43m1\u001b[39;49m\u001b[43m,\u001b[49m\u001b[43m \u001b[49m\u001b[43mtopk_idxs\u001b[49m\u001b[43m[\u001b[49m\u001b[43m:\u001b[49m\u001b[43m,\u001b[49m\u001b[43m \u001b[49m\u001b[43m:\u001b[49m\u001b[43m,\u001b[49m\u001b[43m \u001b[49m\u001b[43mk\u001b[49m\u001b[43m \u001b[49m\u001b[43m:\u001b[49m\u001b[43m \u001b[49m\u001b[43mk\u001b[49m\u001b[43m \u001b[49m\u001b[38;5;241;43m+\u001b[39;49m\u001b[43m \u001b[49m\u001b[38;5;241;43m1\u001b[39;49m\u001b[43m]\u001b[49m\u001b[43m,\u001b[49m\u001b[43m \u001b[49m\u001b[43mones\u001b[49m\u001b[43m)\u001b[49m\n\u001b[0;32m    156\u001b[0m \u001b[38;5;66;03m# count_tensor.scatter_add_(-1, topk_idxs, torch.ones_like(topk_idxs, dtype=torch.int8, device=topk_idxs.device))\u001b[39;00m\n\u001b[0;32m    157\u001b[0m \u001b[38;5;66;03m# Filter invalid bboxes\u001b[39;00m\n\u001b[0;32m    158\u001b[0m count_tensor\u001b[38;5;241m.\u001b[39mmasked_fill_(count_tensor \u001b[38;5;241m>\u001b[39m \u001b[38;5;241m1\u001b[39m, \u001b[38;5;241m0\u001b[39m)\n",
      "\u001b[1;31mKeyboardInterrupt\u001b[0m: "
     ]
    }
   ],
   "source": [
    "from ultralytics import YOLO\n",
    "\n",
    "# Load the model from the last checkpoint\n",
    "model = YOLO('./runs/detect/yolov11_run1/weights/last.pt')  # Path to last trained weights\n",
    "\n",
    "model.train(\n",
    "    data='./C2A_Dataset/new_dataset3/data.yaml',  # Dataset path and configuration\n",
    "    epochs=50,           # Additional training epochs\n",
    "    batch=16,            # Batch size\n",
    "    imgsz=640,           # Image size for training\n",
    "    name=\"yolov11_run1_1\"  # New experiment name\n",
    ")"
   ]
  }
 ],
 "metadata": {
  "kernelspec": {
   "display_name": "Python 3",
   "language": "python",
   "name": "python3"
  },
  "language_info": {
   "codemirror_mode": {
    "name": "ipython",
    "version": 3
   },
   "file_extension": ".py",
   "mimetype": "text/x-python",
   "name": "python",
   "nbconvert_exporter": "python",
   "pygments_lexer": "ipython3",
   "version": "3.12.5"
  }
 },
 "nbformat": 4,
 "nbformat_minor": 2
}
